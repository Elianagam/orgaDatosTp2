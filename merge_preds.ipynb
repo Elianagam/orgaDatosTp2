{
 "cells": [
  {
   "cell_type": "code",
   "execution_count": 1,
   "metadata": {},
   "outputs": [],
   "source": [
    "import pandas as pd"
   ]
  },
  {
   "cell_type": "code",
   "execution_count": 31,
   "metadata": {},
   "outputs": [],
   "source": [
    "installs_preds = pd.read_csv('predicciones/installs_preds3.csv', low_memory=False)\n",
    "predicciones1 = pd.read_csv('predicciones/predicciones1.csv', low_memory=False)\n",
    "\n",
    "target = pd.read_csv('data/target_competencia_ids.csv', low_memory=False)"
   ]
  },
  {
   "cell_type": "code",
   "execution_count": 30,
   "metadata": {},
   "outputs": [
    {
     "data": {
      "text/html": [
       "<div>\n",
       "<style scoped>\n",
       "    .dataframe tbody tr th:only-of-type {\n",
       "        vertical-align: middle;\n",
       "    }\n",
       "\n",
       "    .dataframe tbody tr th {\n",
       "        vertical-align: top;\n",
       "    }\n",
       "\n",
       "    .dataframe thead th {\n",
       "        text-align: right;\n",
       "    }\n",
       "</style>\n",
       "<table border=\"1\" class=\"dataframe\">\n",
       "  <thead>\n",
       "    <tr style=\"text-align: right;\">\n",
       "      <th></th>\n",
       "      <th>ref_hash</th>\n",
       "      <th>obj</th>\n",
       "    </tr>\n",
       "  </thead>\n",
       "  <tbody>\n",
       "    <tr>\n",
       "      <th>0</th>\n",
       "      <td>4086312826930280418_sc_sc</td>\n",
       "      <td>79514.695</td>\n",
       "    </tr>\n",
       "    <tr>\n",
       "      <th>1</th>\n",
       "      <td>3527865752134947659_sc_sc</td>\n",
       "      <td>26362.031</td>\n",
       "    </tr>\n",
       "    <tr>\n",
       "      <th>2</th>\n",
       "      <td>5222542208773762966_sc_sc</td>\n",
       "      <td>885480.200</td>\n",
       "    </tr>\n",
       "    <tr>\n",
       "      <th>3</th>\n",
       "      <td>801335600430106535_sc_sc</td>\n",
       "      <td>1726006.600</td>\n",
       "    </tr>\n",
       "    <tr>\n",
       "      <th>4</th>\n",
       "      <td>7833591646135144816_sc_sc</td>\n",
       "      <td>76422.970</td>\n",
       "    </tr>\n",
       "  </tbody>\n",
       "</table>\n",
       "</div>"
      ],
      "text/plain": [
       "                    ref_hash          obj\n",
       "0  4086312826930280418_sc_sc    79514.695\n",
       "1  3527865752134947659_sc_sc    26362.031\n",
       "2  5222542208773762966_sc_sc   885480.200\n",
       "3   801335600430106535_sc_sc  1726006.600\n",
       "4  7833591646135144816_sc_sc    76422.970"
      ]
     },
     "execution_count": 30,
     "metadata": {},
     "output_type": "execute_result"
    }
   ],
   "source": [
    "installs_preds.head()"
   ]
  },
  {
   "cell_type": "code",
   "execution_count": 34,
   "metadata": {},
   "outputs": [
    {
     "name": "stdout",
     "output_type": "stream",
     "text": [
      "939\n",
      "8074\n"
     ]
    }
   ],
   "source": [
    "merge1 = target.merge(installs_preds, on='ref_hash', how='left')\n",
    "print(merge1['obj_y'].value_counts().sum())\n",
    "merge1['obj'] = merge1[['obj_x', 'obj_y']].mean(axis=1)\n",
    "print(merge1['obj'].value_counts().sum())\n",
    "merge1 = merge1.drop(columns=['obj_x', 'obj_y'])\n",
    "predicciones4 = pd.read_csv('predicciones/predicciones4.csv', low_memory=False)\n",
    "merge1 = merge1.merge(predicciones4, on='ref_hash', how='left')\n",
    "merge1['obj'] = merge1[['obj_x', 'obj_y']].mean(axis=1)\n",
    "merge1 = merge1[['ref_hash', 'obj']]\n",
    "merge1.to_csv(path_or_buf='predicciones/predicciones7.csv',index=False)"
   ]
  },
  {
   "cell_type": "code",
   "execution_count": 38,
   "metadata": {},
   "outputs": [
    {
     "data": {
      "text/plain": [
       "8074"
      ]
     },
     "execution_count": 38,
     "metadata": {},
     "output_type": "execute_result"
    }
   ],
   "source": [
    "merge1['ref_hash'].value_counts().sum()"
   ]
  },
  {
   "cell_type": "code",
   "execution_count": 48,
   "metadata": {},
   "outputs": [],
   "source": [
    "merge2 = predicciones1.merge(installs_preds, on='ref_hash', how='left')"
   ]
  },
  {
   "cell_type": "code",
   "execution_count": 49,
   "metadata": {},
   "outputs": [],
   "source": [
    "merge2['obj_y'].value_counts().sum()\n",
    "merge2['obj'] = merge1[['obj_x', 'obj_y']].mean(axis=1)\n",
    "merge2['obj'].value_counts().sum()\n",
    "merge2 = merge2[['ref_hash', 'obj']]\n",
    "merge2.to_csv(path_or_buf='predicciones/predicciones5.csv',index=False)"
   ]
  },
  {
   "cell_type": "code",
   "execution_count": 33,
   "metadata": {},
   "outputs": [],
   "source": [
    "merge1['obj'] = merge1[['obj_x', 'obj_y']].min(axis=1)"
   ]
  },
  {
   "cell_type": "code",
   "execution_count": 34,
   "metadata": {},
   "outputs": [],
   "source": [
    "merge3 = merge1[['ref_hash', 'obj']]"
   ]
  },
  {
   "cell_type": "code",
   "execution_count": 50,
   "metadata": {},
   "outputs": [],
   "source": [
    "merge2.to_csv(path_or_buf='predicciones/predicciones5.csv',index=False)"
   ]
  }
 ],
 "metadata": {
  "kernelspec": {
   "display_name": "Python 3",
   "language": "python",
   "name": "python3"
  },
  "language_info": {
   "codemirror_mode": {
    "name": "ipython",
    "version": 3
   },
   "file_extension": ".py",
   "mimetype": "text/x-python",
   "name": "python",
   "nbconvert_exporter": "python",
   "pygments_lexer": "ipython3",
   "version": "3.6.7"
  }
 },
 "nbformat": 4,
 "nbformat_minor": 2
}
