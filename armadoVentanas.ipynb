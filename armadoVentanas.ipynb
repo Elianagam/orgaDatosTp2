{
 "cells": [
  {
   "cell_type": "code",
   "execution_count": null,
   "metadata": {},
   "outputs": [],
   "source": [
    "import pandas as pd\n",
    "import numpy as np\n",
    "import matplotlib.pyplot as plt\n",
    "import seaborn as sns"
   ]
  },
  {
   "cell_type": "code",
   "execution_count": null,
   "metadata": {},
   "outputs": [],
   "source": [
    "time_windows = [('2019-04-18 00:00:00.000000', '2019-04-21 00:00:00.000000'), ('2019-04-19 00:00:00.000000', '2019-04-22 00:00:00.000000'), \n",
    "                ('2019-04-20 00:00:00.000000', '2019-04-23 00:00:00.000000'), ('2019-04-21 00:00:00.000000', '2019-04-24 00:00:00.000000')]\n",
    "time_labels = [('2019-04-21 00:00:00.000000', '2019-04-24 00:00:00.000000'), ('2019-04-22 00:00:00.000000', '2019-04-25 00:00:00.000000'), \n",
    "               ('2019-04-23 00:00:00.000000', '2019-04-26 00:00:00.000000'), ('2019-04-24 00:00:00.000000', '2019-04-27 00:00:00.000000')]"
   ]
  },
  {
   "cell_type": "code",
   "execution_count": null,
   "metadata": {},
   "outputs": [],
   "source": [
    "auctions = pd.read_csv(\"data/auctions.csv.gzip\", parse_dates=['date'])\n",
    "auctions.columns = ['date', 'ref_hash', 'ref_type_id', 'source_id']\n",
    "auctions_w1 = auctions[auctions['date'] < '2019-04-21 00:00:00.000000']\n",
    "auctions_w2 = auctions[(auctions['date'] >= '2019-04-21 00:00:00.000000') & (auctions['date'] < '2019-04-24 00:00:00.000000')]\n",
    "auctions_w1_label = auctions_w2.sort_values('date').groupby('ref_hash').first().reset_index()\n",
    "auctions_w1_label['time_appearence'] = (auctions_w1_label['date'] - pd.to_datetime('2019-04-21 00:00:00.000000')).dt.seconds\n",
    "auctions_w1_label = auctions_w1_label.drop(columns=['date', 'ref_type_id', 'source_id'])\n",
    "auctions = 0\n",
    "auctions_w1_label = auctions_w1_label.drop_duplicates('ref_hash')\n",
    "auctions_w1.to_pickle(\"data/auctions_w1.pkl\")\n",
    "auctions_w1_label.to_pickle(\"data/auctions_w1_label.pkl\")"
   ]
  },
  {
   "cell_type": "code",
   "execution_count": null,
   "metadata": {},
   "outputs": [],
   "source": [
    "clicks = pd.read_csv(\"data/clicks.csv.gzip\", parse_dates=['created'])\n",
    "clicks_w1 = clicks[clicks['created'] < '2019-04-21 00:00:00.000000']\n",
    "clicks_w1['created'] = clicks_w1['created'].dt.tz_localize(None)\n",
    "clicks_w1.to_pickle(\"data/clicks_w1.pkl\")"
   ]
  }
 ],
 "metadata": {
  "kernelspec": {
   "display_name": "Python 3",
   "language": "python",
   "name": "python3"
  },
  "language_info": {
   "codemirror_mode": {
    "name": "ipython",
    "version": 3
   },
   "file_extension": ".py",
   "mimetype": "text/x-python",
   "name": "python",
   "nbconvert_exporter": "python",
   "pygments_lexer": "ipython3",
   "version": "3.6.4"
  }
 },
 "nbformat": 4,
 "nbformat_minor": 2
}
