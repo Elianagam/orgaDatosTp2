{
 "cells": [
  {
   "cell_type": "code",
   "execution_count": 2,
   "metadata": {},
   "outputs": [],
   "source": [
    "import pandas as pd\n",
    "import numpy as np\n",
    "import matplotlib.pyplot as plt\n",
    "import seaborn as sns"
   ]
  },
  {
   "cell_type": "code",
   "execution_count": 3,
   "metadata": {},
   "outputs": [],
   "source": [
    "time_windows = [('2019-04-18 00:00:00.000000', '2019-04-21 00:00:00.000000'), ('2019-04-19 00:00:00.000000', '2019-04-22 00:00:00.000000'), \n",
    "                ('2019-04-20 00:00:00.000000', '2019-04-23 00:00:00.000000'), ('2019-04-21 00:00:00.000000', '2019-04-24 00:00:00.000000'), \n",
    "                ('2019-04-24 00:00:00.000000', '2019-04-27 00:00:00.000000')]\n",
    "time_labels = [('2019-04-21 00:00:00.000000', '2019-04-24 00:00:00.000000'), ('2019-04-22 00:00:00.000000', '2019-04-25 00:00:00.000000'), \n",
    "               ('2019-04-23 00:00:00.000000', '2019-04-26 00:00:00.000000'), ('2019-04-24 00:00:00.000000', '2019-04-27 00:00:00.000000')]"
   ]
  },
  {
   "cell_type": "code",
   "execution_count": 33,
   "metadata": {},
   "outputs": [],
   "source": [
    "window = 4"
   ]
  },
  {
   "cell_type": "code",
   "execution_count": 4,
   "metadata": {},
   "outputs": [],
   "source": [
    "auctions = pd.read_csv(\"data/auctions.csv.gzip\", parse_dates=['date'])\n",
    "auctions.columns = ['date', 'ref_hash', 'ref_type_id', 'source_id']\n",
    "auctions_w1 = auctions[(auctions['date'] >= time_windows[window-1][0]) & (auctions['date'] < time_windows[window-1][1])]\n",
    "auctions = 0\n",
    "name = 'data/auctions_w' + str(window) + '.pkl'\n",
    "auctions_w1.to_pickle(name)\n",
    "auctions = 0"
   ]
  },
  {
   "cell_type": "code",
   "execution_count": 4,
   "metadata": {},
   "outputs": [],
   "source": [
    "auctions = pd.read_csv(\"data/auctions.csv.gzip\", parse_dates=['date'])\n",
    "auctions.columns = ['date', 'ref_hash', 'ref_type_id', 'source_id']\n",
    "auctions_w1 = auctions[(auctions['date'] >= time_windows[window-1][0]) & (auctions['date'] < time_windows[window-1][1])]\n",
    "auctions_w2 = auctions[(auctions['date'] >= time_labels[window-1][0]) & (auctions['date'] < time_labels[window-1][1])]\n",
    "auctions_w1_label = auctions_w2.sort_values('date').groupby('ref_hash').first().reset_index()\n",
    "auctions_w1_label['time_appearence'] = (auctions_w1_label['date'] - pd.to_datetime(time_labels[window-1][0])).dt.seconds\n",
    "auctions_w1_label = auctions_w1_label.drop(columns=['date', 'ref_type_id', 'source_id'])\n",
    "auctions = 0\n",
    "name = 'data/auctions_w' + str(window) + '.pkl'\n",
    "name_label = 'data/auctions_w' + str(window) + '_label.pkl'\n",
    "auctions_w1_label = auctions_w1_label.drop_duplicates('ref_hash')\n",
    "auctions_w1.to_pickle(name)\n",
    "auctions_w1_label.to_pickle(name_label)\n",
    "auctions = 0\n",
    "auctions_w1 = 0\n",
    "auctions_w2 = 0"
   ]
  },
  {
   "cell_type": "code",
   "execution_count": 20,
   "metadata": {},
   "outputs": [
    {
     "name": "stderr",
     "output_type": "stream",
     "text": [
      "D:\\Martin\\Anaconda3\\lib\\site-packages\\IPython\\core\\interactiveshell.py:3049: DtypeWarning: Columns (16,17) have mixed types. Specify dtype option on import or set low_memory=False.\n",
      "  interactivity=interactivity, compiler=compiler, result=result)\n"
     ]
    }
   ],
   "source": [
    "clicks = pd.read_csv(\"data/clicks.csv.gzip\", parse_dates=['created'])\n",
    "clicks = clicks[(clicks['created'] >= time_windows[window-1][0]) & (clicks['created'] < time_windows[window-1][1])]\n",
    "clicks['created'] = clicks['created'].dt.tz_localize(None)\n",
    "\n",
    "name = 'data/clicks_w' + str(window) + '.pkl'\n",
    "clicks.to_pickle(name)\n",
    "clicks = 0"
   ]
  },
  {
   "cell_type": "code",
   "execution_count": 21,
   "metadata": {},
   "outputs": [
    {
     "name": "stderr",
     "output_type": "stream",
     "text": [
      "D:\\Martin\\Anaconda3\\lib\\site-packages\\IPython\\core\\interactiveshell.py:3049: DtypeWarning: Columns (13,20) have mixed types. Specify dtype option on import or set low_memory=False.\n",
      "  interactivity=interactivity, compiler=compiler, result=result)\n"
     ]
    }
   ],
   "source": [
    "events = pd.read_csv(\"data/events.csv.gzip\", parse_dates=['date'])\n",
    "events = events[(events['date'] >= time_windows[window-1][0]) & (events['date'] < time_windows[window-1][1])]\n",
    "\n",
    "name = 'data/events_w' + str(window) + '.pkl'\n",
    "events.to_pickle(name)\n",
    "events = 0"
   ]
  },
  {
   "cell_type": "code",
   "execution_count": 30,
   "metadata": {},
   "outputs": [],
   "source": [
    "installs = pd.read_csv(\"data/clicks.csv.gzip\", parse_dates=['created'])\n",
    "installs = installs[(installs['created'] >= time_windows[window-1][0]) & (installs['created'] < time_windows[window-1][1])]\n",
    "installs['created'] = installs['created'].dt.tz_localize(None)\n",
    "\n",
    "name = 'data/installs_w' + str(window) + '.pkl'\n",
    "installs.to_pickle(name)\n",
    "installs = 0"
   ]
  },
  {
   "cell_type": "code",
   "execution_count": 34,
   "metadata": {},
   "outputs": [
    {
     "name": "stderr",
     "output_type": "stream",
     "text": [
      "D:\\Martin\\Anaconda3\\lib\\site-packages\\IPython\\core\\interactiveshell.py:3049: DtypeWarning: Columns (16,17) have mixed types. Specify dtype option on import or set low_memory=False.\n",
      "  interactivity=interactivity, compiler=compiler, result=result)\n"
     ]
    }
   ],
   "source": [
    "installs = pd.read_csv(\"data/clicks.csv.gzip\", parse_dates=['created'])\n",
    "installs = installs[(installs['created'] >= time_labels[window-1][0]) & (installs['created'] < time_labels[window-1][1])]\n",
    "installs['created'] = installs['created'].dt.tz_localize(None)\n",
    "\n",
    "installs_w1_label = installs.sort_values('created').groupby('ref_hash').first().reset_index()\n",
    "installs_w1_label['time_appearence_install'] = (installs_w1_label['created'] - pd.to_datetime(time_labels[window-1][0])).dt.seconds\n",
    "installs_w1_label = installs_w1_label[['ref_hash', 'time_appearence_install']]\n",
    "installs_w1_label.drop_duplicates('ref_hash', inplace=True)\n",
    "\n",
    "name_label = 'data/installs_w' + str(window) + '_label.pkl'\n",
    "installs_w1_label.to_pickle(name_label)"
   ]
  },
  {
   "cell_type": "code",
   "execution_count": null,
   "metadata": {},
   "outputs": [],
   "source": []
  }
 ],
 "metadata": {
  "kernelspec": {
   "display_name": "Python 3",
   "language": "python",
   "name": "python3"
  },
  "language_info": {
   "codemirror_mode": {
    "name": "ipython",
    "version": 3
   },
   "file_extension": ".py",
   "mimetype": "text/x-python",
   "name": "python",
   "nbconvert_exporter": "python",
   "pygments_lexer": "ipython3",
   "version": "3.7.3"
  }
 },
 "nbformat": 4,
 "nbformat_minor": 2
}
