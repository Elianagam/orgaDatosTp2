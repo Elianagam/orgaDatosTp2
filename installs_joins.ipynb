{
 "cells": [
  {
   "cell_type": "code",
   "execution_count": 1,
   "metadata": {},
   "outputs": [],
   "source": [
    "import pandas as pd"
   ]
  },
  {
   "cell_type": "code",
   "execution_count": 2,
   "metadata": {},
   "outputs": [],
   "source": [
    "window_1 = pd.read_csv('windows_installs/window_1.csv', low_memory=False)"
   ]
  },
  {
   "cell_type": "code",
   "execution_count": 3,
   "metadata": {},
   "outputs": [],
   "source": [
    "window_2 = pd.read_csv('windows_installs/window_2.csv', low_memory=False)"
   ]
  },
  {
   "cell_type": "code",
   "execution_count": 4,
   "metadata": {},
   "outputs": [],
   "source": [
    "window_3 = pd.read_csv('windows_installs/window_3.csv', low_memory=False)"
   ]
  },
  {
   "cell_type": "code",
   "execution_count": 5,
   "metadata": {},
   "outputs": [],
   "source": [
    "window_4 = pd.read_csv('windows_installs/window_4.csv', low_memory=False)"
   ]
  },
  {
   "cell_type": "code",
   "execution_count": 6,
   "metadata": {},
   "outputs": [],
   "source": [
    "window_5 = pd.read_csv('windows_installs/window_5.csv', low_memory=False)"
   ]
  },
  {
   "cell_type": "markdown",
   "metadata": {},
   "source": [
    "### **Ventana 1 y 2**"
   ]
  },
  {
   "cell_type": "code",
   "execution_count": 7,
   "metadata": {},
   "outputs": [],
   "source": [
    "# primer join \n",
    "join1 = window_1.merge(window_2[['ref_hash','time_first_install']],indicator = False, how='left', on='ref_hash')"
   ]
  },
  {
   "cell_type": "code",
   "execution_count": 8,
   "metadata": {},
   "outputs": [
    {
     "name": "stdout",
     "output_type": "stream",
     "text": [
      "132297 132297 129651\n"
     ]
    }
   ],
   "source": [
    "print(len(join1), len(window_1), len(window_2))"
   ]
  },
  {
   "cell_type": "code",
   "execution_count": 9,
   "metadata": {},
   "outputs": [],
   "source": [
    "join1 = join1.drop(columns=['ref_hash'])\n",
    "join1['time_first_install_y'].fillna(20*24*3600, inplace=True) # 20 dias, tiempo muy grande"
   ]
  },
  {
   "cell_type": "code",
   "execution_count": 10,
   "metadata": {},
   "outputs": [],
   "source": [
    "join1.to_csv(path_or_buf='windows_installs/join1_2.csv',index=False)\n"
   ]
  },
  {
   "cell_type": "markdown",
   "metadata": {},
   "source": [
    "### **Ventana 2 y 3**"
   ]
  },
  {
   "cell_type": "code",
   "execution_count": 11,
   "metadata": {},
   "outputs": [],
   "source": [
    "join2 = window_2.merge(window_3[['ref_hash','time_first_install']],indicator = False, how='left', on='ref_hash')"
   ]
  },
  {
   "cell_type": "code",
   "execution_count": 12,
   "metadata": {},
   "outputs": [],
   "source": [
    "join2 = join2.drop(columns=['ref_hash'])\n",
    "join2['time_first_install_y'].fillna(20*24*3600, inplace=True) # 20 dias, tiempo muy grande"
   ]
  },
  {
   "cell_type": "code",
   "execution_count": 13,
   "metadata": {},
   "outputs": [],
   "source": [
    "join2.to_csv(path_or_buf='windows_installs/join2_3.csv',index=False)"
   ]
  },
  {
   "cell_type": "markdown",
   "metadata": {},
   "source": [
    "### **Ventana 3 y 4**"
   ]
  },
  {
   "cell_type": "code",
   "execution_count": 14,
   "metadata": {},
   "outputs": [],
   "source": [
    "join3 = window_3.merge(window_4[['ref_hash','time_first_install']],indicator = False, how='left', on='ref_hash')"
   ]
  },
  {
   "cell_type": "code",
   "execution_count": 15,
   "metadata": {},
   "outputs": [],
   "source": [
    "join3 = join3.drop(columns=['ref_hash'])\n",
    "join3['time_first_install_y'].fillna(20*24*3600, inplace=True) # 20 dias, tiempo muy grande"
   ]
  },
  {
   "cell_type": "code",
   "execution_count": 16,
   "metadata": {},
   "outputs": [],
   "source": [
    "join3.to_csv(path_or_buf='windows_installs/join3_4.csv',index=False)"
   ]
  },
  {
   "cell_type": "markdown",
   "metadata": {},
   "source": [
    "### **Ventana 4 y 5**"
   ]
  },
  {
   "cell_type": "code",
   "execution_count": 17,
   "metadata": {},
   "outputs": [],
   "source": [
    "join4 = window_4.merge(window_5[['ref_hash','time_first_install']],indicator = False, how='left', on='ref_hash')"
   ]
  },
  {
   "cell_type": "code",
   "execution_count": 18,
   "metadata": {},
   "outputs": [],
   "source": [
    "join4 = join4.drop(columns=['ref_hash'])\n",
    "join4['time_first_install_y'].fillna(20*24*3600, inplace=True) # 20 dias, tiempo muy grande"
   ]
  },
  {
   "cell_type": "code",
   "execution_count": 19,
   "metadata": {},
   "outputs": [],
   "source": [
    "join4.to_csv(path_or_buf='windows_installs/join4_5.csv',index=False)"
   ]
  }
 ],
 "metadata": {
  "kernelspec": {
   "display_name": "Python 3",
   "language": "python",
   "name": "python3"
  },
  "language_info": {
   "codemirror_mode": {
    "name": "ipython",
    "version": 3
   },
   "file_extension": ".py",
   "mimetype": "text/x-python",
   "name": "python",
   "nbconvert_exporter": "python",
   "pygments_lexer": "ipython3",
   "version": "3.6.7"
  }
 },
 "nbformat": 4,
 "nbformat_minor": 2
}
