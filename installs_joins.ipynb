{
 "cells": [
  {
   "cell_type": "code",
   "execution_count": 1,
   "metadata": {},
   "outputs": [],
   "source": [
    "import pandas as pd"
   ]
  },
  {
   "cell_type": "code",
   "execution_count": 2,
   "metadata": {},
   "outputs": [],
   "source": [
    "installs_w1 = pd.read_csv('windows_installs/window_1.csv', low_memory=False)\n",
    "installs_w2 = pd.read_csv('windows_installs/window_2.csv', low_memory=False)\n",
    "installs_w3 = pd.read_csv('windows_installs/window_3.csv', low_memory=False)\n",
    "installs_w4 = pd.read_csv('windows_installs/window_4.csv', low_memory=False)\n",
    "installs_w5 = pd.read_csv('windows_installs/window_5.csv', low_memory=False)"
   ]
  },
  {
   "cell_type": "code",
   "execution_count": 3,
   "metadata": {},
   "outputs": [],
   "source": [
    "clicks_w1 = pd.read_csv('windows_click/window_1.csv', low_memory=False)\n",
    "clicks_w2 = pd.read_csv('windows_click/window_2.csv', low_memory=False)\n",
    "clicks_w3 = pd.read_csv('windows_click/window_3.csv', low_memory=False)\n",
    "clicks_w4 = pd.read_csv('windows_click/window_4.csv', low_memory=False)\n",
    "clicks_w5 = pd.read_csv('windows_click/window_5.csv', low_memory=False)"
   ]
  },
  {
   "cell_type": "code",
   "execution_count": 6,
   "metadata": {},
   "outputs": [],
   "source": [
    "window1 = installs_w1.merge(clicks_w1, how='left', on='ref_hash')\n",
    "window2 = installs_w2.merge(clicks_w2, how='left', on='ref_hash')\n",
    "window3 = installs_w3.merge(clicks_w3, how='left', on='ref_hash')\n",
    "window4 = installs_w4.merge(clicks_w4, how='left', on='ref_hash')\n",
    "window5 = installs_w5.merge(clicks_w5, how='left', on='ref_hash')"
   ]
  },
  {
   "cell_type": "code",
   "execution_count": null,
   "metadata": {},
   "outputs": [],
   "source": []
  },
  {
   "cell_type": "markdown",
   "metadata": {},
   "source": [
    "### **Ventana 1 y 2**"
   ]
  },
  {
   "cell_type": "code",
   "execution_count": 7,
   "metadata": {},
   "outputs": [],
   "source": [
    "# primer join \n",
    "join_inst_w1 = window1.merge(window2[['ref_hash','time_first_install']],indicator = False, how='outer', on='ref_hash')"
   ]
  },
  {
   "cell_type": "code",
   "execution_count": 8,
   "metadata": {},
   "outputs": [
    {
     "name": "stdout",
     "output_type": "stream",
     "text": [
      "132297 132297 129651\n"
     ]
    }
   ],
   "source": [
    "print(len(join_inst_w1), len(installs_w1), len(installs_w2))"
   ]
  },
  {
   "cell_type": "code",
   "execution_count": 9,
   "metadata": {},
   "outputs": [],
   "source": [
    "# join_inst_w1 = join_inst_w1.drop(columns=['ref_hash'])\n",
    "join_inst_w1['time_first_install_y'].fillna(10*24*3600, inplace=True) # 20 dias, tiempo muy grande"
   ]
  },
  {
   "cell_type": "code",
   "execution_count": 10,
   "metadata": {},
   "outputs": [],
   "source": [
    "join_inst_w1.to_csv(path_or_buf='windows_installs/join1_2.csv',index=False)"
   ]
  },
  {
   "cell_type": "markdown",
   "metadata": {},
   "source": [
    "### **Ventana 2 y 3**"
   ]
  },
  {
   "cell_type": "markdown",
   "metadata": {},
   "source": [
    "# deberia unir el join1 con join2?"
   ]
  },
  {
   "cell_type": "code",
   "execution_count": 11,
   "metadata": {},
   "outputs": [],
   "source": [
    "join_inst_w2 = window2.merge(window3[['ref_hash','time_first_install']],indicator = False, how='left', on='ref_hash')"
   ]
  },
  {
   "cell_type": "code",
   "execution_count": 12,
   "metadata": {},
   "outputs": [],
   "source": [
    "# join_inst_w2 = join_inst_w2.drop(columns=['ref_hash'])\n",
    "join_inst_w2['time_first_install_y'].fillna(10*24*3600, inplace=True) # 20 dias, tiempo muy grande"
   ]
  },
  {
   "cell_type": "code",
   "execution_count": 13,
   "metadata": {},
   "outputs": [],
   "source": [
    "join_inst_w2.to_csv(path_or_buf='windows_installs/join2_3.csv',index=False)"
   ]
  },
  {
   "cell_type": "markdown",
   "metadata": {},
   "source": [
    "### **Ventana 3 y 4**"
   ]
  },
  {
   "cell_type": "code",
   "execution_count": 14,
   "metadata": {},
   "outputs": [],
   "source": [
    "join_inst_w3 = window3.merge(window4[['ref_hash','time_first_install']],indicator = False, how='left', on='ref_hash')"
   ]
  },
  {
   "cell_type": "code",
   "execution_count": 15,
   "metadata": {},
   "outputs": [],
   "source": [
    "# join_inst_w3 = join_inst_w3.drop(columns=['ref_hash'])\n",
    "join_inst_w3['time_first_install_y'].fillna(10*24*3600, inplace=True) # 20 dias, tiempo muy grande"
   ]
  },
  {
   "cell_type": "code",
   "execution_count": 16,
   "metadata": {},
   "outputs": [],
   "source": [
    "join_inst_w3.to_csv(path_or_buf='windows_installs/join3_4.csv',index=False)"
   ]
  },
  {
   "cell_type": "markdown",
   "metadata": {},
   "source": [
    "### **Ventana 4 y 5**"
   ]
  },
  {
   "cell_type": "code",
   "execution_count": 17,
   "metadata": {},
   "outputs": [],
   "source": [
    "join_inst_w4 = window4.merge(window5[['ref_hash','time_first_install']],indicator = False, how='left', on='ref_hash')"
   ]
  },
  {
   "cell_type": "code",
   "execution_count": 18,
   "metadata": {},
   "outputs": [],
   "source": [
    "# join_inst_w4 = join_inst_w4.drop(columns=['ref_hash'])\n",
    "join_inst_w4['time_first_install_y'].fillna(10*24*3600, inplace=True) # 20 dias, tiempo muy grande"
   ]
  },
  {
   "cell_type": "code",
   "execution_count": 19,
   "metadata": {},
   "outputs": [],
   "source": [
    "join_inst_w4.to_csv(path_or_buf='windows_installs/join4_5.csv',index=False)"
   ]
  }
 ],
 "metadata": {
  "kernelspec": {
   "display_name": "Python 3",
   "language": "python",
   "name": "python3"
  },
  "language_info": {
   "codemirror_mode": {
    "name": "ipython",
    "version": 3
   },
   "file_extension": ".py",
   "mimetype": "text/x-python",
   "name": "python",
   "nbconvert_exporter": "python",
   "pygments_lexer": "ipython3",
   "version": "3.6.7"
  }
 },
 "nbformat": 4,
 "nbformat_minor": 2
}
