{
 "cells": [
  {
   "cell_type": "code",
   "execution_count": 1,
   "metadata": {},
   "outputs": [],
   "source": [
    "import pandas as pd\n",
    "import numpy as np\n",
    "import matplotlib.pyplot as plt\n",
    "import seaborn as sns"
   ]
  },
  {
   "cell_type": "code",
   "execution_count": 86,
   "metadata": {},
   "outputs": [],
   "source": [
    "from sklearn.model_selection import train_test_split\n",
    "from sklearn import tree\n",
    "from sklearn.metrics import accuracy_score\n",
    "from sklearn.metrics import mean_squared_error\n",
    "from sklearn.ensemble import GradientBoostingRegressor\n",
    "import xgboost as xgb"
   ]
  },
  {
   "cell_type": "code",
   "execution_count": 4,
   "metadata": {},
   "outputs": [],
   "source": [
    "auctions = pd.read_csv(\"data/auctions.csv.gzip\", parse_dates=['date'])\n",
    "auctions.columns = ['date', 'ref_hash', 'ref_type_id', 'source_id']"
   ]
  },
  {
   "cell_type": "code",
   "execution_count": 5,
   "metadata": {},
   "outputs": [],
   "source": [
    "auctions_first = auctions[auctions['date'] < '2019-04-21 00:00:00.000000']\n",
    "auctions_second = auctions[(auctions['date'] >= '2019-04-21 00:00:00.000000') & (auctions['date'] < '2019-04-24 00:00:00.000000')]\n",
    "auctions_first_label = auctions_second.sort_values('date').groupby('ref_hash').first().reset_index()\n",
    "auctions_first_label['time_appearence'] = (auctions_first_label['date'] - pd.to_datetime('2019-04-21 00:00:00.000000')).dt.seconds\n",
    "auctions_first_label = auctions_first_label.drop(columns=['date', 'ref_type_id', 'source_id'])"
   ]
  },
  {
   "cell_type": "code",
   "execution_count": 6,
   "metadata": {},
   "outputs": [],
   "source": [
    "auctions = 0"
   ]
  },
  {
   "cell_type": "code",
   "execution_count": 7,
   "metadata": {},
   "outputs": [
    {
     "name": "stderr",
     "output_type": "stream",
     "text": [
      "D:\\Program Files\\Anaconda\\lib\\site-packages\\IPython\\core\\interactiveshell.py:2728: DtypeWarning: Columns (16,17) have mixed types. Specify dtype option on import or set low_memory=False.\n",
      "  interactivity=interactivity, compiler=compiler, result=result)\n"
     ]
    }
   ],
   "source": [
    "clicks = pd.read_csv(\"data/clicks.csv.gzip\")"
   ]
  },
  {
   "cell_type": "code",
   "execution_count": 12,
   "metadata": {},
   "outputs": [
    {
     "name": "stderr",
     "output_type": "stream",
     "text": [
      "D:\\Program Files\\Anaconda\\lib\\site-packages\\IPython\\core\\interactiveshell.py:2728: DtypeWarning: Columns (4,15) have mixed types. Specify dtype option on import or set low_memory=False.\n",
      "  interactivity=interactivity, compiler=compiler, result=result)\n"
     ]
    }
   ],
   "source": [
    "#installs = pd.read_csv(\"data/installs.csv.gzip\")"
   ]
  },
  {
   "cell_type": "code",
   "execution_count": 29,
   "metadata": {},
   "outputs": [
    {
     "name": "stderr",
     "output_type": "stream",
     "text": [
      "D:\\Program Files\\Anaconda\\lib\\site-packages\\IPython\\core\\interactiveshell.py:2728: DtypeWarning: Columns (13,20) have mixed types. Specify dtype option on import or set low_memory=False.\n",
      "  interactivity=interactivity, compiler=compiler, result=result)\n"
     ]
    }
   ],
   "source": [
    "#events = pd.read_csv(\"data/events.csv.gzip\")"
   ]
  },
  {
   "cell_type": "code",
   "execution_count": 5,
   "metadata": {},
   "outputs": [],
   "source": [
    "target = pd.read_csv(\"data/target_final_competencia_revamped.csv\")"
   ]
  },
  {
   "cell_type": "code",
   "execution_count": 8,
   "metadata": {},
   "outputs": [],
   "source": [
    "clicks_first = clicks[clicks['created'] < '2019-04-21 00:00:00.000000']\n",
    "clicks_first = pd.merge(clicks_first, clicks_first.groupby('ref_hash').agg('size').reset_index(), on='ref_hash', how='inner')\n",
    "clicks_first = clicks_first.drop_duplicates('ref_hash')\n",
    "clicks_first = clicks_first.rename(columns={0:'ammount_clicks'})"
   ]
  },
  {
   "cell_type": "code",
   "execution_count": 9,
   "metadata": {},
   "outputs": [],
   "source": [
    "auctions = 0"
   ]
  },
  {
   "cell_type": "code",
   "execution_count": 9,
   "metadata": {},
   "outputs": [],
   "source": [
    "clicks_first = clicks_first[['ref_hash', 'ammount_clicks']]"
   ]
  },
  {
   "cell_type": "code",
   "execution_count": 10,
   "metadata": {},
   "outputs": [
    {
     "data": {
      "text/html": [
       "<div>\n",
       "<style scoped>\n",
       "    .dataframe tbody tr th:only-of-type {\n",
       "        vertical-align: middle;\n",
       "    }\n",
       "\n",
       "    .dataframe tbody tr th {\n",
       "        vertical-align: top;\n",
       "    }\n",
       "\n",
       "    .dataframe thead th {\n",
       "        text-align: right;\n",
       "    }\n",
       "</style>\n",
       "<table border=\"1\" class=\"dataframe\">\n",
       "  <thead>\n",
       "    <tr style=\"text-align: right;\">\n",
       "      <th></th>\n",
       "      <th>ref_hash</th>\n",
       "      <th>ammount_clicks</th>\n",
       "    </tr>\n",
       "  </thead>\n",
       "  <tbody>\n",
       "    <tr>\n",
       "      <th>0</th>\n",
       "      <td>1293710398598742392</td>\n",
       "      <td>7</td>\n",
       "    </tr>\n",
       "    <tr>\n",
       "      <th>7</th>\n",
       "      <td>1663930990551616564</td>\n",
       "      <td>2</td>\n",
       "    </tr>\n",
       "    <tr>\n",
       "      <th>9</th>\n",
       "      <td>8488038938665586188</td>\n",
       "      <td>6</td>\n",
       "    </tr>\n",
       "    <tr>\n",
       "      <th>15</th>\n",
       "      <td>6488361690105189959</td>\n",
       "      <td>3</td>\n",
       "    </tr>\n",
       "    <tr>\n",
       "      <th>18</th>\n",
       "      <td>1348993302102753419</td>\n",
       "      <td>1</td>\n",
       "    </tr>\n",
       "  </tbody>\n",
       "</table>\n",
       "</div>"
      ],
      "text/plain": [
       "               ref_hash  ammount_clicks\n",
       "0   1293710398598742392               7\n",
       "7   1663930990551616564               2\n",
       "9   8488038938665586188               6\n",
       "15  6488361690105189959               3\n",
       "18  1348993302102753419               1"
      ]
     },
     "execution_count": 10,
     "metadata": {},
     "output_type": "execute_result"
    }
   ],
   "source": [
    "clicks_first.head()"
   ]
  },
  {
   "cell_type": "code",
   "execution_count": 13,
   "metadata": {},
   "outputs": [],
   "source": [
    "auctions_first = pd.merge(auctions_first, auctions_first.groupby('ref_hash').agg('size').reset_index(), on='ref_hash', how='inner')"
   ]
  },
  {
   "cell_type": "code",
   "execution_count": 33,
   "metadata": {},
   "outputs": [
    {
     "data": {
      "text/html": [
       "<div>\n",
       "<style scoped>\n",
       "    .dataframe tbody tr th:only-of-type {\n",
       "        vertical-align: middle;\n",
       "    }\n",
       "\n",
       "    .dataframe tbody tr th {\n",
       "        vertical-align: top;\n",
       "    }\n",
       "\n",
       "    .dataframe thead th {\n",
       "        text-align: right;\n",
       "    }\n",
       "</style>\n",
       "<table border=\"1\" class=\"dataframe\">\n",
       "  <thead>\n",
       "    <tr style=\"text-align: right;\">\n",
       "      <th></th>\n",
       "      <th>date</th>\n",
       "      <th>ref_hash</th>\n",
       "      <th>ref_type_id</th>\n",
       "      <th>source_id</th>\n",
       "      <th>count</th>\n",
       "      <th>last_auction</th>\n",
       "      <th>first_auction</th>\n",
       "      <th>diff_auctions</th>\n",
       "      <th>prom_time_install</th>\n",
       "    </tr>\n",
       "  </thead>\n",
       "  <tbody>\n",
       "    <tr>\n",
       "      <th>0</th>\n",
       "      <td>2019-04-20 23:57:27.912838</td>\n",
       "      <td>1109595589636746168</td>\n",
       "      <td>7</td>\n",
       "      <td>0</td>\n",
       "      <td>128</td>\n",
       "      <td>2019-04-20 23:59:50.195048</td>\n",
       "      <td>2019-04-18 00:00:38.281742</td>\n",
       "      <td>259151.913306</td>\n",
       "      <td>0</td>\n",
       "    </tr>\n",
       "    <tr>\n",
       "      <th>1</th>\n",
       "      <td>2019-04-20 23:59:34.748148</td>\n",
       "      <td>1109595589636746168</td>\n",
       "      <td>7</td>\n",
       "      <td>0</td>\n",
       "      <td>128</td>\n",
       "      <td>2019-04-20 23:59:50.195048</td>\n",
       "      <td>2019-04-18 00:00:38.281742</td>\n",
       "      <td>259151.913306</td>\n",
       "      <td>0</td>\n",
       "    </tr>\n",
       "    <tr>\n",
       "      <th>2</th>\n",
       "      <td>2019-04-18 20:26:06.818262</td>\n",
       "      <td>1109595589636746168</td>\n",
       "      <td>7</td>\n",
       "      <td>0</td>\n",
       "      <td>128</td>\n",
       "      <td>2019-04-20 23:59:50.195048</td>\n",
       "      <td>2019-04-18 00:00:38.281742</td>\n",
       "      <td>259151.913306</td>\n",
       "      <td>0</td>\n",
       "    </tr>\n",
       "    <tr>\n",
       "      <th>3</th>\n",
       "      <td>2019-04-18 20:25:17.123792</td>\n",
       "      <td>1109595589636746168</td>\n",
       "      <td>7</td>\n",
       "      <td>1</td>\n",
       "      <td>128</td>\n",
       "      <td>2019-04-20 23:59:50.195048</td>\n",
       "      <td>2019-04-18 00:00:38.281742</td>\n",
       "      <td>259151.913306</td>\n",
       "      <td>0</td>\n",
       "    </tr>\n",
       "    <tr>\n",
       "      <th>4</th>\n",
       "      <td>2019-04-20 23:59:50.195048</td>\n",
       "      <td>1109595589636746168</td>\n",
       "      <td>7</td>\n",
       "      <td>1</td>\n",
       "      <td>128</td>\n",
       "      <td>2019-04-20 23:59:50.195048</td>\n",
       "      <td>2019-04-18 00:00:38.281742</td>\n",
       "      <td>259151.913306</td>\n",
       "      <td>0</td>\n",
       "    </tr>\n",
       "  </tbody>\n",
       "</table>\n",
       "</div>"
      ],
      "text/plain": [
       "                        date             ref_hash  ref_type_id  source_id  \\\n",
       "0 2019-04-20 23:57:27.912838  1109595589636746168            7          0   \n",
       "1 2019-04-20 23:59:34.748148  1109595589636746168            7          0   \n",
       "2 2019-04-18 20:26:06.818262  1109595589636746168            7          0   \n",
       "3 2019-04-18 20:25:17.123792  1109595589636746168            7          1   \n",
       "4 2019-04-20 23:59:50.195048  1109595589636746168            7          1   \n",
       "\n",
       "   count               last_auction              first_auction  diff_auctions  \\\n",
       "0    128 2019-04-20 23:59:50.195048 2019-04-18 00:00:38.281742  259151.913306   \n",
       "1    128 2019-04-20 23:59:50.195048 2019-04-18 00:00:38.281742  259151.913306   \n",
       "2    128 2019-04-20 23:59:50.195048 2019-04-18 00:00:38.281742  259151.913306   \n",
       "3    128 2019-04-20 23:59:50.195048 2019-04-18 00:00:38.281742  259151.913306   \n",
       "4    128 2019-04-20 23:59:50.195048 2019-04-18 00:00:38.281742  259151.913306   \n",
       "\n",
       "   prom_time_install  \n",
       "0                  0  \n",
       "1                  0  \n",
       "2                  0  \n",
       "3                  0  \n",
       "4                  0  "
      ]
     },
     "execution_count": 33,
     "metadata": {},
     "output_type": "execute_result"
    }
   ],
   "source": [
    "auctions_first.head()"
   ]
  },
  {
   "cell_type": "code",
   "execution_count": 23,
   "metadata": {},
   "outputs": [],
   "source": [
    "auctions_first['last_auction'] = auctions_first.groupby('ref_hash')['date'].transform('max')\n",
    "auctions_first['first_auction'] = auctions_first.groupby('ref_hash')['date'].transform('min')"
   ]
  },
  {
   "cell_type": "code",
   "execution_count": 25,
   "metadata": {},
   "outputs": [],
   "source": [
    "auctions_first['diff_auctions'] = (auctions_first['last_auction'] - auctions_first['first_auction']).dt.total_seconds()"
   ]
  },
  {
   "cell_type": "code",
   "execution_count": 32,
   "metadata": {},
   "outputs": [],
   "source": [
    "auctions_first = auctions_first.rename(columns={0: 'count'})"
   ]
  },
  {
   "cell_type": "code",
   "execution_count": 36,
   "metadata": {},
   "outputs": [],
   "source": [
    "auctions_first = auctions_first.drop(columns=['prom_time_install'])"
   ]
  },
  {
   "cell_type": "code",
   "execution_count": 35,
   "metadata": {},
   "outputs": [],
   "source": [
    "auctions_first['prom_time_auction'] = 0\n",
    "auctions_first.loc[auctions_first['count'] > 1, 'prom_time_auction'] = ((auctions_first['last_auction'] - auctions_first['first_auction'])/ \\\n",
    "                                 (auctions_first['count'] -1)).dt.total_seconds()"
   ]
  },
  {
   "cell_type": "code",
   "execution_count": 68,
   "metadata": {},
   "outputs": [],
   "source": [
    "auctions_first['first_auction_sec'] = (auctions_first['first_auction'] - pd.Timestamp('2019-04-18 00:00:00.000000')).dt.total_seconds()\n",
    "auctions_first['last_auction_sec'] = (auctions_first['last_auction'] - pd.Timestamp('2019-04-18 00:00:00.000000')).dt.total_seconds()"
   ]
  },
  {
   "cell_type": "code",
   "execution_count": 69,
   "metadata": {},
   "outputs": [
    {
     "data": {
      "text/html": [
       "<div>\n",
       "<style scoped>\n",
       "    .dataframe tbody tr th:only-of-type {\n",
       "        vertical-align: middle;\n",
       "    }\n",
       "\n",
       "    .dataframe tbody tr th {\n",
       "        vertical-align: top;\n",
       "    }\n",
       "\n",
       "    .dataframe thead th {\n",
       "        text-align: right;\n",
       "    }\n",
       "</style>\n",
       "<table border=\"1\" class=\"dataframe\">\n",
       "  <thead>\n",
       "    <tr style=\"text-align: right;\">\n",
       "      <th></th>\n",
       "      <th>count</th>\n",
       "      <th>last_auction</th>\n",
       "      <th>first_auction</th>\n",
       "      <th>diff_auctions</th>\n",
       "      <th>prom_time_auction</th>\n",
       "      <th>first_auction_sec</th>\n",
       "      <th>last_auction_sec</th>\n",
       "      <th>ammount_clicks</th>\n",
       "      <th>time_appearence</th>\n",
       "      <th>ref_type_id_1</th>\n",
       "      <th>ref_type_id_7</th>\n",
       "    </tr>\n",
       "  </thead>\n",
       "  <tbody>\n",
       "    <tr>\n",
       "      <th>0</th>\n",
       "      <td>128</td>\n",
       "      <td>2019-04-20 23:59:50.195048</td>\n",
       "      <td>2019-04-18 00:00:38.281742</td>\n",
       "      <td>259151.913306</td>\n",
       "      <td>2040.566247</td>\n",
       "      <td>38.281742</td>\n",
       "      <td>259190.195048</td>\n",
       "      <td>0.0</td>\n",
       "      <td>9</td>\n",
       "      <td>0</td>\n",
       "      <td>1</td>\n",
       "    </tr>\n",
       "    <tr>\n",
       "      <th>1</th>\n",
       "      <td>46</td>\n",
       "      <td>2019-04-20 23:57:36.225835</td>\n",
       "      <td>2019-04-20 01:46:34.133499</td>\n",
       "      <td>79862.092336</td>\n",
       "      <td>1774.713163</td>\n",
       "      <td>179194.133499</td>\n",
       "      <td>259056.225835</td>\n",
       "      <td>0.0</td>\n",
       "      <td>562</td>\n",
       "      <td>1</td>\n",
       "      <td>0</td>\n",
       "    </tr>\n",
       "    <tr>\n",
       "      <th>2</th>\n",
       "      <td>252</td>\n",
       "      <td>2019-04-20 23:59:29.271544</td>\n",
       "      <td>2019-04-18 06:27:50.996158</td>\n",
       "      <td>235898.275386</td>\n",
       "      <td>939.833766</td>\n",
       "      <td>23270.996158</td>\n",
       "      <td>259169.271544</td>\n",
       "      <td>0.0</td>\n",
       "      <td>26746</td>\n",
       "      <td>1</td>\n",
       "      <td>0</td>\n",
       "    </tr>\n",
       "    <tr>\n",
       "      <th>3</th>\n",
       "      <td>191</td>\n",
       "      <td>2019-04-20 23:57:30.262283</td>\n",
       "      <td>2019-04-18 04:02:46.305613</td>\n",
       "      <td>244483.956670</td>\n",
       "      <td>1286.757667</td>\n",
       "      <td>14566.305613</td>\n",
       "      <td>259050.262283</td>\n",
       "      <td>0.0</td>\n",
       "      <td>199</td>\n",
       "      <td>0</td>\n",
       "      <td>1</td>\n",
       "    </tr>\n",
       "    <tr>\n",
       "      <th>4</th>\n",
       "      <td>166</td>\n",
       "      <td>2019-04-20 23:57:28.868312</td>\n",
       "      <td>2019-04-18 00:35:31.040530</td>\n",
       "      <td>256917.827782</td>\n",
       "      <td>1557.077744</td>\n",
       "      <td>2131.040530</td>\n",
       "      <td>259048.868312</td>\n",
       "      <td>0.0</td>\n",
       "      <td>731</td>\n",
       "      <td>1</td>\n",
       "      <td>0</td>\n",
       "    </tr>\n",
       "  </tbody>\n",
       "</table>\n",
       "</div>"
      ],
      "text/plain": [
       "   count               last_auction              first_auction  diff_auctions  \\\n",
       "0    128 2019-04-20 23:59:50.195048 2019-04-18 00:00:38.281742  259151.913306   \n",
       "1     46 2019-04-20 23:57:36.225835 2019-04-20 01:46:34.133499   79862.092336   \n",
       "2    252 2019-04-20 23:59:29.271544 2019-04-18 06:27:50.996158  235898.275386   \n",
       "3    191 2019-04-20 23:57:30.262283 2019-04-18 04:02:46.305613  244483.956670   \n",
       "4    166 2019-04-20 23:57:28.868312 2019-04-18 00:35:31.040530  256917.827782   \n",
       "\n",
       "   prom_time_auction  first_auction_sec  last_auction_sec  ammount_clicks  \\\n",
       "0        2040.566247          38.281742     259190.195048             0.0   \n",
       "1        1774.713163      179194.133499     259056.225835             0.0   \n",
       "2         939.833766       23270.996158     259169.271544             0.0   \n",
       "3        1286.757667       14566.305613     259050.262283             0.0   \n",
       "4        1557.077744        2131.040530     259048.868312             0.0   \n",
       "\n",
       "   time_appearence  ref_type_id_1  ref_type_id_7  \n",
       "0                9              0              1  \n",
       "1              562              1              0  \n",
       "2            26746              1              0  \n",
       "3              199              0              1  \n",
       "4              731              1              0  "
      ]
     },
     "execution_count": 69,
     "metadata": {},
     "output_type": "execute_result"
    }
   ],
   "source": [
    "auctions_first.head()"
   ]
  },
  {
   "cell_type": "code",
   "execution_count": 52,
   "metadata": {},
   "outputs": [],
   "source": [
    "auctions_first = auctions_first.drop_duplicates('ref_hash')"
   ]
  },
  {
   "cell_type": "code",
   "execution_count": 53,
   "metadata": {},
   "outputs": [],
   "source": [
    "auctions_first = pd.merge(auctions_first, clicks_first, on='ref_hash', how='left')\n",
    "auctions_first = pd.merge(auctions_first, auctions_first_label, on='ref_hash', how='inner')\n",
    "auctions_first['ref_type_id_1'] = auctions_first['ref_type_id'].apply(lambda x: 1 if x==1 else 0)\n",
    "auctions_first['ref_type_id_7'] = auctions_first['ref_type_id'].apply(lambda x: 1 if x==7 else 0)"
   ]
  },
  {
   "cell_type": "code",
   "execution_count": 56,
   "metadata": {},
   "outputs": [],
   "source": [
    "auctions_first = auctions_first.drop(columns=['date', 'ref_hash', 'source_id', 'ref_type_id', 'last_auction', 'first_auction'])"
   ]
  },
  {
   "cell_type": "code",
   "execution_count": 58,
   "metadata": {},
   "outputs": [
    {
     "data": {
      "text/html": [
       "<div>\n",
       "<style scoped>\n",
       "    .dataframe tbody tr th:only-of-type {\n",
       "        vertical-align: middle;\n",
       "    }\n",
       "\n",
       "    .dataframe tbody tr th {\n",
       "        vertical-align: top;\n",
       "    }\n",
       "\n",
       "    .dataframe thead th {\n",
       "        text-align: right;\n",
       "    }\n",
       "</style>\n",
       "<table border=\"1\" class=\"dataframe\">\n",
       "  <thead>\n",
       "    <tr style=\"text-align: right;\">\n",
       "      <th></th>\n",
       "      <th>count</th>\n",
       "      <th>last_auction</th>\n",
       "      <th>first_auction</th>\n",
       "      <th>diff_auctions</th>\n",
       "      <th>prom_time_auction</th>\n",
       "      <th>first_auction_sec</th>\n",
       "      <th>last_auction_sec</th>\n",
       "      <th>ammount_clicks</th>\n",
       "      <th>time_appearence</th>\n",
       "      <th>ref_type_id_1</th>\n",
       "      <th>ref_type_id_7</th>\n",
       "    </tr>\n",
       "  </thead>\n",
       "  <tbody>\n",
       "    <tr>\n",
       "      <th>0</th>\n",
       "      <td>128</td>\n",
       "      <td>2019-04-20 23:59:50.195048</td>\n",
       "      <td>2019-04-18 00:00:38.281742</td>\n",
       "      <td>259151.913306</td>\n",
       "      <td>2040.566247</td>\n",
       "      <td>0 days 00:00:38.281742</td>\n",
       "      <td>2 days 23:59:50.195048</td>\n",
       "      <td>NaN</td>\n",
       "      <td>9</td>\n",
       "      <td>0</td>\n",
       "      <td>1</td>\n",
       "    </tr>\n",
       "    <tr>\n",
       "      <th>1</th>\n",
       "      <td>46</td>\n",
       "      <td>2019-04-20 23:57:36.225835</td>\n",
       "      <td>2019-04-20 01:46:34.133499</td>\n",
       "      <td>79862.092336</td>\n",
       "      <td>1774.713163</td>\n",
       "      <td>2 days 01:46:34.133499</td>\n",
       "      <td>2 days 23:57:36.225835</td>\n",
       "      <td>NaN</td>\n",
       "      <td>562</td>\n",
       "      <td>1</td>\n",
       "      <td>0</td>\n",
       "    </tr>\n",
       "    <tr>\n",
       "      <th>2</th>\n",
       "      <td>252</td>\n",
       "      <td>2019-04-20 23:59:29.271544</td>\n",
       "      <td>2019-04-18 06:27:50.996158</td>\n",
       "      <td>235898.275386</td>\n",
       "      <td>939.833766</td>\n",
       "      <td>0 days 06:27:50.996158</td>\n",
       "      <td>2 days 23:59:29.271544</td>\n",
       "      <td>NaN</td>\n",
       "      <td>26746</td>\n",
       "      <td>1</td>\n",
       "      <td>0</td>\n",
       "    </tr>\n",
       "    <tr>\n",
       "      <th>3</th>\n",
       "      <td>191</td>\n",
       "      <td>2019-04-20 23:57:30.262283</td>\n",
       "      <td>2019-04-18 04:02:46.305613</td>\n",
       "      <td>244483.956670</td>\n",
       "      <td>1286.757667</td>\n",
       "      <td>0 days 04:02:46.305613</td>\n",
       "      <td>2 days 23:57:30.262283</td>\n",
       "      <td>NaN</td>\n",
       "      <td>199</td>\n",
       "      <td>0</td>\n",
       "      <td>1</td>\n",
       "    </tr>\n",
       "    <tr>\n",
       "      <th>4</th>\n",
       "      <td>166</td>\n",
       "      <td>2019-04-20 23:57:28.868312</td>\n",
       "      <td>2019-04-18 00:35:31.040530</td>\n",
       "      <td>256917.827782</td>\n",
       "      <td>1557.077744</td>\n",
       "      <td>0 days 00:35:31.040530</td>\n",
       "      <td>2 days 23:57:28.868312</td>\n",
       "      <td>NaN</td>\n",
       "      <td>731</td>\n",
       "      <td>1</td>\n",
       "      <td>0</td>\n",
       "    </tr>\n",
       "  </tbody>\n",
       "</table>\n",
       "</div>"
      ],
      "text/plain": [
       "   count               last_auction              first_auction  diff_auctions  \\\n",
       "0    128 2019-04-20 23:59:50.195048 2019-04-18 00:00:38.281742  259151.913306   \n",
       "1     46 2019-04-20 23:57:36.225835 2019-04-20 01:46:34.133499   79862.092336   \n",
       "2    252 2019-04-20 23:59:29.271544 2019-04-18 06:27:50.996158  235898.275386   \n",
       "3    191 2019-04-20 23:57:30.262283 2019-04-18 04:02:46.305613  244483.956670   \n",
       "4    166 2019-04-20 23:57:28.868312 2019-04-18 00:35:31.040530  256917.827782   \n",
       "\n",
       "   prom_time_auction      first_auction_sec       last_auction_sec  \\\n",
       "0        2040.566247 0 days 00:00:38.281742 2 days 23:59:50.195048   \n",
       "1        1774.713163 2 days 01:46:34.133499 2 days 23:57:36.225835   \n",
       "2         939.833766 0 days 06:27:50.996158 2 days 23:59:29.271544   \n",
       "3        1286.757667 0 days 04:02:46.305613 2 days 23:57:30.262283   \n",
       "4        1557.077744 0 days 00:35:31.040530 2 days 23:57:28.868312   \n",
       "\n",
       "   ammount_clicks  time_appearence  ref_type_id_1  ref_type_id_7  \n",
       "0             NaN                9              0              1  \n",
       "1             NaN              562              1              0  \n",
       "2             NaN            26746              1              0  \n",
       "3             NaN              199              0              1  \n",
       "4             NaN              731              1              0  "
      ]
     },
     "execution_count": 58,
     "metadata": {},
     "output_type": "execute_result"
    }
   ],
   "source": [
    "auctions_first.head()"
   ]
  },
  {
   "cell_type": "code",
   "execution_count": 59,
   "metadata": {},
   "outputs": [
    {
     "name": "stderr",
     "output_type": "stream",
     "text": [
      "D:\\Program Files\\Anaconda\\lib\\site-packages\\ipykernel_launcher.py:1: FutureWarning: Passing integers to fillna is deprecated, will raise a TypeError in a future version.  To retain the old behavior, pass pd.Timedelta(seconds=n) instead.\n",
      "  \"\"\"Entry point for launching an IPython kernel.\n"
     ]
    }
   ],
   "source": [
    "auctions_first = auctions_first.fillna(0)"
   ]
  },
  {
   "cell_type": "code",
   "execution_count": 70,
   "metadata": {},
   "outputs": [
    {
     "data": {
      "text/html": [
       "<div>\n",
       "<style scoped>\n",
       "    .dataframe tbody tr th:only-of-type {\n",
       "        vertical-align: middle;\n",
       "    }\n",
       "\n",
       "    .dataframe tbody tr th {\n",
       "        vertical-align: top;\n",
       "    }\n",
       "\n",
       "    .dataframe thead th {\n",
       "        text-align: right;\n",
       "    }\n",
       "</style>\n",
       "<table border=\"1\" class=\"dataframe\">\n",
       "  <thead>\n",
       "    <tr style=\"text-align: right;\">\n",
       "      <th></th>\n",
       "      <th>count</th>\n",
       "      <th>last_auction</th>\n",
       "      <th>first_auction</th>\n",
       "      <th>diff_auctions</th>\n",
       "      <th>prom_time_auction</th>\n",
       "      <th>first_auction_sec</th>\n",
       "      <th>last_auction_sec</th>\n",
       "      <th>ammount_clicks</th>\n",
       "      <th>time_appearence</th>\n",
       "      <th>ref_type_id_1</th>\n",
       "      <th>ref_type_id_7</th>\n",
       "    </tr>\n",
       "  </thead>\n",
       "  <tbody>\n",
       "    <tr>\n",
       "      <th>0</th>\n",
       "      <td>128</td>\n",
       "      <td>2019-04-20 23:59:50.195048</td>\n",
       "      <td>2019-04-18 00:00:38.281742</td>\n",
       "      <td>259151.913306</td>\n",
       "      <td>2040.566247</td>\n",
       "      <td>38.281742</td>\n",
       "      <td>259190.195048</td>\n",
       "      <td>0.0</td>\n",
       "      <td>9</td>\n",
       "      <td>0</td>\n",
       "      <td>1</td>\n",
       "    </tr>\n",
       "    <tr>\n",
       "      <th>1</th>\n",
       "      <td>46</td>\n",
       "      <td>2019-04-20 23:57:36.225835</td>\n",
       "      <td>2019-04-20 01:46:34.133499</td>\n",
       "      <td>79862.092336</td>\n",
       "      <td>1774.713163</td>\n",
       "      <td>179194.133499</td>\n",
       "      <td>259056.225835</td>\n",
       "      <td>0.0</td>\n",
       "      <td>562</td>\n",
       "      <td>1</td>\n",
       "      <td>0</td>\n",
       "    </tr>\n",
       "    <tr>\n",
       "      <th>2</th>\n",
       "      <td>252</td>\n",
       "      <td>2019-04-20 23:59:29.271544</td>\n",
       "      <td>2019-04-18 06:27:50.996158</td>\n",
       "      <td>235898.275386</td>\n",
       "      <td>939.833766</td>\n",
       "      <td>23270.996158</td>\n",
       "      <td>259169.271544</td>\n",
       "      <td>0.0</td>\n",
       "      <td>26746</td>\n",
       "      <td>1</td>\n",
       "      <td>0</td>\n",
       "    </tr>\n",
       "    <tr>\n",
       "      <th>3</th>\n",
       "      <td>191</td>\n",
       "      <td>2019-04-20 23:57:30.262283</td>\n",
       "      <td>2019-04-18 04:02:46.305613</td>\n",
       "      <td>244483.956670</td>\n",
       "      <td>1286.757667</td>\n",
       "      <td>14566.305613</td>\n",
       "      <td>259050.262283</td>\n",
       "      <td>0.0</td>\n",
       "      <td>199</td>\n",
       "      <td>0</td>\n",
       "      <td>1</td>\n",
       "    </tr>\n",
       "    <tr>\n",
       "      <th>4</th>\n",
       "      <td>166</td>\n",
       "      <td>2019-04-20 23:57:28.868312</td>\n",
       "      <td>2019-04-18 00:35:31.040530</td>\n",
       "      <td>256917.827782</td>\n",
       "      <td>1557.077744</td>\n",
       "      <td>2131.040530</td>\n",
       "      <td>259048.868312</td>\n",
       "      <td>0.0</td>\n",
       "      <td>731</td>\n",
       "      <td>1</td>\n",
       "      <td>0</td>\n",
       "    </tr>\n",
       "  </tbody>\n",
       "</table>\n",
       "</div>"
      ],
      "text/plain": [
       "   count               last_auction              first_auction  diff_auctions  \\\n",
       "0    128 2019-04-20 23:59:50.195048 2019-04-18 00:00:38.281742  259151.913306   \n",
       "1     46 2019-04-20 23:57:36.225835 2019-04-20 01:46:34.133499   79862.092336   \n",
       "2    252 2019-04-20 23:59:29.271544 2019-04-18 06:27:50.996158  235898.275386   \n",
       "3    191 2019-04-20 23:57:30.262283 2019-04-18 04:02:46.305613  244483.956670   \n",
       "4    166 2019-04-20 23:57:28.868312 2019-04-18 00:35:31.040530  256917.827782   \n",
       "\n",
       "   prom_time_auction  first_auction_sec  last_auction_sec  ammount_clicks  \\\n",
       "0        2040.566247          38.281742     259190.195048             0.0   \n",
       "1        1774.713163      179194.133499     259056.225835             0.0   \n",
       "2         939.833766       23270.996158     259169.271544             0.0   \n",
       "3        1286.757667       14566.305613     259050.262283             0.0   \n",
       "4        1557.077744        2131.040530     259048.868312             0.0   \n",
       "\n",
       "   time_appearence  ref_type_id_1  ref_type_id_7  \n",
       "0                9              0              1  \n",
       "1              562              1              0  \n",
       "2            26746              1              0  \n",
       "3              199              0              1  \n",
       "4              731              1              0  "
      ]
     },
     "execution_count": 70,
     "metadata": {},
     "output_type": "execute_result"
    }
   ],
   "source": [
    "auctions_first.head()"
   ]
  },
  {
   "cell_type": "markdown",
   "metadata": {},
   "source": [
    "Time_appearence es el label, el valor a predecir por el modelo, los demás son features. Ref_type_id (one hot encoding) indica a que plataforma corresponde, appearences_in_auctions indica la cantidad de apariciones de dicho dispositivo en subastas y ammount_clicks indica la cantidad de clicks."
   ]
  },
  {
   "cell_type": "code",
   "execution_count": 76,
   "metadata": {},
   "outputs": [],
   "source": [
    "train, test = train_test_split(auctions_first, test_size=0.2)"
   ]
  },
  {
   "cell_type": "code",
   "execution_count": 77,
   "metadata": {},
   "outputs": [],
   "source": [
    "train_Y = train['time_appearence']\n",
    "train_X = train.drop(columns=['time_appearence'])\n",
    "test_Y = test['time_appearence']\n",
    "test_X = test.drop(columns=['time_appearence'])"
   ]
  },
  {
   "cell_type": "code",
   "execution_count": 149,
   "metadata": {},
   "outputs": [],
   "source": [
    "model = tree.DecisionTreeRegressor(max_depth=50)"
   ]
  },
  {
   "cell_type": "code",
   "execution_count": 150,
   "metadata": {},
   "outputs": [],
   "source": [
    "model = model.fit(train_X, train_Y)"
   ]
  },
  {
   "cell_type": "code",
   "execution_count": 151,
   "metadata": {},
   "outputs": [
    {
     "data": {
      "text/plain": [
       "51919997.74649965"
      ]
     },
     "execution_count": 151,
     "metadata": {},
     "output_type": "execute_result"
    }
   ],
   "source": [
    "mean_squared_error(train_Y, model.predict(train_X))"
   ]
  },
  {
   "cell_type": "code",
   "execution_count": 152,
   "metadata": {},
   "outputs": [
    {
     "data": {
      "text/plain": [
       "1392476222.0248039"
      ]
     },
     "execution_count": 152,
     "metadata": {},
     "output_type": "execute_result"
    }
   ],
   "source": [
    "mean_squared_error(test_Y, model.predict(test_X))"
   ]
  },
  {
   "cell_type": "code",
   "execution_count": 132,
   "metadata": {},
   "outputs": [
    {
     "data": {
      "text/plain": [
       "{'criterion': 'mse',\n",
       " 'max_depth': None,\n",
       " 'max_features': None,\n",
       " 'max_leaf_nodes': None,\n",
       " 'min_impurity_decrease': 0.0,\n",
       " 'min_impurity_split': None,\n",
       " 'min_samples_leaf': 1,\n",
       " 'min_samples_split': 2,\n",
       " 'min_weight_fraction_leaf': 0.0,\n",
       " 'presort': False,\n",
       " 'random_state': None,\n",
       " 'splitter': 'best'}"
      ]
     },
     "execution_count": 132,
     "metadata": {},
     "output_type": "execute_result"
    }
   ],
   "source": [
    "model.get_params()"
   ]
  },
  {
   "cell_type": "code",
   "execution_count": 198,
   "metadata": {},
   "outputs": [],
   "source": [
    "xg_reg = xgb.XGBRegressor(objective ='reg:linear', colsample_bytree = 0.9, learning_rate = 0.1,\n",
    "                max_depth = 40, alpha = 0, n_estimators = 20, gamma = 0.5)"
   ]
  },
  {
   "cell_type": "code",
   "execution_count": 199,
   "metadata": {},
   "outputs": [
    {
     "data": {
      "text/plain": [
       "XGBRegressor(alpha=0, base_score=0.5, booster='gbtree', colsample_bylevel=1,\n",
       "       colsample_bytree=0.9, gamma=0.5, learning_rate=0.1,\n",
       "       max_delta_step=0, max_depth=40, min_child_weight=1, missing=None,\n",
       "       n_estimators=20, n_jobs=1, nthread=None, objective='reg:linear',\n",
       "       random_state=0, reg_alpha=0, reg_lambda=1, scale_pos_weight=1,\n",
       "       seed=None, silent=True, subsample=1)"
      ]
     },
     "execution_count": 199,
     "metadata": {},
     "output_type": "execute_result"
    }
   ],
   "source": [
    "xg_reg.fit(train_X, train_Y)"
   ]
  },
  {
   "cell_type": "code",
   "execution_count": 200,
   "metadata": {},
   "outputs": [
    {
     "data": {
      "text/plain": [
       "169689487.11835524"
      ]
     },
     "execution_count": 200,
     "metadata": {},
     "output_type": "execute_result"
    }
   ],
   "source": [
    "mean_squared_error(train_Y, xg_reg.predict(train_X))"
   ]
  },
  {
   "cell_type": "code",
   "execution_count": 201,
   "metadata": {},
   "outputs": [
    {
     "data": {
      "text/plain": [
       "833513312.203229"
      ]
     },
     "execution_count": 201,
     "metadata": {},
     "output_type": "execute_result"
    }
   ],
   "source": [
    "mean_squared_error(test_Y, xg_reg.predict(test_X))"
   ]
  },
  {
   "cell_type": "code",
   "execution_count": 102,
   "metadata": {},
   "outputs": [
    {
     "data": {
      "text/plain": [
       "(184538, 8)"
      ]
     },
     "execution_count": 102,
     "metadata": {},
     "output_type": "execute_result"
    }
   ],
   "source": [
    "train_X.shape"
   ]
  },
  {
   "cell_type": "code",
   "execution_count": 103,
   "metadata": {},
   "outputs": [
    {
     "data": {
      "text/plain": [
       "(46135, 8)"
      ]
     },
     "execution_count": 103,
     "metadata": {},
     "output_type": "execute_result"
    }
   ],
   "source": [
    "test_X.shape"
   ]
  },
  {
   "cell_type": "code",
   "execution_count": null,
   "metadata": {},
   "outputs": [],
   "source": []
  }
 ],
 "metadata": {
  "kernelspec": {
   "display_name": "Python 3",
   "language": "python",
   "name": "python3"
  },
  "language_info": {
   "codemirror_mode": {
    "name": "ipython",
    "version": 3
   },
   "file_extension": ".py",
   "mimetype": "text/x-python",
   "name": "python",
   "nbconvert_exporter": "python",
   "pygments_lexer": "ipython3",
   "version": "3.6.4"
  }
 },
 "nbformat": 4,
 "nbformat_minor": 2
}
