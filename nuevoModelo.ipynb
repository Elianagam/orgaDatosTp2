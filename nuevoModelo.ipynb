{
 "cells": [
  {
   "cell_type": "code",
   "execution_count": 1,
   "metadata": {},
   "outputs": [],
   "source": [
    "import pandas as pd\n",
    "import numpy as np\n",
    "import gc\n",
    "from tqdm import tqdm\n",
    "from sklearn.impute import SimpleImputer\n",
    "import lightgbm as lgb\n",
    "from sklearn.metrics import mean_squared_error\n",
    "from sklearn.model_selection import train_test_split\n",
    "import pickle\n",
    "from sklearn.linear_model import SGDRegressor\n",
    "from sklearn import preprocessing\n",
    "from sklearn.feature_extraction import FeatureHasher"
   ]
  },
  {
   "cell_type": "markdown",
   "metadata": {},
   "source": [
    "**Armado de features**"
   ]
  },
  {
   "cell_type": "code",
   "execution_count": 2,
   "metadata": {},
   "outputs": [],
   "source": [
    "objective = 0\n",
    "window = 1"
   ]
  },
  {
   "cell_type": "code",
   "execution_count": 3,
   "metadata": {},
   "outputs": [],
   "source": [
    "max_time = 24*3600*3\n",
    "\n",
    "time_windows = [('2019-04-18 00:00:00.000000', '2019-04-21 00:00:00.000000'), ('2019-04-19 00:00:00.000000', '2019-04-22 00:00:00.000000'), \n",
    "                ('2019-04-20 00:00:00.000000', '2019-04-23 00:00:00.000000'), ('2019-04-21 00:00:00.000000', '2019-04-24 00:00:00.000000'), \n",
    "                ('2019-04-24 00:00:00.000000', '2019-04-27 00:00:00.000000')]\n",
    "time_labels = [('2019-04-21 00:00:00.000000', '2019-04-24 00:00:00.000000'), ('2019-04-22 00:00:00.000000', '2019-04-25 00:00:00.000000'), \n",
    "               ('2019-04-23 00:00:00.000000', '2019-04-26 00:00:00.000000'), ('2019-04-24 00:00:00.000000', '2019-04-27 00:00:00.000000')]\n",
    "days = [18, 19, 20, 21, 24]\n",
    "\n",
    "model = pd.DataFrame()\n",
    "targets = pd.DataFrame()"
   ]
  },
  {
   "cell_type": "code",
   "execution_count": 14,
   "metadata": {},
   "outputs": [],
   "source": [
    "def armadoFeatures(window):\n",
    "    auctions = pd.read_pickle('data/auctions_w'+str(window)+'.pkl')\n",
    "    auctions['ref_type_id'] = auctions['ref_type_id'].astype(np.int8)\n",
    "\n",
    "    gb = auctions.groupby('ref_hash')\n",
    "    auctions['n_auctions'] = gb['date'].transform('count').astype(np.int16)\n",
    "    auctions['last_auction'] = gb['date'].transform('max')\n",
    "    auctions['first_auction'] = gb['date'].transform('min')\n",
    "    auctions['diff_auctions'] = (auctions['last_auction'] - auctions['first_auction']).dt.total_seconds().astype(np.int32)\n",
    "    auctions['mean_time_auction'] = 0\n",
    "    auctions.loc[auctions['n_auctions'] > 1, 'mean_time_auction'] = ((auctions['last_auction'] - auctions['first_auction'])/ \\\n",
    "                                     (auctions['n_auctions'] -1)).dt.total_seconds()\n",
    "    auctions['first_auction_sec'] = (auctions['first_auction'] - pd.Timestamp(time_windows[window-1][0])).dt.total_seconds().astype(np.int32)\n",
    "    auctions['last_auction_sec'] = (auctions['last_auction'] - pd.Timestamp(time_windows[window-1][0])).dt.total_seconds().astype(np.int32)\n",
    "    auctions['last_auction_sec_to_end'] = (pd.Timestamp(time_windows[window-1][1]) - auctions['last_auction']).dt.total_seconds().astype(np.int32)\n",
    "    auctions['day'] = ((auctions['date'].dt.day) - days[window-1]).astype(np.int8)\n",
    "    auctions = pd.get_dummies(auctions, columns=['day'])\n",
    "    gb = auctions.groupby('ref_hash')\n",
    "    auctions['day_0'] = gb['day_0'].transform('sum').astype(np.int16)\n",
    "    auctions['day_1'] = gb['day_1'].transform('sum').astype(np.int16)\n",
    "    auctions['day_2'] = gb['day_2'].transform('sum').astype(np.int16)\n",
    "    auctions = encodeCategoricals(auctions, 'source_id', [1, 0, 3, 7, 6, 8, 5, 4, 2, 9])\n",
    "\n",
    "    auctions.drop_duplicates(subset='ref_hash', inplace=True)\n",
    "    auctions.drop(columns=['date', 'last_auction', 'first_auction', 'source_id'], inplace=True)\n",
    "    auctions = auctions.fillna(0)\n",
    "\n",
    "    clicks = pd.read_pickle('data/clicks_w'+str(window)+'.pkl')\n",
    "    clicks.drop(columns=['action_id', 'agent_device', 'country_code', 'trans_id'], inplace=True)\n",
    "    clicks['advertiser_id'] = clicks['advertiser_id'].astype(np.int8)\n",
    "    clicks['source_id'] = clicks['source_id'].astype(np.int8)\n",
    "    clicks['latitude'] = clicks['latitude'].astype(np.float32)\n",
    "    clicks['longitude'] = clicks['longitude'].astype(np.float32)\n",
    "    clicks['wifi_connection'] = clicks['wifi_connection'].map({True: 1, False: 0}).astype(np.int8)\n",
    "    clicks['carrier_id'] = ((clicks['carrier_id'].fillna(-1))).astype(np.int16)\n",
    "    clicks['os_major'] = (clicks['os_major'].fillna(0)/10e15).astype(np.int16)\n",
    "    clicks['os_minor'] = (clicks['os_minor'].fillna(0)/10e15).astype(np.int16)\n",
    "    clicks['specs_brand'] = clicks['specs_brand'].map({71913840936116953: 0, 3576558787748411622: 1, 784329784168794382: 2})\n",
    "    clicks['brand'] = (clicks['brand'].fillna(-1)).astype(np.int16)\n",
    "    clicks['ref_type'] = clicks['ref_type'].map({1891515180541284343: 1, 1494519392962156891: 0}).astype(np.int8)\n",
    "    gb = clicks.groupby('ref_hash')\n",
    "    clicks['n_clicks'] = gb['created'].transform('count')\n",
    "    clicks['last_click'] = gb['created'].transform('max')\n",
    "    clicks['first_click'] = gb['created'].transform('min')\n",
    "    clicks['timeToClick_mean'] = gb['timeToClick'].transform('mean')\n",
    "    clicks['carrier_id'] = gb['carrier_id'].transform(lambda x: x.mode().iloc[0])\n",
    "    clicks['os_minor'] = gb['os_minor'].transform(lambda x: x.mode().iloc[0])\n",
    "    clicks['os_major'] = gb['os_major'].transform(lambda x: x.mode().iloc[0])\n",
    "    clicks['diff_clicks'] = (clicks['last_click'] - clicks['first_click']).dt.total_seconds().astype(np.int32)\n",
    "    clicks['mean_time_click'] = 0\n",
    "    clicks.loc[clicks['n_clicks'] > 1, 'mean_time_click'] = ((clicks['last_click'] - clicks['first_click'])/ \\\n",
    "                                     (clicks['n_clicks'] -1)).dt.total_seconds()\n",
    "    clicks['first_click_sec'] = (clicks['first_click'] - pd.Timestamp(time_windows[window-1][0])).dt.total_seconds().astype(np.int32)\n",
    "    clicks['last_click_sec'] = (clicks['last_click'] - pd.Timestamp(time_windows[window-1][0])).dt.total_seconds().astype(np.int32)\n",
    "    clicks['timeToClick_mean'] = clicks.groupby('ref_hash')['timeToClick'].transform('mean')\n",
    "    clicks.loc[clicks.touchX == 'Infinity', 'touchX'] = 1\n",
    "    clicks.loc[clicks.touchY == 'Infinity', 'touchY'] = 10\n",
    "    clicks[\"touchX\"] = pd.to_numeric(clicks[\"touchX\"])\n",
    "    clicks[\"touchY\"] = pd.to_numeric(clicks[\"touchY\"])\n",
    "    clicks['touch_bottom'] = clicks['touchY'].apply(lambda x: 1 if x<=1 else 0).astype(np.int8)\n",
    "    clicks['touch_bottom2'] = clicks['touchY'].apply(lambda x: 1 if x>1 and x<=2 else 0).astype(np.int8)\n",
    "\n",
    "    gb = clicks.groupby('ref_hash')\n",
    "    clicks['touchX_mean'] = gb['touchX'].transform('mean')\n",
    "    clicks['touchY_mean'] = gb['touchY'].transform('mean')\n",
    "    clicks['touchs_in_bottom'] = gb['touch_bottom'].transform('sum').astype(np.int16)\n",
    "    clicks['touchs_in_bottom2'] = gb['touch_bottom2'].transform('sum').astype(np.int16)\n",
    "    clicks['latitude_mean'] = gb['latitude'].transform('mean')\n",
    "    clicks['longitude_mean'] = gb['longitude'].transform('mean')\n",
    "    clicks['timeToClick_mean'] = clicks['timeToClick_mean'].fillna(clicks['timeToClick_mean'].mean())\n",
    "    clicks['touchX_mean'] = clicks['touchX_mean'].fillna(clicks['touchX_mean'].mean())\n",
    "    clicks['touchY_mean'] = clicks['touchY_mean'].fillna(clicks['touchY_mean'].mean())\n",
    "    clicks['last_click_sec_to_end'] = (pd.Timestamp(time_windows[window-1][1]) - clicks['last_click']).dt.total_seconds().astype(np.int32)\n",
    "    clicks = encodeCategoricals(clicks, 'advertiser_id', [2, 1, 0, 3, 4])\n",
    "    clicks = encodeCategoricals(clicks, 'source_id', [1, 0, 3, 2, 6, 4, 5, 7, 8])\n",
    "    \n",
    "    clicks.drop_duplicates(subset='ref_hash', inplace=True)\n",
    "    clicks = clicks.drop(columns=['advertiser_id', 'source_id', 'created', 'latitude', 'longitude', 'wifi_connection', \n",
    "                                  'timeToClick', 'touchX', 'touchY','last_click', 'first_click', 'touch_bottom', 'touch_bottom2'])\n",
    "\n",
    "    modelo = pd.merge(auctions, clicks, on='ref_hash', how='outer')\n",
    "    auctions = 0\n",
    "    clicks = 0\n",
    "    gc.collect()\n",
    "    \n",
    "    installs = pd.read_pickle('data/installs_w'+str(window)+'.pkl')\n",
    "    installs = installs.drop(columns=['device_countrycode', 'ip_address', 'event_uuid', 'click_hash', 'trans_id'])\n",
    "    installs['ref_type'] = installs['ref_type'].map({1891515180541284343: 1, 1494519392962156891: 0}).astype(np.int8)\n",
    "    installs['kind'] = installs['kind'].str.lower()\n",
    "    installs.loc[installs['kind'] == 'OPEN', 'kind'] = 'open'\n",
    "    installs.loc[installs['kind'] == 'app_open', 'kind'] = 'open'\n",
    "    installs.loc[installs['kind'] == 'app open', 'kind'] = 'open'\n",
    "    installs.loc[installs['kind'] == 'af app open', 'kind'] = 'open'\n",
    "    installs.loc[installs['kind'] == 'af_app_opened', 'kind'] = 'open'\n",
    "    installs.loc[installs['kind'] == 'af_app_opend', 'kind'] = 'open'\n",
    "    installs.loc[installs['kind'] == 'Session Begin', 'kind'] = 'sessionbegin'\n",
    "    installs.loc[installs['kind'] == 'signed in', 'kind'] = 'sign in'\n",
    "    installs.loc[installs['kind'] == 'opened_app', 'kind'] = 'open'\n",
    "    installs.loc[installs['kind'] == 'appopened', 'kind'] = 'open'\n",
    "    installs.loc[installs['kind'] == 'event_open_app', 'kind'] = 'open'\n",
    "    installs.loc[installs['kind'] == 'app_opened', 'kind'] = 'open'\n",
    "    installs.loc[installs['kind'] == 'app_launch', 'kind'] = 'open'\n",
    "    installs.loc[installs['kind'] == 'app launch', 'kind'] = 'open'\n",
    "    installs.loc[installs['kind'] == 'app launched', 'kind'] = 'open'\n",
    "    installs.loc[installs['kind'] == 'application open', 'kind'] = 'open'\n",
    "    installs.loc[installs['kind'] == 'abertura do app', 'kind'] = 'open'\n",
    "    installs.loc[installs['kind'] == 'pax_app_open', 'kind'] = 'open'\n",
    "    installs.loc[installs['kind'] == 'login', 'kind'] = 'sign_in'\n",
    "    installs.loc[installs['kind'] == 'sessionbegin', 'kind'] = 'sign_in'\n",
    "    installs.loc[installs['kind'] == 'sign in', 'kind'] = 'sign_in'\n",
    "    installs.loc[installs['kind'] == 'session begin', 'kind'] = 'sign_in'\n",
    "    installs.loc[installs['kind'] == 'login_success', 'kind'] = 'sign_in'\n",
    "    installs.loc[installs['kind'] == 'list view', 'kind'] = 'list_view'\n",
    "    installs.loc[installs['kind'] == 'af_view_list', 'kind'] = 'list_view'\n",
    "    installs.loc[installs['kind'] == 'af_list_view', 'kind'] = 'list_view'\n",
    "    installs.loc[installs['kind'] == 'product view', 'kind'] = 'product_view'\n",
    "    installs.loc[installs['kind'] == 'af_view_product', 'kind'] = 'product_view'\n",
    "    installs.loc[installs['kind'] == 'af_content_view', 'kind'] = 'content_view'\n",
    "    installs.loc[installs['kind'] == 'content view', 'kind'] = 'content_view'\n",
    "    installs.loc[installs['kind'] == 'pin_verified - registration', 'kind'] = 'registration'\n",
    "    installs.loc[installs['kind'] == 'userregistered', 'kind'] = 'registration'\n",
    "    installs.loc[installs['kind'] == 'complete_registration', 'kind'] = 'registration'\n",
    "    installs.loc[installs['kind'] == 'new registration', 'kind'] = 'registration'\n",
    "    installs.loc[installs['kind'] == 'registration_complete', 'kind'] = 'registration'\n",
    "    installs.loc[installs['kind'] == 'completed registration', 'kind'] = 'registration'\n",
    "    installs.loc[installs['kind'] == 'create_account', 'kind'] = 'registration'\n",
    "    installs.loc[installs['kind'] == 'sign up', 'kind'] = 'registration'\n",
    "    installs.loc[installs['kind'] == 'mobilesignup', 'kind'] = 'registration'\n",
    "    installs.loc[installs['kind'] == 'signed_up', 'kind'] = 'registration'\n",
    "    installs.loc[installs['kind'] == 'privacypolicy_agree_split', 'kind'] = 'terms_agree_split'\n",
    "    installs.loc[installs['kind'] == 'payment method add', 'kind'] = 'add_payment'\n",
    "    installs = encodeCategoricals(installs, 'kind', ['open', 'sign_in', 'list_view', 'product_view',\n",
    "           'account_summary_first_step', 'registration', 'reattribution',\n",
    "           'add_to_cart', 'pre_checkout', 'install', 'content_view',\n",
    "           'app first start', 'startsessionplayback', 'add_payment',\n",
    "           'terms_agree_split', 'reinstall', 'app_alive', 'trackapplaunch',\n",
    "           'adjust_uninstall', 'terms_open_split', 'purchase', 'af_add_to_wishlist'])\n",
    "    installs = encodeCategoricals(installs, 'application_id', [121,  36, 210,  65,  14,  68, 122, 155,  21, 226, 128,  75,  70,\n",
    "             94, 117, 302, 158,  26, 187, 339, 133,  77,  19,  49, 194, 145, 143, 263, 327, 214])\n",
    "    \n",
    "    installs['wifi_installs'] = installs['wifi'].map({True: 1, False: 0}).astype(np.int8)\n",
    "    installs['attributed'] = installs['attributed'].map({True: 1, False: 0}).astype(np.int8)\n",
    "    installs['implicit'] = installs['implicit'].map({True: 1, False: 0}).astype(np.int8)\n",
    "    gb = installs.groupby('ref_hash')\n",
    "    installs['wifi_installs_mean'] = gb['wifi_installs'].transform('mean')\n",
    "    installs['sum_wifi_on_installs'] = gb['wifi_installs'].transform('sum').astype(np.int16)\n",
    "    installs['attributed_installs_mean'] = gb['attributed'].transform('mean')\n",
    "    installs['sum_attributed_installs'] = gb['attributed'].transform('sum').astype(np.int16)\n",
    "    installs['n_installs'] = gb['created'].transform('count').astype(np.int16)\n",
    "    installs['last_install'] = gb['created'].transform('max')\n",
    "    installs['first_install'] = gb['created'].transform('min')\n",
    "    installs['device_language'] = gb['device_language'].transform(lambda x: x.mode().iloc[0])\n",
    "    installs['diff_installs'] = (installs['last_install'] - installs['first_install']).dt.total_seconds().astype(np.int32)\n",
    "    installs['last_install_sec_to_end'] = (pd.Timestamp(time_windows[window-1][1]) - installs['last_install']).dt.total_seconds().astype(np.int32)\n",
    "    installs['mean_time_install'] = 0\n",
    "    installs.loc[installs['n_installs'] > 1, 'mean_time_install'] = ((installs['last_install'] - installs['first_install'])/ \\\n",
    "                                     (installs['n_installs'] -1)).dt.total_seconds()\n",
    "    installs['first_install_sec'] = (installs['first_install'] - pd.Timestamp(time_windows[window-1][0])).dt.total_seconds().astype(np.int32)\n",
    "    installs['last_install_sec'] = (installs['last_install'] - pd.Timestamp(time_windows[window-1][0])).dt.total_seconds().astype(np.int32)\n",
    "    \n",
    "    installs['device_brand'] = installs['device_brand'].fillna(-1)\n",
    "    installs['device_model'] = installs['device_brand'].fillna(-1)\n",
    "    \n",
    "    installs.drop_duplicates(subset='ref_hash', inplace=True)\n",
    "    installs.drop(columns=['created', 'ref_type', 'user_agent', 'kind', 'wifi_installs', 'last_install', \n",
    "                           'first_install', 'session_user_agent', 'application_id', 'attributed', 'implicit', 'wifi'], inplace=True)\n",
    "\n",
    "    modelo = pd.merge(modelo, installs, on='ref_hash', how='outer')\n",
    "    \n",
    "    installs = 0\n",
    "    gc.collect()\n",
    "    \n",
    "    events = pd.read_pickle('data/events_w'+str(window)+'.pkl')\n",
    "    events.drop(columns=['event_uuid', 'ip_address', 'index', 'device_countrycode', 'trans_id', 'carrier', 'device_city'], inplace=True)\n",
    "\n",
    "    events['attributed'] = events['attributed'].map({True: 1, False: 0})\n",
    "    events['wifi'] = events['wifi'].map({True: 1, False: 0})\n",
    "    events['ref_type'] = events['ref_type'].map({1891515180541284343: 1, False: 1494519392962156891})\n",
    "    \n",
    "    gb = events.groupby('ref_hash')\n",
    "\n",
    "    events['n_events'] = gb['date'].transform('count')\n",
    "    events['attributed_events_mean'] = gb['attributed'].transform('mean')\n",
    "    events['wifi_events_mean'] = gb['wifi'].transform('mean')\n",
    "    events['first_event'] = gb['date'].transform('min')\n",
    "    events['last_event'] = gb['date'].transform('max')\n",
    "    events['diff_events'] = (events['last_event'] - events['first_event']).dt.total_seconds()\n",
    "    events['mean_time_events'] = 0\n",
    "    events.loc[events['n_events'] > 1, 'mean_time_events'] = ((events['last_event'] - events['first_event'])/ \\\n",
    "                                     (events['n_events'] -1)).dt.total_seconds()\n",
    "    events['first_event_sec'] = (events['first_event'] - pd.Timestamp(time_windows[window-1][0])).dt.total_seconds()\n",
    "    events['last_event_sec'] = (events['last_event'] - pd.Timestamp(time_windows[window-1][0])).dt.total_seconds()\n",
    "    events['last_event_sec_to_end'] = (pd.Timestamp(time_windows[window-1][1]) - events['last_event']).dt.total_seconds().astype(np.int32)\n",
    "    \n",
    "    events['device_os_version'] = round(events['device_os_version']/10e14)\n",
    "    events['device_os_version'].fillna(-1, inplace=True)\n",
    "    events['device_os_version'] = events['device_os_version'].astype(np.int16)\n",
    "    events['device_os'] = events['device_os'].fillna(-1)\n",
    "    events['device_os'] = events['device_os'].map({7.531669329342817e+18: 0, 6.94182462626038e+18: 1, -1:-1}).astype(np.int8)\n",
    "    events['device_brand'] = events['device_brand'].fillna(-1)\n",
    "    ranking = events['device_brand'].value_counts()\n",
    "    events['freq_device_brand'] = events['device_brand'].transform(lambda x: ranking[x])\n",
    "    events['device_model'] = events['device_model'].fillna(-1)\n",
    "    ranking = events['device_model'].value_counts()\n",
    "    events['freq_device_model'] = events['device_model'].transform(lambda x: ranking[x])\n",
    "    events['kind'] = round(events['kind']/10e13)\n",
    "    events['kind'] = events['kind'].fillna(-1)\n",
    "    ranking = events['kind'].value_counts()\n",
    "    events['freq_kind'] = events['kind'].transform(lambda x: ranking[x])\n",
    "    events = encodeCategoricals(events, 'kind', [40177.0, 55008.0, 60812.0, 61683.0, 61238.0, 58829.0, 48532.0,\n",
    "                   9978.0, 90668.0, 68977.0, 53587.0, 50591.0, 41719.0, 86347.0,\n",
    "                  25155.0, 70053.0, 33880.0, 40746.0, 88368.0, 91530.0, 83705.0,\n",
    "                  24514.0, 41749.0, 23767.0, 85698.0, 32091.0, 21823.0, 43053.0,\n",
    "                  10788.0,  1037.0, 48868.0, 76110.0, 54878.0, 77210.0, 72842.0,\n",
    "                  10146.0, 38120.0, 46479.0, 12870.0, 73384.0])\n",
    "    events['event_id'] = events['event_id'].fillna(-1)\n",
    "    ranking = events['event_id'].value_counts()\n",
    "    events['freq_event_id'] = events['event_id'].transform(lambda x: ranking[x])\n",
    "    events = encodeCategoricals(events, 'event_id', [  1,  15,  23,   2, 115,   0,  13,   7, 245, 101, 116, 157,   3,\n",
    "            120, 100, 287,  14, 211, 104, 118, 158, 363, 106, 108, 341, 246,\n",
    "             39, 159,  24, 171])\n",
    "\n",
    "    events['session_user_agent'] = round(events['session_user_agent']/10e12)\n",
    "    events['session_user_agent'] = events['session_user_agent'].fillna(-1)\n",
    "\n",
    "    events = encodeCategoricals(events, 'connection_type', ['Cable/DSL', 'Cellular'])\n",
    "    \n",
    "    events.drop_duplicates(subset='ref_hash', inplace=True)\n",
    "    events = events.drop(columns=['date', 'event_id', 'application_id', 'attributed', 'device_brand', 'device_model', \n",
    "                                  'user_agent', 'wifi', 'connection_type', 'device_language', 'first_event', 'last_event'])\n",
    "    \n",
    "    modelo = pd.merge(modelo, events, on='ref_hash', how='outer')\n",
    "    events = 0\n",
    "    gc.collect()\n",
    "    \n",
    "    modelo['n_appearences'] = modelo['n_auctions'] + modelo['n_clicks'] + modelo['n_events'] + modelo['n_installs']\n",
    "    \n",
    "    return modelo\n",
    "\n",
    "def imputacionValores(df):\n",
    "    df['last_auction_sec_to_end'].fillna(24*3600*3, inplace=True)\n",
    "    df['last_event_sec_to_end'].fillna(24*3600*3, inplace=True)\n",
    "    df['last_install_sec_to_end'].fillna(24*3600*3, inplace=True)\n",
    "    df['last_click_sec_to_end'].fillna(24*3600*3, inplace=True)\n",
    "    df['carrier_id'] = ((df['carrier_id'].fillna(-1))).astype(np.int16)\n",
    "    df['os_major'] = (df['os_major'].fillna(0)/10e15).astype(np.int16)\n",
    "    df['os_minor'] = (df['os_minor'].fillna(0)/10e15).astype(np.int16)\n",
    "    df['brand'] = (df['brand'].fillna(-1)).astype(np.int16)\n",
    "    df['device_brand'] = df['device_brand'].fillna(-1)\n",
    "    df['device_model'] = df['device_brand'].fillna(-1)\n",
    "    df['device_os_version'].fillna(-1, inplace=True)\n",
    "    df['device_os'] = df['device_os'].fillna(-1)\n",
    "    df['device_brand'] = df['device_brand'].fillna(-1)\n",
    "    df['device_model'] = df['device_model'].fillna(-1)\n",
    "    df['kind'] = df['kind'].fillna(-1)\n",
    "\n",
    "    features = ['diff_auctions', 'mean_time_auction', 'diff_clicks',\n",
    "                'mean_time_click', 'timeToClick_mean', 'touchX_mean', \n",
    "                'touchY_mean', 'latitude_mean', 'longitude_mean',\n",
    "                'wifi_installs_mean', 'attributed_installs_mean', 'diff_installs',\n",
    "                'mean_time_install', 'time_appearence', 'time_appearence_install', \n",
    "                'attributed_events_mean', 'wifi_events_mean', 'diff_events',\n",
    "                'mean_time_events']\n",
    "\n",
    "    for feature in features:\n",
    "        if feature not in df:\n",
    "            continue\n",
    "        else:\n",
    "            df[feature] = df[feature].fillna(df[feature].mean())\n",
    "\n",
    "    for feature in df.columns:\n",
    "        df[feature].fillna(0, inplace=True)\n",
    "    return df\n",
    "\n",
    "def encodeCategoricals(df, column_name, values):\n",
    "    string_values = list(map(lambda x: str(x), values))\n",
    "    gb = df.groupby('ref_hash')\n",
    "    new_df = gb[column_name].value_counts().unstack()\n",
    "    remove = []\n",
    "    for column in list(new_df.columns):\n",
    "        if column not in values:\n",
    "            remove.append(column)\n",
    "    new_df.drop(columns = remove, inplace=True)\n",
    "\n",
    "    for value in values:\n",
    "        if value not in list(new_df.columns):\n",
    "            new_df[value] = 0\n",
    "    new_df.columns = values\n",
    "    new_df = new_df.add_prefix(column_name+'_')\n",
    "    df = df.join(new_df, on='ref_hash')\n",
    "    df.fillna(0, inplace=True)\n",
    "    return df"
   ]
  },
  {
   "cell_type": "code",
   "execution_count": 5,
   "metadata": {},
   "outputs": [
    {
     "name": "stderr",
     "output_type": "stream",
     "text": [
      "100%|███████████████████████████████████████████| 4/4 [20:23<00:00, 306.24s/it]\n"
     ]
    },
    {
     "ename": "KeyError",
     "evalue": "'device_os_version'",
     "output_type": "error",
     "traceback": [
      "\u001b[1;31m---------------------------------------------------------------------------\u001b[0m",
      "\u001b[1;31mKeyError\u001b[0m                                  Traceback (most recent call last)",
      "\u001b[1;32mD:\\Martin\\Anaconda3\\lib\\site-packages\\pandas\\core\\indexes\\base.py\u001b[0m in \u001b[0;36mget_loc\u001b[1;34m(self, key, method, tolerance)\u001b[0m\n\u001b[0;32m   2656\u001b[0m             \u001b[1;32mtry\u001b[0m\u001b[1;33m:\u001b[0m\u001b[1;33m\u001b[0m\u001b[1;33m\u001b[0m\u001b[0m\n\u001b[1;32m-> 2657\u001b[1;33m                 \u001b[1;32mreturn\u001b[0m \u001b[0mself\u001b[0m\u001b[1;33m.\u001b[0m\u001b[0m_engine\u001b[0m\u001b[1;33m.\u001b[0m\u001b[0mget_loc\u001b[0m\u001b[1;33m(\u001b[0m\u001b[0mkey\u001b[0m\u001b[1;33m)\u001b[0m\u001b[1;33m\u001b[0m\u001b[1;33m\u001b[0m\u001b[0m\n\u001b[0m\u001b[0;32m   2658\u001b[0m             \u001b[1;32mexcept\u001b[0m \u001b[0mKeyError\u001b[0m\u001b[1;33m:\u001b[0m\u001b[1;33m\u001b[0m\u001b[1;33m\u001b[0m\u001b[0m\n",
      "\u001b[1;32mpandas/_libs/index.pyx\u001b[0m in \u001b[0;36mpandas._libs.index.IndexEngine.get_loc\u001b[1;34m()\u001b[0m\n",
      "\u001b[1;32mpandas/_libs/index.pyx\u001b[0m in \u001b[0;36mpandas._libs.index.IndexEngine.get_loc\u001b[1;34m()\u001b[0m\n",
      "\u001b[1;32mpandas/_libs/hashtable_class_helper.pxi\u001b[0m in \u001b[0;36mpandas._libs.hashtable.PyObjectHashTable.get_item\u001b[1;34m()\u001b[0m\n",
      "\u001b[1;32mpandas/_libs/hashtable_class_helper.pxi\u001b[0m in \u001b[0;36mpandas._libs.hashtable.PyObjectHashTable.get_item\u001b[1;34m()\u001b[0m\n",
      "\u001b[1;31mKeyError\u001b[0m: 'device_os_version'",
      "\nDuring handling of the above exception, another exception occurred:\n",
      "\u001b[1;31mKeyError\u001b[0m                                  Traceback (most recent call last)",
      "\u001b[1;32m<ipython-input-5-c3f33cf44373>\u001b[0m in \u001b[0;36m<module>\u001b[1;34m\u001b[0m\n\u001b[0;32m     19\u001b[0m \u001b[1;31m#Imputacion valores\u001b[0m\u001b[1;33m\u001b[0m\u001b[1;33m\u001b[0m\u001b[1;33m\u001b[0m\u001b[0m\n\u001b[0;32m     20\u001b[0m \u001b[0mmodel\u001b[0m\u001b[1;33m[\u001b[0m\u001b[1;34m'n_appearences'\u001b[0m\u001b[1;33m]\u001b[0m \u001b[1;33m=\u001b[0m \u001b[0mmodel\u001b[0m\u001b[1;33m[\u001b[0m\u001b[1;34m'n_auctions'\u001b[0m\u001b[1;33m]\u001b[0m \u001b[1;33m+\u001b[0m \u001b[0mmodel\u001b[0m\u001b[1;33m[\u001b[0m\u001b[1;34m'n_clicks'\u001b[0m\u001b[1;33m]\u001b[0m \u001b[1;33m+\u001b[0m \u001b[0mmodel\u001b[0m\u001b[1;33m[\u001b[0m\u001b[1;34m'n_events'\u001b[0m\u001b[1;33m]\u001b[0m \u001b[1;33m+\u001b[0m \u001b[0mmodel\u001b[0m\u001b[1;33m[\u001b[0m\u001b[1;34m'n_installs'\u001b[0m\u001b[1;33m]\u001b[0m\u001b[1;33m\u001b[0m\u001b[1;33m\u001b[0m\u001b[0m\n\u001b[1;32m---> 21\u001b[1;33m \u001b[0mmodel\u001b[0m \u001b[1;33m=\u001b[0m \u001b[0mimputacionValores\u001b[0m\u001b[1;33m(\u001b[0m\u001b[0mmodel\u001b[0m\u001b[1;33m)\u001b[0m\u001b[1;33m\u001b[0m\u001b[1;33m\u001b[0m\u001b[0m\n\u001b[0m",
      "\u001b[1;32m<ipython-input-4-7dfef0f9ca19>\u001b[0m in \u001b[0;36mimputacionValores\u001b[1;34m(df)\u001b[0m\n\u001b[0;32m    249\u001b[0m     \u001b[0mdf\u001b[0m\u001b[1;33m[\u001b[0m\u001b[1;34m'device_brand'\u001b[0m\u001b[1;33m]\u001b[0m \u001b[1;33m=\u001b[0m \u001b[0mdf\u001b[0m\u001b[1;33m[\u001b[0m\u001b[1;34m'device_brand'\u001b[0m\u001b[1;33m]\u001b[0m\u001b[1;33m.\u001b[0m\u001b[0mfillna\u001b[0m\u001b[1;33m(\u001b[0m\u001b[1;33m-\u001b[0m\u001b[1;36m1\u001b[0m\u001b[1;33m)\u001b[0m\u001b[1;33m\u001b[0m\u001b[1;33m\u001b[0m\u001b[0m\n\u001b[0;32m    250\u001b[0m     \u001b[0mdf\u001b[0m\u001b[1;33m[\u001b[0m\u001b[1;34m'device_model'\u001b[0m\u001b[1;33m]\u001b[0m \u001b[1;33m=\u001b[0m \u001b[0mdf\u001b[0m\u001b[1;33m[\u001b[0m\u001b[1;34m'device_brand'\u001b[0m\u001b[1;33m]\u001b[0m\u001b[1;33m.\u001b[0m\u001b[0mfillna\u001b[0m\u001b[1;33m(\u001b[0m\u001b[1;33m-\u001b[0m\u001b[1;36m1\u001b[0m\u001b[1;33m)\u001b[0m\u001b[1;33m\u001b[0m\u001b[1;33m\u001b[0m\u001b[0m\n\u001b[1;32m--> 251\u001b[1;33m     \u001b[0mdf\u001b[0m\u001b[1;33m[\u001b[0m\u001b[1;34m'device_os_version'\u001b[0m\u001b[1;33m]\u001b[0m\u001b[1;33m.\u001b[0m\u001b[0mfillna\u001b[0m\u001b[1;33m(\u001b[0m\u001b[1;33m-\u001b[0m\u001b[1;36m1\u001b[0m\u001b[1;33m,\u001b[0m \u001b[0minplace\u001b[0m\u001b[1;33m=\u001b[0m\u001b[1;32mTrue\u001b[0m\u001b[1;33m)\u001b[0m\u001b[1;33m\u001b[0m\u001b[1;33m\u001b[0m\u001b[0m\n\u001b[0m\u001b[0;32m    252\u001b[0m     \u001b[0mdf\u001b[0m\u001b[1;33m[\u001b[0m\u001b[1;34m'device_os'\u001b[0m\u001b[1;33m]\u001b[0m \u001b[1;33m=\u001b[0m \u001b[0mdf\u001b[0m\u001b[1;33m[\u001b[0m\u001b[1;34m'device_os'\u001b[0m\u001b[1;33m]\u001b[0m\u001b[1;33m.\u001b[0m\u001b[0mfillna\u001b[0m\u001b[1;33m(\u001b[0m\u001b[1;33m-\u001b[0m\u001b[1;36m1\u001b[0m\u001b[1;33m)\u001b[0m\u001b[1;33m\u001b[0m\u001b[1;33m\u001b[0m\u001b[0m\n\u001b[0;32m    253\u001b[0m     \u001b[0mdf\u001b[0m\u001b[1;33m[\u001b[0m\u001b[1;34m'device_brand'\u001b[0m\u001b[1;33m]\u001b[0m \u001b[1;33m=\u001b[0m \u001b[0mdf\u001b[0m\u001b[1;33m[\u001b[0m\u001b[1;34m'device_brand'\u001b[0m\u001b[1;33m]\u001b[0m\u001b[1;33m.\u001b[0m\u001b[0mfillna\u001b[0m\u001b[1;33m(\u001b[0m\u001b[1;33m-\u001b[0m\u001b[1;36m1\u001b[0m\u001b[1;33m)\u001b[0m\u001b[1;33m\u001b[0m\u001b[1;33m\u001b[0m\u001b[0m\n",
      "\u001b[1;32mD:\\Martin\\Anaconda3\\lib\\site-packages\\pandas\\core\\frame.py\u001b[0m in \u001b[0;36m__getitem__\u001b[1;34m(self, key)\u001b[0m\n\u001b[0;32m   2925\u001b[0m             \u001b[1;32mif\u001b[0m \u001b[0mself\u001b[0m\u001b[1;33m.\u001b[0m\u001b[0mcolumns\u001b[0m\u001b[1;33m.\u001b[0m\u001b[0mnlevels\u001b[0m \u001b[1;33m>\u001b[0m \u001b[1;36m1\u001b[0m\u001b[1;33m:\u001b[0m\u001b[1;33m\u001b[0m\u001b[1;33m\u001b[0m\u001b[0m\n\u001b[0;32m   2926\u001b[0m                 \u001b[1;32mreturn\u001b[0m \u001b[0mself\u001b[0m\u001b[1;33m.\u001b[0m\u001b[0m_getitem_multilevel\u001b[0m\u001b[1;33m(\u001b[0m\u001b[0mkey\u001b[0m\u001b[1;33m)\u001b[0m\u001b[1;33m\u001b[0m\u001b[1;33m\u001b[0m\u001b[0m\n\u001b[1;32m-> 2927\u001b[1;33m             \u001b[0mindexer\u001b[0m \u001b[1;33m=\u001b[0m \u001b[0mself\u001b[0m\u001b[1;33m.\u001b[0m\u001b[0mcolumns\u001b[0m\u001b[1;33m.\u001b[0m\u001b[0mget_loc\u001b[0m\u001b[1;33m(\u001b[0m\u001b[0mkey\u001b[0m\u001b[1;33m)\u001b[0m\u001b[1;33m\u001b[0m\u001b[1;33m\u001b[0m\u001b[0m\n\u001b[0m\u001b[0;32m   2928\u001b[0m             \u001b[1;32mif\u001b[0m \u001b[0mis_integer\u001b[0m\u001b[1;33m(\u001b[0m\u001b[0mindexer\u001b[0m\u001b[1;33m)\u001b[0m\u001b[1;33m:\u001b[0m\u001b[1;33m\u001b[0m\u001b[1;33m\u001b[0m\u001b[0m\n\u001b[0;32m   2929\u001b[0m                 \u001b[0mindexer\u001b[0m \u001b[1;33m=\u001b[0m \u001b[1;33m[\u001b[0m\u001b[0mindexer\u001b[0m\u001b[1;33m]\u001b[0m\u001b[1;33m\u001b[0m\u001b[1;33m\u001b[0m\u001b[0m\n",
      "\u001b[1;32mD:\\Martin\\Anaconda3\\lib\\site-packages\\pandas\\core\\indexes\\base.py\u001b[0m in \u001b[0;36mget_loc\u001b[1;34m(self, key, method, tolerance)\u001b[0m\n\u001b[0;32m   2657\u001b[0m                 \u001b[1;32mreturn\u001b[0m \u001b[0mself\u001b[0m\u001b[1;33m.\u001b[0m\u001b[0m_engine\u001b[0m\u001b[1;33m.\u001b[0m\u001b[0mget_loc\u001b[0m\u001b[1;33m(\u001b[0m\u001b[0mkey\u001b[0m\u001b[1;33m)\u001b[0m\u001b[1;33m\u001b[0m\u001b[1;33m\u001b[0m\u001b[0m\n\u001b[0;32m   2658\u001b[0m             \u001b[1;32mexcept\u001b[0m \u001b[0mKeyError\u001b[0m\u001b[1;33m:\u001b[0m\u001b[1;33m\u001b[0m\u001b[1;33m\u001b[0m\u001b[0m\n\u001b[1;32m-> 2659\u001b[1;33m                 \u001b[1;32mreturn\u001b[0m \u001b[0mself\u001b[0m\u001b[1;33m.\u001b[0m\u001b[0m_engine\u001b[0m\u001b[1;33m.\u001b[0m\u001b[0mget_loc\u001b[0m\u001b[1;33m(\u001b[0m\u001b[0mself\u001b[0m\u001b[1;33m.\u001b[0m\u001b[0m_maybe_cast_indexer\u001b[0m\u001b[1;33m(\u001b[0m\u001b[0mkey\u001b[0m\u001b[1;33m)\u001b[0m\u001b[1;33m)\u001b[0m\u001b[1;33m\u001b[0m\u001b[1;33m\u001b[0m\u001b[0m\n\u001b[0m\u001b[0;32m   2660\u001b[0m         \u001b[0mindexer\u001b[0m \u001b[1;33m=\u001b[0m \u001b[0mself\u001b[0m\u001b[1;33m.\u001b[0m\u001b[0mget_indexer\u001b[0m\u001b[1;33m(\u001b[0m\u001b[1;33m[\u001b[0m\u001b[0mkey\u001b[0m\u001b[1;33m]\u001b[0m\u001b[1;33m,\u001b[0m \u001b[0mmethod\u001b[0m\u001b[1;33m=\u001b[0m\u001b[0mmethod\u001b[0m\u001b[1;33m,\u001b[0m \u001b[0mtolerance\u001b[0m\u001b[1;33m=\u001b[0m\u001b[0mtolerance\u001b[0m\u001b[1;33m)\u001b[0m\u001b[1;33m\u001b[0m\u001b[1;33m\u001b[0m\u001b[0m\n\u001b[0;32m   2661\u001b[0m         \u001b[1;32mif\u001b[0m \u001b[0mindexer\u001b[0m\u001b[1;33m.\u001b[0m\u001b[0mndim\u001b[0m \u001b[1;33m>\u001b[0m \u001b[1;36m1\u001b[0m \u001b[1;32mor\u001b[0m \u001b[0mindexer\u001b[0m\u001b[1;33m.\u001b[0m\u001b[0msize\u001b[0m \u001b[1;33m>\u001b[0m \u001b[1;36m1\u001b[0m\u001b[1;33m:\u001b[0m\u001b[1;33m\u001b[0m\u001b[1;33m\u001b[0m\u001b[0m\n",
      "\u001b[1;32mpandas/_libs/index.pyx\u001b[0m in \u001b[0;36mpandas._libs.index.IndexEngine.get_loc\u001b[1;34m()\u001b[0m\n",
      "\u001b[1;32mpandas/_libs/index.pyx\u001b[0m in \u001b[0;36mpandas._libs.index.IndexEngine.get_loc\u001b[1;34m()\u001b[0m\n",
      "\u001b[1;32mpandas/_libs/hashtable_class_helper.pxi\u001b[0m in \u001b[0;36mpandas._libs.hashtable.PyObjectHashTable.get_item\u001b[1;34m()\u001b[0m\n",
      "\u001b[1;32mpandas/_libs/hashtable_class_helper.pxi\u001b[0m in \u001b[0;36mpandas._libs.hashtable.PyObjectHashTable.get_item\u001b[1;34m()\u001b[0m\n",
      "\u001b[1;31mKeyError\u001b[0m: 'device_os_version'"
     ]
    }
   ],
   "source": [
    "model = pd.DataFrame()\n",
    "\n",
    "for i in tqdm(range(1,5)):\n",
    "    modelo = armadoFeatures(i)\n",
    "\n",
    "    if window <= 4:\n",
    "        auctions_label = pd.read_pickle('data/auctions_w'+str(window)+'_label.pkl')\n",
    "        installs_label = pd.read_pickle('data/installs_w'+str(window)+'_label.pkl')\n",
    "        modelo = pd.merge(modelo, auctions_label, on='ref_hash', how='outer')\n",
    "        modelo = pd.merge(modelo, installs_label, on='ref_hash', how='outer')\n",
    "        modelo['time_appearence'] = modelo['time_appearence'].fillna(max_time)\n",
    "        modelo['time_appearence_install'] = modelo['time_appearence_install'].fillna(max_time)\n",
    "\n",
    "    model = pd.concat([model, modelo], sort=False)\n",
    "\n",
    "    modelo = 0\n",
    "    gc.collect()\n",
    "    \n",
    "#Imputacion valores\n",
    "model['n_appearences'] = model['n_auctions'] + model['n_clicks'] + model['n_events'] + model['n_installs']\n",
    "model = imputacionValores(model)"
   ]
  },
  {
   "cell_type": "code",
   "execution_count": 12,
   "metadata": {},
   "outputs": [
    {
     "ename": "KeyboardInterrupt",
     "evalue": "",
     "output_type": "error",
     "traceback": [
      "\u001b[1;31m---------------------------------------------------------------------------\u001b[0m",
      "\u001b[1;31mKeyboardInterrupt\u001b[0m                         Traceback (most recent call last)",
      "\u001b[1;32m<ipython-input-12-79fa099d80b3>\u001b[0m in \u001b[0;36m<module>\u001b[1;34m\u001b[0m\n\u001b[1;32m----> 1\u001b[1;33m \u001b[0mmodel\u001b[0m\u001b[1;33m.\u001b[0m\u001b[0mto_pickle\u001b[0m\u001b[1;33m(\u001b[0m\u001b[1;34m'nuevos_modelos/lgb2_data.pkl'\u001b[0m\u001b[1;33m)\u001b[0m\u001b[1;33m\u001b[0m\u001b[1;33m\u001b[0m\u001b[0m\n\u001b[0m",
      "\u001b[1;32mD:\\Martin\\Anaconda3\\lib\\site-packages\\pandas\\core\\generic.py\u001b[0m in \u001b[0;36mto_pickle\u001b[1;34m(self, path, compression, protocol)\u001b[0m\n\u001b[0;32m   2591\u001b[0m         \u001b[1;32mfrom\u001b[0m \u001b[0mpandas\u001b[0m\u001b[1;33m.\u001b[0m\u001b[0mio\u001b[0m\u001b[1;33m.\u001b[0m\u001b[0mpickle\u001b[0m \u001b[1;32mimport\u001b[0m \u001b[0mto_pickle\u001b[0m\u001b[1;33m\u001b[0m\u001b[1;33m\u001b[0m\u001b[0m\n\u001b[0;32m   2592\u001b[0m         return to_pickle(self, path, compression=compression,\n\u001b[1;32m-> 2593\u001b[1;33m                          protocol=protocol)\n\u001b[0m\u001b[0;32m   2594\u001b[0m \u001b[1;33m\u001b[0m\u001b[0m\n\u001b[0;32m   2595\u001b[0m     \u001b[1;32mdef\u001b[0m \u001b[0mto_clipboard\u001b[0m\u001b[1;33m(\u001b[0m\u001b[0mself\u001b[0m\u001b[1;33m,\u001b[0m \u001b[0mexcel\u001b[0m\u001b[1;33m=\u001b[0m\u001b[1;32mTrue\u001b[0m\u001b[1;33m,\u001b[0m \u001b[0msep\u001b[0m\u001b[1;33m=\u001b[0m\u001b[1;32mNone\u001b[0m\u001b[1;33m,\u001b[0m \u001b[1;33m**\u001b[0m\u001b[0mkwargs\u001b[0m\u001b[1;33m)\u001b[0m\u001b[1;33m:\u001b[0m\u001b[1;33m\u001b[0m\u001b[1;33m\u001b[0m\u001b[0m\n",
      "\u001b[1;32mD:\\Martin\\Anaconda3\\lib\\site-packages\\pandas\\io\\pickle.py\u001b[0m in \u001b[0;36mto_pickle\u001b[1;34m(obj, path, compression, protocol)\u001b[0m\n\u001b[0;32m     75\u001b[0m         \u001b[0mprotocol\u001b[0m \u001b[1;33m=\u001b[0m \u001b[0mpkl\u001b[0m\u001b[1;33m.\u001b[0m\u001b[0mHIGHEST_PROTOCOL\u001b[0m\u001b[1;33m\u001b[0m\u001b[1;33m\u001b[0m\u001b[0m\n\u001b[0;32m     76\u001b[0m     \u001b[1;32mtry\u001b[0m\u001b[1;33m:\u001b[0m\u001b[1;33m\u001b[0m\u001b[1;33m\u001b[0m\u001b[0m\n\u001b[1;32m---> 77\u001b[1;33m         \u001b[0mf\u001b[0m\u001b[1;33m.\u001b[0m\u001b[0mwrite\u001b[0m\u001b[1;33m(\u001b[0m\u001b[0mpkl\u001b[0m\u001b[1;33m.\u001b[0m\u001b[0mdumps\u001b[0m\u001b[1;33m(\u001b[0m\u001b[0mobj\u001b[0m\u001b[1;33m,\u001b[0m \u001b[0mprotocol\u001b[0m\u001b[1;33m=\u001b[0m\u001b[0mprotocol\u001b[0m\u001b[1;33m)\u001b[0m\u001b[1;33m)\u001b[0m\u001b[1;33m\u001b[0m\u001b[1;33m\u001b[0m\u001b[0m\n\u001b[0m\u001b[0;32m     78\u001b[0m     \u001b[1;32mfinally\u001b[0m\u001b[1;33m:\u001b[0m\u001b[1;33m\u001b[0m\u001b[1;33m\u001b[0m\u001b[0m\n\u001b[0;32m     79\u001b[0m         \u001b[1;32mfor\u001b[0m \u001b[0m_f\u001b[0m \u001b[1;32min\u001b[0m \u001b[0mfh\u001b[0m\u001b[1;33m:\u001b[0m\u001b[1;33m\u001b[0m\u001b[1;33m\u001b[0m\u001b[0m\n",
      "\u001b[1;32mD:\\Martin\\Anaconda3\\lib\\site-packages\\pandas\\core\\indexes\\base.py\u001b[0m in \u001b[0;36m__reduce__\u001b[1;34m(self)\u001b[0m\n\u001b[0;32m   1744\u001b[0m \u001b[1;33m\u001b[0m\u001b[0m\n\u001b[0;32m   1745\u001b[0m     \u001b[1;32mdef\u001b[0m \u001b[0m__reduce__\u001b[0m\u001b[1;33m(\u001b[0m\u001b[0mself\u001b[0m\u001b[1;33m)\u001b[0m\u001b[1;33m:\u001b[0m\u001b[1;33m\u001b[0m\u001b[1;33m\u001b[0m\u001b[0m\n\u001b[1;32m-> 1746\u001b[1;33m         \u001b[0md\u001b[0m \u001b[1;33m=\u001b[0m \u001b[0mdict\u001b[0m\u001b[1;33m(\u001b[0m\u001b[0mdata\u001b[0m\u001b[1;33m=\u001b[0m\u001b[0mself\u001b[0m\u001b[1;33m.\u001b[0m\u001b[0m_data\u001b[0m\u001b[1;33m)\u001b[0m\u001b[1;33m\u001b[0m\u001b[1;33m\u001b[0m\u001b[0m\n\u001b[0m\u001b[0;32m   1747\u001b[0m         \u001b[0md\u001b[0m\u001b[1;33m.\u001b[0m\u001b[0mupdate\u001b[0m\u001b[1;33m(\u001b[0m\u001b[0mself\u001b[0m\u001b[1;33m.\u001b[0m\u001b[0m_get_attributes_dict\u001b[0m\u001b[1;33m(\u001b[0m\u001b[1;33m)\u001b[0m\u001b[1;33m)\u001b[0m\u001b[1;33m\u001b[0m\u001b[1;33m\u001b[0m\u001b[0m\n\u001b[0;32m   1748\u001b[0m         \u001b[1;32mreturn\u001b[0m \u001b[0m_new_Index\u001b[0m\u001b[1;33m,\u001b[0m \u001b[1;33m(\u001b[0m\u001b[0mself\u001b[0m\u001b[1;33m.\u001b[0m\u001b[0m__class__\u001b[0m\u001b[1;33m,\u001b[0m \u001b[0md\u001b[0m\u001b[1;33m)\u001b[0m\u001b[1;33m,\u001b[0m \u001b[1;32mNone\u001b[0m\u001b[1;33m\u001b[0m\u001b[1;33m\u001b[0m\u001b[0m\n",
      "\u001b[1;31mKeyboardInterrupt\u001b[0m: "
     ]
    }
   ],
   "source": [
    "model.to_pickle('nuevos_modelos/lgb2_data.pkl')"
   ]
  },
  {
   "cell_type": "code",
   "execution_count": null,
   "metadata": {},
   "outputs": [],
   "source": [
    "lista = ['kind_open', 'kind_sign_in', 'kind_list_view', 'kind_product_view',\n",
    "       'kind_account_summary_first_step', 'kind_registration',\n",
    "       'kind_reattribution', 'kind_add_to_cart', 'kind_pre_checkout',\n",
    "       'kind_install', 'kind_content_view', 'kind_app first start',\n",
    "       'kind_startsessionplayback', 'kind_add_payment',\n",
    "       'kind_terms_agree_split', 'kind_reinstall', 'kind_app_alive',\n",
    "       'kind_trackapplaunch', 'kind_adjust_uninstall', 'kind_terms_open_split',\n",
    "       'kind_purchase', 'kind_af_add_to_wishlist']\n",
    "for columna in lista:\n",
    "    modelo[columna] = modelo[columna].astype(np.int8)"
   ]
  },
  {
   "cell_type": "code",
   "execution_count": 16,
   "metadata": {},
   "outputs": [],
   "source": [
    "categoricals = ['ref_type_id', 'carrier_id', 'agent_device', 'os_minor', 'os_major','specs_brand', 'brand', 'ref_type_x', 'ref_type_y', \n",
    "                'device_brand', 'device_model', 'session_user_agent', 'device_os']"
   ]
  },
  {
   "cell_type": "code",
   "execution_count": 18,
   "metadata": {},
   "outputs": [],
   "source": [
    "objective = 0\n",
    "target_features = ['time_appearence', 'time_appearence_install']\n",
    "train, test = train_test_split(model.drop(columns=['ref_hash']), test_size=0.2)\n",
    "\n",
    "train_Y = train[target_features[objective]]\n",
    "train_X = train.drop(columns=target_features)\n",
    "test_Y = test[target_features[objective]]\n",
    "test_X = test.drop(columns=target_features)"
   ]
  },
  {
   "cell_type": "code",
   "execution_count": 19,
   "metadata": {},
   "outputs": [],
   "source": [
    "lgb_model = lgb.LGBMModel(boosting_type=\"gbdt\", num_leaves=70, max_depth=None, learning_rate=0.025, n_estimators=500, \n",
    "                      max_bin=500, subsample_for_bin=50000, objective='regression', min_split_gain=0, min_child_weight=5, \n",
    "                      min_child_samples=10, subsample=1, subsample_freq=1, colsample_bytree=1, reg_alpha=0, reg_lambda=0, \n",
    "                      seed=0, silent=True, categoricals=categoricals)"
   ]
  },
  {
   "cell_type": "code",
   "execution_count": 20,
   "metadata": {},
   "outputs": [
    {
     "data": {
      "text/plain": [
       "LGBMModel(boosting_type='gbdt',\n",
       "     categoricals=['ref_type_id', 'source_id', 'carrier_id', 'agent_device', 'os_minor', 'os_major', 'specs_brand', 'brand', 'ref_type_x', 'ref_type_y', 'device_brand', 'device_model', 'session_user_agent', 'device_os'],\n",
       "     class_weight=None, colsample_bytree=1, importance_type='split',\n",
       "     learning_rate=0.025, max_bin=500, max_depth=None,\n",
       "     min_child_samples=10, min_child_weight=5, min_split_gain=0,\n",
       "     n_estimators=500, n_jobs=-1, num_leaves=70, objective='regression',\n",
       "     random_state=None, reg_alpha=0, reg_lambda=0, seed=0, silent=True,\n",
       "     subsample=1, subsample_for_bin=50000, subsample_freq=1)"
      ]
     },
     "execution_count": 20,
     "metadata": {},
     "output_type": "execute_result"
    }
   ],
   "source": [
    "lgb_model.fit(train_X, train_Y)"
   ]
  },
  {
   "cell_type": "code",
   "execution_count": 21,
   "metadata": {},
   "outputs": [
    {
     "data": {
      "text/plain": [
       "75412.19253679502"
      ]
     },
     "execution_count": 21,
     "metadata": {},
     "output_type": "execute_result"
    }
   ],
   "source": [
    "error_train = np.sqrt(mean_squared_error(lgb_model.predict(train_X), train_Y))\n",
    "error_train"
   ]
  },
  {
   "cell_type": "code",
   "execution_count": 22,
   "metadata": {},
   "outputs": [
    {
     "data": {
      "text/plain": [
       "75680.06446032545"
      ]
     },
     "execution_count": 22,
     "metadata": {},
     "output_type": "execute_result"
    }
   ],
   "source": [
    "error_test = np.sqrt(mean_squared_error(lgb_model.predict(test_X), test_Y))\n",
    "error_test"
   ]
  },
  {
   "cell_type": "code",
   "execution_count": 25,
   "metadata": {},
   "outputs": [],
   "source": [
    "with open('logs/models.txt', mode='a') as log:\n",
    "    log.write('LGBM; {}; {}; {}; {}; {} \\n'.format(target_features[objective], lgb_model.get_params(), list(train.columns), error_train, error_test))"
   ]
  },
  {
   "cell_type": "code",
   "execution_count": 23,
   "metadata": {},
   "outputs": [],
   "source": [
    "pickle.dump(lgb_model, open('nuevos_modelos/lgb2_all_auctions', 'wb'))"
   ]
  },
  {
   "cell_type": "markdown",
   "metadata": {},
   "source": [
    "**Predicciones**"
   ]
  },
  {
   "cell_type": "code",
   "execution_count": 27,
   "metadata": {},
   "outputs": [],
   "source": [
    "ventana5 = armadoFeatures(5)\n",
    "target = pd.read_csv('data/target_competencia_ids.csv')\n",
    "target['ref_hash'] = target['ref_hash'].apply(lambda x: int(str(x)[:-3]))\n",
    "target = target.drop_duplicates('ref_hash')"
   ]
  },
  {
   "cell_type": "code",
   "execution_count": 28,
   "metadata": {},
   "outputs": [],
   "source": [
    "data = pd.merge(ventana5, target, on='ref_hash', how='right')\n",
    "data = imputacionValores(data)\n",
    "data.drop(columns=['obj'], inplace=True)"
   ]
  },
  {
   "cell_type": "code",
   "execution_count": 47,
   "metadata": {},
   "outputs": [],
   "source": [
    "#Predicciones auctions:\n",
    "lgb_model_auctions = pickle.load(open('nuevos_modelos/lgb2_all_auctions', 'rb'))\n",
    "\n",
    "lgb_model_auctions = lgb_model\n",
    "\n",
    "pred_data_auctions = lgb_model_auctions.predict(data.drop(columns=['ref_hash']))\n",
    "predictions_auctions = pd.DataFrame({'ref_hash': data['ref_hash'],'obj': pred_data_auctions})\n",
    "\n",
    "predictions_auctions['ref_hash'] = predictions_auctions['ref_hash'].apply(lambda x: str(x) + '_st')"
   ]
  },
  {
   "cell_type": "code",
   "execution_count": 48,
   "metadata": {},
   "outputs": [],
   "source": [
    "#Predicciones installs:\n",
    "lgb_model_installs = pickle.load(open('nuevos_modelos/lgb2_all_installs', 'rb'))\n",
    "\n",
    "pred_data_installs = lgb_model_installs.predict(data.drop(columns=['ref_hash']))\n",
    "predictions_installs = pd.DataFrame({'ref_hash': data['ref_hash'],'obj': pred_data_installs})\n",
    "\n",
    "predictions_installs['ref_hash'] = predictions_installs['ref_hash'].apply(lambda x: str(x) + '_sc')"
   ]
  },
  {
   "cell_type": "code",
   "execution_count": 65,
   "metadata": {},
   "outputs": [],
   "source": [
    "predictions = pd.concat([predictions_auctions, predictions_installs])"
   ]
  },
  {
   "cell_type": "code",
   "execution_count": 128,
   "metadata": {},
   "outputs": [],
   "source": [
    "predictions2.loc[predictions2['obj'] < 0, 'obj'] = 0\n",
    "predictions2.loc[predictions2['obj'] > 24*3*3600, 'obj'] = 24*3*3600"
   ]
  },
  {
   "cell_type": "code",
   "execution_count": 133,
   "metadata": {},
   "outputs": [],
   "source": [
    "predictions2.to_csv('predicciones/predicciones22.csv', index=False)"
   ]
  },
  {
   "cell_type": "code",
   "execution_count": null,
   "metadata": {},
   "outputs": [],
   "source": []
  }
 ],
 "metadata": {
  "kernelspec": {
   "display_name": "Python 3",
   "language": "python",
   "name": "python3"
  },
  "language_info": {
   "codemirror_mode": {
    "name": "ipython",
    "version": 3
   },
   "file_extension": ".py",
   "mimetype": "text/x-python",
   "name": "python",
   "nbconvert_exporter": "python",
   "pygments_lexer": "ipython3",
   "version": "3.7.3"
  }
 },
 "nbformat": 4,
 "nbformat_minor": 2
}
