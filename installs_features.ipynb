{
 "cells": [
  {
   "cell_type": "code",
   "execution_count": 1,
   "metadata": {},
   "outputs": [],
   "source": [
    "import pandas as pd\n",
    "import numpy as np"
   ]
  },
  {
   "cell_type": "code",
   "execution_count": 2,
   "metadata": {},
   "outputs": [],
   "source": [
    "from sklearn.preprocessing import LabelEncoder\n",
    "labelencoder = LabelEncoder()"
   ]
  },
  {
   "cell_type": "code",
   "execution_count": 3,
   "metadata": {},
   "outputs": [],
   "source": [
    "dtypes_dict = {'created':'str',  'ref_type': 'category', 'device_brand': np.float32, \\\n",
    "                'device_countrycode': 'category', 'device_language': 'category', \\\n",
    "                'ref_hash': 'category', 'kind': 'str', 'user_agent': 'str'}\n",
    "\n",
    "installs = pd.read_csv('data/installs.csv.gzip', dtype=dtypes_dict, low_memory=False)\n",
    "\n",
    "installs = installs.drop('device_countrycode', axis=1)\n",
    "installs['created'] = pd.to_datetime(installs['created'], format='%Y-%m-%d %H:%M:%S')"
   ]
  },
  {
   "cell_type": "code",
   "execution_count": 4,
   "metadata": {},
   "outputs": [],
   "source": [
    "installs = installs.drop(columns=['device_language', 'ip_address', 'event_uuid', 'device_brand', \\\n",
    "                         'device_model', 'click_hash', 'session_user_agent'])"
   ]
  },
  {
   "cell_type": "code",
   "execution_count": 5,
   "metadata": {},
   "outputs": [],
   "source": [
    "# Normalizacion de valores a binario\n",
    "\n",
    "installs['wifi'] = installs['wifi'].map({True: 1, False: 0})\n",
    "installs['wifi'] = installs['wifi'].fillna(-1)\n",
    "\n",
    "installs['attributed'] = installs['attributed'].map({True: 1, False: 0})\n",
    "installs['implicit'] = installs['implicit'].map({True: 1, False: 0})"
   ]
  },
  {
   "cell_type": "code",
   "execution_count": 6,
   "metadata": {},
   "outputs": [],
   "source": [
    "installs['ref_type_189'] = (installs['ref_type'].astype(str).str.contains(\"1891515180541284343\") == True).astype(int)\n",
    "installs['ref_type_149'] = (installs['ref_type'].astype(str).str.contains(\"1494519392962156891\") == True).astype(int)\n",
    "\n",
    "installs = installs.drop('ref_type', axis=1)"
   ]
  },
  {
   "cell_type": "code",
   "execution_count": 7,
   "metadata": {},
   "outputs": [],
   "source": [
    "# features de dias\n",
    "\n",
    "installs['weekday'] = installs['created'].dt.weekday\n",
    "\n",
    "installs = pd.get_dummies(installs, columns=['weekday'])\n",
    "\n",
    "# installs = installs.rename(index=str, columns={\"weekday_0\": \"lunes\", \"weekday_1\": \"martes\", \"weekday_2\": \"miercoles\", \\\n",
    "#                              \"weekday_3\": \"jueves\", \"weekday_4\": \"viernes\", \"weekday_5\": \"sabado\", \\\n",
    "#                              \"weekday_6\": \"domingo\"})"
   ]
  },
  {
   "cell_type": "code",
   "execution_count": 8,
   "metadata": {},
   "outputs": [],
   "source": [
    "# feature horarios\n",
    "\n",
    "bins = [0, 6, 13, 17, 25]\n",
    "labels = ['morning','afternoon','evening','night']\n",
    "hours = installs['created'].dt.hour\n",
    "installs['time'] = pd.cut(hours-5+24 *(hours<5),bins=bins,labels=labels,right=False)\n",
    "\n",
    "installs[\"time_day\"] = labelencoder.fit_transform(installs[\"time\"])\n",
    "installs = pd.get_dummies(installs, columns=['time'])"
   ]
  },
  {
   "cell_type": "code",
   "execution_count": 9,
   "metadata": {},
   "outputs": [],
   "source": [
    "# installs kinds to features, creo que no sirve\n",
    "\n",
    "installs['kind_open'] = (installs['kind'].astype(str).str.lower().str.contains(\"open|abertura\") == True).astype(int)\n",
    "installs['kind_home'] = (installs['kind'].astype(str).str.lower().str.contains(\"home\") == True).astype(int)\n",
    "installs['kind_start'] = (installs['kind'].astype(str).str.lower().str.contains(\"start\") == True).astype(int)\n",
    "installs['kind_view'] = (installs['kind'].astype(str).str.lower().str.contains(\"view\") == True).astype(int)\n",
    "installs['kind_sign'] = (installs['kind'].astype(str).str.lower().str.contains(\"sign|registration|account\") == True).astype(int)\n",
    "installs['kind_login'] = (installs['kind'].astype(str).str.lower().str.contains(\"login|begin\") == True).astype(int)\n",
    "installs['kind_launch'] = (installs['kind'].astype(str).str.lower().str.contains(\"launch\") == True).astype(int)\n",
    "installs['kind_install'] = (installs['kind'].astype(str).str.lower().str.contains(\"install\") == True).astype(int)\n",
    "installs['kind_purchase'] = (installs['kind'].astype(str).str.lower().str.contains(\"purchase|buy\") == True).astype(int)\n",
    "installs['kind_add'] = (installs['kind'].astype(str).str.lower().str.contains(\"add\") == True).astype(int)"
   ]
  },
  {
   "cell_type": "code",
   "execution_count": 10,
   "metadata": {},
   "outputs": [],
   "source": [
    "# user_agent features\n",
    "\n",
    "installs['agent_zaful'] = (installs['user_agent'].astype(str).str.lower().str.contains(\"zaful\") == True).astype(int)\n",
    "installs['agent_cornershop'] = (installs['user_agent'].astype(str).str.lower().str.contains(\"cornershop\") == True).astype(int)\n",
    "installs['agent_binomo'] = (installs['user_agent'].astype(str).str.lower().str.contains(\"binomo\") == True).astype(int)\n",
    "installs['agent_postmates'] = (installs['user_agent'].astype(str).str.lower().str.contains(\"postmates\") == True).astype(int)\n",
    "\n",
    "installs['agent_tiktok'] = (installs['user_agent'].astype(str).str.lower().str.contains(\"tiktok\") == True).astype(int)\n",
    "installs['agent_sindelantal'] = (installs['user_agent'].astype(str).str.lower().str.contains(\"sindelantal\") == True).astype(int)\n",
    "installs['agent_gardenscapes'] = (installs['user_agent'].astype(str).str.lower().str.contains(\"gardenscapes\") == True).astype(int)\n",
    "installs['agent_dalvik'] = (installs['user_agent'].astype(str).str.lower().str.contains(\"dalvik\") == True).astype(int)\n",
    "installs['agent_wish'] = (installs['user_agent'].astype(str).str.lower().str.contains(\"wish\") == True).astype(int)\n",
    "installs['agent_trivago'] = (installs['user_agent'].astype(str).str.lower().str.contains(\"trivago\") == True).astype(int)\n",
    "installs['agent_grability'] = (installs['user_agent'].astype(str).str.lower().str.contains(\"grability\") == True).astype(int)\n",
    "installs['agent_mercadopago'] = (installs['user_agent'].astype(str).str.lower().str.contains(\"mercadopago\") == True).astype(int)"
   ]
  },
  {
   "cell_type": "code",
   "execution_count": 11,
   "metadata": {},
   "outputs": [],
   "source": [
    "# installs['user_agent'].loc[~installs['user_agent'].astype(str).str.lower() \\\n",
    "#              .str.contains(\"mercadopago|tiktok|sindelantal|gardenscapes|dalvik|wish|trivago|grability\") == True].value_counts()"
   ]
  },
  {
   "cell_type": "code",
   "execution_count": 11,
   "metadata": {},
   "outputs": [],
   "source": [
    "app_popular_list = installs['application_id'].value_counts().head(10).index"
   ]
  },
  {
   "cell_type": "code",
   "execution_count": 12,
   "metadata": {},
   "outputs": [
    {
     "name": "stdout",
     "output_type": "stream",
     "text": [
      "Int64Index([121, 36, 210, 14, 65, 68, 122, 155, 226, 21], dtype='int64')\n"
     ]
    }
   ],
   "source": [
    "print(app_popular_list)"
   ]
  },
  {
   "cell_type": "code",
   "execution_count": 13,
   "metadata": {},
   "outputs": [],
   "source": [
    "# enumero las 10 aplicaciones mas populares\n",
    "\n",
    "values_dict = {'121': 10, '36': 9, '210': 8, '14': 7, '65':6, '68': 5, '122':4, '155':3, '226':2, '21': 1}\n",
    "\n",
    "installs['popular_apps'] = installs['application_id'].map(values_dict)\n",
    "installs['popular_apps'].fillna(0, inplace=True)"
   ]
  },
  {
   "cell_type": "code",
   "execution_count": 14,
   "metadata": {},
   "outputs": [],
   "source": [
    "installs = pd.get_dummies(installs, columns=['popular_apps'])"
   ]
  },
  {
   "cell_type": "code",
   "execution_count": 15,
   "metadata": {},
   "outputs": [],
   "source": [
    "installs = installs.drop(columns=['kind', 'user_agent', 'trans_id'])"
   ]
  },
  {
   "cell_type": "markdown",
   "metadata": {},
   "source": [
    "# **Ventanas para train y test**"
   ]
  },
  {
   "cell_type": "code",
   "execution_count": 16,
   "metadata": {},
   "outputs": [],
   "source": [
    "time_start_1 = '2019-04-18'\n",
    "time_start_2 = '2019-04-19'\n",
    "time_start_3 = '2019-04-20'\n",
    "time_start_4 = '2019-04-21'\n",
    "time_start_5 = '2019-04-22'"
   ]
  },
  {
   "cell_type": "code",
   "execution_count": 17,
   "metadata": {},
   "outputs": [],
   "source": [
    "# Ventanas para train y testing\n",
    "\n",
    "window_1 = installs.loc[installs['created'].between('2019-04-18', '2019-04-21')]\n",
    "window_2 = installs.loc[installs['created'].between('2019-04-19', '2019-04-22')]\n",
    "window_3 = installs.loc[installs['created'].between('2019-04-20', '2019-04-23')]\n",
    "window_4 = installs.loc[installs['created'].between('2019-04-21', '2019-04-24')]\n",
    "window_5 = installs.loc[installs['created'].between('2019-04-22', '2019-04-25')]"
   ]
  },
  {
   "cell_type": "code",
   "execution_count": 23,
   "metadata": {},
   "outputs": [],
   "source": [
    "# Contar la cantidad de apariciones que tiene un usuario por ventada\n",
    "\n",
    "window_1.loc[:,'count_installs'] = window_1.groupby('ref_hash')['ref_hash'].transform('count')\n",
    "window_2.loc[:,'count_installs'] = window_2.groupby('ref_hash')['ref_hash'].transform('count')\n",
    "window_3.loc[:,'count_installs'] = window_3.groupby('ref_hash')['ref_hash'].transform('count')\n",
    "window_4.loc[:,'count_installs'] = window_4.groupby('ref_hash')['ref_hash'].transform('count')\n",
    "window_5.loc[:,'count_installs'] = window_5.groupby('ref_hash')['ref_hash'].transform('count')"
   ]
  },
  {
   "cell_type": "code",
   "execution_count": 25,
   "metadata": {},
   "outputs": [
    {
     "name": "stderr",
     "output_type": "stream",
     "text": [
      "/home/eliana/fiuba/datos7506/envdt/lib/python3.6/site-packages/pandas/core/indexing.py:362: SettingWithCopyWarning: \n",
      "A value is trying to be set on a copy of a slice from a DataFrame.\n",
      "Try using .loc[row_indexer,col_indexer] = value instead\n",
      "\n",
      "See the caveats in the documentation: http://pandas.pydata.org/pandas-docs/stable/indexing.html#indexing-view-versus-copy\n",
      "  self.obj[key] = _infer_fill_value(value)\n"
     ]
    }
   ],
   "source": [
    "# primera y ultima instalacion por ref_hash\n",
    "\n",
    "window_1.loc[:,'last_install'] = window_1.groupby('ref_hash')['created'].transform('max')\n",
    "window_1.loc[:,'first_install'] = window_1.groupby('ref_hash')['created'].transform('min')\n",
    "\n",
    "window_2.loc[:,'last_install'] = window_2.groupby('ref_hash')['created'].transform('max')\n",
    "window_2.loc[:,'first_install'] = window_2.groupby('ref_hash')['created'].transform('min')\n",
    "\n",
    "window_3.loc[:,'last_install'] = window_3.groupby('ref_hash')['created'].transform('max')\n",
    "window_3.loc[:,'first_install'] = window_3.groupby('ref_hash')['created'].transform('min')\n",
    "\n",
    "window_4.loc[:,'last_install'] = window_4.groupby('ref_hash')['created'].transform('max')\n",
    "window_4.loc[:,'first_install'] = window_4.groupby('ref_hash')['created'].transform('min')\n",
    "\n",
    "window_5.loc[:,'last_install'] = window_5.groupby('ref_hash')['created'].transform('max')\n",
    "window_5.loc[:,'first_install'] = window_5.groupby('ref_hash')['created'].transform('min')"
   ]
  },
  {
   "cell_type": "code",
   "execution_count": 26,
   "metadata": {},
   "outputs": [],
   "source": [
    "# diferencia de tiempo entre la primera y la ultima instalacion\n",
    "\n",
    "window_1.loc[:,'diff_between_installs'] = (window_1['last_install'] - window_1['first_install']).dt.total_seconds()\n",
    "\n",
    "window_2.loc[:,'diff_between_installs'] = (window_2['last_install'] - window_2['first_install']).dt.total_seconds()\n",
    "\n",
    "window_3.loc[:,'diff_first_installs'] = (window_3['last_install'] - window_3['first_install']).dt.total_seconds()\n",
    "\n",
    "window_4.loc[:,'diff_first_installs'] = (window_4['last_install'] - window_4['first_install']).dt.total_seconds()\n",
    "\n",
    "window_5.loc[:,'diff_first_installs'] = (window_5['last_install'] - window_5['first_install']).dt.total_seconds()"
   ]
  },
  {
   "cell_type": "code",
   "execution_count": 28,
   "metadata": {},
   "outputs": [],
   "source": [
    "# Promedio de diferencias de tiempo entre todas las instalaciones\n",
    "window_1.loc[:,'prom_time_install'] = 0\n",
    "window_1.loc[window_1['count_installs'] > 1, 'prom_time_install'] = ((window_1['last_install'] - window_1['first_install'])/ \\\n",
    "                                 (window_1['count_installs'] -1)).dt.total_seconds()\n",
    "\n",
    "window_2.loc[:,'prom_time_install'] = 0\n",
    "window_2.loc[window_2['count_installs'] > 1,'prom_time_install'] = ((window_2['last_install'] - window_2['first_install'])/ \\\n",
    "                                 (window_2['count_installs'] - 1)).dt.total_seconds()\n",
    "\n",
    "window_3.loc[:,'prom_time_install'] = 0\n",
    "window_3.loc[window_3['count_installs'] > 1,'prom_time_install'] = ((window_3['last_install'] - window_3['first_install'])/ \\\n",
    "                                 (window_3['count_installs'] - 1)).dt.total_seconds()\n",
    "\n",
    "window_4.loc[:,'prom_time_install'] = 0\n",
    "window_4.loc[window_4['count_installs'] > 1, 'prom_time_install'] = ((window_4['last_install'] - window_4['first_install'])/ \\\n",
    "                                 (window_4['count_installs'] - 1)).dt.total_seconds()\n",
    "\n",
    "window_5.loc[:,'prom_time_install'] = 0\n",
    "window_5.loc[window_5['count_installs'] > 1, 'prom_time_install'] = ((window_5['last_install'] - window_5['first_install'])/ \\\n",
    "                                 (window_5['count_installs'] -1 )).dt.total_seconds()"
   ]
  },
  {
   "cell_type": "code",
   "execution_count": 29,
   "metadata": {},
   "outputs": [
    {
     "name": "stderr",
     "output_type": "stream",
     "text": [
      "/home/eliana/fiuba/datos7506/envdt/lib/python3.6/site-packages/ipykernel_launcher.py:10: SettingWithCopyWarning: \n",
      "A value is trying to be set on a copy of a slice from a DataFrame.\n",
      "Try using .loc[row_indexer,col_indexer] = value instead\n",
      "\n",
      "See the caveats in the documentation: http://pandas.pydata.org/pandas-docs/stable/indexing.html#indexing-view-versus-copy\n",
      "  # Remove the CWD from sys.path while we load stuff.\n"
     ]
    }
   ],
   "source": [
    "# diferencia de tiempo entre el comienzo de la ventana y la primera y ultima instalacion\n",
    "\n",
    "window_1.loc[:,'time_first_install'] = (window_1['first_install'] - pd.Timestamp(time_start_1)).dt.total_seconds()\n",
    "window_1.loc[:,'time_last_install'] = (window_1['last_install'] - pd.Timestamp(time_start_1)).dt.total_seconds()\n",
    "\n",
    "window_2.loc[:,'time_first_install'] = (window_2['first_install'] - pd.Timestamp(time_start_2)).dt.total_seconds()\n",
    "window_2.loc[:,'time_last_install'] = (window_2['last_install'] - pd.Timestamp(time_start_2)).dt.total_seconds()\n",
    "\n",
    "window_3.loc[:,'time_first_install'] = (window_3['first_install'] - pd.Timestamp(time_start_3)).dt.total_seconds()\n",
    "window_3['time_last_install'] = (window_3['last_install'] - pd.Timestamp(time_start_3)).dt.total_seconds()\n",
    "\n",
    "window_4.loc[:,'time_first_install'] = (window_4['first_install'] - pd.Timestamp(time_start_4)).dt.total_seconds()\n",
    "window_4.loc[:,'time_last_install'] = (window_4['last_install'] - pd.Timestamp(time_start_4)).dt.total_seconds()\n",
    "\n",
    "window_5.loc[:,'time_first_install'] = (window_5['first_install'] - pd.Timestamp(time_start_5)).dt.total_seconds()\n",
    "window_5.loc[:,'time_last_install'] = (window_5['last_install'] - pd.Timestamp(time_start_5)).dt.total_seconds()"
   ]
  },
  {
   "cell_type": "code",
   "execution_count": 30,
   "metadata": {},
   "outputs": [],
   "source": [
    "\n",
    "window_1 = window_1.sort_values('created')\n",
    "window_2 = window_2.sort_values('created')\n",
    "window_3 = window_3.sort_values('created')\n",
    "window_4 = window_4.sort_values('created')\n",
    "window_5 = window_5.sort_values('created')"
   ]
  },
  {
   "cell_type": "code",
   "execution_count": 31,
   "metadata": {},
   "outputs": [],
   "source": [
    "window_1 = window_1.groupby('ref_hash').head(1)\n",
    "window_2 = window_2.groupby('ref_hash').head(1)\n",
    "window_3 = window_3.groupby('ref_hash').head(1)\n",
    "window_4 = window_4.groupby('ref_hash').head(1)\n",
    "window_5 = window_5.groupby('ref_hash').head(1)"
   ]
  },
  {
   "cell_type": "code",
   "execution_count": 32,
   "metadata": {},
   "outputs": [
    {
     "name": "stdout",
     "output_type": "stream",
     "text": [
      "132297\n",
      "129651\n",
      "131181\n",
      "133278\n",
      "132834\n"
     ]
    }
   ],
   "source": [
    "print(len(window_1))\n",
    "print(len(window_2))\n",
    "print(len(window_3))\n",
    "print(len(window_4))\n",
    "print(len(window_5))"
   ]
  },
  {
   "cell_type": "code",
   "execution_count": 33,
   "metadata": {},
   "outputs": [],
   "source": [
    "window_1 = window_1.drop(columns=['created', 'last_install', 'first_install'])\n",
    "window_2 = window_2.drop(columns=['created', 'last_install', 'first_install'])\n",
    "window_3 = window_3.drop(columns=['created', 'last_install', 'first_install'])\n",
    "window_4 = window_4.drop(columns=['created', 'last_install', 'first_install'])\n",
    "window_5 = window_5.drop(columns=['created', 'last_install', 'first_install'])"
   ]
  },
  {
   "cell_type": "code",
   "execution_count": 34,
   "metadata": {},
   "outputs": [
    {
     "data": {
      "text/html": [
       "<div>\n",
       "<style scoped>\n",
       "    .dataframe tbody tr th:only-of-type {\n",
       "        vertical-align: middle;\n",
       "    }\n",
       "\n",
       "    .dataframe tbody tr th {\n",
       "        vertical-align: top;\n",
       "    }\n",
       "\n",
       "    .dataframe thead th {\n",
       "        text-align: right;\n",
       "    }\n",
       "</style>\n",
       "<table border=\"1\" class=\"dataframe\">\n",
       "  <thead>\n",
       "    <tr style=\"text-align: right;\">\n",
       "      <th></th>\n",
       "      <th>application_id</th>\n",
       "      <th>ref_hash</th>\n",
       "      <th>attributed</th>\n",
       "      <th>implicit</th>\n",
       "      <th>wifi</th>\n",
       "      <th>ref_type_189</th>\n",
       "      <th>ref_type_149</th>\n",
       "      <th>weekday_0</th>\n",
       "      <th>weekday_1</th>\n",
       "      <th>weekday_2</th>\n",
       "      <th>...</th>\n",
       "      <th>agent_wish</th>\n",
       "      <th>agent_trivago</th>\n",
       "      <th>agent_grability</th>\n",
       "      <th>agent_mercadopago</th>\n",
       "      <th>popular_apps_0.0</th>\n",
       "      <th>count_installs</th>\n",
       "      <th>diff_between_installs</th>\n",
       "      <th>prom_time_install</th>\n",
       "      <th>time_first_install</th>\n",
       "      <th>time_last_install</th>\n",
       "    </tr>\n",
       "  </thead>\n",
       "  <tbody>\n",
       "    <tr>\n",
       "      <th>94738</th>\n",
       "      <td>70</td>\n",
       "      <td>4432995619177048534</td>\n",
       "      <td>0</td>\n",
       "      <td>0</td>\n",
       "      <td>-1.0</td>\n",
       "      <td>1</td>\n",
       "      <td>0</td>\n",
       "      <td>0</td>\n",
       "      <td>0</td>\n",
       "      <td>0</td>\n",
       "      <td>...</td>\n",
       "      <td>0</td>\n",
       "      <td>0</td>\n",
       "      <td>0</td>\n",
       "      <td>0</td>\n",
       "      <td>1</td>\n",
       "      <td>1</td>\n",
       "      <td>0.000</td>\n",
       "      <td>0.000</td>\n",
       "      <td>1.560</td>\n",
       "      <td>1.560</td>\n",
       "    </tr>\n",
       "    <tr>\n",
       "      <th>94737</th>\n",
       "      <td>70</td>\n",
       "      <td>5904733559638204455</td>\n",
       "      <td>0</td>\n",
       "      <td>0</td>\n",
       "      <td>-1.0</td>\n",
       "      <td>1</td>\n",
       "      <td>0</td>\n",
       "      <td>0</td>\n",
       "      <td>0</td>\n",
       "      <td>0</td>\n",
       "      <td>...</td>\n",
       "      <td>0</td>\n",
       "      <td>0</td>\n",
       "      <td>0</td>\n",
       "      <td>0</td>\n",
       "      <td>1</td>\n",
       "      <td>1</td>\n",
       "      <td>0.000</td>\n",
       "      <td>0.000</td>\n",
       "      <td>1.851</td>\n",
       "      <td>1.851</td>\n",
       "    </tr>\n",
       "    <tr>\n",
       "      <th>111877</th>\n",
       "      <td>65</td>\n",
       "      <td>896373747754111825</td>\n",
       "      <td>0</td>\n",
       "      <td>1</td>\n",
       "      <td>0.0</td>\n",
       "      <td>1</td>\n",
       "      <td>0</td>\n",
       "      <td>0</td>\n",
       "      <td>0</td>\n",
       "      <td>0</td>\n",
       "      <td>...</td>\n",
       "      <td>0</td>\n",
       "      <td>0</td>\n",
       "      <td>0</td>\n",
       "      <td>0</td>\n",
       "      <td>1</td>\n",
       "      <td>2</td>\n",
       "      <td>4.006</td>\n",
       "      <td>4.006</td>\n",
       "      <td>5.152</td>\n",
       "      <td>9.158</td>\n",
       "    </tr>\n",
       "    <tr>\n",
       "      <th>76146</th>\n",
       "      <td>27</td>\n",
       "      <td>3399210824535017892</td>\n",
       "      <td>0</td>\n",
       "      <td>0</td>\n",
       "      <td>1.0</td>\n",
       "      <td>0</td>\n",
       "      <td>1</td>\n",
       "      <td>0</td>\n",
       "      <td>0</td>\n",
       "      <td>0</td>\n",
       "      <td>...</td>\n",
       "      <td>0</td>\n",
       "      <td>1</td>\n",
       "      <td>0</td>\n",
       "      <td>0</td>\n",
       "      <td>1</td>\n",
       "      <td>1</td>\n",
       "      <td>0.000</td>\n",
       "      <td>0.000</td>\n",
       "      <td>5.589</td>\n",
       "      <td>5.589</td>\n",
       "    </tr>\n",
       "    <tr>\n",
       "      <th>435184</th>\n",
       "      <td>339</td>\n",
       "      <td>1541425881979513687</td>\n",
       "      <td>0</td>\n",
       "      <td>0</td>\n",
       "      <td>1.0</td>\n",
       "      <td>0</td>\n",
       "      <td>1</td>\n",
       "      <td>0</td>\n",
       "      <td>0</td>\n",
       "      <td>0</td>\n",
       "      <td>...</td>\n",
       "      <td>0</td>\n",
       "      <td>0</td>\n",
       "      <td>0</td>\n",
       "      <td>0</td>\n",
       "      <td>1</td>\n",
       "      <td>1</td>\n",
       "      <td>0.000</td>\n",
       "      <td>0.000</td>\n",
       "      <td>6.795</td>\n",
       "      <td>6.795</td>\n",
       "    </tr>\n",
       "  </tbody>\n",
       "</table>\n",
       "<p>5 rows × 47 columns</p>\n",
       "</div>"
      ],
      "text/plain": [
       "        application_id             ref_hash  attributed  implicit  wifi  \\\n",
       "94738               70  4432995619177048534           0         0  -1.0   \n",
       "94737               70  5904733559638204455           0         0  -1.0   \n",
       "111877              65   896373747754111825           0         1   0.0   \n",
       "76146               27  3399210824535017892           0         0   1.0   \n",
       "435184             339  1541425881979513687           0         0   1.0   \n",
       "\n",
       "        ref_type_189  ref_type_149  weekday_0  weekday_1  weekday_2  ...  \\\n",
       "94738              1             0          0          0          0  ...   \n",
       "94737              1             0          0          0          0  ...   \n",
       "111877             1             0          0          0          0  ...   \n",
       "76146              0             1          0          0          0  ...   \n",
       "435184             0             1          0          0          0  ...   \n",
       "\n",
       "        agent_wish  agent_trivago  agent_grability  agent_mercadopago  \\\n",
       "94738            0              0                0                  0   \n",
       "94737            0              0                0                  0   \n",
       "111877           0              0                0                  0   \n",
       "76146            0              1                0                  0   \n",
       "435184           0              0                0                  0   \n",
       "\n",
       "        popular_apps_0.0  count_installs  diff_between_installs  \\\n",
       "94738                  1               1                  0.000   \n",
       "94737                  1               1                  0.000   \n",
       "111877                 1               2                  4.006   \n",
       "76146                  1               1                  0.000   \n",
       "435184                 1               1                  0.000   \n",
       "\n",
       "        prom_time_install  time_first_install  time_last_install  \n",
       "94738               0.000               1.560              1.560  \n",
       "94737               0.000               1.851              1.851  \n",
       "111877              4.006               5.152              9.158  \n",
       "76146               0.000               5.589              5.589  \n",
       "435184              0.000               6.795              6.795  \n",
       "\n",
       "[5 rows x 47 columns]"
      ]
     },
     "execution_count": 34,
     "metadata": {},
     "output_type": "execute_result"
    }
   ],
   "source": [
    "window_1.head()"
   ]
  },
  {
   "cell_type": "markdown",
   "metadata": {},
   "source": [
    "### to_csv"
   ]
  },
  {
   "cell_type": "code",
   "execution_count": 35,
   "metadata": {},
   "outputs": [],
   "source": [
    "window_1.to_csv(path_or_buf='windows_installs/window_1.csv',index=False)\n",
    "window_2.to_csv(path_or_buf='windows_installs/window_2.csv',index=False)\n",
    "window_3.to_csv(path_or_buf='windows_installs/window_3.csv',index=False)\n",
    "window_4.to_csv(path_or_buf='windows_installs/window_4.csv',index=False)\n",
    "window_5.to_csv(path_or_buf='windows_installs/window_5.csv',index=False)"
   ]
  }
 ],
 "metadata": {
  "kernelspec": {
   "display_name": "Python 3",
   "language": "python",
   "name": "python3"
  },
  "language_info": {
   "codemirror_mode": {
    "name": "ipython",
    "version": 3
   },
   "file_extension": ".py",
   "mimetype": "text/x-python",
   "name": "python",
   "nbconvert_exporter": "python",
   "pygments_lexer": "ipython3",
   "version": "3.6.7"
  }
 },
 "nbformat": 4,
 "nbformat_minor": 2
}
