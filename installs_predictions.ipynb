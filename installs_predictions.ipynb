{
 "cells": [
  {
   "cell_type": "code",
   "execution_count": 1,
   "metadata": {},
   "outputs": [],
   "source": [
    "import pandas as pd\n",
    "import xgboost as xgb\n",
    "from sklearn.metrics import mean_squared_error\n",
    "from sklearn.model_selection import train_test_split\n",
    "from sklearn.ensemble import RandomForestRegressor"
   ]
  },
  {
   "cell_type": "code",
   "execution_count": null,
   "metadata": {},
   "outputs": [],
   "source": []
  },
  {
   "cell_type": "code",
   "execution_count": 2,
   "metadata": {},
   "outputs": [],
   "source": [
    "join1 = pd.read_csv('windows_installs/join1_2.csv', low_memory=False)"
   ]
  },
  {
   "cell_type": "code",
   "execution_count": 3,
   "metadata": {},
   "outputs": [],
   "source": [
    "join2 = pd.read_csv('windows_installs/join2_3.csv', low_memory=False)"
   ]
  },
  {
   "cell_type": "code",
   "execution_count": 4,
   "metadata": {},
   "outputs": [],
   "source": [
    "join3 = pd.read_csv('windows_installs/join3_4.csv', low_memory=False)"
   ]
  },
  {
   "cell_type": "code",
   "execution_count": 5,
   "metadata": {},
   "outputs": [],
   "source": [
    "join4 = pd.read_csv('windows_installs/join4_5.csv', low_memory=False)"
   ]
  },
  {
   "cell_type": "code",
   "execution_count": 6,
   "metadata": {},
   "outputs": [],
   "source": [
    "mod1 = xgb.XGBRegressor(gamma=1, learning_rate=0.01, max_depth=3, n_estimators=1000, subsample=0.8,\n",
    "                        random_state=34) "
   ]
  },
  {
   "cell_type": "code",
   "execution_count": 7,
   "metadata": {},
   "outputs": [],
   "source": [
    "mod2 = xgb.XGBRegressor( colsample_bytree = 0.3, learning_rate = 0.5,  subsample=0.8,\n",
    "                max_depth = 5, alpha = 10, n_estimators = 1000, gamma=100)"
   ]
  },
  {
   "cell_type": "markdown",
   "metadata": {},
   "source": [
    "# **VENTANA 1 Y 2**"
   ]
  },
  {
   "cell_type": "markdown",
   "metadata": {},
   "source": [
    "### **XGBOOST**"
   ]
  },
  {
   "cell_type": "code",
   "execution_count": 8,
   "metadata": {},
   "outputs": [],
   "source": [
    "train1, test1 = train_test_split(join1, test_size=0.2)\n",
    "\n",
    "train1_Y = train1['time_first_install_y']\n",
    "train1_X = train1.drop(columns=['time_first_install_y'])\n",
    "test1_Y = test1['time_first_install_y']\n",
    "test1_X = test1.drop(columns=['time_first_install_y'])"
   ]
  },
  {
   "cell_type": "code",
   "execution_count": null,
   "metadata": {},
   "outputs": [
    {
     "name": "stderr",
     "output_type": "stream",
     "text": [
      "/home/eliana/fiuba/datos7506/envdt/lib/python3.6/site-packages/xgboost/core.py:587: FutureWarning: Series.base is deprecated and will be removed in a future version\n",
      "  if getattr(data, 'base', None) is not None and \\\n",
      "/home/eliana/fiuba/datos7506/envdt/lib/python3.6/site-packages/xgboost/core.py:588: FutureWarning: Series.base is deprecated and will be removed in a future version\n",
      "  data.base is not None and isinstance(data, np.ndarray) \\\n"
     ]
    },
    {
     "name": "stdout",
     "output_type": "stream",
     "text": [
      "[19:59:30] WARNING: /workspace/src/objective/regression_obj.cu:152: reg:linear is now deprecated in favor of reg:squarederror.\n"
     ]
    }
   ],
   "source": [
    "mod1.fit(train1_X,train1_Y)"
   ]
  },
  {
   "cell_type": "code",
   "execution_count": null,
   "metadata": {},
   "outputs": [],
   "source": [
    "preds1_join1 = mod1.predict(test1_X)\n",
    "rmse1_join1 = np.sqrt(mean_squared_error(test1_Y, preds1_join1))\n",
    "print(\"RMSE: %f\" % (rmse1_join1))"
   ]
  },
  {
   "cell_type": "code",
   "execution_count": null,
   "metadata": {},
   "outputs": [],
   "source": [
    "mod2.fit(train1_X,train1_Y)\n",
    "\n",
    "preds2_join1 = mod2.predict(test1_X)"
   ]
  },
  {
   "cell_type": "code",
   "execution_count": null,
   "metadata": {},
   "outputs": [],
   "source": [
    "rmse2_join1 = np.sqrt(mean_squared_error(test1_Y, preds2_join1))\n",
    "print(\"RMSE: %f\" % (rmse2_join1))"
   ]
  },
  {
   "cell_type": "markdown",
   "metadata": {},
   "source": [
    "### **Random Forest**"
   ]
  },
  {
   "cell_type": "code",
   "execution_count": null,
   "metadata": {},
   "outputs": [],
   "source": [
    "rf = RandomForestRegressor(n_estimators = 1000, random_state = 42)"
   ]
  },
  {
   "cell_type": "code",
   "execution_count": null,
   "metadata": {},
   "outputs": [],
   "source": [
    "rf.fit(train1_X, train1_Y)\n",
    "\n",
    "preds3_join1 = rf.predict(test1_X)"
   ]
  },
  {
   "cell_type": "code",
   "execution_count": null,
   "metadata": {},
   "outputs": [],
   "source": [
    "rmse3_join1 = np.sqrt(mean_squared_error(test1_Y, preds3_join1))\n",
    "\n",
    "print(\"RMSE: %f\" % (rmse3_join1))"
   ]
  },
  {
   "cell_type": "markdown",
   "metadata": {},
   "source": [
    "# **VENTANA 2 Y 3**"
   ]
  },
  {
   "cell_type": "code",
   "execution_count": null,
   "metadata": {},
   "outputs": [],
   "source": [
    "train2, test2 = train_test_split(join2, test_size=0.2)\n",
    "\n",
    "train2_Y = train2['time_first_install_y']\n",
    "train2_X = train2.drop(columns=['time_first_install_y'])\n",
    "test2_Y = test2['time_first_install_y']\n",
    "test2_X = test2.drop(columns=['time_first_install_y'])"
   ]
  },
  {
   "cell_type": "code",
   "execution_count": null,
   "metadata": {},
   "outputs": [],
   "source": [
    "mod1.fit(train2_X,train2_Y)\n",
    "\n",
    "preds1_join2 = mod1.predict(test2_X)"
   ]
  },
  {
   "cell_type": "code",
   "execution_count": null,
   "metadata": {},
   "outputs": [],
   "source": [
    "rmse1_join2 = np.sqrt(mean_squared_error(test2_Y, preds1_join2))\n",
    "print(\"RMSE: %f\" % (rmse1_join2))"
   ]
  },
  {
   "cell_type": "code",
   "execution_count": null,
   "metadata": {},
   "outputs": [],
   "source": [
    "mod2.fit(train2_X,train2_Y)\n",
    "\n",
    "preds2_join2 = mod2.predict(test2_X)"
   ]
  },
  {
   "cell_type": "code",
   "execution_count": null,
   "metadata": {},
   "outputs": [],
   "source": [
    "rmse2_join2 = np.sqrt(mean_squared_error(test2_Y, preds2_join2))\n",
    "print(\"RMSE: %f\" % (rmse2_join2))"
   ]
  }
 ],
 "metadata": {
  "kernelspec": {
   "display_name": "Python 3",
   "language": "python",
   "name": "python3"
  },
  "language_info": {
   "codemirror_mode": {
    "name": "ipython",
    "version": 3
   },
   "file_extension": ".py",
   "mimetype": "text/x-python",
   "name": "python",
   "nbconvert_exporter": "python",
   "pygments_lexer": "ipython3",
   "version": "3.6.7"
  }
 },
 "nbformat": 4,
 "nbformat_minor": 2
}
