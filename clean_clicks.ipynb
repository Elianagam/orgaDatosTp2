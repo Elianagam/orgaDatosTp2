{
 "cells": [
  {
   "cell_type": "code",
   "execution_count": 77,
   "metadata": {},
   "outputs": [],
   "source": [
    "import pandas as pd\n",
    "import numpy as np"
   ]
  },
  {
   "cell_type": "code",
   "execution_count": 96,
   "metadata": {},
   "outputs": [],
   "source": [
    "clicks = pd.read_csv(\"data/clicks.csv.gzip\")\n",
    "# target = pd.read_csv('data/target_final_competencia_revamped.csv', low_memory=False)"
   ]
  },
  {
   "cell_type": "code",
   "execution_count": 97,
   "metadata": {},
   "outputs": [],
   "source": [
    "# target.loc[:, 'ref_hash'] = target['ref_hash'].map(lambda x: str(x)[:-3])"
   ]
  },
  {
   "cell_type": "code",
   "execution_count": 98,
   "metadata": {},
   "outputs": [],
   "source": [
    "# clicks['ref_hash'] = clicks['ref_hash'].astype(str)"
   ]
  },
  {
   "cell_type": "code",
   "execution_count": 23,
   "metadata": {},
   "outputs": [
    {
     "data": {
      "text/html": [
       "<div>\n",
       "<style scoped>\n",
       "    .dataframe tbody tr th:only-of-type {\n",
       "        vertical-align: middle;\n",
       "    }\n",
       "\n",
       "    .dataframe tbody tr th {\n",
       "        vertical-align: top;\n",
       "    }\n",
       "\n",
       "    .dataframe thead th {\n",
       "        text-align: right;\n",
       "    }\n",
       "</style>\n",
       "<table border=\"1\" class=\"dataframe\">\n",
       "  <thead>\n",
       "    <tr style=\"text-align: right;\">\n",
       "      <th></th>\n",
       "      <th>ref_hash</th>\n",
       "      <th>obj</th>\n",
       "    </tr>\n",
       "  </thead>\n",
       "  <tbody>\n",
       "    <tr>\n",
       "      <th>0</th>\n",
       "      <td>1000169251625791232</td>\n",
       "      <td>0</td>\n",
       "    </tr>\n",
       "    <tr>\n",
       "      <th>1</th>\n",
       "      <td>1000169251625791232</td>\n",
       "      <td>0</td>\n",
       "    </tr>\n",
       "    <tr>\n",
       "      <th>2</th>\n",
       "      <td>1000395625957344640</td>\n",
       "      <td>0</td>\n",
       "    </tr>\n",
       "    <tr>\n",
       "      <th>3</th>\n",
       "      <td>1000395625957344640</td>\n",
       "      <td>0</td>\n",
       "    </tr>\n",
       "    <tr>\n",
       "      <th>4</th>\n",
       "      <td>1006670001679961600</td>\n",
       "      <td>0</td>\n",
       "    </tr>\n",
       "  </tbody>\n",
       "</table>\n",
       "</div>"
      ],
      "text/plain": [
       "              ref_hash  obj\n",
       "0  1000169251625791232    0\n",
       "1  1000169251625791232    0\n",
       "2  1000395625957344640    0\n",
       "3  1000395625957344640    0\n",
       "4  1006670001679961600    0"
      ]
     },
     "execution_count": 23,
     "metadata": {},
     "output_type": "execute_result"
    }
   ],
   "source": [
    "target.head()"
   ]
  },
  {
   "cell_type": "code",
   "execution_count": 99,
   "metadata": {},
   "outputs": [],
   "source": [
    "#Me quedo con las columnas que me importan\n",
    "clicks = clicks.drop(columns=['agent_device', 'os_minor', 'os_major', 'country_code', 'action_id',\\\n",
    "                'brand', 'touchX', 'touchY', 'specs_brand', 'carrier_id', 'longitude', 'latitude', 'trans_id'], axis=1)"
   ]
  },
  {
   "cell_type": "markdown",
   "metadata": {},
   "source": [
    "Creando Features"
   ]
  },
  {
   "cell_type": "code",
   "execution_count": 84,
   "metadata": {},
   "outputs": [
    {
     "data": {
      "text/html": [
       "<div>\n",
       "<style scoped>\n",
       "    .dataframe tbody tr th:only-of-type {\n",
       "        vertical-align: middle;\n",
       "    }\n",
       "\n",
       "    .dataframe tbody tr th {\n",
       "        vertical-align: top;\n",
       "    }\n",
       "\n",
       "    .dataframe thead th {\n",
       "        text-align: right;\n",
       "    }\n",
       "</style>\n",
       "<table border=\"1\" class=\"dataframe\">\n",
       "  <thead>\n",
       "    <tr style=\"text-align: right;\">\n",
       "      <th></th>\n",
       "      <th>advertiser_id</th>\n",
       "      <th>source_id</th>\n",
       "      <th>created</th>\n",
       "      <th>wifi_connection</th>\n",
       "      <th>timeToClick</th>\n",
       "      <th>ref_hash</th>\n",
       "      <th>ref_type_android</th>\n",
       "      <th>ref_type_iphone</th>\n",
       "    </tr>\n",
       "  </thead>\n",
       "  <tbody>\n",
       "    <tr>\n",
       "      <th>0</th>\n",
       "      <td>1</td>\n",
       "      <td>2</td>\n",
       "      <td>2019-04-18T05:27:42.197Z</td>\n",
       "      <td>0</td>\n",
       "      <td>2.317</td>\n",
       "      <td>1293710398598742392</td>\n",
       "      <td>1</td>\n",
       "      <td>0</td>\n",
       "    </tr>\n",
       "    <tr>\n",
       "      <th>1</th>\n",
       "      <td>1</td>\n",
       "      <td>1</td>\n",
       "      <td>2019-04-18T05:27:03.164Z</td>\n",
       "      <td>1</td>\n",
       "      <td>7.653</td>\n",
       "      <td>1663930990551616564</td>\n",
       "      <td>1</td>\n",
       "      <td>0</td>\n",
       "    </tr>\n",
       "    <tr>\n",
       "      <th>2</th>\n",
       "      <td>1</td>\n",
       "      <td>1</td>\n",
       "      <td>2019-04-18T05:42:07.926Z</td>\n",
       "      <td>1</td>\n",
       "      <td>464.796</td>\n",
       "      <td>8488038938665586188</td>\n",
       "      <td>1</td>\n",
       "      <td>0</td>\n",
       "    </tr>\n",
       "    <tr>\n",
       "      <th>3</th>\n",
       "      <td>1</td>\n",
       "      <td>1</td>\n",
       "      <td>2019-04-18T05:26:04.446Z</td>\n",
       "      <td>1</td>\n",
       "      <td>225.311</td>\n",
       "      <td>6488361690105189959</td>\n",
       "      <td>1</td>\n",
       "      <td>0</td>\n",
       "    </tr>\n",
       "    <tr>\n",
       "      <th>4</th>\n",
       "      <td>1</td>\n",
       "      <td>1</td>\n",
       "      <td>2019-04-18T05:23:37.764Z</td>\n",
       "      <td>1</td>\n",
       "      <td>84.736</td>\n",
       "      <td>1348993302102753419</td>\n",
       "      <td>1</td>\n",
       "      <td>0</td>\n",
       "    </tr>\n",
       "  </tbody>\n",
       "</table>\n",
       "</div>"
      ],
      "text/plain": [
       "   advertiser_id  source_id                   created  wifi_connection  \\\n",
       "0              1          2  2019-04-18T05:27:42.197Z                0   \n",
       "1              1          1  2019-04-18T05:27:03.164Z                1   \n",
       "2              1          1  2019-04-18T05:42:07.926Z                1   \n",
       "3              1          1  2019-04-18T05:26:04.446Z                1   \n",
       "4              1          1  2019-04-18T05:23:37.764Z                1   \n",
       "\n",
       "   timeToClick             ref_hash  ref_type_android  ref_type_iphone  \n",
       "0        2.317  1293710398598742392                 1                0  \n",
       "1        7.653  1663930990551616564                 1                0  \n",
       "2      464.796  8488038938665586188                 1                0  \n",
       "3      225.311  6488361690105189959                 1                0  \n",
       "4       84.736  1348993302102753419                 1                0  "
      ]
     },
     "execution_count": 84,
     "metadata": {},
     "output_type": "execute_result"
    }
   ],
   "source": [
    "#Muestro las columnas con las que me quedo\n",
    "clicks.head()"
   ]
  },
  {
   "cell_type": "code",
   "execution_count": null,
   "metadata": {},
   "outputs": [],
   "source": []
  },
  {
   "cell_type": "code",
   "execution_count": 100,
   "metadata": {},
   "outputs": [],
   "source": [
    "clicks['wifi_connection'] = clicks['wifi_connection'].map({True: 1, False: 0})\n",
    "clicks['wifi_connection'] = clicks['wifi_connection'].fillna(-1)"
   ]
  },
  {
   "cell_type": "code",
   "execution_count": 101,
   "metadata": {},
   "outputs": [],
   "source": [
    "clicks['created'] = pd.to_datetime(clicks['created'])"
   ]
  },
  {
   "cell_type": "code",
   "execution_count": 102,
   "metadata": {},
   "outputs": [],
   "source": [
    "clicks['ref_type_android'] = (clicks['ref_type'].astype(str).str.contains(\"1891515180541284343\") == True).astype(int)\n",
    "clicks['ref_type_iphone'] = (clicks['ref_type'].astype(str).str.contains(\"1494519392962156891\") == True).astype(int)\n",
    "\n",
    "clicks = clicks.drop('ref_type', axis=1)"
   ]
  },
  {
   "cell_type": "code",
   "execution_count": 98,
   "metadata": {},
   "outputs": [
    {
     "data": {
      "text/plain": [
       "2    36135\n",
       "1    27433\n",
       "0      516\n",
       "3      211\n",
       "4        1\n",
       "Name: advertiser_id, dtype: int64"
      ]
     },
     "execution_count": 98,
     "metadata": {},
     "output_type": "execute_result"
    }
   ],
   "source": [
    "clicks['advertiser_id'].value_counts()"
   ]
  },
  {
   "cell_type": "code",
   "execution_count": 103,
   "metadata": {},
   "outputs": [],
   "source": [
    "clicks['advertiser_0'] = (clicks['advertiser_id'].astype(str).str.contains(\"0\") == True).astype(int)\n",
    "clicks['advertiser_1'] = (clicks['advertiser_id'].astype(str).str.contains(\"1\") == True).astype(int)\n",
    "clicks['advertiser_2'] = (clicks['advertiser_id'].astype(str).str.contains(\"2\") == True).astype(int)\n",
    "clicks['advertiser_3'] = (clicks['advertiser_id'].astype(str).str.contains(\"3\") == True).astype(int)\n",
    "clicks['advertiser_4'] = (clicks['advertiser_id'].astype(str).str.contains(\"4\") == True).astype(int)\n",
    "\n",
    "clicks = clicks.drop('advertiser_id', axis=1)"
   ]
  },
  {
   "cell_type": "code",
   "execution_count": 100,
   "metadata": {
    "scrolled": true
   },
   "outputs": [
    {
     "data": {
      "text/plain": [
       "1    33695\n",
       "0    17155\n",
       "3     5639\n",
       "2     3878\n",
       "6     2186\n",
       "4      823\n",
       "5      454\n",
       "7      329\n",
       "8      137\n",
       "Name: source_id, dtype: int64"
      ]
     },
     "execution_count": 100,
     "metadata": {},
     "output_type": "execute_result"
    }
   ],
   "source": [
    "clicks['source_id'].value_counts()"
   ]
  },
  {
   "cell_type": "code",
   "execution_count": 104,
   "metadata": {},
   "outputs": [],
   "source": [
    "clicks['source_0'] = (clicks['source_id'].astype(str).str.contains(\"0\") == True).astype(int)\n",
    "clicks['source_1'] = (clicks['source_id'].astype(str).str.contains(\"1\") == True).astype(int)\n",
    "clicks['source_2'] = (clicks['source_id'].astype(str).str.contains(\"2\") == True).astype(int)\n",
    "clicks['source_3'] = (clicks['source_id'].astype(str).str.contains(\"3\") == True).astype(int)\n",
    "clicks['source_4'] = (clicks['source_id'].astype(str).str.contains(\"4\") == True).astype(int)\n",
    "clicks['source_5'] = (clicks['source_id'].astype(str).str.contains(\"5\") == True).astype(int)\n",
    "clicks['source_6'] = (clicks['source_id'].astype(str).str.contains(\"6\") == True).astype(int)\n",
    "clicks['source_7'] = (clicks['source_id'].astype(str).str.contains(\"7\") == True).astype(int)\n",
    "clicks['source_8'] = (clicks['source_id'].astype(str).str.contains(\"8\") == True).astype(int)\n",
    "\n",
    "clicks = clicks.drop('source_id', axis=1)"
   ]
  },
  {
   "cell_type": "code",
   "execution_count": 102,
   "metadata": {},
   "outputs": [],
   "source": [
    "#clicks['feriado'] = (clicks['created'].dt.day == 19).map({True: 1, False: 0})\n",
    "#clicks['feriado'] = clicks['feriado'].fillna(-1)"
   ]
  },
  {
   "cell_type": "code",
   "execution_count": 105,
   "metadata": {},
   "outputs": [],
   "source": [
    "clicks['weekday'] = clicks['created'].dt.weekday\n",
    "\n",
    "clicks = pd.get_dummies(clicks, columns=['weekday'])"
   ]
  },
  {
   "cell_type": "code",
   "execution_count": 106,
   "metadata": {},
   "outputs": [],
   "source": [
    "clicks = clicks.rename(index=str, columns={\"weekday_0\": \"lunes\", \"weekday_1\": \"martes\", \"weekday_2\": \"miercoles\", \\\n",
    "                                           \"weekday_3\": \"jueves\", \"weekday_4\": \"viernes\", \"weekday_5\": \"sabado\", \\\n",
    "                                           \"weekday_6\": \"domingo\"})"
   ]
  },
  {
   "cell_type": "code",
   "execution_count": 107,
   "metadata": {},
   "outputs": [],
   "source": [
    "bins = [0, 6, 13, 17, 25]\n",
    "labels = ['morning','afternoon','evening','night']\n",
    "hours = clicks['created'].dt.hour\n",
    "clicks['time'] = pd.cut(hours-5+24 *(hours<5),bins=bins,labels=labels,right=False)\n",
    "\n",
    "clicks = pd.get_dummies(clicks, columns=['time'])"
   ]
  },
  {
   "cell_type": "code",
   "execution_count": 108,
   "metadata": {},
   "outputs": [],
   "source": [
    "clicks['feriado'] = (clicks['created'].dt.day).map({19: 1})\n",
    "clicks['feriado'] = clicks['feriado'].fillna(0)"
   ]
  },
  {
   "cell_type": "code",
   "execution_count": 109,
   "metadata": {},
   "outputs": [],
   "source": [
    "# clicks = target.merge(clicks, on='ref_hash', how='inner')"
   ]
  },
  {
   "cell_type": "code",
   "execution_count": 110,
   "metadata": {},
   "outputs": [
    {
     "data": {
      "text/html": [
       "<div>\n",
       "<style scoped>\n",
       "    .dataframe tbody tr th:only-of-type {\n",
       "        vertical-align: middle;\n",
       "    }\n",
       "\n",
       "    .dataframe tbody tr th {\n",
       "        vertical-align: top;\n",
       "    }\n",
       "\n",
       "    .dataframe thead th {\n",
       "        text-align: right;\n",
       "    }\n",
       "</style>\n",
       "<table border=\"1\" class=\"dataframe\">\n",
       "  <thead>\n",
       "    <tr style=\"text-align: right;\">\n",
       "      <th></th>\n",
       "      <th>ref_hash</th>\n",
       "      <th>obj</th>\n",
       "      <th>created</th>\n",
       "      <th>wifi_connection</th>\n",
       "      <th>timeToClick</th>\n",
       "      <th>ref_type_android</th>\n",
       "      <th>ref_type_iphone</th>\n",
       "      <th>advertiser_0</th>\n",
       "      <th>advertiser_1</th>\n",
       "      <th>advertiser_2</th>\n",
       "      <th>...</th>\n",
       "      <th>miercoles</th>\n",
       "      <th>jueves</th>\n",
       "      <th>viernes</th>\n",
       "      <th>sabado</th>\n",
       "      <th>domingo</th>\n",
       "      <th>time_morning</th>\n",
       "      <th>time_afternoon</th>\n",
       "      <th>time_evening</th>\n",
       "      <th>time_night</th>\n",
       "      <th>feriado</th>\n",
       "    </tr>\n",
       "  </thead>\n",
       "  <tbody>\n",
       "    <tr>\n",
       "      <th>0</th>\n",
       "      <td>71410240738361696</td>\n",
       "      <td>0</td>\n",
       "      <td>2019-04-20 17:18:34.033000+00:00</td>\n",
       "      <td>1</td>\n",
       "      <td>5.531</td>\n",
       "      <td>1</td>\n",
       "      <td>0</td>\n",
       "      <td>0</td>\n",
       "      <td>0</td>\n",
       "      <td>1</td>\n",
       "      <td>...</td>\n",
       "      <td>0</td>\n",
       "      <td>0</td>\n",
       "      <td>0</td>\n",
       "      <td>1</td>\n",
       "      <td>0</td>\n",
       "      <td>0</td>\n",
       "      <td>1</td>\n",
       "      <td>0</td>\n",
       "      <td>0</td>\n",
       "      <td>0.0</td>\n",
       "    </tr>\n",
       "    <tr>\n",
       "      <th>1</th>\n",
       "      <td>71410240738361696</td>\n",
       "      <td>0</td>\n",
       "      <td>2019-04-22 05:23:06.657000+00:00</td>\n",
       "      <td>1</td>\n",
       "      <td>NaN</td>\n",
       "      <td>1</td>\n",
       "      <td>0</td>\n",
       "      <td>0</td>\n",
       "      <td>0</td>\n",
       "      <td>1</td>\n",
       "      <td>...</td>\n",
       "      <td>0</td>\n",
       "      <td>0</td>\n",
       "      <td>0</td>\n",
       "      <td>0</td>\n",
       "      <td>0</td>\n",
       "      <td>1</td>\n",
       "      <td>0</td>\n",
       "      <td>0</td>\n",
       "      <td>0</td>\n",
       "      <td>0.0</td>\n",
       "    </tr>\n",
       "    <tr>\n",
       "      <th>2</th>\n",
       "      <td>71410240738361696</td>\n",
       "      <td>0</td>\n",
       "      <td>2019-04-20 17:18:34.033000+00:00</td>\n",
       "      <td>1</td>\n",
       "      <td>5.531</td>\n",
       "      <td>1</td>\n",
       "      <td>0</td>\n",
       "      <td>0</td>\n",
       "      <td>0</td>\n",
       "      <td>1</td>\n",
       "      <td>...</td>\n",
       "      <td>0</td>\n",
       "      <td>0</td>\n",
       "      <td>0</td>\n",
       "      <td>1</td>\n",
       "      <td>0</td>\n",
       "      <td>0</td>\n",
       "      <td>1</td>\n",
       "      <td>0</td>\n",
       "      <td>0</td>\n",
       "      <td>0.0</td>\n",
       "    </tr>\n",
       "    <tr>\n",
       "      <th>3</th>\n",
       "      <td>71410240738361696</td>\n",
       "      <td>0</td>\n",
       "      <td>2019-04-22 05:23:06.657000+00:00</td>\n",
       "      <td>1</td>\n",
       "      <td>NaN</td>\n",
       "      <td>1</td>\n",
       "      <td>0</td>\n",
       "      <td>0</td>\n",
       "      <td>0</td>\n",
       "      <td>1</td>\n",
       "      <td>...</td>\n",
       "      <td>0</td>\n",
       "      <td>0</td>\n",
       "      <td>0</td>\n",
       "      <td>0</td>\n",
       "      <td>0</td>\n",
       "      <td>1</td>\n",
       "      <td>0</td>\n",
       "      <td>0</td>\n",
       "      <td>0</td>\n",
       "      <td>0.0</td>\n",
       "    </tr>\n",
       "  </tbody>\n",
       "</table>\n",
       "<p>4 rows × 33 columns</p>\n",
       "</div>"
      ],
      "text/plain": [
       "            ref_hash  obj                          created  wifi_connection  \\\n",
       "0  71410240738361696    0 2019-04-20 17:18:34.033000+00:00                1   \n",
       "1  71410240738361696    0 2019-04-22 05:23:06.657000+00:00                1   \n",
       "2  71410240738361696    0 2019-04-20 17:18:34.033000+00:00                1   \n",
       "3  71410240738361696    0 2019-04-22 05:23:06.657000+00:00                1   \n",
       "\n",
       "   timeToClick  ref_type_android  ref_type_iphone  advertiser_0  advertiser_1  \\\n",
       "0        5.531                 1                0             0             0   \n",
       "1          NaN                 1                0             0             0   \n",
       "2        5.531                 1                0             0             0   \n",
       "3          NaN                 1                0             0             0   \n",
       "\n",
       "   advertiser_2  ...  miercoles  jueves  viernes  sabado  domingo  \\\n",
       "0             1  ...          0       0        0       1        0   \n",
       "1             1  ...          0       0        0       0        0   \n",
       "2             1  ...          0       0        0       1        0   \n",
       "3             1  ...          0       0        0       0        0   \n",
       "\n",
       "   time_morning  time_afternoon  time_evening  time_night  feriado  \n",
       "0             0               1             0           0      0.0  \n",
       "1             1               0             0           0      0.0  \n",
       "2             0               1             0           0      0.0  \n",
       "3             1               0             0           0      0.0  \n",
       "\n",
       "[4 rows x 33 columns]"
      ]
     },
     "execution_count": 110,
     "metadata": {},
     "output_type": "execute_result"
    }
   ],
   "source": [
    "clicks.head()"
   ]
  },
  {
   "cell_type": "code",
   "execution_count": 112,
   "metadata": {},
   "outputs": [
    {
     "data": {
      "text/plain": [
       "4"
      ]
     },
     "execution_count": 112,
     "metadata": {},
     "output_type": "execute_result"
    }
   ],
   "source": [
    "clicks['created'].value_counts().sum()"
   ]
  },
  {
   "cell_type": "code",
   "execution_count": 74,
   "metadata": {},
   "outputs": [],
   "source": [
    "window_1 = clicks.loc[clicks['created'].between('2019-04-18', '2019-04-21')]\n",
    "window_2 = clicks.loc[clicks['created'].between('2019-04-19', '2019-04-22')]\n",
    "window_3 = clicks.loc[clicks['created'].between('2019-04-20', '2019-04-23')]\n",
    "window_4 = clicks.loc[clicks['created'].between('2019-04-21', '2019-04-24')]\n",
    "window_5 = clicks.loc[clicks['created'].between('2019-04-22', '2019-04-25')]"
   ]
  },
  {
   "cell_type": "code",
   "execution_count": 75,
   "metadata": {},
   "outputs": [
    {
     "name": "stderr",
     "output_type": "stream",
     "text": [
      "/home/eliana/fiuba/datos7506/envdt/lib/python3.6/site-packages/pandas/core/indexing.py:362: SettingWithCopyWarning: \n",
      "A value is trying to be set on a copy of a slice from a DataFrame.\n",
      "Try using .loc[row_indexer,col_indexer] = value instead\n",
      "\n",
      "See the caveats in the documentation: http://pandas.pydata.org/pandas-docs/stable/indexing.html#indexing-view-versus-copy\n",
      "  self.obj[key] = _infer_fill_value(value)\n",
      "/home/eliana/fiuba/datos7506/envdt/lib/python3.6/site-packages/pandas/core/indexing.py:543: SettingWithCopyWarning: \n",
      "A value is trying to be set on a copy of a slice from a DataFrame.\n",
      "Try using .loc[row_indexer,col_indexer] = value instead\n",
      "\n",
      "See the caveats in the documentation: http://pandas.pydata.org/pandas-docs/stable/indexing.html#indexing-view-versus-copy\n",
      "  self.obj[item] = s\n"
     ]
    }
   ],
   "source": [
    "# Contar la cantidad de apariciones que tiene un usuario por ventada\n",
    "\n",
    "window_1.loc[:,'count_clicks'] = window_1.groupby('ref_hash')['ref_hash'].transform('count')\n",
    "window_2.loc[:,'count_clicks'] = window_2.groupby('ref_hash')['ref_hash'].transform('count')\n",
    "window_3.loc[:,'count_clicks'] = window_3.groupby('ref_hash')['ref_hash'].transform('count')\n",
    "window_4.loc[:,'count_clicks'] = window_4.groupby('ref_hash')['ref_hash'].transform('count')\n",
    "window_5.loc[:,'count_clicks'] = window_5.groupby('ref_hash')['ref_hash'].transform('count')"
   ]
  },
  {
   "cell_type": "code",
   "execution_count": 49,
   "metadata": {},
   "outputs": [
    {
     "name": "stderr",
     "output_type": "stream",
     "text": [
      "/home/eliana/fiuba/datos7506/envdt/lib/python3.6/site-packages/pandas/core/indexing.py:362: FutureWarning: Converting timezone-aware DatetimeArray to timezone-naive ndarray with 'datetime64[ns]' dtype. In the future, this will return an ndarray with 'object' dtype where each element is a 'pandas.Timestamp' with the correct 'tz'.\n",
      "\tTo accept the future behavior, pass 'dtype=object'.\n",
      "\tTo keep the old behavior, pass 'dtype=\"datetime64[ns]\"'.\n",
      "  self.obj[key] = _infer_fill_value(value)\n"
     ]
    }
   ],
   "source": [
    "# primera y ultima instalacion por ref_hash\n",
    "\n",
    "window_1.loc[:,'last_click'] = window_1.groupby('ref_hash')['created'].transform('max')\n",
    "window_1.loc[:,'first_click'] = window_1.groupby('ref_hash')['created'].transform('min')\n",
    "\n",
    "window_2.loc[:,'last_click'] = window_2.groupby('ref_hash')['created'].transform('max')\n",
    "window_2.loc[:,'first_click'] = window_2.groupby('ref_hash')['created'].transform('min')\n",
    "\n",
    "window_3.loc[:,'last_click'] = window_3.groupby('ref_hash')['created'].transform('max')\n",
    "window_3.loc[:,'first_click'] = window_3.groupby('ref_hash')['created'].transform('min')\n",
    "\n",
    "window_4.loc[:,'last_click'] = window_4.groupby('ref_hash')['created'].transform('max')\n",
    "window_4.loc[:,'first_click'] = window_4.groupby('ref_hash')['created'].transform('min')\n",
    "\n",
    "window_5.loc[:,'last_click'] = window_5.groupby('ref_hash')['created'].transform('max')\n",
    "window_5.loc[:,'first_click'] = window_5.groupby('ref_hash')['created'].transform('min')"
   ]
  },
  {
   "cell_type": "code",
   "execution_count": 50,
   "metadata": {},
   "outputs": [],
   "source": [
    "# diferencia de tiempo entre el primero y el ultimo click\n",
    "\n",
    "window_1.loc[:,'diff_between_clicks'] = (window_1['last_click'] - window_1['first_click']).dt.total_seconds()\n",
    "\n",
    "window_2.loc[:,'diff_between_clicks'] = (window_2['last_click'] - window_2['first_click']).dt.total_seconds()\n",
    "\n",
    "window_3.loc[:,'diff_between_clicks'] = (window_3['last_click'] - window_3['first_click']).dt.total_seconds()\n",
    "\n",
    "window_4.loc[:,'diff_between_clicks'] = (window_4['last_click'] - window_4['first_click']).dt.total_seconds()\n",
    "\n",
    "window_5.loc[:,'diff_between_clicks'] = (window_5['last_click'] - window_5['first_click']).dt.total_seconds()"
   ]
  },
  {
   "cell_type": "code",
   "execution_count": 51,
   "metadata": {},
   "outputs": [],
   "source": [
    "# Promedio de diferencias de tiempo entre todos los clicks\n",
    "window_1.loc[:,'prom_time_click'] = 0\n",
    "window_1.loc[window_1['count_clicks'] > 1, 'prom_time_click'] = ((window_1['last_click'] - window_1['first_click'])/ \\\n",
    "                                 (window_1['count_clicks'] -1)).dt.total_seconds()\n",
    "\n",
    "window_2.loc[:,'prom_time_click'] = 0\n",
    "window_2.loc[window_2['count_clicks'] > 1,'prom_time_click'] = ((window_2['last_click'] - window_2['first_click'])/ \\\n",
    "                                 (window_2['count_clicks'] - 1)).dt.total_seconds()\n",
    "\n",
    "window_3.loc[:,'prom_time_click'] = 0\n",
    "window_3.loc[window_3['count_clicks'] > 1,'prom_time_click'] = ((window_3['last_click'] - window_3['first_click'])/ \\\n",
    "                                 (window_3['count_clicks'] - 1)).dt.total_seconds()\n",
    "\n",
    "window_4.loc[:,'prom_time_click'] = 0\n",
    "window_4.loc[window_4['count_clicks'] > 1, 'prom_time_click'] = ((window_4['last_click'] - window_4['first_click'])/ \\\n",
    "                                 (window_4['count_clicks'] - 1)).dt.total_seconds()\n",
    "\n",
    "window_5.loc[:,'prom_time_click'] = 0\n",
    "window_5.loc[window_5['count_clicks'] > 1, 'prom_time_click'] = ((window_5['last_click'] - window_5['first_click'])/ \\\n",
    "                                 (window_5['count_clicks'] -1 )).dt.total_seconds()"
   ]
  },
  {
   "cell_type": "code",
   "execution_count": 52,
   "metadata": {},
   "outputs": [],
   "source": [
    "\n",
    "window_1 = window_1.sort_values('created')\n",
    "window_2 = window_2.sort_values('created')\n",
    "window_3 = window_3.sort_values('created')\n",
    "window_4 = window_4.sort_values('created')\n",
    "window_5 = window_5.sort_values('created')"
   ]
  },
  {
   "cell_type": "code",
   "execution_count": null,
   "metadata": {},
   "outputs": [],
   "source": []
  },
  {
   "cell_type": "code",
   "execution_count": 53,
   "metadata": {},
   "outputs": [],
   "source": [
    "window_1 = window_1.groupby('ref_hash').head(1)\n",
    "window_2 = window_2.groupby('ref_hash').head(1)\n",
    "window_3 = window_3.groupby('ref_hash').head(1)\n",
    "window_4 = window_4.groupby('ref_hash').head(1)\n",
    "window_5 = window_5.groupby('ref_hash').head(1)"
   ]
  },
  {
   "cell_type": "code",
   "execution_count": 54,
   "metadata": {},
   "outputs": [
    {
     "name": "stdout",
     "output_type": "stream",
     "text": [
      "1\n",
      "1\n",
      "1\n",
      "1\n",
      "1\n"
     ]
    }
   ],
   "source": [
    "print(len(window_1))\n",
    "print(len(window_2))\n",
    "print(len(window_3))\n",
    "print(len(window_4))\n",
    "print(len(window_5))"
   ]
  },
  {
   "cell_type": "code",
   "execution_count": 32,
   "metadata": {},
   "outputs": [
    {
     "ename": "KeyError",
     "evalue": "\"['created' 'last_click' 'first_click'] not found in axis\"",
     "output_type": "error",
     "traceback": [
      "\u001b[0;31m---------------------------------------------------------------------------\u001b[0m",
      "\u001b[0;31mKeyError\u001b[0m                                  Traceback (most recent call last)",
      "\u001b[0;32m<ipython-input-32-0dc8074617bd>\u001b[0m in \u001b[0;36m<module>\u001b[0;34m\u001b[0m\n\u001b[0;32m----> 1\u001b[0;31m \u001b[0mwindow_1\u001b[0m \u001b[0;34m=\u001b[0m \u001b[0mwindow_1\u001b[0m\u001b[0;34m.\u001b[0m\u001b[0mdrop\u001b[0m\u001b[0;34m(\u001b[0m\u001b[0mcolumns\u001b[0m\u001b[0;34m=\u001b[0m\u001b[0;34m[\u001b[0m\u001b[0;34m'created'\u001b[0m\u001b[0;34m,\u001b[0m \u001b[0;34m'last_click'\u001b[0m\u001b[0;34m,\u001b[0m \u001b[0;34m'first_click'\u001b[0m\u001b[0;34m]\u001b[0m\u001b[0;34m,\u001b[0m \u001b[0maxis\u001b[0m\u001b[0;34m=\u001b[0m\u001b[0;36m1\u001b[0m\u001b[0;34m)\u001b[0m\u001b[0;34m\u001b[0m\u001b[0;34m\u001b[0m\u001b[0m\n\u001b[0m\u001b[1;32m      2\u001b[0m \u001b[0mwindow_2\u001b[0m \u001b[0;34m=\u001b[0m \u001b[0mwindow_2\u001b[0m\u001b[0;34m.\u001b[0m\u001b[0mdrop\u001b[0m\u001b[0;34m(\u001b[0m\u001b[0mcolumns\u001b[0m\u001b[0;34m=\u001b[0m\u001b[0;34m[\u001b[0m\u001b[0;34m'created'\u001b[0m\u001b[0;34m,\u001b[0m \u001b[0;34m'last_click'\u001b[0m\u001b[0;34m,\u001b[0m \u001b[0;34m'first_click'\u001b[0m\u001b[0;34m]\u001b[0m\u001b[0;34m,\u001b[0m \u001b[0maxis\u001b[0m\u001b[0;34m=\u001b[0m\u001b[0;36m1\u001b[0m\u001b[0;34m)\u001b[0m\u001b[0;34m\u001b[0m\u001b[0;34m\u001b[0m\u001b[0m\n\u001b[1;32m      3\u001b[0m \u001b[0mwindow_3\u001b[0m \u001b[0;34m=\u001b[0m \u001b[0mwindow_3\u001b[0m\u001b[0;34m.\u001b[0m\u001b[0mdrop\u001b[0m\u001b[0;34m(\u001b[0m\u001b[0mcolumns\u001b[0m\u001b[0;34m=\u001b[0m\u001b[0;34m[\u001b[0m\u001b[0;34m'created'\u001b[0m\u001b[0;34m,\u001b[0m \u001b[0;34m'last_click'\u001b[0m\u001b[0;34m,\u001b[0m \u001b[0;34m'first_click'\u001b[0m\u001b[0;34m]\u001b[0m\u001b[0;34m,\u001b[0m \u001b[0maxis\u001b[0m\u001b[0;34m=\u001b[0m\u001b[0;36m1\u001b[0m\u001b[0;34m)\u001b[0m\u001b[0;34m\u001b[0m\u001b[0;34m\u001b[0m\u001b[0m\n\u001b[1;32m      4\u001b[0m \u001b[0mwindow_4\u001b[0m \u001b[0;34m=\u001b[0m \u001b[0mwindow_4\u001b[0m\u001b[0;34m.\u001b[0m\u001b[0mdrop\u001b[0m\u001b[0;34m(\u001b[0m\u001b[0mcolumns\u001b[0m\u001b[0;34m=\u001b[0m\u001b[0;34m[\u001b[0m\u001b[0;34m'created'\u001b[0m\u001b[0;34m,\u001b[0m \u001b[0;34m'last_click'\u001b[0m\u001b[0;34m,\u001b[0m \u001b[0;34m'first_click'\u001b[0m\u001b[0;34m]\u001b[0m\u001b[0;34m,\u001b[0m \u001b[0maxis\u001b[0m\u001b[0;34m=\u001b[0m\u001b[0;36m1\u001b[0m\u001b[0;34m)\u001b[0m\u001b[0;34m\u001b[0m\u001b[0;34m\u001b[0m\u001b[0m\n\u001b[1;32m      5\u001b[0m \u001b[0mwindow_5\u001b[0m \u001b[0;34m=\u001b[0m \u001b[0mwindow_5\u001b[0m\u001b[0;34m.\u001b[0m\u001b[0mdrop\u001b[0m\u001b[0;34m(\u001b[0m\u001b[0mcolumns\u001b[0m\u001b[0;34m=\u001b[0m\u001b[0;34m[\u001b[0m\u001b[0;34m'created'\u001b[0m\u001b[0;34m,\u001b[0m \u001b[0;34m'last_click'\u001b[0m\u001b[0;34m,\u001b[0m \u001b[0;34m'first_click'\u001b[0m\u001b[0;34m]\u001b[0m\u001b[0;34m,\u001b[0m \u001b[0maxis\u001b[0m\u001b[0;34m=\u001b[0m\u001b[0;36m1\u001b[0m\u001b[0;34m)\u001b[0m\u001b[0;34m\u001b[0m\u001b[0;34m\u001b[0m\u001b[0m\n",
      "\u001b[0;32m~/fiuba/datos7506/envdt/lib/python3.6/site-packages/pandas/core/frame.py\u001b[0m in \u001b[0;36mdrop\u001b[0;34m(self, labels, axis, index, columns, level, inplace, errors)\u001b[0m\n\u001b[1;32m   3938\u001b[0m                                            \u001b[0mindex\u001b[0m\u001b[0;34m=\u001b[0m\u001b[0mindex\u001b[0m\u001b[0;34m,\u001b[0m \u001b[0mcolumns\u001b[0m\u001b[0;34m=\u001b[0m\u001b[0mcolumns\u001b[0m\u001b[0;34m,\u001b[0m\u001b[0;34m\u001b[0m\u001b[0;34m\u001b[0m\u001b[0m\n\u001b[1;32m   3939\u001b[0m                                            \u001b[0mlevel\u001b[0m\u001b[0;34m=\u001b[0m\u001b[0mlevel\u001b[0m\u001b[0;34m,\u001b[0m \u001b[0minplace\u001b[0m\u001b[0;34m=\u001b[0m\u001b[0minplace\u001b[0m\u001b[0;34m,\u001b[0m\u001b[0;34m\u001b[0m\u001b[0;34m\u001b[0m\u001b[0m\n\u001b[0;32m-> 3940\u001b[0;31m                                            errors=errors)\n\u001b[0m\u001b[1;32m   3941\u001b[0m \u001b[0;34m\u001b[0m\u001b[0m\n\u001b[1;32m   3942\u001b[0m     @rewrite_axis_style_signature('mapper', [('copy', True),\n",
      "\u001b[0;32m~/fiuba/datos7506/envdt/lib/python3.6/site-packages/pandas/core/generic.py\u001b[0m in \u001b[0;36mdrop\u001b[0;34m(self, labels, axis, index, columns, level, inplace, errors)\u001b[0m\n\u001b[1;32m   3778\u001b[0m         \u001b[0;32mfor\u001b[0m \u001b[0maxis\u001b[0m\u001b[0;34m,\u001b[0m \u001b[0mlabels\u001b[0m \u001b[0;32min\u001b[0m \u001b[0maxes\u001b[0m\u001b[0;34m.\u001b[0m\u001b[0mitems\u001b[0m\u001b[0;34m(\u001b[0m\u001b[0;34m)\u001b[0m\u001b[0;34m:\u001b[0m\u001b[0;34m\u001b[0m\u001b[0;34m\u001b[0m\u001b[0m\n\u001b[1;32m   3779\u001b[0m             \u001b[0;32mif\u001b[0m \u001b[0mlabels\u001b[0m \u001b[0;32mis\u001b[0m \u001b[0;32mnot\u001b[0m \u001b[0;32mNone\u001b[0m\u001b[0;34m:\u001b[0m\u001b[0;34m\u001b[0m\u001b[0;34m\u001b[0m\u001b[0m\n\u001b[0;32m-> 3780\u001b[0;31m                 \u001b[0mobj\u001b[0m \u001b[0;34m=\u001b[0m \u001b[0mobj\u001b[0m\u001b[0;34m.\u001b[0m\u001b[0m_drop_axis\u001b[0m\u001b[0;34m(\u001b[0m\u001b[0mlabels\u001b[0m\u001b[0;34m,\u001b[0m \u001b[0maxis\u001b[0m\u001b[0;34m,\u001b[0m \u001b[0mlevel\u001b[0m\u001b[0;34m=\u001b[0m\u001b[0mlevel\u001b[0m\u001b[0;34m,\u001b[0m \u001b[0merrors\u001b[0m\u001b[0;34m=\u001b[0m\u001b[0merrors\u001b[0m\u001b[0;34m)\u001b[0m\u001b[0;34m\u001b[0m\u001b[0;34m\u001b[0m\u001b[0m\n\u001b[0m\u001b[1;32m   3781\u001b[0m \u001b[0;34m\u001b[0m\u001b[0m\n\u001b[1;32m   3782\u001b[0m         \u001b[0;32mif\u001b[0m \u001b[0minplace\u001b[0m\u001b[0;34m:\u001b[0m\u001b[0;34m\u001b[0m\u001b[0;34m\u001b[0m\u001b[0m\n",
      "\u001b[0;32m~/fiuba/datos7506/envdt/lib/python3.6/site-packages/pandas/core/generic.py\u001b[0m in \u001b[0;36m_drop_axis\u001b[0;34m(self, labels, axis, level, errors)\u001b[0m\n\u001b[1;32m   3810\u001b[0m                 \u001b[0mnew_axis\u001b[0m \u001b[0;34m=\u001b[0m \u001b[0maxis\u001b[0m\u001b[0;34m.\u001b[0m\u001b[0mdrop\u001b[0m\u001b[0;34m(\u001b[0m\u001b[0mlabels\u001b[0m\u001b[0;34m,\u001b[0m \u001b[0mlevel\u001b[0m\u001b[0;34m=\u001b[0m\u001b[0mlevel\u001b[0m\u001b[0;34m,\u001b[0m \u001b[0merrors\u001b[0m\u001b[0;34m=\u001b[0m\u001b[0merrors\u001b[0m\u001b[0;34m)\u001b[0m\u001b[0;34m\u001b[0m\u001b[0;34m\u001b[0m\u001b[0m\n\u001b[1;32m   3811\u001b[0m             \u001b[0;32melse\u001b[0m\u001b[0;34m:\u001b[0m\u001b[0;34m\u001b[0m\u001b[0;34m\u001b[0m\u001b[0m\n\u001b[0;32m-> 3812\u001b[0;31m                 \u001b[0mnew_axis\u001b[0m \u001b[0;34m=\u001b[0m \u001b[0maxis\u001b[0m\u001b[0;34m.\u001b[0m\u001b[0mdrop\u001b[0m\u001b[0;34m(\u001b[0m\u001b[0mlabels\u001b[0m\u001b[0;34m,\u001b[0m \u001b[0merrors\u001b[0m\u001b[0;34m=\u001b[0m\u001b[0merrors\u001b[0m\u001b[0;34m)\u001b[0m\u001b[0;34m\u001b[0m\u001b[0;34m\u001b[0m\u001b[0m\n\u001b[0m\u001b[1;32m   3813\u001b[0m             \u001b[0mresult\u001b[0m \u001b[0;34m=\u001b[0m \u001b[0mself\u001b[0m\u001b[0;34m.\u001b[0m\u001b[0mreindex\u001b[0m\u001b[0;34m(\u001b[0m\u001b[0;34m**\u001b[0m\u001b[0;34m{\u001b[0m\u001b[0maxis_name\u001b[0m\u001b[0;34m:\u001b[0m \u001b[0mnew_axis\u001b[0m\u001b[0;34m}\u001b[0m\u001b[0;34m)\u001b[0m\u001b[0;34m\u001b[0m\u001b[0;34m\u001b[0m\u001b[0m\n\u001b[1;32m   3814\u001b[0m \u001b[0;34m\u001b[0m\u001b[0m\n",
      "\u001b[0;32m~/fiuba/datos7506/envdt/lib/python3.6/site-packages/pandas/core/indexes/base.py\u001b[0m in \u001b[0;36mdrop\u001b[0;34m(self, labels, errors)\u001b[0m\n\u001b[1;32m   4963\u001b[0m             \u001b[0;32mif\u001b[0m \u001b[0merrors\u001b[0m \u001b[0;34m!=\u001b[0m \u001b[0;34m'ignore'\u001b[0m\u001b[0;34m:\u001b[0m\u001b[0;34m\u001b[0m\u001b[0;34m\u001b[0m\u001b[0m\n\u001b[1;32m   4964\u001b[0m                 raise KeyError(\n\u001b[0;32m-> 4965\u001b[0;31m                     '{} not found in axis'.format(labels[mask]))\n\u001b[0m\u001b[1;32m   4966\u001b[0m             \u001b[0mindexer\u001b[0m \u001b[0;34m=\u001b[0m \u001b[0mindexer\u001b[0m\u001b[0;34m[\u001b[0m\u001b[0;34m~\u001b[0m\u001b[0mmask\u001b[0m\u001b[0;34m]\u001b[0m\u001b[0;34m\u001b[0m\u001b[0;34m\u001b[0m\u001b[0m\n\u001b[1;32m   4967\u001b[0m         \u001b[0;32mreturn\u001b[0m \u001b[0mself\u001b[0m\u001b[0;34m.\u001b[0m\u001b[0mdelete\u001b[0m\u001b[0;34m(\u001b[0m\u001b[0mindexer\u001b[0m\u001b[0;34m)\u001b[0m\u001b[0;34m\u001b[0m\u001b[0;34m\u001b[0m\u001b[0m\n",
      "\u001b[0;31mKeyError\u001b[0m: \"['created' 'last_click' 'first_click'] not found in axis\""
     ]
    }
   ],
   "source": [
    "window_1 = window_1.drop(columns=['created', 'last_click', 'first_click'], axis=1)\n",
    "window_2 = window_2.drop(columns=['created', 'last_click', 'first_click'], axis=1)\n",
    "window_3 = window_3.drop(columns=['created', 'last_click', 'first_click'], axis=1)\n",
    "window_4 = window_4.drop(columns=['created', 'last_click', 'first_click'], axis=1)\n",
    "window_5 = window_5.drop(columns=['created', 'last_click', 'first_click'], axis=1)"
   ]
  },
  {
   "cell_type": "code",
   "execution_count": 34,
   "metadata": {},
   "outputs": [],
   "source": [
    "window_1 = window_1.drop(columns=['ref_type'], axis=1)\n",
    "window_2 = window_2.drop(columns=['ref_type'], axis=1)\n",
    "window_3 = window_3.drop(columns=['ref_type'], axis=1)\n",
    "window_4 = window_4.drop(columns=['ref_type'], axis=1)\n",
    "window_5 = window_5.drop(columns=['ref_type'], axis=1)"
   ]
  },
  {
   "cell_type": "code",
   "execution_count": 35,
   "metadata": {},
   "outputs": [
    {
     "data": {
      "text/html": [
       "<div>\n",
       "<style scoped>\n",
       "    .dataframe tbody tr th:only-of-type {\n",
       "        vertical-align: middle;\n",
       "    }\n",
       "\n",
       "    .dataframe tbody tr th {\n",
       "        vertical-align: top;\n",
       "    }\n",
       "\n",
       "    .dataframe thead th {\n",
       "        text-align: right;\n",
       "    }\n",
       "</style>\n",
       "<table border=\"1\" class=\"dataframe\">\n",
       "  <thead>\n",
       "    <tr style=\"text-align: right;\">\n",
       "      <th></th>\n",
       "      <th>advertiser_id</th>\n",
       "      <th>wifi_connection</th>\n",
       "      <th>timeToClick</th>\n",
       "      <th>ref_hash</th>\n",
       "      <th>source_0</th>\n",
       "      <th>source_1</th>\n",
       "      <th>source_2</th>\n",
       "      <th>source_3</th>\n",
       "      <th>source_4</th>\n",
       "      <th>source_5</th>\n",
       "      <th>...</th>\n",
       "      <th>sabado</th>\n",
       "      <th>domingo</th>\n",
       "      <th>time_morning</th>\n",
       "      <th>time_afternoon</th>\n",
       "      <th>time_evening</th>\n",
       "      <th>time_night</th>\n",
       "      <th>feriado</th>\n",
       "      <th>count_clicks</th>\n",
       "      <th>diff_between_clicks</th>\n",
       "      <th>prom_time_click</th>\n",
       "    </tr>\n",
       "  </thead>\n",
       "  <tbody>\n",
       "    <tr>\n",
       "      <th>23353</th>\n",
       "      <td>2.0</td>\n",
       "      <td>1.0</td>\n",
       "      <td>297.701</td>\n",
       "      <td>4.641600e+18</td>\n",
       "      <td>0.0</td>\n",
       "      <td>1.0</td>\n",
       "      <td>0.0</td>\n",
       "      <td>0.0</td>\n",
       "      <td>0.0</td>\n",
       "      <td>0.0</td>\n",
       "      <td>...</td>\n",
       "      <td>0.0</td>\n",
       "      <td>0.0</td>\n",
       "      <td>0.0</td>\n",
       "      <td>0.0</td>\n",
       "      <td>0.0</td>\n",
       "      <td>1.0</td>\n",
       "      <td>0.0</td>\n",
       "      <td>2.0</td>\n",
       "      <td>245066.334</td>\n",
       "      <td>245066.334</td>\n",
       "    </tr>\n",
       "    <tr>\n",
       "      <th>20507</th>\n",
       "      <td>2.0</td>\n",
       "      <td>1.0</td>\n",
       "      <td>8.169</td>\n",
       "      <td>3.242558e+18</td>\n",
       "      <td>0.0</td>\n",
       "      <td>1.0</td>\n",
       "      <td>0.0</td>\n",
       "      <td>0.0</td>\n",
       "      <td>0.0</td>\n",
       "      <td>0.0</td>\n",
       "      <td>...</td>\n",
       "      <td>0.0</td>\n",
       "      <td>0.0</td>\n",
       "      <td>0.0</td>\n",
       "      <td>0.0</td>\n",
       "      <td>0.0</td>\n",
       "      <td>1.0</td>\n",
       "      <td>0.0</td>\n",
       "      <td>2.0</td>\n",
       "      <td>44634.388</td>\n",
       "      <td>44634.388</td>\n",
       "    </tr>\n",
       "    <tr>\n",
       "      <th>49715</th>\n",
       "      <td>1.0</td>\n",
       "      <td>1.0</td>\n",
       "      <td>88.512</td>\n",
       "      <td>2.019857e+18</td>\n",
       "      <td>0.0</td>\n",
       "      <td>1.0</td>\n",
       "      <td>0.0</td>\n",
       "      <td>0.0</td>\n",
       "      <td>0.0</td>\n",
       "      <td>0.0</td>\n",
       "      <td>...</td>\n",
       "      <td>0.0</td>\n",
       "      <td>0.0</td>\n",
       "      <td>0.0</td>\n",
       "      <td>0.0</td>\n",
       "      <td>0.0</td>\n",
       "      <td>1.0</td>\n",
       "      <td>0.0</td>\n",
       "      <td>2.0</td>\n",
       "      <td>49220.151</td>\n",
       "      <td>49220.151</td>\n",
       "    </tr>\n",
       "    <tr>\n",
       "      <th>50228</th>\n",
       "      <td>1.0</td>\n",
       "      <td>1.0</td>\n",
       "      <td>133.935</td>\n",
       "      <td>4.330321e+18</td>\n",
       "      <td>0.0</td>\n",
       "      <td>1.0</td>\n",
       "      <td>0.0</td>\n",
       "      <td>0.0</td>\n",
       "      <td>0.0</td>\n",
       "      <td>0.0</td>\n",
       "      <td>...</td>\n",
       "      <td>0.0</td>\n",
       "      <td>0.0</td>\n",
       "      <td>0.0</td>\n",
       "      <td>0.0</td>\n",
       "      <td>0.0</td>\n",
       "      <td>1.0</td>\n",
       "      <td>0.0</td>\n",
       "      <td>1.0</td>\n",
       "      <td>0.000</td>\n",
       "      <td>0.000</td>\n",
       "    </tr>\n",
       "    <tr>\n",
       "      <th>25341</th>\n",
       "      <td>2.0</td>\n",
       "      <td>0.0</td>\n",
       "      <td>547.220</td>\n",
       "      <td>4.697413e+18</td>\n",
       "      <td>0.0</td>\n",
       "      <td>1.0</td>\n",
       "      <td>0.0</td>\n",
       "      <td>0.0</td>\n",
       "      <td>0.0</td>\n",
       "      <td>0.0</td>\n",
       "      <td>...</td>\n",
       "      <td>0.0</td>\n",
       "      <td>0.0</td>\n",
       "      <td>0.0</td>\n",
       "      <td>0.0</td>\n",
       "      <td>0.0</td>\n",
       "      <td>1.0</td>\n",
       "      <td>0.0</td>\n",
       "      <td>1.0</td>\n",
       "      <td>0.000</td>\n",
       "      <td>0.000</td>\n",
       "    </tr>\n",
       "  </tbody>\n",
       "</table>\n",
       "<p>5 rows × 28 columns</p>\n",
       "</div>"
      ],
      "text/plain": [
       "       advertiser_id  wifi_connection  timeToClick      ref_hash  source_0  \\\n",
       "23353            2.0              1.0      297.701  4.641600e+18       0.0   \n",
       "20507            2.0              1.0        8.169  3.242558e+18       0.0   \n",
       "49715            1.0              1.0       88.512  2.019857e+18       0.0   \n",
       "50228            1.0              1.0      133.935  4.330321e+18       0.0   \n",
       "25341            2.0              0.0      547.220  4.697413e+18       0.0   \n",
       "\n",
       "       source_1  source_2  source_3  source_4  source_5  ...  sabado  domingo  \\\n",
       "23353       1.0       0.0       0.0       0.0       0.0  ...     0.0      0.0   \n",
       "20507       1.0       0.0       0.0       0.0       0.0  ...     0.0      0.0   \n",
       "49715       1.0       0.0       0.0       0.0       0.0  ...     0.0      0.0   \n",
       "50228       1.0       0.0       0.0       0.0       0.0  ...     0.0      0.0   \n",
       "25341       1.0       0.0       0.0       0.0       0.0  ...     0.0      0.0   \n",
       "\n",
       "       time_morning  time_afternoon  time_evening  time_night  feriado  \\\n",
       "23353           0.0             0.0           0.0         1.0      0.0   \n",
       "20507           0.0             0.0           0.0         1.0      0.0   \n",
       "49715           0.0             0.0           0.0         1.0      0.0   \n",
       "50228           0.0             0.0           0.0         1.0      0.0   \n",
       "25341           0.0             0.0           0.0         1.0      0.0   \n",
       "\n",
       "       count_clicks  diff_between_clicks  prom_time_click  \n",
       "23353           2.0           245066.334       245066.334  \n",
       "20507           2.0            44634.388        44634.388  \n",
       "49715           2.0            49220.151        49220.151  \n",
       "50228           1.0                0.000            0.000  \n",
       "25341           1.0                0.000            0.000  \n",
       "\n",
       "[5 rows x 28 columns]"
      ]
     },
     "execution_count": 35,
     "metadata": {},
     "output_type": "execute_result"
    }
   ],
   "source": [
    "window_1.head()"
   ]
  },
  {
   "cell_type": "code",
   "execution_count": 36,
   "metadata": {},
   "outputs": [],
   "source": [
    "window_1.to_csv(path_or_buf='windows_click/window_1.csv',index=False)\n",
    "window_2.to_csv(path_or_buf='windows_click/window_2.csv',index=False)\n",
    "window_3.to_csv(path_or_buf='windows_click/window_3.csv',index=False)\n",
    "window_4.to_csv(path_or_buf='windows_click/window_4.csv',index=False)\n",
    "window_5.to_csv(path_or_buf='windows_click/window_5.csv',index=False)"
   ]
  }
 ],
 "metadata": {
  "kernelspec": {
   "display_name": "Python 3",
   "language": "python",
   "name": "python3"
  },
  "language_info": {
   "codemirror_mode": {
    "name": "ipython",
    "version": 3
   },
   "file_extension": ".py",
   "mimetype": "text/x-python",
   "name": "python",
   "nbconvert_exporter": "python",
   "pygments_lexer": "ipython3",
   "version": "3.6.7"
  }
 },
 "nbformat": 4,
 "nbformat_minor": 2
}
