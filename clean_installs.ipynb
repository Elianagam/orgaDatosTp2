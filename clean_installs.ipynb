{
 "cells": [
  {
   "cell_type": "code",
   "execution_count": 1,
   "metadata": {},
   "outputs": [],
   "source": [
    "import pandas as pd\n",
    "import numpy as np"
   ]
  },
  {
   "cell_type": "code",
   "execution_count": 2,
   "metadata": {},
   "outputs": [],
   "source": [
    "dtypes_dict = {'created':'str',  'ref_type': 'category', 'device_brand': np.float32, \\\n",
    "                'device_countrycode': 'category', 'device_language': 'category', \\\n",
    "                'ref_hash': 'category', 'kind': 'str', 'user_agent': 'str'}\n",
    "\n",
    "installs = pd.read_csv('data/installs.csv.gzip', dtype=dtypes_dict, low_memory=False)\n",
    "\n",
    "installs = installs.drop('device_countrycode', axis=1)\n",
    "installs['created'] = pd.to_datetime(installs['created'], format='%Y-%m-%d %H:%M:%S')"
   ]
  },
  {
   "cell_type": "code",
   "execution_count": 3,
   "metadata": {},
   "outputs": [],
   "source": [
    "installs = installs.drop(columns=['device_language', 'ip_address', 'event_uuid', 'device_brand', \\\n",
    "                         'device_model', 'click_hash', 'session_user_agent'])"
   ]
  },
  {
   "cell_type": "code",
   "execution_count": 32,
   "metadata": {},
   "outputs": [
    {
     "data": {
      "text/plain": [
       "Zaful/1.3 CFNetwork/978.0.7 Darwin/18.5.0               1748\n",
       "Cornershop/539 CFNetwork/978.0.7 Darwin/18.5.0           927\n",
       "Binomo/0 CFNetwork/978.0.7 Darwin/18.5.0                 915\n",
       "Postmates/2325 CFNetwork/978.0.7 Darwin/18.5.0           714\n",
       "TuLotero/448 CFNetwork/978.0.7 Darwin/18.5.0             691\n",
       "AirBrush/4.6.7.0 CFNetwork/978.0.7 Darwin/18.5.0         614\n",
       "Zaful/1.3 CFNetwork/976 Darwin/18.2.0                    529\n",
       "Postmates/2286 CFNetwork/978.0.7 Darwin/18.5.0           320\n",
       "CATS/188267 CFNetwork/978.0.7 Darwin/18.5.0              262\n",
       "Praia%20Bingo/26.3.2 CFNetwork/978.0.7 Darwin/18.5.0     216\n",
       "TheWeather/424430 CFNetwork/978.0.7 Darwin/18.5.0        214\n",
       "Workouts/2 CFNetwork/978.0.7 Darwin/18.5.0               213\n",
       "yousician/57316 CFNetwork/978.0.7 Darwin/18.5.0          207\n",
       "Cornershop/539 CFNetwork/976 Darwin/18.2.0               196\n",
       "AirBrush/4.6.7.0 CFNetwork/976 Darwin/18.2.0             185\n",
       "Rosegal/20190415.1 CFNetwork/978.0.7 Darwin/18.5.0       183\n",
       "Hulu/50000411 CFNetwork/978.0.7 Darwin/18.5.0            155\n",
       "Postmates/2325 CFNetwork/976 Darwin/18.2.0               152\n",
       "TuLotero/448 CFNetwork/976 Darwin/18.2.0                 132\n",
       "DHgate/1 CFNetwork/978.0.7 Darwin/18.5.0                 127\n",
       "Name: user_agent, dtype: int64"
      ]
     },
     "execution_count": 32,
     "metadata": {},
     "output_type": "execute_result"
    }
   ],
   "source": [
    "prueba= installs.loc[~installs['user_agent'].astype(str).str.lower().str.contains(\"tiktok|sindelantal|gardenscapes|mozilla|grability|wish|trivago|mercadopago|dalvik\") == True]['user_agent']\n",
    "prueba.value_counts().head()"
   ]
  },
  {
   "cell_type": "code",
   "execution_count": 4,
   "metadata": {},
   "outputs": [],
   "source": [
    "# Normalizacion de valores a binario\n",
    "\n",
    "installs['wifi'] = installs['wifi'].map({True: 1, False: 0})\n",
    "installs['wifi'] = installs['wifi'].fillna(-1)\n",
    "\n",
    "installs['attributed'] = installs['attributed'].map({True: 1, False: 0})\n",
    "installs['implicit'] = installs['implicit'].map({True: 1, False: 0})"
   ]
  },
  {
   "cell_type": "code",
   "execution_count": 5,
   "metadata": {},
   "outputs": [],
   "source": [
    "installs['ref_type_android'] = (installs['ref_type'].astype(str).str.contains(\"1891515180541284343\") == True).astype(int)\n",
    "installs['ref_type_iphone'] = (installs['ref_type'].astype(str).str.contains(\"1494519392962156891\") == True).astype(int)\n",
    "\n",
    "installs = installs.drop('ref_type', axis=1)"
   ]
  },
  {
   "cell_type": "code",
   "execution_count": 7,
   "metadata": {},
   "outputs": [],
   "source": [
    "# features de dias\n",
    "\n",
    "installs['weekday'] = installs['created'].dt.weekday\n",
    "\n",
    "installs = pd.get_dummies(installs, columns=['weekday'])\n",
    "\n",
    "installs = installs.rename(index=str, columns={\"weekday_0\": \"lunes\", \"weekday_1\": \"martes\", \"weekday_2\": \"miercoles\", \\\n",
    "                             \"weekday_3\": \"jueves\", \"weekday_4\": \"viernes\", \"weekday_5\": \"sabado\", \\\n",
    "                             \"weekday_6\": \"domingo\"})"
   ]
  },
  {
   "cell_type": "code",
   "execution_count": 47,
   "metadata": {},
   "outputs": [
    {
     "data": {
      "text/html": [
       "<div>\n",
       "<style scoped>\n",
       "    .dataframe tbody tr th:only-of-type {\n",
       "        vertical-align: middle;\n",
       "    }\n",
       "\n",
       "    .dataframe tbody tr th {\n",
       "        vertical-align: top;\n",
       "    }\n",
       "\n",
       "    .dataframe thead th {\n",
       "        text-align: right;\n",
       "    }\n",
       "</style>\n",
       "<table border=\"1\" class=\"dataframe\">\n",
       "  <thead>\n",
       "    <tr style=\"text-align: right;\">\n",
       "      <th></th>\n",
       "      <th>created</th>\n",
       "      <th>application_id</th>\n",
       "      <th>ref_hash</th>\n",
       "      <th>attributed</th>\n",
       "      <th>implicit</th>\n",
       "      <th>user_agent</th>\n",
       "      <th>kind</th>\n",
       "      <th>wifi</th>\n",
       "      <th>trans_id</th>\n",
       "      <th>ref_type_android</th>\n",
       "      <th>ref_type_iphone</th>\n",
       "      <th>lunes</th>\n",
       "      <th>martes</th>\n",
       "      <th>miercoles</th>\n",
       "      <th>jueves</th>\n",
       "      <th>viernes</th>\n",
       "      <th>sabado</th>\n",
       "      <th>domingo</th>\n",
       "    </tr>\n",
       "  </thead>\n",
       "  <tbody>\n",
       "    <tr>\n",
       "      <th>0</th>\n",
       "      <td>2019-04-24 06:23:29.495</td>\n",
       "      <td>1</td>\n",
       "      <td>4716708407362582887</td>\n",
       "      <td>0</td>\n",
       "      <td>1</td>\n",
       "      <td>NaN</td>\n",
       "      <td>app_open</td>\n",
       "      <td>-1.0</td>\n",
       "      <td>NaN</td>\n",
       "      <td>0</td>\n",
       "      <td>1</td>\n",
       "      <td>0</td>\n",
       "      <td>0</td>\n",
       "      <td>1</td>\n",
       "      <td>0</td>\n",
       "      <td>0</td>\n",
       "      <td>0</td>\n",
       "      <td>0</td>\n",
       "    </tr>\n",
       "    <tr>\n",
       "      <th>1</th>\n",
       "      <td>2019-04-24 02:06:01.032</td>\n",
       "      <td>1</td>\n",
       "      <td>7143568733100935872</td>\n",
       "      <td>0</td>\n",
       "      <td>0</td>\n",
       "      <td>NaN</td>\n",
       "      <td>NaN</td>\n",
       "      <td>-1.0</td>\n",
       "      <td>NaN</td>\n",
       "      <td>0</td>\n",
       "      <td>1</td>\n",
       "      <td>0</td>\n",
       "      <td>0</td>\n",
       "      <td>1</td>\n",
       "      <td>0</td>\n",
       "      <td>0</td>\n",
       "      <td>0</td>\n",
       "      <td>0</td>\n",
       "    </tr>\n",
       "    <tr>\n",
       "      <th>2</th>\n",
       "      <td>2019-04-20 10:15:36.274</td>\n",
       "      <td>1</td>\n",
       "      <td>5230323462636548010</td>\n",
       "      <td>0</td>\n",
       "      <td>1</td>\n",
       "      <td>NaN</td>\n",
       "      <td>app_open</td>\n",
       "      <td>-1.0</td>\n",
       "      <td>NaN</td>\n",
       "      <td>0</td>\n",
       "      <td>1</td>\n",
       "      <td>0</td>\n",
       "      <td>0</td>\n",
       "      <td>0</td>\n",
       "      <td>0</td>\n",
       "      <td>0</td>\n",
       "      <td>1</td>\n",
       "      <td>0</td>\n",
       "    </tr>\n",
       "    <tr>\n",
       "      <th>3</th>\n",
       "      <td>2019-04-20 21:56:47.151</td>\n",
       "      <td>1</td>\n",
       "      <td>5097163995161606833</td>\n",
       "      <td>0</td>\n",
       "      <td>1</td>\n",
       "      <td>NaN</td>\n",
       "      <td>app_open</td>\n",
       "      <td>-1.0</td>\n",
       "      <td>NaN</td>\n",
       "      <td>0</td>\n",
       "      <td>1</td>\n",
       "      <td>0</td>\n",
       "      <td>0</td>\n",
       "      <td>0</td>\n",
       "      <td>0</td>\n",
       "      <td>0</td>\n",
       "      <td>1</td>\n",
       "      <td>0</td>\n",
       "    </tr>\n",
       "    <tr>\n",
       "      <th>4</th>\n",
       "      <td>2019-04-20 22:40:41.239</td>\n",
       "      <td>1</td>\n",
       "      <td>6328027616411983332</td>\n",
       "      <td>0</td>\n",
       "      <td>0</td>\n",
       "      <td>NaN</td>\n",
       "      <td>NaN</td>\n",
       "      <td>-1.0</td>\n",
       "      <td>NaN</td>\n",
       "      <td>0</td>\n",
       "      <td>1</td>\n",
       "      <td>0</td>\n",
       "      <td>0</td>\n",
       "      <td>0</td>\n",
       "      <td>0</td>\n",
       "      <td>0</td>\n",
       "      <td>1</td>\n",
       "      <td>0</td>\n",
       "    </tr>\n",
       "  </tbody>\n",
       "</table>\n",
       "</div>"
      ],
      "text/plain": [
       "                  created  application_id             ref_hash  attributed  \\\n",
       "0 2019-04-24 06:23:29.495               1  4716708407362582887           0   \n",
       "1 2019-04-24 02:06:01.032               1  7143568733100935872           0   \n",
       "2 2019-04-20 10:15:36.274               1  5230323462636548010           0   \n",
       "3 2019-04-20 21:56:47.151               1  5097163995161606833           0   \n",
       "4 2019-04-20 22:40:41.239               1  6328027616411983332           0   \n",
       "\n",
       "   implicit user_agent      kind  wifi trans_id  ref_type_android  \\\n",
       "0         1        NaN  app_open  -1.0      NaN                 0   \n",
       "1         0        NaN       NaN  -1.0      NaN                 0   \n",
       "2         1        NaN  app_open  -1.0      NaN                 0   \n",
       "3         1        NaN  app_open  -1.0      NaN                 0   \n",
       "4         0        NaN       NaN  -1.0      NaN                 0   \n",
       "\n",
       "   ref_type_iphone  lunes  martes  miercoles  jueves  viernes  sabado  domingo  \n",
       "0                1      0       0          1       0        0       0        0  \n",
       "1                1      0       0          1       0        0       0        0  \n",
       "2                1      0       0          0       0        0       1        0  \n",
       "3                1      0       0          0       0        0       1        0  \n",
       "4                1      0       0          0       0        0       1        0  "
      ]
     },
     "execution_count": 47,
     "metadata": {},
     "output_type": "execute_result"
    }
   ],
   "source": [
    "installs.head()"
   ]
  },
  {
   "cell_type": "code",
   "execution_count": 7,
   "metadata": {},
   "outputs": [],
   "source": [
    "# installs kinds to features, creo que no sirve\n",
    "\n",
    "installs['kind_open'] = (installs['kind'].astype(str).str.lower().str.contains(\"open|abertura\") == True).astype(int)\n",
    "installs['kind_home'] = (installs['kind'].astype(str).str.lower().str.contains(\"home\") == True).astype(int)\n",
    "installs['kind_start'] = (installs['kind'].astype(str).str.lower().str.contains(\"start\") == True).astype(int)\n",
    "installs['kind_view'] = (installs['kind'].astype(str).str.lower().str.contains(\"view\") == True).astype(int)\n",
    "installs['kind_sign'] = (installs['kind'].astype(str).str.lower().str.contains(\"sign|registration|account\") == True).astype(int)\n",
    "installs['kind_login'] = (installs['kind'].astype(str).str.lower().str.contains(\"login|begin\") == True).astype(int)\n",
    "installs['kind_launch'] = (installs['kind'].astype(str).str.lower().str.contains(\"launch\") == True).astype(int)\n",
    "installs['kind_install'] = (installs['kind'].astype(str).str.lower().str.contains(\"install\") == True).astype(int)\n",
    "installs['kind_purchase'] = (installs['kind'].astype(str).str.lower().str.contains(\"purchase|buy\") == True).astype(int)\n",
    "installs['kind_add'] = (installs['kind'].astype(str).str.lower().str.contains(\"add\") == True).astype(int)"
   ]
  },
  {
   "cell_type": "code",
   "execution_count": null,
   "metadata": {},
   "outputs": [],
   "source": [
    "# user_agent features\n",
    "\n",
    "installs['agent_tiktok'] = (installs['user_agent'].astype(str).str.lower().str.contains(\"tiktok\") == True).astype(int)\n",
    "installs['agent_sindelantal'] = (installs['user_agent'].astype(str).str.lower().str.contains(\"sindelantal\") == True).astype(int)\n",
    "installs['agent_gardenscapes'] = (installs['user_agent'].astype(str).str.lower().str.contains(\"gardenscapes\") == True).astype(int)\n",
    "installs['agent_dalvik'] = (installs['user_agent'].astype(str).str.lower().str.contains(\"dalvik\") == True).astype(int)\n",
    "installs['agent_wish'] = (installs['user_agent'].astype(str).str.lower().str.contains(\"wish\") == True).astype(int)\n",
    "installs['agent_trivago'] = (installs['user_agent'].astype(str).str.lower().str.contains(\"trivago\") == True).astype(int)\n",
    "installs['agent_grability'] = (installs['user_agent'].astype(str).str.lower().str.contains(\"grability\") == True).astype(int)\n",
    "installs['agent_mercadopago'] = (installs['user_agent'].astype(str).str.lower().str.contains(\"mercadopago\") == True).astype(int)"
   ]
  },
  {
   "cell_type": "code",
   "execution_count": 6,
   "metadata": {},
   "outputs": [],
   "source": [
    "# contar cuantas veces instalo un usuario\n",
    "\n",
    "installs['total_count'] = installs.groupby('ref_hash')['ref_hash'].transform('count')"
   ]
  },
  {
   "cell_type": "code",
   "execution_count": 6,
   "metadata": {},
   "outputs": [],
   "source": [
    "installs = installs.drop(columns=['kind', 'user_agent'])"
   ]
  },
  {
   "cell_type": "markdown",
   "metadata": {},
   "source": [
    "# **Ventanas para train y test**"
   ]
  },
  {
   "cell_type": "code",
   "execution_count": 8,
   "metadata": {},
   "outputs": [],
   "source": [
    "time_start_1 = '2019-04-18'\n",
    "time_start_2 = '2019-04-19'\n",
    "time_start_3 = '2019-04-20'\n",
    "time_start_4 = '2019-04-21'\n",
    "time_start_5 = '2019-04-22'"
   ]
  },
  {
   "cell_type": "code",
   "execution_count": 7,
   "metadata": {},
   "outputs": [],
   "source": [
    "# Ventanas para train y testing\n",
    "window_1 = installs.loc[installs['created'].between('2019-04-18', '2019-04-21')]\n",
    "# window_2 = installs.loc[installs['created'].between('2019-04-19', '2019-04-22')]\n",
    "# window_3 = installs.loc[installs['created'].between('2019-04-20', '2019-04-23')]\n",
    "# window_4 = installs.loc[installs['created'].between('2019-04-21', '2019-04-24')]\n",
    "# window_5 = installs.loc[installs['created'].between('2019-04-22', '2019-04-25')]"
   ]
  },
  {
   "cell_type": "code",
   "execution_count": 8,
   "metadata": {},
   "outputs": [],
   "source": [
    "# Ordeno por fechas\n",
    "window_1 = window_1.sort_values('created')\n",
    "# window_2 = window_2.sort_values('created')\n",
    "# window_3 = window_3.sort_values('created')\n",
    "# window_4 = window_4.sort_values('created')\n",
    "# window_5 = window_5.sort_values('created')"
   ]
  },
  {
   "cell_type": "code",
   "execution_count": 18,
   "metadata": {},
   "outputs": [],
   "source": [
    "# Contar la cantidad de apariciones que tiene un usuario por ventada\n",
    "window_1['count'] = window_1.groupby('ref_hash')['ref_hash'].transform('count')\n",
    "# window_2['count'] = window_2.groupby('ref_hash')['ref_hash'].transform('count')\n",
    "# window_3['count'] = window_3.groupby('ref_hash')['ref_hash'].transform('count')\n",
    "# window_4['count'] = window_4.groupby('ref_hash')['ref_hash'].transform('count')\n",
    "# window_5['count'] = window_5.groupby('ref_hash')['ref_hash'].transform('count')"
   ]
  },
  {
   "cell_type": "code",
   "execution_count": 57,
   "metadata": {},
   "outputs": [],
   "source": [
    "a = (window_1.loc[window_1['count'] == 9])"
   ]
  },
  {
   "cell_type": "code",
   "execution_count": 76,
   "metadata": {},
   "outputs": [
    {
     "data": {
      "text/plain": [
       "160861"
      ]
     },
     "execution_count": 76,
     "metadata": {},
     "output_type": "execute_result"
    }
   ],
   "source": [
    "len(installs)"
   ]
  },
  {
   "cell_type": "code",
   "execution_count": 75,
   "metadata": {},
   "outputs": [
    {
     "data": {
      "text/plain": [
       "393565"
      ]
     },
     "execution_count": 75,
     "metadata": {},
     "output_type": "execute_result"
    }
   ],
   "source": [
    "len(listas_)"
   ]
  },
  {
   "cell_type": "code",
   "execution_count": null,
   "metadata": {},
   "outputs": [],
   "source": [
    "listas_ = "
   ]
  },
  {
   "cell_type": "code",
   "execution_count": 74,
   "metadata": {},
   "outputs": [],
   "source": [
    "listas_ = window_1.groupby('ref_hash')['created'].agg(list)"
   ]
  },
  {
   "cell_type": "code",
   "execution_count": 72,
   "metadata": {},
   "outputs": [
    {
     "name": "stderr",
     "output_type": "stream",
     "text": [
      "/home/eliana/fiuba/datos7506/envdt/lib/python3.6/site-packages/ipykernel_launcher.py:1: SettingWithCopyWarning: \n",
      "A value is trying to be set on a copy of a slice from a DataFrame.\n",
      "Try using .loc[row_indexer,col_indexer] = value instead\n",
      "\n",
      "See the caveats in the documentation: http://pandas.pydata.org/pandas-docs/stable/indexing.html#indexing-view-versus-copy\n",
      "  \"\"\"Entry point for launching an IPython kernel.\n"
     ]
    },
    {
     "data": {
      "text/plain": [
       "137511        0.000000\n",
       "102174        8.559222\n",
       "282958      585.442222\n",
       "227659      587.393556\n",
       "227658      587.398556\n",
       "290523      680.394222\n",
       "290520      681.784778\n",
       "263262     1029.641444\n",
       "216668        0.000000\n",
       "42268        63.011222\n",
       "42264        63.012778\n",
       "447023    10743.690889\n",
       "344161    12961.798222\n",
       "344160    12963.724111\n",
       "297308    15916.569889\n",
       "297321    15916.747000\n",
       "261882    15942.226222\n",
       "261879    15944.267778\n",
       "Name: diff_time, dtype: float64"
      ]
     },
     "execution_count": 72,
     "metadata": {},
     "output_type": "execute_result"
    }
   ],
   "source": [
    "a['diff_time'] = (a['created']- a['first_install'] ).dt.total_seconds()/ a['count']\n",
    "# a.groupby('ref_hash')['created'].sum()\n",
    "# a.groupby('ref_hash')['time'].sum()\n",
    "a['diff_time']"
   ]
  },
  {
   "cell_type": "code",
   "execution_count": 56,
   "metadata": {},
   "outputs": [
    {
     "ename": "NameError",
     "evalue": "name 'datetime' is not defined",
     "output_type": "error",
     "traceback": [
      "\u001b[0;31m---------------------------------------------------------------------------\u001b[0m",
      "\u001b[0;31mNameError\u001b[0m                                 Traceback (most recent call last)",
      "\u001b[0;32m<ipython-input-56-0a5c5931b866>\u001b[0m in \u001b[0;36m<module>\u001b[0;34m\u001b[0m\n\u001b[1;32m      1\u001b[0m \u001b[0mb\u001b[0m \u001b[0;34m=\u001b[0m \u001b[0ma\u001b[0m\u001b[0;34m.\u001b[0m\u001b[0mgroupby\u001b[0m\u001b[0;34m(\u001b[0m\u001b[0;34m'ref_hash'\u001b[0m\u001b[0;34m)\u001b[0m\u001b[0;34m[\u001b[0m\u001b[0;34m'time'\u001b[0m\u001b[0;34m]\u001b[0m\u001b[0;34m.\u001b[0m\u001b[0mtransform\u001b[0m\u001b[0;34m(\u001b[0m\u001b[0;34m'mean'\u001b[0m\u001b[0;34m)\u001b[0m\u001b[0;34m\u001b[0m\u001b[0;34m\u001b[0m\u001b[0m\n\u001b[0;32m----> 2\u001b[0;31m \u001b[0mdatetime\u001b[0m\u001b[0;34m.\u001b[0m\u001b[0mdatetime\u001b[0m\u001b[0;34m(\u001b[0m\u001b[0mb\u001b[0m\u001b[0;34m)\u001b[0m\u001b[0;34m\u001b[0m\u001b[0;34m\u001b[0m\u001b[0m\n\u001b[0m",
      "\u001b[0;31mNameError\u001b[0m: name 'datetime' is not defined"
     ]
    }
   ],
   "source": [
    "b = a.groupby('ref_hash')['time'].transform('mean')\n",
    "datetime.datetime(b)"
   ]
  },
  {
   "cell_type": "code",
   "execution_count": null,
   "metadata": {},
   "outputs": [],
   "source": [
    "def mean_date(x):\n",
    "    x = 0\n",
    "    print(fecha)\n",
    "    first = x['first_install']\n",
    "    for fecha in \n",
    "    x += fecha - first\n",
    "    first = fecha"
   ]
  },
  {
   "cell_type": "code",
   "execution_count": 53,
   "metadata": {},
   "outputs": [
    {
     "data": {
      "text/html": [
       "<div>\n",
       "<style scoped>\n",
       "    .dataframe tbody tr th:only-of-type {\n",
       "        vertical-align: middle;\n",
       "    }\n",
       "\n",
       "    .dataframe tbody tr th {\n",
       "        vertical-align: top;\n",
       "    }\n",
       "\n",
       "    .dataframe thead th {\n",
       "        text-align: right;\n",
       "    }\n",
       "</style>\n",
       "<table border=\"1\" class=\"dataframe\">\n",
       "  <thead>\n",
       "    <tr style=\"text-align: right;\">\n",
       "      <th></th>\n",
       "      <th>created</th>\n",
       "    </tr>\n",
       "    <tr>\n",
       "      <th>ref_hash</th>\n",
       "      <th></th>\n",
       "    </tr>\n",
       "  </thead>\n",
       "  <tbody>\n",
       "    <tr>\n",
       "      <th>1000001243847627208</th>\n",
       "      <td>[]</td>\n",
       "    </tr>\n",
       "    <tr>\n",
       "      <th>1000061425870948777</th>\n",
       "      <td>[]</td>\n",
       "    </tr>\n",
       "    <tr>\n",
       "      <th>1000080701377762047</th>\n",
       "      <td>[]</td>\n",
       "    </tr>\n",
       "    <tr>\n",
       "      <th>1000085014918096773</th>\n",
       "      <td>[]</td>\n",
       "    </tr>\n",
       "    <tr>\n",
       "      <th>1000095322020146100</th>\n",
       "      <td>[]</td>\n",
       "    </tr>\n",
       "    <tr>\n",
       "      <th>100010331276132711</th>\n",
       "      <td>[]</td>\n",
       "    </tr>\n",
       "    <tr>\n",
       "      <th>1000138003886484266</th>\n",
       "      <td>[]</td>\n",
       "    </tr>\n",
       "    <tr>\n",
       "      <th>1000169251625791246</th>\n",
       "      <td>[]</td>\n",
       "    </tr>\n",
       "    <tr>\n",
       "      <th>1000172260833750114</th>\n",
       "      <td>[]</td>\n",
       "    </tr>\n",
       "    <tr>\n",
       "      <th>1000193663803871158</th>\n",
       "      <td>[]</td>\n",
       "    </tr>\n",
       "    <tr>\n",
       "      <th>1000214925038058238</th>\n",
       "      <td>[]</td>\n",
       "    </tr>\n",
       "    <tr>\n",
       "      <th>1000252911429490816</th>\n",
       "      <td>[]</td>\n",
       "    </tr>\n",
       "    <tr>\n",
       "      <th>1000280583608032134</th>\n",
       "      <td>[]</td>\n",
       "    </tr>\n",
       "    <tr>\n",
       "      <th>1000288182047842384</th>\n",
       "      <td>[]</td>\n",
       "    </tr>\n",
       "    <tr>\n",
       "      <th>1000289045777700145</th>\n",
       "      <td>[]</td>\n",
       "    </tr>\n",
       "    <tr>\n",
       "      <th>1000289257101263364</th>\n",
       "      <td>[]</td>\n",
       "    </tr>\n",
       "    <tr>\n",
       "      <th>1000298337185304784</th>\n",
       "      <td>[]</td>\n",
       "    </tr>\n",
       "    <tr>\n",
       "      <th>1000303030927429183</th>\n",
       "      <td>[]</td>\n",
       "    </tr>\n",
       "    <tr>\n",
       "      <th>1000311397529546585</th>\n",
       "      <td>[]</td>\n",
       "    </tr>\n",
       "    <tr>\n",
       "      <th>1000395625957344683</th>\n",
       "      <td>[]</td>\n",
       "    </tr>\n",
       "    <tr>\n",
       "      <th>1000400432115255220</th>\n",
       "      <td>[]</td>\n",
       "    </tr>\n",
       "    <tr>\n",
       "      <th>1000415819191128399</th>\n",
       "      <td>[]</td>\n",
       "    </tr>\n",
       "    <tr>\n",
       "      <th>100043173982509042</th>\n",
       "      <td>[]</td>\n",
       "    </tr>\n",
       "    <tr>\n",
       "      <th>1000460323586746418</th>\n",
       "      <td>[]</td>\n",
       "    </tr>\n",
       "    <tr>\n",
       "      <th>1000503354791340162</th>\n",
       "      <td>[]</td>\n",
       "    </tr>\n",
       "    <tr>\n",
       "      <th>1000503394293263005</th>\n",
       "      <td>[]</td>\n",
       "    </tr>\n",
       "    <tr>\n",
       "      <th>1000511065592673272</th>\n",
       "      <td>[]</td>\n",
       "    </tr>\n",
       "    <tr>\n",
       "      <th>1000562420932097965</th>\n",
       "      <td>[]</td>\n",
       "    </tr>\n",
       "    <tr>\n",
       "      <th>1000579005153547970</th>\n",
       "      <td>[]</td>\n",
       "    </tr>\n",
       "    <tr>\n",
       "      <th>100060337727376595</th>\n",
       "      <td>[]</td>\n",
       "    </tr>\n",
       "    <tr>\n",
       "      <th>...</th>\n",
       "      <td>...</td>\n",
       "    </tr>\n",
       "    <tr>\n",
       "      <th>99929747069593628</th>\n",
       "      <td>[]</td>\n",
       "    </tr>\n",
       "    <tr>\n",
       "      <th>999332789881131365</th>\n",
       "      <td>[]</td>\n",
       "    </tr>\n",
       "    <tr>\n",
       "      <th>999339728099534212</th>\n",
       "      <td>[]</td>\n",
       "    </tr>\n",
       "    <tr>\n",
       "      <th>999343332298494610</th>\n",
       "      <td>[]</td>\n",
       "    </tr>\n",
       "    <tr>\n",
       "      <th>999449978116137705</th>\n",
       "      <td>[]</td>\n",
       "    </tr>\n",
       "    <tr>\n",
       "      <th>999470036713556672</th>\n",
       "      <td>[]</td>\n",
       "    </tr>\n",
       "    <tr>\n",
       "      <th>999472619848715560</th>\n",
       "      <td>[]</td>\n",
       "    </tr>\n",
       "    <tr>\n",
       "      <th>999487176172468285</th>\n",
       "      <td>[]</td>\n",
       "    </tr>\n",
       "    <tr>\n",
       "      <th>999494794341860534</th>\n",
       "      <td>[]</td>\n",
       "    </tr>\n",
       "    <tr>\n",
       "      <th>999497118109831317</th>\n",
       "      <td>[]</td>\n",
       "    </tr>\n",
       "    <tr>\n",
       "      <th>999505209667894251</th>\n",
       "      <td>[]</td>\n",
       "    </tr>\n",
       "    <tr>\n",
       "      <th>999560718313731479</th>\n",
       "      <td>[]</td>\n",
       "    </tr>\n",
       "    <tr>\n",
       "      <th>999580121817621990</th>\n",
       "      <td>[]</td>\n",
       "    </tr>\n",
       "    <tr>\n",
       "      <th>999598199450596831</th>\n",
       "      <td>[]</td>\n",
       "    </tr>\n",
       "    <tr>\n",
       "      <th>999670327859005635</th>\n",
       "      <td>[]</td>\n",
       "    </tr>\n",
       "    <tr>\n",
       "      <th>999677022268213435</th>\n",
       "      <td>[]</td>\n",
       "    </tr>\n",
       "    <tr>\n",
       "      <th>999678363267430226</th>\n",
       "      <td>[]</td>\n",
       "    </tr>\n",
       "    <tr>\n",
       "      <th>99968097323969007</th>\n",
       "      <td>[]</td>\n",
       "    </tr>\n",
       "    <tr>\n",
       "      <th>999688438448340320</th>\n",
       "      <td>[]</td>\n",
       "    </tr>\n",
       "    <tr>\n",
       "      <th>999825603100465965</th>\n",
       "      <td>[]</td>\n",
       "    </tr>\n",
       "    <tr>\n",
       "      <th>999841152693402008</th>\n",
       "      <td>[]</td>\n",
       "    </tr>\n",
       "    <tr>\n",
       "      <th>999856679828258296</th>\n",
       "      <td>[]</td>\n",
       "    </tr>\n",
       "    <tr>\n",
       "      <th>999859387216211037</th>\n",
       "      <td>[]</td>\n",
       "    </tr>\n",
       "    <tr>\n",
       "      <th>999861371278413448</th>\n",
       "      <td>[]</td>\n",
       "    </tr>\n",
       "    <tr>\n",
       "      <th>999867993116515976</th>\n",
       "      <td>[]</td>\n",
       "    </tr>\n",
       "    <tr>\n",
       "      <th>999878474894177654</th>\n",
       "      <td>[]</td>\n",
       "    </tr>\n",
       "    <tr>\n",
       "      <th>999917152933638835</th>\n",
       "      <td>[]</td>\n",
       "    </tr>\n",
       "    <tr>\n",
       "      <th>999935416295858644</th>\n",
       "      <td>[]</td>\n",
       "    </tr>\n",
       "    <tr>\n",
       "      <th>999940515753522169</th>\n",
       "      <td>[]</td>\n",
       "    </tr>\n",
       "    <tr>\n",
       "      <th>999946870138086085</th>\n",
       "      <td>[]</td>\n",
       "    </tr>\n",
       "  </tbody>\n",
       "</table>\n",
       "<p>393565 rows × 1 columns</p>\n",
       "</div>"
      ],
      "text/plain": [
       "                    created\n",
       "ref_hash                   \n",
       "1000001243847627208      []\n",
       "1000061425870948777      []\n",
       "1000080701377762047      []\n",
       "1000085014918096773      []\n",
       "1000095322020146100      []\n",
       "100010331276132711       []\n",
       "1000138003886484266      []\n",
       "1000169251625791246      []\n",
       "1000172260833750114      []\n",
       "1000193663803871158      []\n",
       "1000214925038058238      []\n",
       "1000252911429490816      []\n",
       "1000280583608032134      []\n",
       "1000288182047842384      []\n",
       "1000289045777700145      []\n",
       "1000289257101263364      []\n",
       "1000298337185304784      []\n",
       "1000303030927429183      []\n",
       "1000311397529546585      []\n",
       "1000395625957344683      []\n",
       "1000400432115255220      []\n",
       "1000415819191128399      []\n",
       "100043173982509042       []\n",
       "1000460323586746418      []\n",
       "1000503354791340162      []\n",
       "1000503394293263005      []\n",
       "1000511065592673272      []\n",
       "1000562420932097965      []\n",
       "1000579005153547970      []\n",
       "100060337727376595       []\n",
       "...                     ...\n",
       "99929747069593628        []\n",
       "999332789881131365       []\n",
       "999339728099534212       []\n",
       "999343332298494610       []\n",
       "999449978116137705       []\n",
       "999470036713556672       []\n",
       "999472619848715560       []\n",
       "999487176172468285       []\n",
       "999494794341860534       []\n",
       "999497118109831317       []\n",
       "999505209667894251       []\n",
       "999560718313731479       []\n",
       "999580121817621990       []\n",
       "999598199450596831       []\n",
       "999670327859005635       []\n",
       "999677022268213435       []\n",
       "999678363267430226       []\n",
       "99968097323969007        []\n",
       "999688438448340320       []\n",
       "999825603100465965       []\n",
       "999841152693402008       []\n",
       "999856679828258296       []\n",
       "999859387216211037       []\n",
       "999861371278413448       []\n",
       "999867993116515976       []\n",
       "999878474894177654       []\n",
       "999917152933638835       []\n",
       "999935416295858644       []\n",
       "999940515753522169       []\n",
       "999946870138086085       []\n",
       "\n",
       "[393565 rows x 1 columns]"
      ]
     },
     "execution_count": 53,
     "metadata": {},
     "output_type": "execute_result"
    }
   ],
   "source": [
    "a.groupby('ref_hash').agg({'created': lambda x: list(x)})"
   ]
  },
  {
   "cell_type": "code",
   "execution_count": 12,
   "metadata": {},
   "outputs": [],
   "source": [
    "window_1['count'] = (window_1.groupby('ref_hash')['ref_hash']).transform('count')"
   ]
  },
  {
   "cell_type": "code",
   "execution_count": 13,
   "metadata": {},
   "outputs": [],
   "source": [
    "window_1['last_install'] = window_1.groupby('ref_hash')['created'].transform('max')"
   ]
  },
  {
   "cell_type": "code",
   "execution_count": 14,
   "metadata": {},
   "outputs": [],
   "source": [
    "window_1['first_install'] = window_1.groupby('ref_hash')['created'].transform('min')"
   ]
  },
  {
   "cell_type": "code",
   "execution_count": 38,
   "metadata": {},
   "outputs": [],
   "source": [
    "# window_1.loc[window_1['total_count'] > window_1['count']].head()"
   ]
  },
  {
   "cell_type": "code",
   "execution_count": 15,
   "metadata": {},
   "outputs": [],
   "source": [
    "window_1['diff_first'] = (window_1['created'] - window_1['first_install']).dt.total_seconds()"
   ]
  },
  {
   "cell_type": "code",
   "execution_count": null,
   "metadata": {},
   "outputs": [],
   "source": [
    "# tomo los dos primeros valores de cada ref_hash en time!\n",
    "# deberia hacer esto por cada ventana y no por el total, sino cuando separe las ventanas no va funcionar\n",
    "\n",
    "a = (window_1.sort_values('created').groupby('ref_hash').head(2))"
   ]
  },
  {
   "cell_type": "code",
   "execution_count": 18,
   "metadata": {},
   "outputs": [
    {
     "name": "stdout",
     "output_type": "stream",
     "text": [
      "160861\n",
      "157363\n",
      "158559\n",
      "160617\n",
      "159013\n"
     ]
    }
   ],
   "source": [
    "print(len(window_1))\n",
    "print(len(window_2))\n",
    "print(len(window_3))\n",
    "print(len(window_4))\n",
    "print(len(window_5))"
   ]
  },
  {
   "cell_type": "markdown",
   "metadata": {},
   "source": [
    "# **XGBOOX**"
   ]
  },
  {
   "cell_type": "code",
   "execution_count": null,
   "metadata": {},
   "outputs": [],
   "source": [
    "from sklearn.ensemble import RandomForestRegressor\n",
    "from sklearn.datasets import load_boston"
   ]
  },
  {
   "cell_type": "code",
   "execution_count": null,
   "metadata": {},
   "outputs": [],
   "source": [
    "boston = load_boston()"
   ]
  },
  {
   "cell_type": "code",
   "execution_count": 36,
   "metadata": {},
   "outputs": [],
   "source": [
    "rf = RandomForestRegressor(n_estimators = 2, random_state = 0)\n",
    "rf.fit(window_1,window_1)\n",
    "window_1_pred = rf.predict(window_2)"
   ]
  },
  {
   "cell_type": "code",
   "execution_count": 21,
   "metadata": {},
   "outputs": [],
   "source": [
    "# installs = installs['kind'].fillna('unknown_')\n",
    "# open_app = installs[installs['kind'].str.contains('open')]\n",
    "# open_app"
   ]
  },
  {
   "cell_type": "code",
   "execution_count": 34,
   "metadata": {},
   "outputs": [
    {
     "data": {
      "text/plain": [
       "array([[ 1.00168373e+17,  3.42000000e+01,  9.50000000e-01,\n",
       "         0.00000000e+00,  0.00000000e+00,  6.00000000e-01],\n",
       "       [ 1.00170625e+18,  2.31500000e+01,  1.00000000e+00,\n",
       "         0.00000000e+00,  0.00000000e+00, -3.50000000e-01],\n",
       "       [ 1.00180223e+18,  3.41500000e+01,  1.00000000e+00,\n",
       "         0.00000000e+00,  0.00000000e+00,  6.50000000e-01],\n",
       "       ...,\n",
       "       [ 9.98574351e+17,  9.42000000e+01,  1.00000000e+00,\n",
       "         0.00000000e+00,  1.50000000e-01, -5.50000000e-01],\n",
       "       [ 9.98576690e+17,  1.28000000e+02,  1.00000000e+00,\n",
       "         0.00000000e+00,  5.00000000e-02, -8.50000000e-01],\n",
       "       [ 9.98576690e+17,  1.28000000e+02,  1.00000000e+00,\n",
       "         0.00000000e+00,  5.00000000e-02, -8.50000000e-01]])"
      ]
     },
     "execution_count": 34,
     "metadata": {},
     "output_type": "execute_result"
    }
   ],
   "source": [
    "window_1_pred"
   ]
  },
  {
   "cell_type": "code",
   "execution_count": null,
   "metadata": {},
   "outputs": [],
   "source": [
    "rf.fit(windows[features], y)"
   ]
  },
  {
   "cell_type": "markdown",
   "metadata": {},
   "source": [
    "### Clicks"
   ]
  },
  {
   "cell_type": "code",
   "execution_count": 37,
   "metadata": {},
   "outputs": [
    {
     "name": "stderr",
     "output_type": "stream",
     "text": [
      "/home/eliana/fiuba/datos7506/envdt/lib/python3.6/site-packages/IPython/core/interactiveshell.py:3044: DtypeWarning: Columns (16,17) have mixed types. Specify dtype option on import or set low_memory=False.\n",
      "  interactivity=interactivity, compiler=compiler, result=result)\n"
     ]
    }
   ],
   "source": [
    "clicks = pd.read_csv(\"data/clicks.csv.gzip\")\n",
    "\n",
    "clicks = clicks.drop(columns=['agent_device', 'os_minor', 'os_major', 'country_code', 'action_id'\\\n",
    "                'brand', 'touchX', 'touchY', 'specs_brand', 'carrier_id', 'longitude', 'latitude'], axis=1)"
   ]
  },
  {
   "cell_type": "code",
   "execution_count": 38,
   "metadata": {},
   "outputs": [
    {
     "data": {
      "text/html": [
       "<div>\n",
       "<style scoped>\n",
       "    .dataframe tbody tr th:only-of-type {\n",
       "        vertical-align: middle;\n",
       "    }\n",
       "\n",
       "    .dataframe tbody tr th {\n",
       "        vertical-align: top;\n",
       "    }\n",
       "\n",
       "    .dataframe thead th {\n",
       "        text-align: right;\n",
       "    }\n",
       "</style>\n",
       "<table border=\"1\" class=\"dataframe\">\n",
       "  <thead>\n",
       "    <tr style=\"text-align: right;\">\n",
       "      <th></th>\n",
       "      <th>advertiser_id</th>\n",
       "      <th>action_id</th>\n",
       "      <th>source_id</th>\n",
       "      <th>created</th>\n",
       "      <th>wifi_connection</th>\n",
       "      <th>trans_id</th>\n",
       "      <th>timeToClick</th>\n",
       "      <th>ref_type</th>\n",
       "      <th>ref_hash</th>\n",
       "    </tr>\n",
       "  </thead>\n",
       "  <tbody>\n",
       "    <tr>\n",
       "      <th>0</th>\n",
       "      <td>1</td>\n",
       "      <td>NaN</td>\n",
       "      <td>2</td>\n",
       "      <td>2019-04-18T05:27:42.197Z</td>\n",
       "      <td>False</td>\n",
       "      <td>9JMAfrb-b9cSEVCJb0P9JfihGthaS7E</td>\n",
       "      <td>2.317</td>\n",
       "      <td>1891515180541284343</td>\n",
       "      <td>1293710398598742392</td>\n",
       "    </tr>\n",
       "    <tr>\n",
       "      <th>1</th>\n",
       "      <td>1</td>\n",
       "      <td>NaN</td>\n",
       "      <td>1</td>\n",
       "      <td>2019-04-18T05:27:03.164Z</td>\n",
       "      <td>True</td>\n",
       "      <td>r3xtTRv2lInfiXG8JI3NQsNcBo8GyFQ</td>\n",
       "      <td>7.653</td>\n",
       "      <td>1891515180541284343</td>\n",
       "      <td>1663930990551616564</td>\n",
       "    </tr>\n",
       "    <tr>\n",
       "      <th>2</th>\n",
       "      <td>1</td>\n",
       "      <td>NaN</td>\n",
       "      <td>1</td>\n",
       "      <td>2019-04-18T05:42:07.926Z</td>\n",
       "      <td>True</td>\n",
       "      <td>WOnHFqQtY48z_ygKZ-030U_g0TMGVMw</td>\n",
       "      <td>464.796</td>\n",
       "      <td>1891515180541284343</td>\n",
       "      <td>8488038938665586188</td>\n",
       "    </tr>\n",
       "    <tr>\n",
       "      <th>3</th>\n",
       "      <td>1</td>\n",
       "      <td>NaN</td>\n",
       "      <td>1</td>\n",
       "      <td>2019-04-18T05:26:04.446Z</td>\n",
       "      <td>True</td>\n",
       "      <td>wQMLLmYqiFhSuha9p9B13PMtcyBW_vM</td>\n",
       "      <td>225.311</td>\n",
       "      <td>1891515180541284343</td>\n",
       "      <td>6488361690105189959</td>\n",
       "    </tr>\n",
       "    <tr>\n",
       "      <th>4</th>\n",
       "      <td>1</td>\n",
       "      <td>NaN</td>\n",
       "      <td>1</td>\n",
       "      <td>2019-04-18T05:23:37.764Z</td>\n",
       "      <td>True</td>\n",
       "      <td>GeFoyBzMA7taylMxxjzlNPTU-n4FXFs</td>\n",
       "      <td>84.736</td>\n",
       "      <td>1891515180541284343</td>\n",
       "      <td>1348993302102753419</td>\n",
       "    </tr>\n",
       "  </tbody>\n",
       "</table>\n",
       "</div>"
      ],
      "text/plain": [
       "   advertiser_id  action_id  source_id                   created  \\\n",
       "0              1        NaN          2  2019-04-18T05:27:42.197Z   \n",
       "1              1        NaN          1  2019-04-18T05:27:03.164Z   \n",
       "2              1        NaN          1  2019-04-18T05:42:07.926Z   \n",
       "3              1        NaN          1  2019-04-18T05:26:04.446Z   \n",
       "4              1        NaN          1  2019-04-18T05:23:37.764Z   \n",
       "\n",
       "   wifi_connection                         trans_id  timeToClick  \\\n",
       "0            False  9JMAfrb-b9cSEVCJb0P9JfihGthaS7E        2.317   \n",
       "1             True  r3xtTRv2lInfiXG8JI3NQsNcBo8GyFQ        7.653   \n",
       "2             True  WOnHFqQtY48z_ygKZ-030U_g0TMGVMw      464.796   \n",
       "3             True  wQMLLmYqiFhSuha9p9B13PMtcyBW_vM      225.311   \n",
       "4             True  GeFoyBzMA7taylMxxjzlNPTU-n4FXFs       84.736   \n",
       "\n",
       "              ref_type             ref_hash  \n",
       "0  1891515180541284343  1293710398598742392  \n",
       "1  1891515180541284343  1663930990551616564  \n",
       "2  1891515180541284343  8488038938665586188  \n",
       "3  1891515180541284343  6488361690105189959  \n",
       "4  1891515180541284343  1348993302102753419  "
      ]
     },
     "execution_count": 38,
     "metadata": {},
     "output_type": "execute_result"
    }
   ],
   "source": [
    "clicks.head()"
   ]
  },
  {
   "cell_type": "code",
   "execution_count": null,
   "metadata": {},
   "outputs": [],
   "source": [
    "installs['wifi'] = installs['wifi'].map({True: 1, False: 0})\n",
    "installs['wifi'] = installs['wifi'].fillna(-1)\n",
    "\n",
    "installs['ref_type'] = installs['ref_type'].map({'1891515180541284343': 1, '1494519392962156891': 0})"
   ]
  },
  {
   "cell_type": "code",
   "execution_count": 74,
   "metadata": {},
   "outputs": [],
   "source": [
    "window_1_click = clicks[clicks['created'].between('2019-04-18', '2019-04-21')]"
   ]
  },
  {
   "cell_type": "code",
   "execution_count": 75,
   "metadata": {},
   "outputs": [],
   "source": [
    "clicks_first = pd.merge(window_1_click, window_1_click.groupby('ref_hash').agg('size').reset_index(), on='ref_hash', how='inner')"
   ]
  },
  {
   "cell_type": "code",
   "execution_count": 76,
   "metadata": {},
   "outputs": [],
   "source": [
    "clicks_first = clicks_first.drop_duplicates('ref_hash')"
   ]
  },
  {
   "cell_type": "code",
   "execution_count": 90,
   "metadata": {},
   "outputs": [],
   "source": [
    "installs_ref_hash_2 = pd.merge(installs, clicks, on='ref_hash', how='inner')"
   ]
  },
  {
   "cell_type": "code",
   "execution_count": 91,
   "metadata": {},
   "outputs": [
    {
     "data": {
      "text/html": [
       "<div>\n",
       "<style scoped>\n",
       "    .dataframe tbody tr th:only-of-type {\n",
       "        vertical-align: middle;\n",
       "    }\n",
       "\n",
       "    .dataframe tbody tr th {\n",
       "        vertical-align: top;\n",
       "    }\n",
       "\n",
       "    .dataframe thead th {\n",
       "        text-align: right;\n",
       "    }\n",
       "</style>\n",
       "<table border=\"1\" class=\"dataframe\">\n",
       "  <thead>\n",
       "    <tr style=\"text-align: right;\">\n",
       "      <th></th>\n",
       "      <th>created_x</th>\n",
       "      <th>application_id</th>\n",
       "      <th>ref_type_x</th>\n",
       "      <th>ref_hash</th>\n",
       "      <th>click_hash</th>\n",
       "      <th>attributed</th>\n",
       "      <th>implicit</th>\n",
       "      <th>kind</th>\n",
       "      <th>wifi</th>\n",
       "      <th>trans_id_x</th>\n",
       "      <th>advertiser_id</th>\n",
       "      <th>action_id</th>\n",
       "      <th>source_id</th>\n",
       "      <th>created_y</th>\n",
       "      <th>wifi_connection</th>\n",
       "      <th>trans_id_y</th>\n",
       "      <th>timeToClick</th>\n",
       "      <th>ref_type_y</th>\n",
       "    </tr>\n",
       "  </thead>\n",
       "  <tbody>\n",
       "  </tbody>\n",
       "</table>\n",
       "</div>"
      ],
      "text/plain": [
       "Empty DataFrame\n",
       "Columns: [created_x, application_id, ref_type_x, ref_hash, click_hash, attributed, implicit, kind, wifi, trans_id_x, advertiser_id, action_id, source_id, created_y, wifi_connection, trans_id_y, timeToClick, ref_type_y]\n",
       "Index: []"
      ]
     },
     "execution_count": 91,
     "metadata": {},
     "output_type": "execute_result"
    }
   ],
   "source": [
    "installs_ref_hash_2.head()"
   ]
  }
 ],
 "metadata": {
  "kernelspec": {
   "display_name": "Python 3",
   "language": "python",
   "name": "python3"
  },
  "language_info": {
   "codemirror_mode": {
    "name": "ipython",
    "version": 3
   },
   "file_extension": ".py",
   "mimetype": "text/x-python",
   "name": "python",
   "nbconvert_exporter": "python",
   "pygments_lexer": "ipython3",
   "version": "3.6.7"
  }
 },
 "nbformat": 4,
 "nbformat_minor": 2
}
