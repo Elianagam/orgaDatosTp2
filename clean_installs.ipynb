{
 "cells": [
  {
   "cell_type": "code",
   "execution_count": 1,
   "metadata": {},
   "outputs": [],
   "source": [
    "import pandas as pd\n",
    "import numpy as np"
   ]
  },
  {
   "cell_type": "code",
   "execution_count": 2,
   "metadata": {},
   "outputs": [],
   "source": [
    "dtypes_dict = {'created':'str',  'ref_type': 'category', 'device_brand': np.float32, \\\n",
    "                'device_countrycode': 'category', 'device_language': 'category', \\\n",
    "                'ref_hash': 'category', 'kind': 'str', 'user_agent': 'str'}\n",
    "\n",
    "installs = pd.read_csv('data/installs.csv.gzip', dtype=dtypes_dict, low_memory=False)\n",
    "\n",
    "installs = installs.drop('device_countrycode', axis=1)\n",
    "installs['created'] = pd.to_datetime(installs['created'], format='%Y-%m-%d %H:%M:%S')"
   ]
  },
  {
   "cell_type": "code",
   "execution_count": 3,
   "metadata": {},
   "outputs": [],
   "source": [
    "installs = installs.drop(columns=['device_language', 'ip_address', 'event_uuid', 'device_brand', \\\n",
    "                         'device_model', 'click_hash', 'session_user_agent'])"
   ]
  },
  {
   "cell_type": "code",
   "execution_count": 4,
   "metadata": {},
   "outputs": [],
   "source": [
    "# Normalizacion de valores a binario\n",
    "\n",
    "installs['wifi'] = installs['wifi'].map({True: 1, False: 0})\n",
    "installs['wifi'] = installs['wifi'].fillna(-1)\n",
    "\n",
    "installs['attributed'] = installs['attributed'].map({True: 1, False: 0})\n",
    "installs['implicit'] = installs['implicit'].map({True: 1, False: 0})"
   ]
  },
  {
   "cell_type": "code",
   "execution_count": 5,
   "metadata": {},
   "outputs": [],
   "source": [
    "installs['ref_type_android'] = (installs['ref_type'].astype(str).str.contains(\"1891515180541284343\") == True).astype(int)\n",
    "installs['ref_type_iphone'] = (installs['ref_type'].astype(str).str.contains(\"1494519392962156891\") == True).astype(int)\n",
    "\n",
    "installs = installs.drop('ref_type', axis=1)"
   ]
  },
  {
   "cell_type": "code",
   "execution_count": 6,
   "metadata": {},
   "outputs": [],
   "source": [
    "# features de dias\n",
    "\n",
    "installs['weekday'] = installs['created'].dt.weekday\n",
    "\n",
    "installs = pd.get_dummies(installs, columns=['weekday'])\n",
    "\n",
    "# installs = installs.rename(index=str, columns={\"weekday_0\": \"lunes\", \"weekday_1\": \"martes\", \"weekday_2\": \"miercoles\", \\\n",
    "#                              \"weekday_3\": \"jueves\", \"weekday_4\": \"viernes\", \"weekday_5\": \"sabado\", \\\n",
    "#                              \"weekday_6\": \"domingo\"})"
   ]
  },
  {
   "cell_type": "code",
   "execution_count": 7,
   "metadata": {},
   "outputs": [],
   "source": [
    "# feature horarios\n",
    "\n",
    "bins = [0, 6, 13, 17, 25]\n",
    "labels = ['morning','afternoon','evening','night']\n",
    "hours = installs['created'].dt.hour\n",
    "installs['time'] = pd.cut(hours-5+24 *(hours<5),bins=bins,labels=labels,right=False)\n",
    "\n",
    "installs = pd.get_dummies(installs, columns=['time'])"
   ]
  },
  {
   "cell_type": "code",
   "execution_count": 8,
   "metadata": {},
   "outputs": [],
   "source": [
    "# installs kinds to features, creo que no sirve\n",
    "\n",
    "installs['kind_open'] = (installs['kind'].astype(str).str.lower().str.contains(\"open|abertura\") == True).astype(int)\n",
    "installs['kind_home'] = (installs['kind'].astype(str).str.lower().str.contains(\"home\") == True).astype(int)\n",
    "installs['kind_start'] = (installs['kind'].astype(str).str.lower().str.contains(\"start\") == True).astype(int)\n",
    "installs['kind_view'] = (installs['kind'].astype(str).str.lower().str.contains(\"view\") == True).astype(int)\n",
    "installs['kind_sign'] = (installs['kind'].astype(str).str.lower().str.contains(\"sign|registration|account\") == True).astype(int)\n",
    "installs['kind_login'] = (installs['kind'].astype(str).str.lower().str.contains(\"login|begin\") == True).astype(int)\n",
    "installs['kind_launch'] = (installs['kind'].astype(str).str.lower().str.contains(\"launch\") == True).astype(int)\n",
    "installs['kind_install'] = (installs['kind'].astype(str).str.lower().str.contains(\"install\") == True).astype(int)\n",
    "installs['kind_purchase'] = (installs['kind'].astype(str).str.lower().str.contains(\"purchase|buy\") == True).astype(int)\n",
    "installs['kind_add'] = (installs['kind'].astype(str).str.lower().str.contains(\"add\") == True).astype(int)"
   ]
  },
  {
   "cell_type": "code",
   "execution_count": 9,
   "metadata": {},
   "outputs": [],
   "source": [
    "# user_agent features\n",
    "\n",
    "installs['agent_tiktok'] = (installs['user_agent'].astype(str).str.lower().str.contains(\"tiktok\") == True).astype(int)\n",
    "installs['agent_sindelantal'] = (installs['user_agent'].astype(str).str.lower().str.contains(\"sindelantal\") == True).astype(int)\n",
    "installs['agent_gardenscapes'] = (installs['user_agent'].astype(str).str.lower().str.contains(\"gardenscapes\") == True).astype(int)\n",
    "installs['agent_dalvik'] = (installs['user_agent'].astype(str).str.lower().str.contains(\"dalvik\") == True).astype(int)\n",
    "installs['agent_wish'] = (installs['user_agent'].astype(str).str.lower().str.contains(\"wish\") == True).astype(int)\n",
    "installs['agent_trivago'] = (installs['user_agent'].astype(str).str.lower().str.contains(\"trivago\") == True).astype(int)\n",
    "installs['agent_grability'] = (installs['user_agent'].astype(str).str.lower().str.contains(\"grability\") == True).astype(int)\n",
    "installs['agent_mercadopago'] = (installs['user_agent'].astype(str).str.lower().str.contains(\"mercadopago\") == True).astype(int)"
   ]
  },
  {
   "cell_type": "code",
   "execution_count": 10,
   "metadata": {},
   "outputs": [],
   "source": [
    "# contar cuantas veces instalo un usuario\n",
    "\n",
    "installs['total_count_install'] = installs.groupby('ref_hash')['ref_hash'].transform('count')"
   ]
  },
  {
   "cell_type": "code",
   "execution_count": 11,
   "metadata": {},
   "outputs": [],
   "source": [
    "installs = installs.drop(columns=['kind', 'user_agent', 'trans_id'])"
   ]
  },
  {
   "cell_type": "markdown",
   "metadata": {},
   "source": [
    "# **Ventanas para train y test**"
   ]
  },
  {
   "cell_type": "code",
   "execution_count": 8,
   "metadata": {},
   "outputs": [],
   "source": [
    "time_start_1 = '2019-04-18'\n",
    "time_start_2 = '2019-04-19'\n",
    "time_start_3 = '2019-04-20'\n",
    "time_start_4 = '2019-04-21'\n",
    "time_start_5 = '2019-04-22'"
   ]
  },
  {
   "cell_type": "code",
   "execution_count": 12,
   "metadata": {},
   "outputs": [],
   "source": [
    "# Ventanas para train y testing\n",
    "\n",
    "window_1 = installs.loc[installs['created'].between('2019-04-18', '2019-04-21')]\n",
    "window_2 = installs.loc[installs['created'].between('2019-04-19', '2019-04-22')]\n",
    "# window_3 = installs.loc[installs['created'].between('2019-04-20', '2019-04-23')]\n",
    "# window_4 = installs.loc[installs['created'].between('2019-04-21', '2019-04-24')]\n",
    "# window_5 = installs.loc[installs['created'].between('2019-04-22', '2019-04-25')]"
   ]
  },
  {
   "cell_type": "code",
   "execution_count": 13,
   "metadata": {},
   "outputs": [],
   "source": [
    "# Ordeno por fechas\n",
    "\n",
    "window_1 = window_1.sort_values('created')\n",
    "window_2 = window_2.sort_values('created')\n",
    "# window_3 = window_3.sort_values('created')\n",
    "# window_4 = window_4.sort_values('created')\n",
    "# window_5 = window_5.sort_values('created')"
   ]
  },
  {
   "cell_type": "code",
   "execution_count": 14,
   "metadata": {},
   "outputs": [],
   "source": [
    "# Contar la cantidad de apariciones que tiene un usuario por ventada\n",
    "\n",
    "window_1['count'] = window_1.groupby('ref_hash')['ref_hash'].transform('count')\n",
    "window_2['count'] = window_2.groupby('ref_hash')['ref_hash'].transform('count')\n",
    "# window_3['count'] = window_3.groupby('ref_hash')['ref_hash'].transform('count')\n",
    "# window_4['count'] = window_4.groupby('ref_hash')['ref_hash'].transform('count')\n",
    "# window_5['count'] = window_5.groupby('ref_hash')['ref_hash'].transform('count')"
   ]
  },
  {
   "cell_type": "code",
   "execution_count": 15,
   "metadata": {},
   "outputs": [],
   "source": [
    "# primera y ultima instalacion por ref_hash\n",
    "\n",
    "window_1['last_install'] = window_1.groupby('ref_hash')['created'].transform('max')\n",
    "window_1['first_install'] = window_1.groupby('ref_hash')['created'].transform('min')\n",
    "\n",
    "window_2['last_install'] = window_2.groupby('ref_hash')['created'].transform('max')\n",
    "window_2['first_install'] = window_2.groupby('ref_hash')['created'].transform('min')\n",
    "\n",
    "# window_3['last_install'] = window_3.groupby('ref_hash')['created'].transform('max')\n",
    "# window_3['first_install'] = window_3.groupby('ref_hash')['created'].transform('min')\n",
    "\n",
    "# window_4['last_install'] = window_4.groupby('ref_hash')['created'].transform('max')\n",
    "# window_4['first_install'] = window_4.groupby('ref_hash')['created'].transform('min')\n",
    "\n",
    "# window_5['last_install'] = window_5.groupby('ref_hash')['created'].transform('max')\n",
    "# window_5['first_install'] = window_5.groupby('ref_hash')['created'].transform('min')"
   ]
  },
  {
   "cell_type": "code",
   "execution_count": 16,
   "metadata": {},
   "outputs": [],
   "source": [
    "# diferencia de tiempo entre la primera y la ultima instalacion\n",
    "\n",
    "window_1['diff_first_installs'] = (window_1['last_install'] - window_1['first_install']).dt.total_seconds()\n",
    "\n",
    "window_2['diff_first_installs'] = (window_2['last_install'] - window_2['first_install']).dt.total_seconds()\n",
    "\n",
    "# window_3['diff_first_installs'] = (window_3['last_install'] - window_3['first_install']).dt.total_seconds()\n",
    "\n",
    "# window_4['diff_first_installs'] = (window_4['last_install'] - window_4['first_install']).dt.total_seconds()\n",
    "\n",
    "# window_5['diff_first_installs'] = (window_5['last_install'] - window_5['first_install']).dt.total_seconds()"
   ]
  },
  {
   "cell_type": "code",
   "execution_count": 17,
   "metadata": {},
   "outputs": [],
   "source": [
    "# Promedio de diferencias de tiempo entre todas las instalaciones\n",
    "window_1['prom_time_install'] = 0\n",
    "window_1.loc[window_1['count'] > 1, 'prom_time_install'] = ((window_1['last_install'] - window_1['first_install'])/ \\\n",
    "                                 (window_1['count'] -1)).dt.total_seconds()\n",
    "\n",
    "window_2['prom_time_install'] = 0\n",
    "window_2.loc[window_2['count'] > 1,'prom_time_install'] = ((window_2['last_install'] - window_2['first_install'])/ \\\n",
    "                                 (window_2['count'] - 1)).dt.total_seconds()\n",
    "\n",
    "# window_3['prom_time_install'] = 0\n",
    "# window_3.loc[window_3['count'] > 1,'prom_time_install'] = ((window_3['last_install'] - window_3['first_install'])/ \\\n",
    "#                                  (window_3['count'] - 1)).dt.total_seconds()\n",
    "\n",
    "# window_4['prom_time_install'] = 0\n",
    "# window_4.loc[window_4['count'] > 1, 'prom_time_install'] = ((window_4['last_install'] - window_4['first_install'])/ \\\n",
    "#                                  (window_4['count'] - 1)).dt.total_seconds()\n",
    "\n",
    "# window_5['prom_time_install'] = 0\n",
    "# window_5.loc[window_5['count'] > 1, 'prom_time_install'] = ((window_5['last_install'] - window_5['first_install'])/ \\\n",
    "#                                  (window_5['count'] -1 )).dt.total_seconds()"
   ]
  },
  {
   "cell_type": "code",
   "execution_count": 22,
   "metadata": {},
   "outputs": [
    {
     "data": {
      "text/html": [
       "<div>\n",
       "<style scoped>\n",
       "    .dataframe tbody tr th:only-of-type {\n",
       "        vertical-align: middle;\n",
       "    }\n",
       "\n",
       "    .dataframe tbody tr th {\n",
       "        vertical-align: top;\n",
       "    }\n",
       "\n",
       "    .dataframe thead th {\n",
       "        text-align: right;\n",
       "    }\n",
       "</style>\n",
       "<table border=\"1\" class=\"dataframe\">\n",
       "  <thead>\n",
       "    <tr style=\"text-align: right;\">\n",
       "      <th></th>\n",
       "      <th>created</th>\n",
       "      <th>application_id</th>\n",
       "      <th>ref_hash</th>\n",
       "      <th>attributed</th>\n",
       "      <th>implicit</th>\n",
       "      <th>wifi</th>\n",
       "      <th>ref_type_android</th>\n",
       "      <th>ref_type_iphone</th>\n",
       "      <th>weekday_0</th>\n",
       "      <th>weekday_1</th>\n",
       "      <th>...</th>\n",
       "      <th>agent_wish</th>\n",
       "      <th>agent_trivago</th>\n",
       "      <th>agent_grability</th>\n",
       "      <th>agent_mercadopago</th>\n",
       "      <th>total_count_install</th>\n",
       "      <th>count</th>\n",
       "      <th>last_install</th>\n",
       "      <th>first_install</th>\n",
       "      <th>diff_first_installs</th>\n",
       "      <th>prom_time_install</th>\n",
       "    </tr>\n",
       "  </thead>\n",
       "  <tbody>\n",
       "    <tr>\n",
       "      <th>111872</th>\n",
       "      <td>2019-04-18 00:00:33.627</td>\n",
       "      <td>65</td>\n",
       "      <td>4676578089958170485</td>\n",
       "      <td>0</td>\n",
       "      <td>0</td>\n",
       "      <td>1.0</td>\n",
       "      <td>1</td>\n",
       "      <td>0</td>\n",
       "      <td>0</td>\n",
       "      <td>0</td>\n",
       "      <td>...</td>\n",
       "      <td>0</td>\n",
       "      <td>0</td>\n",
       "      <td>0</td>\n",
       "      <td>0</td>\n",
       "      <td>3</td>\n",
       "      <td>3</td>\n",
       "      <td>2019-04-18 00:01:59.673</td>\n",
       "      <td>2019-04-18 00:00:33.627</td>\n",
       "      <td>86.046</td>\n",
       "      <td>43.0230</td>\n",
       "    </tr>\n",
       "    <tr>\n",
       "      <th>308764</th>\n",
       "      <td>2019-04-18 00:00:51.554</td>\n",
       "      <td>26</td>\n",
       "      <td>4312630037032150640</td>\n",
       "      <td>0</td>\n",
       "      <td>1</td>\n",
       "      <td>-1.0</td>\n",
       "      <td>0</td>\n",
       "      <td>1</td>\n",
       "      <td>0</td>\n",
       "      <td>0</td>\n",
       "      <td>...</td>\n",
       "      <td>1</td>\n",
       "      <td>0</td>\n",
       "      <td>0</td>\n",
       "      <td>0</td>\n",
       "      <td>3</td>\n",
       "      <td>3</td>\n",
       "      <td>2019-04-18 00:00:52.185</td>\n",
       "      <td>2019-04-18 00:00:51.554</td>\n",
       "      <td>0.631</td>\n",
       "      <td>0.3155</td>\n",
       "    </tr>\n",
       "    <tr>\n",
       "      <th>308763</th>\n",
       "      <td>2019-04-18 00:00:51.647</td>\n",
       "      <td>26</td>\n",
       "      <td>4312630037032150640</td>\n",
       "      <td>0</td>\n",
       "      <td>1</td>\n",
       "      <td>-1.0</td>\n",
       "      <td>0</td>\n",
       "      <td>1</td>\n",
       "      <td>0</td>\n",
       "      <td>0</td>\n",
       "      <td>...</td>\n",
       "      <td>1</td>\n",
       "      <td>0</td>\n",
       "      <td>0</td>\n",
       "      <td>0</td>\n",
       "      <td>3</td>\n",
       "      <td>3</td>\n",
       "      <td>2019-04-18 00:00:52.185</td>\n",
       "      <td>2019-04-18 00:00:51.554</td>\n",
       "      <td>0.631</td>\n",
       "      <td>0.3155</td>\n",
       "    </tr>\n",
       "    <tr>\n",
       "      <th>308766</th>\n",
       "      <td>2019-04-18 00:00:52.185</td>\n",
       "      <td>26</td>\n",
       "      <td>4312630037032150640</td>\n",
       "      <td>0</td>\n",
       "      <td>0</td>\n",
       "      <td>-1.0</td>\n",
       "      <td>0</td>\n",
       "      <td>1</td>\n",
       "      <td>0</td>\n",
       "      <td>0</td>\n",
       "      <td>...</td>\n",
       "      <td>1</td>\n",
       "      <td>0</td>\n",
       "      <td>0</td>\n",
       "      <td>0</td>\n",
       "      <td>3</td>\n",
       "      <td>3</td>\n",
       "      <td>2019-04-18 00:00:52.185</td>\n",
       "      <td>2019-04-18 00:00:51.554</td>\n",
       "      <td>0.631</td>\n",
       "      <td>0.3155</td>\n",
       "    </tr>\n",
       "    <tr>\n",
       "      <th>465430</th>\n",
       "      <td>2019-04-18 00:01:52.515</td>\n",
       "      <td>121</td>\n",
       "      <td>4676578089958170485</td>\n",
       "      <td>0</td>\n",
       "      <td>0</td>\n",
       "      <td>1.0</td>\n",
       "      <td>1</td>\n",
       "      <td>0</td>\n",
       "      <td>0</td>\n",
       "      <td>0</td>\n",
       "      <td>...</td>\n",
       "      <td>0</td>\n",
       "      <td>0</td>\n",
       "      <td>0</td>\n",
       "      <td>0</td>\n",
       "      <td>3</td>\n",
       "      <td>3</td>\n",
       "      <td>2019-04-18 00:01:59.673</td>\n",
       "      <td>2019-04-18 00:00:33.627</td>\n",
       "      <td>86.046</td>\n",
       "      <td>43.0230</td>\n",
       "    </tr>\n",
       "  </tbody>\n",
       "</table>\n",
       "<p>5 rows × 33 columns</p>\n",
       "</div>"
      ],
      "text/plain": [
       "                       created  application_id             ref_hash  \\\n",
       "111872 2019-04-18 00:00:33.627              65  4676578089958170485   \n",
       "308764 2019-04-18 00:00:51.554              26  4312630037032150640   \n",
       "308763 2019-04-18 00:00:51.647              26  4312630037032150640   \n",
       "308766 2019-04-18 00:00:52.185              26  4312630037032150640   \n",
       "465430 2019-04-18 00:01:52.515             121  4676578089958170485   \n",
       "\n",
       "        attributed  implicit  wifi  ref_type_android  ref_type_iphone  \\\n",
       "111872           0         0   1.0                 1                0   \n",
       "308764           0         1  -1.0                 0                1   \n",
       "308763           0         1  -1.0                 0                1   \n",
       "308766           0         0  -1.0                 0                1   \n",
       "465430           0         0   1.0                 1                0   \n",
       "\n",
       "        weekday_0  weekday_1  ...  agent_wish  agent_trivago  agent_grability  \\\n",
       "111872          0          0  ...           0              0                0   \n",
       "308764          0          0  ...           1              0                0   \n",
       "308763          0          0  ...           1              0                0   \n",
       "308766          0          0  ...           1              0                0   \n",
       "465430          0          0  ...           0              0                0   \n",
       "\n",
       "        agent_mercadopago  total_count_install  count            last_install  \\\n",
       "111872                  0                    3      3 2019-04-18 00:01:59.673   \n",
       "308764                  0                    3      3 2019-04-18 00:00:52.185   \n",
       "308763                  0                    3      3 2019-04-18 00:00:52.185   \n",
       "308766                  0                    3      3 2019-04-18 00:00:52.185   \n",
       "465430                  0                    3      3 2019-04-18 00:01:59.673   \n",
       "\n",
       "                 first_install  diff_first_installs  prom_time_install  \n",
       "111872 2019-04-18 00:00:33.627               86.046            43.0230  \n",
       "308764 2019-04-18 00:00:51.554                0.631             0.3155  \n",
       "308763 2019-04-18 00:00:51.554                0.631             0.3155  \n",
       "308766 2019-04-18 00:00:51.554                0.631             0.3155  \n",
       "465430 2019-04-18 00:00:33.627               86.046            43.0230  \n",
       "\n",
       "[5 rows x 33 columns]"
      ]
     },
     "execution_count": 22,
     "metadata": {},
     "output_type": "execute_result"
    }
   ],
   "source": [
    "window_1.loc[window_1['count'] > 2].head()"
   ]
  },
  {
   "cell_type": "code",
   "execution_count": 23,
   "metadata": {},
   "outputs": [
    {
     "data": {
      "text/plain": [
       "created                0\n",
       "application_id         0\n",
       "ref_hash               0\n",
       "attributed             0\n",
       "implicit               0\n",
       "wifi                   0\n",
       "ref_type_android       0\n",
       "ref_type_iphone        0\n",
       "weekday_0              0\n",
       "weekday_1              0\n",
       "weekday_2              0\n",
       "weekday_3              0\n",
       "weekday_4              0\n",
       "weekday_5              0\n",
       "weekday_6              0\n",
       "time_morning           0\n",
       "time_afternoon         0\n",
       "time_evening           0\n",
       "time_night             0\n",
       "agent_tiktok           0\n",
       "agent_sindelantal      0\n",
       "agent_gardenscapes     0\n",
       "agent_dalvik           0\n",
       "agent_wish             0\n",
       "agent_trivago          0\n",
       "agent_grability        0\n",
       "agent_mercadopago      0\n",
       "total_count_install    0\n",
       "count                  0\n",
       "last_install           0\n",
       "first_install          0\n",
       "diff_first_installs    0\n",
       "prom_time_install      0\n",
       "dtype: int64"
      ]
     },
     "execution_count": 23,
     "metadata": {},
     "output_type": "execute_result"
    }
   ],
   "source": [
    "window_1.isna().sum()"
   ]
  },
  {
   "cell_type": "code",
   "execution_count": 18,
   "metadata": {},
   "outputs": [],
   "source": [
    "window_1 = window_1.drop(columns=['created', 'last_install', 'first_install'])\n",
    "window_2 = window_2.drop(columns=['created', 'last_install', 'first_install'])"
   ]
  },
  {
   "cell_type": "code",
   "execution_count": 18,
   "metadata": {},
   "outputs": [
    {
     "name": "stdout",
     "output_type": "stream",
     "text": [
      "160861\n",
      "157363\n",
      "158559\n",
      "160617\n",
      "159013\n"
     ]
    }
   ],
   "source": [
    "print(len(window_1))\n",
    "print(len(window_2))\n",
    "print(len(window_3))\n",
    "print(len(window_4))\n",
    "print(len(window_5))"
   ]
  },
  {
   "cell_type": "code",
   "execution_count": 19,
   "metadata": {},
   "outputs": [],
   "source": [
    "window_1 = window_1.groupby('ref_hash').head(1)\n",
    "window_2 = window_2.groupby('ref_hash').head(1)\n",
    "# asi['ref_hash'].value_counts()\n",
    "# window_2 = window_2.groupby('ref_hash').first()"
   ]
  },
  {
   "cell_type": "code",
   "execution_count": 58,
   "metadata": {},
   "outputs": [],
   "source": [
    "# window_1 = window_1.drop('ref_hash',axis=1)"
   ]
  },
  {
   "cell_type": "code",
   "execution_count": null,
   "metadata": {},
   "outputs": [],
   "source": [
    "join = window_1."
   ]
  },
  {
   "cell_type": "markdown",
   "metadata": {},
   "source": [
    "# **XGBOOX**"
   ]
  },
  {
   "cell_type": "code",
   "execution_count": null,
   "metadata": {},
   "outputs": [],
   "source": [
    "from sklearn.ensemble import RandomForestRegressor\n",
    "from sklearn.datasets import load_boston"
   ]
  },
  {
   "cell_type": "code",
   "execution_count": 51,
   "metadata": {},
   "outputs": [],
   "source": [
    "import xgboost as xgb\n",
    "from sklearn.metrics import mean_squared_error\n",
    "from sklearn.model_selection import train_test_split"
   ]
  },
  {
   "cell_type": "code",
   "execution_count": 66,
   "metadata": {},
   "outputs": [],
   "source": [
    "train, test = train_test_split(window_1, test_size=0.2)"
   ]
  },
  {
   "cell_type": "code",
   "execution_count": 67,
   "metadata": {},
   "outputs": [],
   "source": [
    "train_Y = train['prom_time_install']\n",
    "train_X = train.drop(columns=['prom_time_install'])\n",
    "test_Y = test['prom_time_install']\n",
    "test_X = test.drop(columns=['prom_time_install'])"
   ]
  },
  {
   "cell_type": "code",
   "execution_count": 68,
   "metadata": {},
   "outputs": [],
   "source": [
    "xg_reg = xgb.XGBRegressor(objective ='reg:linear', colsample_bytree = 0.3, learning_rate = 0.1,\n",
    "                max_depth = 5, alpha = 10, n_estimators = 10)"
   ]
  },
  {
   "cell_type": "code",
   "execution_count": 70,
   "metadata": {},
   "outputs": [
    {
     "name": "stderr",
     "output_type": "stream",
     "text": [
      "/home/eliana/fiuba/datos7506/envdt/lib/python3.6/site-packages/xgboost/core.py:587: FutureWarning: Series.base is deprecated and will be removed in a future version\n",
      "  if getattr(data, 'base', None) is not None and \\\n",
      "/home/eliana/fiuba/datos7506/envdt/lib/python3.6/site-packages/xgboost/core.py:588: FutureWarning: Series.base is deprecated and will be removed in a future version\n",
      "  data.base is not None and isinstance(data, np.ndarray) \\\n"
     ]
    },
    {
     "name": "stdout",
     "output_type": "stream",
     "text": [
      "[17:01:28] WARNING: /workspace/src/objective/regression_obj.cu:152: reg:linear is now deprecated in favor of reg:squarederror.\n"
     ]
    }
   ],
   "source": [
    "xg_reg.fit(train_X,train_Y)\n",
    "\n",
    "preds = xg_reg.predict(test_X)"
   ]
  },
  {
   "cell_type": "code",
   "execution_count": 71,
   "metadata": {},
   "outputs": [
    {
     "name": "stdout",
     "output_type": "stream",
     "text": [
      "RMSE: 10112.565456\n"
     ]
    }
   ],
   "source": [
    "rmse = np.sqrt(mean_squared_error(test_Y, preds))\n",
    "print(\"RMSE: %f\" % (rmse))"
   ]
  },
  {
   "cell_type": "code",
   "execution_count": 36,
   "metadata": {},
   "outputs": [],
   "source": [
    "# rf = RandomForestRegressor(n_estimators = 2, random_state = 0)\n",
    "# rf.fit(window_1,window_1)\n",
    "# window_1_pred = rf.predict(window_2)"
   ]
  },
  {
   "cell_type": "code",
   "execution_count": 21,
   "metadata": {},
   "outputs": [],
   "source": [
    "# installs = installs['kind'].fillna('unknown_')\n",
    "# open_app = installs[installs['kind'].str.contains('open')]\n",
    "# open_app"
   ]
  },
  {
   "cell_type": "code",
   "execution_count": 34,
   "metadata": {},
   "outputs": [
    {
     "data": {
      "text/plain": [
       "array([[ 1.00168373e+17,  3.42000000e+01,  9.50000000e-01,\n",
       "         0.00000000e+00,  0.00000000e+00,  6.00000000e-01],\n",
       "       [ 1.00170625e+18,  2.31500000e+01,  1.00000000e+00,\n",
       "         0.00000000e+00,  0.00000000e+00, -3.50000000e-01],\n",
       "       [ 1.00180223e+18,  3.41500000e+01,  1.00000000e+00,\n",
       "         0.00000000e+00,  0.00000000e+00,  6.50000000e-01],\n",
       "       ...,\n",
       "       [ 9.98574351e+17,  9.42000000e+01,  1.00000000e+00,\n",
       "         0.00000000e+00,  1.50000000e-01, -5.50000000e-01],\n",
       "       [ 9.98576690e+17,  1.28000000e+02,  1.00000000e+00,\n",
       "         0.00000000e+00,  5.00000000e-02, -8.50000000e-01],\n",
       "       [ 9.98576690e+17,  1.28000000e+02,  1.00000000e+00,\n",
       "         0.00000000e+00,  5.00000000e-02, -8.50000000e-01]])"
      ]
     },
     "execution_count": 34,
     "metadata": {},
     "output_type": "execute_result"
    }
   ],
   "source": [
    "window_1_pred"
   ]
  },
  {
   "cell_type": "code",
   "execution_count": null,
   "metadata": {},
   "outputs": [],
   "source": [
    "rf.fit(windows[features], y)"
   ]
  },
  {
   "cell_type": "markdown",
   "metadata": {},
   "source": [
    "### Clicks"
   ]
  },
  {
   "cell_type": "code",
   "execution_count": 37,
   "metadata": {},
   "outputs": [
    {
     "name": "stderr",
     "output_type": "stream",
     "text": [
      "/home/eliana/fiuba/datos7506/envdt/lib/python3.6/site-packages/IPython/core/interactiveshell.py:3044: DtypeWarning: Columns (16,17) have mixed types. Specify dtype option on import or set low_memory=False.\n",
      "  interactivity=interactivity, compiler=compiler, result=result)\n"
     ]
    }
   ],
   "source": [
    "clicks = pd.read_csv(\"data/clicks.csv.gzip\")\n",
    "\n",
    "clicks = clicks.drop(columns=['agent_device', 'os_minor', 'os_major', 'country_code', 'action_id'\\\n",
    "                'brand', 'touchX', 'touchY', 'specs_brand', 'carrier_id', 'longitude', 'latitude'], axis=1)"
   ]
  },
  {
   "cell_type": "code",
   "execution_count": 38,
   "metadata": {},
   "outputs": [
    {
     "data": {
      "text/html": [
       "<div>\n",
       "<style scoped>\n",
       "    .dataframe tbody tr th:only-of-type {\n",
       "        vertical-align: middle;\n",
       "    }\n",
       "\n",
       "    .dataframe tbody tr th {\n",
       "        vertical-align: top;\n",
       "    }\n",
       "\n",
       "    .dataframe thead th {\n",
       "        text-align: right;\n",
       "    }\n",
       "</style>\n",
       "<table border=\"1\" class=\"dataframe\">\n",
       "  <thead>\n",
       "    <tr style=\"text-align: right;\">\n",
       "      <th></th>\n",
       "      <th>advertiser_id</th>\n",
       "      <th>action_id</th>\n",
       "      <th>source_id</th>\n",
       "      <th>created</th>\n",
       "      <th>wifi_connection</th>\n",
       "      <th>trans_id</th>\n",
       "      <th>timeToClick</th>\n",
       "      <th>ref_type</th>\n",
       "      <th>ref_hash</th>\n",
       "    </tr>\n",
       "  </thead>\n",
       "  <tbody>\n",
       "    <tr>\n",
       "      <th>0</th>\n",
       "      <td>1</td>\n",
       "      <td>NaN</td>\n",
       "      <td>2</td>\n",
       "      <td>2019-04-18T05:27:42.197Z</td>\n",
       "      <td>False</td>\n",
       "      <td>9JMAfrb-b9cSEVCJb0P9JfihGthaS7E</td>\n",
       "      <td>2.317</td>\n",
       "      <td>1891515180541284343</td>\n",
       "      <td>1293710398598742392</td>\n",
       "    </tr>\n",
       "    <tr>\n",
       "      <th>1</th>\n",
       "      <td>1</td>\n",
       "      <td>NaN</td>\n",
       "      <td>1</td>\n",
       "      <td>2019-04-18T05:27:03.164Z</td>\n",
       "      <td>True</td>\n",
       "      <td>r3xtTRv2lInfiXG8JI3NQsNcBo8GyFQ</td>\n",
       "      <td>7.653</td>\n",
       "      <td>1891515180541284343</td>\n",
       "      <td>1663930990551616564</td>\n",
       "    </tr>\n",
       "    <tr>\n",
       "      <th>2</th>\n",
       "      <td>1</td>\n",
       "      <td>NaN</td>\n",
       "      <td>1</td>\n",
       "      <td>2019-04-18T05:42:07.926Z</td>\n",
       "      <td>True</td>\n",
       "      <td>WOnHFqQtY48z_ygKZ-030U_g0TMGVMw</td>\n",
       "      <td>464.796</td>\n",
       "      <td>1891515180541284343</td>\n",
       "      <td>8488038938665586188</td>\n",
       "    </tr>\n",
       "    <tr>\n",
       "      <th>3</th>\n",
       "      <td>1</td>\n",
       "      <td>NaN</td>\n",
       "      <td>1</td>\n",
       "      <td>2019-04-18T05:26:04.446Z</td>\n",
       "      <td>True</td>\n",
       "      <td>wQMLLmYqiFhSuha9p9B13PMtcyBW_vM</td>\n",
       "      <td>225.311</td>\n",
       "      <td>1891515180541284343</td>\n",
       "      <td>6488361690105189959</td>\n",
       "    </tr>\n",
       "    <tr>\n",
       "      <th>4</th>\n",
       "      <td>1</td>\n",
       "      <td>NaN</td>\n",
       "      <td>1</td>\n",
       "      <td>2019-04-18T05:23:37.764Z</td>\n",
       "      <td>True</td>\n",
       "      <td>GeFoyBzMA7taylMxxjzlNPTU-n4FXFs</td>\n",
       "      <td>84.736</td>\n",
       "      <td>1891515180541284343</td>\n",
       "      <td>1348993302102753419</td>\n",
       "    </tr>\n",
       "  </tbody>\n",
       "</table>\n",
       "</div>"
      ],
      "text/plain": [
       "   advertiser_id  action_id  source_id                   created  \\\n",
       "0              1        NaN          2  2019-04-18T05:27:42.197Z   \n",
       "1              1        NaN          1  2019-04-18T05:27:03.164Z   \n",
       "2              1        NaN          1  2019-04-18T05:42:07.926Z   \n",
       "3              1        NaN          1  2019-04-18T05:26:04.446Z   \n",
       "4              1        NaN          1  2019-04-18T05:23:37.764Z   \n",
       "\n",
       "   wifi_connection                         trans_id  timeToClick  \\\n",
       "0            False  9JMAfrb-b9cSEVCJb0P9JfihGthaS7E        2.317   \n",
       "1             True  r3xtTRv2lInfiXG8JI3NQsNcBo8GyFQ        7.653   \n",
       "2             True  WOnHFqQtY48z_ygKZ-030U_g0TMGVMw      464.796   \n",
       "3             True  wQMLLmYqiFhSuha9p9B13PMtcyBW_vM      225.311   \n",
       "4             True  GeFoyBzMA7taylMxxjzlNPTU-n4FXFs       84.736   \n",
       "\n",
       "              ref_type             ref_hash  \n",
       "0  1891515180541284343  1293710398598742392  \n",
       "1  1891515180541284343  1663930990551616564  \n",
       "2  1891515180541284343  8488038938665586188  \n",
       "3  1891515180541284343  6488361690105189959  \n",
       "4  1891515180541284343  1348993302102753419  "
      ]
     },
     "execution_count": 38,
     "metadata": {},
     "output_type": "execute_result"
    }
   ],
   "source": [
    "clicks.head()"
   ]
  },
  {
   "cell_type": "code",
   "execution_count": null,
   "metadata": {},
   "outputs": [],
   "source": [
    "installs['wifi'] = installs['wifi'].map({True: 1, False: 0})\n",
    "installs['wifi'] = installs['wifi'].fillna(-1)\n",
    "\n",
    "installs['ref_type'] = installs['ref_type'].map({'1891515180541284343': 1, '1494519392962156891': 0})"
   ]
  },
  {
   "cell_type": "code",
   "execution_count": 74,
   "metadata": {},
   "outputs": [],
   "source": [
    "window_1_click = clicks[clicks['created'].between('2019-04-18', '2019-04-21')]"
   ]
  },
  {
   "cell_type": "code",
   "execution_count": 75,
   "metadata": {},
   "outputs": [],
   "source": [
    "clicks_first = pd.merge(window_1_click, window_1_click.groupby('ref_hash').agg('size').reset_index(), on='ref_hash', how='inner')"
   ]
  },
  {
   "cell_type": "code",
   "execution_count": 76,
   "metadata": {},
   "outputs": [],
   "source": [
    "clicks_first = clicks_first.drop_duplicates('ref_hash')"
   ]
  },
  {
   "cell_type": "code",
   "execution_count": 90,
   "metadata": {},
   "outputs": [],
   "source": [
    "installs_ref_hash_2 = pd.merge(installs, clicks, on='ref_hash', how='inner')"
   ]
  },
  {
   "cell_type": "code",
   "execution_count": 91,
   "metadata": {},
   "outputs": [
    {
     "data": {
      "text/html": [
       "<div>\n",
       "<style scoped>\n",
       "    .dataframe tbody tr th:only-of-type {\n",
       "        vertical-align: middle;\n",
       "    }\n",
       "\n",
       "    .dataframe tbody tr th {\n",
       "        vertical-align: top;\n",
       "    }\n",
       "\n",
       "    .dataframe thead th {\n",
       "        text-align: right;\n",
       "    }\n",
       "</style>\n",
       "<table border=\"1\" class=\"dataframe\">\n",
       "  <thead>\n",
       "    <tr style=\"text-align: right;\">\n",
       "      <th></th>\n",
       "      <th>created_x</th>\n",
       "      <th>application_id</th>\n",
       "      <th>ref_type_x</th>\n",
       "      <th>ref_hash</th>\n",
       "      <th>click_hash</th>\n",
       "      <th>attributed</th>\n",
       "      <th>implicit</th>\n",
       "      <th>kind</th>\n",
       "      <th>wifi</th>\n",
       "      <th>trans_id_x</th>\n",
       "      <th>advertiser_id</th>\n",
       "      <th>action_id</th>\n",
       "      <th>source_id</th>\n",
       "      <th>created_y</th>\n",
       "      <th>wifi_connection</th>\n",
       "      <th>trans_id_y</th>\n",
       "      <th>timeToClick</th>\n",
       "      <th>ref_type_y</th>\n",
       "    </tr>\n",
       "  </thead>\n",
       "  <tbody>\n",
       "  </tbody>\n",
       "</table>\n",
       "</div>"
      ],
      "text/plain": [
       "Empty DataFrame\n",
       "Columns: [created_x, application_id, ref_type_x, ref_hash, click_hash, attributed, implicit, kind, wifi, trans_id_x, advertiser_id, action_id, source_id, created_y, wifi_connection, trans_id_y, timeToClick, ref_type_y]\n",
       "Index: []"
      ]
     },
     "execution_count": 91,
     "metadata": {},
     "output_type": "execute_result"
    }
   ],
   "source": [
    "installs_ref_hash_2.head()"
   ]
  }
 ],
 "metadata": {
  "kernelspec": {
   "display_name": "Python 3",
   "language": "python",
   "name": "python3"
  },
  "language_info": {
   "codemirror_mode": {
    "name": "ipython",
    "version": 3
   },
   "file_extension": ".py",
   "mimetype": "text/x-python",
   "name": "python",
   "nbconvert_exporter": "python",
   "pygments_lexer": "ipython3",
   "version": "3.6.7"
  }
 },
 "nbformat": 4,
 "nbformat_minor": 2
}
