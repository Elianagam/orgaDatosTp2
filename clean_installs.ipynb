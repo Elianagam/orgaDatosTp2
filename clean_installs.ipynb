{
 "cells": [
  {
   "cell_type": "code",
   "execution_count": 1,
   "metadata": {},
   "outputs": [],
   "source": [
    "import pandas as pd\n",
    "import numpy as np"
   ]
  },
  {
   "cell_type": "code",
   "execution_count": 2,
   "metadata": {},
   "outputs": [],
   "source": [
    "dtypes_dict = {'created':'str',  'ref_type': 'category', 'device_brand': np.float32, \\\n",
    "                'device_countrycode': 'category', 'device_language': 'category', \\\n",
    "                'ref_hash': 'category', 'kind': 'str', 'user_agent': 'str'}\n",
    "\n",
    "installs = pd.read_csv('data/installs.csv.gzip', dtype=dtypes_dict, low_memory=False)\n",
    "\n",
    "installs = installs.drop('device_countrycode', axis=1)\n",
    "installs['created'] = pd.to_datetime(installs['created'], format='%Y-%m-%d %H:%M:%S')"
   ]
  },
  {
   "cell_type": "code",
   "execution_count": 3,
   "metadata": {},
   "outputs": [],
   "source": [
    "installs = installs.drop(columns=['device_language', 'ip_address', 'event_uuid', 'device_brand', \\\n",
    "                         'device_model', 'click_hash', 'session_user_agent'])"
   ]
  },
  {
   "cell_type": "code",
   "execution_count": 4,
   "metadata": {},
   "outputs": [],
   "source": [
    "# Normalizacion de valores a binario\n",
    "\n",
    "installs['wifi'] = installs['wifi'].map({True: 1, False: 0})\n",
    "installs['wifi'] = installs['wifi'].fillna(-1)\n",
    "\n",
    "installs['attributed'] = installs['attributed'].map({True: 1, False: 0})\n",
    "installs['implicit'] = installs['implicit'].map({True: 1, False: 0})"
   ]
  },
  {
   "cell_type": "code",
   "execution_count": 5,
   "metadata": {},
   "outputs": [],
   "source": [
    "installs['ref_type_android'] = (installs['ref_type'].astype(str).str.contains(\"1891515180541284343\") == True).astype(int)\n",
    "installs['ref_type_iphone'] = (installs['ref_type'].astype(str).str.contains(\"1494519392962156891\") == True).astype(int)\n",
    "\n",
    "installs = installs.drop('ref_type', axis=1)"
   ]
  },
  {
   "cell_type": "code",
   "execution_count": 6,
   "metadata": {},
   "outputs": [],
   "source": [
    "# features de dias\n",
    "\n",
    "installs['weekday'] = installs['created'].dt.weekday\n",
    "\n",
    "installs = pd.get_dummies(installs, columns=['weekday'])\n",
    "\n",
    "# installs = installs.rename(index=str, columns={\"weekday_0\": \"lunes\", \"weekday_1\": \"martes\", \"weekday_2\": \"miercoles\", \\\n",
    "#                              \"weekday_3\": \"jueves\", \"weekday_4\": \"viernes\", \"weekday_5\": \"sabado\", \\\n",
    "#                              \"weekday_6\": \"domingo\"})"
   ]
  },
  {
   "cell_type": "code",
   "execution_count": 7,
   "metadata": {},
   "outputs": [],
   "source": [
    "# feature horarios\n",
    "\n",
    "bins = [0, 6, 13, 17, 25]\n",
    "labels = ['morning','afternoon','evening','night']\n",
    "hours = installs['created'].dt.hour\n",
    "installs['time'] = pd.cut(hours-5+24 *(hours<5),bins=bins,labels=labels,right=False)\n",
    "\n",
    "installs = pd.get_dummies(installs, columns=['time'])"
   ]
  },
  {
   "cell_type": "code",
   "execution_count": 8,
   "metadata": {},
   "outputs": [],
   "source": [
    "# installs kinds to features, creo que no sirve\n",
    "\n",
    "installs['kind_open'] = (installs['kind'].astype(str).str.lower().str.contains(\"open|abertura\") == True).astype(int)\n",
    "installs['kind_home'] = (installs['kind'].astype(str).str.lower().str.contains(\"home\") == True).astype(int)\n",
    "installs['kind_start'] = (installs['kind'].astype(str).str.lower().str.contains(\"start\") == True).astype(int)\n",
    "installs['kind_view'] = (installs['kind'].astype(str).str.lower().str.contains(\"view\") == True).astype(int)\n",
    "installs['kind_sign'] = (installs['kind'].astype(str).str.lower().str.contains(\"sign|registration|account\") == True).astype(int)\n",
    "installs['kind_login'] = (installs['kind'].astype(str).str.lower().str.contains(\"login|begin\") == True).astype(int)\n",
    "installs['kind_launch'] = (installs['kind'].astype(str).str.lower().str.contains(\"launch\") == True).astype(int)\n",
    "installs['kind_install'] = (installs['kind'].astype(str).str.lower().str.contains(\"install\") == True).astype(int)\n",
    "installs['kind_purchase'] = (installs['kind'].astype(str).str.lower().str.contains(\"purchase|buy\") == True).astype(int)\n",
    "installs['kind_add'] = (installs['kind'].astype(str).str.lower().str.contains(\"add\") == True).astype(int)"
   ]
  },
  {
   "cell_type": "code",
   "execution_count": 9,
   "metadata": {},
   "outputs": [],
   "source": [
    "# user_agent features\n",
    "\n",
    "installs['agent_zaful'] = (installs['user_agent'].astype(str).str.lower().str.contains(\"zaful\") == True).astype(int)\n",
    "installs['agent_cornershop'] = (installs['user_agent'].astype(str).str.lower().str.contains(\"cornershop\") == True).astype(int)\n",
    "installs['agent_binomo'] = (installs['user_agent'].astype(str).str.lower().str.contains(\"binomo\") == True).astype(int)\n",
    "installs['agent_postmates'] = (installs['user_agent'].astype(str).str.lower().str.contains(\"postmates\") == True).astype(int)\n",
    "\n",
    "installs['agent_tiktok'] = (installs['user_agent'].astype(str).str.lower().str.contains(\"tiktok\") == True).astype(int)\n",
    "installs['agent_sindelantal'] = (installs['user_agent'].astype(str).str.lower().str.contains(\"sindelantal\") == True).astype(int)\n",
    "installs['agent_gardenscapes'] = (installs['user_agent'].astype(str).str.lower().str.contains(\"gardenscapes\") == True).astype(int)\n",
    "installs['agent_dalvik'] = (installs['user_agent'].astype(str).str.lower().str.contains(\"dalvik\") == True).astype(int)\n",
    "installs['agent_wish'] = (installs['user_agent'].astype(str).str.lower().str.contains(\"wish\") == True).astype(int)\n",
    "installs['agent_trivago'] = (installs['user_agent'].astype(str).str.lower().str.contains(\"trivago\") == True).astype(int)\n",
    "installs['agent_grability'] = (installs['user_agent'].astype(str).str.lower().str.contains(\"grability\") == True).astype(int)\n",
    "installs['agent_mercadopago'] = (installs['user_agent'].astype(str).str.lower().str.contains(\"mercadopago\") == True).astype(int)"
   ]
  },
  {
   "cell_type": "code",
   "execution_count": 10,
   "metadata": {},
   "outputs": [],
   "source": [
    "# installs['user_agent'].loc[~installs['user_agent'].astype(str).str.lower() \\\n",
    "#              .str.contains(\"mercadopago|tiktok|sindelantal|gardenscapes|dalvik|wish|trivago|grability\") == True].value_counts()"
   ]
  },
  {
   "cell_type": "code",
   "execution_count": 11,
   "metadata": {},
   "outputs": [],
   "source": [
    "installs = installs.drop(columns=['kind', 'user_agent', 'trans_id'])"
   ]
  },
  {
   "cell_type": "markdown",
   "metadata": {},
   "source": [
    "# **Ventanas para train y test**"
   ]
  },
  {
   "cell_type": "code",
   "execution_count": 12,
   "metadata": {},
   "outputs": [],
   "source": [
    "time_start_1 = '2019-04-18'\n",
    "time_start_2 = '2019-04-19'\n",
    "time_start_3 = '2019-04-20'\n",
    "time_start_4 = '2019-04-21'\n",
    "time_start_5 = '2019-04-22'"
   ]
  },
  {
   "cell_type": "code",
   "execution_count": 13,
   "metadata": {},
   "outputs": [],
   "source": [
    "# Ventanas para train y testing\n",
    "\n",
    "window_1 = installs.loc[installs['created'].between('2019-04-18', '2019-04-21')]\n",
    "window_2 = installs.loc[installs['created'].between('2019-04-19', '2019-04-22')]\n",
    "window_3 = installs.loc[installs['created'].between('2019-04-20', '2019-04-23')]\n",
    "# window_4 = installs.loc[installs['created'].between('2019-04-21', '2019-04-24')]\n",
    "# window_5 = installs.loc[installs['created'].between('2019-04-22', '2019-04-25')]"
   ]
  },
  {
   "cell_type": "code",
   "execution_count": 14,
   "metadata": {},
   "outputs": [],
   "source": [
    "# Ordeno por fechas\n",
    "\n",
    "window_1 = window_1.sort_values('created')\n",
    "window_2 = window_2.sort_values('created')\n",
    "window_3 = window_3.sort_values('created')\n",
    "# window_4 = window_4.sort_values('created')\n",
    "# window_5 = window_5.sort_values('created')"
   ]
  },
  {
   "cell_type": "code",
   "execution_count": 15,
   "metadata": {},
   "outputs": [],
   "source": [
    "# window_1.head()"
   ]
  },
  {
   "cell_type": "code",
   "execution_count": 16,
   "metadata": {},
   "outputs": [],
   "source": [
    "# Contar la cantidad de apariciones que tiene un usuario por ventada\n",
    "\n",
    "window_1['count_installs'] = window_1.groupby('ref_hash')['ref_hash'].transform('count')\n",
    "window_2['count_installs'] = window_2.groupby('ref_hash')['ref_hash'].transform('count')\n",
    "window_3['count_installs'] = window_3.groupby('ref_hash')['ref_hash'].transform('count')\n",
    "# window_4['count_installs'] = window_4.groupby('ref_hash')['ref_hash'].transform('count')\n",
    "# window_5['count_installs'] = window_5.groupby('ref_hash')['ref_hash'].transform('count')"
   ]
  },
  {
   "cell_type": "code",
   "execution_count": 17,
   "metadata": {},
   "outputs": [],
   "source": [
    "# primera y ultima instalacion por ref_hash\n",
    "\n",
    "window_1['last_install'] = window_1.groupby('ref_hash')['created'].transform('max')\n",
    "window_1['first_install'] = window_1.groupby('ref_hash')['created'].transform('min')\n",
    "\n",
    "window_2['last_install'] = window_2.groupby('ref_hash')['created'].transform('max')\n",
    "window_2['first_install'] = window_2.groupby('ref_hash')['created'].transform('min')\n",
    "\n",
    "window_3['last_install'] = window_3.groupby('ref_hash')['created'].transform('max')\n",
    "window_3['first_install'] = window_3.groupby('ref_hash')['created'].transform('min')\n",
    "\n",
    "# window_4['last_install'] = window_4.groupby('ref_hash')['created'].transform('max')\n",
    "# window_4['first_install'] = window_4.groupby('ref_hash')['created'].transform('min')\n",
    "\n",
    "# window_5['last_install'] = window_5.groupby('ref_hash')['created'].transform('max')\n",
    "# window_5['first_install'] = window_5.groupby('ref_hash')['created'].transform('min')"
   ]
  },
  {
   "cell_type": "code",
   "execution_count": 18,
   "metadata": {},
   "outputs": [],
   "source": [
    "# diferencia de tiempo entre la primera y la ultima instalacion\n",
    "\n",
    "window_1['diff_between_installs'] = (window_1['last_install'] - window_1['first_install']).dt.total_seconds()\n",
    "\n",
    "window_2['diff_between_installs'] = (window_2['last_install'] - window_2['first_install']).dt.total_seconds()\n",
    "\n",
    "window_3['diff_first_installs'] = (window_3['last_install'] - window_3['first_install']).dt.total_seconds()\n",
    "\n",
    "# window_4['diff_first_installs'] = (window_4['last_install'] - window_4['first_install']).dt.total_seconds()\n",
    "\n",
    "# window_5['diff_first_installs'] = (window_5['last_install'] - window_5['first_install']).dt.total_seconds()"
   ]
  },
  {
   "cell_type": "code",
   "execution_count": 19,
   "metadata": {},
   "outputs": [],
   "source": [
    "# Promedio de diferencias de tiempo entre todas las instalaciones\n",
    "window_1['prom_time_install'] = 0\n",
    "window_1.loc[window_1['count_installs'] > 1, 'prom_time_install'] = ((window_1['last_install'] - window_1['first_install'])/ \\\n",
    "                                 (window_1['count_installs'] -1)).dt.total_seconds()\n",
    "\n",
    "window_2['prom_time_install'] = 0\n",
    "window_2.loc[window_2['count_installs'] > 1,'prom_time_install'] = ((window_2['last_install'] - window_2['first_install'])/ \\\n",
    "                                 (window_2['count_installs'] - 1)).dt.total_seconds()\n",
    "\n",
    "# window_3['prom_time_install'] = 0\n",
    "window_3.loc[window_3['count_installs'] > 1,'prom_time_install'] = ((window_3['last_install'] - window_3['first_install'])/ \\\n",
    "                                 (window_3['count_installs'] - 1)).dt.total_seconds()\n",
    "\n",
    "# window_4['prom_time_install'] = 0\n",
    "# window_4.loc[window_4['count_installs'] > 1, 'prom_time_install'] = ((window_4['last_install'] - window_4['first_install'])/ \\\n",
    "#                                  (window_4['count_installs'] - 1)).dt.total_seconds()\n",
    "\n",
    "# window_5['prom_time_install'] = 0\n",
    "# window_5.loc[window_5['count_installs'] > 1, 'prom_time_install'] = ((window_5['last_install'] - window_5['first_install'])/ \\\n",
    "#                                  (window_5['count_installs'] -1 )).dt.total_seconds()"
   ]
  },
  {
   "cell_type": "code",
   "execution_count": 20,
   "metadata": {},
   "outputs": [],
   "source": [
    "# diferencia de tiempo entre el comienzo de la ventana y la primera y ultima instalacion\n",
    "\n",
    "window_1['time_first_install'] = (window_1['first_install'] - pd.Timestamp(time_start_1)).dt.total_seconds()\n",
    "window_1['time_last_install'] = (window_1['last_install'] - pd.Timestamp(time_start_1)).dt.total_seconds()\n",
    "\n",
    "window_2['time_first_install'] = (window_2['first_install'] - pd.Timestamp(time_start_2)).dt.total_seconds()\n",
    "window_2['time_last_install'] = (window_2['last_install'] - pd.Timestamp(time_start_2)).dt.total_seconds()\n",
    "\n",
    "window_3['time_first_install'] = (window_3['first_install'] - pd.Timestamp(time_start_3)).dt.total_seconds()\n",
    "window_3['time_last_install'] = (window_3['last_install'] - pd.Timestamp(time_start_3)).dt.total_seconds()\n",
    "\n",
    "# window_4['time_first_install'] = (window_4['first_install'] - pd.Timestamp(time_start_4)).dt.total_seconds()\n",
    "# window_4['time_last_install'] = (window_4['last_install'] - pd.Timestamp(time_start_4)).dt.total_seconds()\n",
    "\n",
    "# window_5['time_first_install'] = (window_5['first_install'] - pd.Timestamp(time_start_5)).dt.total_seconds()\n",
    "# window_5['time_last_install'] = (window_5['last_install'] - pd.Timestamp(time_start_5)).dt.total_seconds()"
   ]
  },
  {
   "cell_type": "code",
   "execution_count": 21,
   "metadata": {},
   "outputs": [],
   "source": [
    "window_1 = window_1.groupby('ref_hash').head(1)\n",
    "window_2 = window_2.groupby('ref_hash').head(1)\n",
    "window_3 = window_3.groupby('ref_hash').head(1)\n",
    "# window_4 = window_4.groupby('ref_hash').head(1)\n",
    "# window_5 = window_5.groupby('ref_hash').head(1)"
   ]
  },
  {
   "cell_type": "code",
   "execution_count": 22,
   "metadata": {},
   "outputs": [
    {
     "name": "stdout",
     "output_type": "stream",
     "text": [
      "132297\n",
      "129651\n",
      "131181\n"
     ]
    }
   ],
   "source": [
    "print(len(window_1))\n",
    "print(len(window_2))\n",
    "print(len(window_3))\n",
    "# print(len(window_4))\n",
    "# print(len(window_5))"
   ]
  },
  {
   "cell_type": "code",
   "execution_count": 23,
   "metadata": {},
   "outputs": [],
   "source": [
    "window_1 = window_1.drop(columns=['created', 'last_install', 'first_install'])\n",
    "window_2 = window_2.drop(columns=['created', 'last_install', 'first_install'])\n",
    "window_3 = window_3.drop(columns=['created', 'last_install', 'first_install'])\n",
    "# window_4 = window_4.drop(columns=['created', 'last_install', 'first_install'])\n",
    "# window_5 = window_5.drop(columns=['created', 'last_install', 'first_install'])"
   ]
  },
  {
   "cell_type": "markdown",
   "metadata": {},
   "source": [
    "# **Ventatas 1 y 2**"
   ]
  },
  {
   "cell_type": "code",
   "execution_count": 24,
   "metadata": {},
   "outputs": [],
   "source": [
    "# primer join \n",
    "join1 = window_1.merge(window_2[['ref_hash','time_first_install']],indicator = False, how='left', on='ref_hash')"
   ]
  },
  {
   "cell_type": "code",
   "execution_count": null,
   "metadata": {},
   "outputs": [
    {
     "name": "stdout",
     "output_type": "stream",
     "text": [
      "132297 132297 129651\n"
     ]
    }
   ],
   "source": [
    "print(len(join1), len(window_1), len(window_2))"
   ]
  },
  {
   "cell_type": "code",
   "execution_count": 25,
   "metadata": {},
   "outputs": [],
   "source": [
    "join1 = join1.drop(columns=['ref_hash'])\n",
    "join1['time_first_install_y'].fillna(20*24*3600, inplace=True) # 20 dias, tiempo muy grande"
   ]
  },
  {
   "cell_type": "code",
   "execution_count": null,
   "metadata": {},
   "outputs": [
    {
     "data": {
      "text/html": [
       "<div>\n",
       "<style scoped>\n",
       "    .dataframe tbody tr th:only-of-type {\n",
       "        vertical-align: middle;\n",
       "    }\n",
       "\n",
       "    .dataframe tbody tr th {\n",
       "        vertical-align: top;\n",
       "    }\n",
       "\n",
       "    .dataframe thead th {\n",
       "        text-align: right;\n",
       "    }\n",
       "</style>\n",
       "<table border=\"1\" class=\"dataframe\">\n",
       "  <thead>\n",
       "    <tr style=\"text-align: right;\">\n",
       "      <th></th>\n",
       "      <th>application_id</th>\n",
       "      <th>attributed</th>\n",
       "      <th>implicit</th>\n",
       "      <th>wifi</th>\n",
       "      <th>ref_type_android</th>\n",
       "      <th>ref_type_iphone</th>\n",
       "      <th>weekday_0</th>\n",
       "      <th>weekday_1</th>\n",
       "      <th>weekday_2</th>\n",
       "      <th>weekday_3</th>\n",
       "      <th>...</th>\n",
       "      <th>agent_wish</th>\n",
       "      <th>agent_trivago</th>\n",
       "      <th>agent_grability</th>\n",
       "      <th>agent_mercadopago</th>\n",
       "      <th>count_installs</th>\n",
       "      <th>diff_between_installs</th>\n",
       "      <th>prom_time_install</th>\n",
       "      <th>time_first_install_x</th>\n",
       "      <th>time_last_install</th>\n",
       "      <th>time_first_install_y</th>\n",
       "    </tr>\n",
       "  </thead>\n",
       "  <tbody>\n",
       "    <tr>\n",
       "      <th>0</th>\n",
       "      <td>70</td>\n",
       "      <td>0</td>\n",
       "      <td>0</td>\n",
       "      <td>-1.0</td>\n",
       "      <td>1</td>\n",
       "      <td>0</td>\n",
       "      <td>0</td>\n",
       "      <td>0</td>\n",
       "      <td>0</td>\n",
       "      <td>1</td>\n",
       "      <td>...</td>\n",
       "      <td>0</td>\n",
       "      <td>0</td>\n",
       "      <td>0</td>\n",
       "      <td>0</td>\n",
       "      <td>1</td>\n",
       "      <td>0.000</td>\n",
       "      <td>0.000</td>\n",
       "      <td>1.560</td>\n",
       "      <td>1.560</td>\n",
       "      <td>1728000.0</td>\n",
       "    </tr>\n",
       "    <tr>\n",
       "      <th>1</th>\n",
       "      <td>70</td>\n",
       "      <td>0</td>\n",
       "      <td>0</td>\n",
       "      <td>-1.0</td>\n",
       "      <td>1</td>\n",
       "      <td>0</td>\n",
       "      <td>0</td>\n",
       "      <td>0</td>\n",
       "      <td>0</td>\n",
       "      <td>1</td>\n",
       "      <td>...</td>\n",
       "      <td>0</td>\n",
       "      <td>0</td>\n",
       "      <td>0</td>\n",
       "      <td>0</td>\n",
       "      <td>1</td>\n",
       "      <td>0.000</td>\n",
       "      <td>0.000</td>\n",
       "      <td>1.851</td>\n",
       "      <td>1.851</td>\n",
       "      <td>1728000.0</td>\n",
       "    </tr>\n",
       "    <tr>\n",
       "      <th>2</th>\n",
       "      <td>65</td>\n",
       "      <td>0</td>\n",
       "      <td>1</td>\n",
       "      <td>0.0</td>\n",
       "      <td>1</td>\n",
       "      <td>0</td>\n",
       "      <td>0</td>\n",
       "      <td>0</td>\n",
       "      <td>0</td>\n",
       "      <td>1</td>\n",
       "      <td>...</td>\n",
       "      <td>0</td>\n",
       "      <td>0</td>\n",
       "      <td>0</td>\n",
       "      <td>0</td>\n",
       "      <td>2</td>\n",
       "      <td>4.006</td>\n",
       "      <td>4.006</td>\n",
       "      <td>5.152</td>\n",
       "      <td>9.158</td>\n",
       "      <td>1728000.0</td>\n",
       "    </tr>\n",
       "    <tr>\n",
       "      <th>3</th>\n",
       "      <td>27</td>\n",
       "      <td>0</td>\n",
       "      <td>0</td>\n",
       "      <td>1.0</td>\n",
       "      <td>0</td>\n",
       "      <td>1</td>\n",
       "      <td>0</td>\n",
       "      <td>0</td>\n",
       "      <td>0</td>\n",
       "      <td>1</td>\n",
       "      <td>...</td>\n",
       "      <td>0</td>\n",
       "      <td>1</td>\n",
       "      <td>0</td>\n",
       "      <td>0</td>\n",
       "      <td>1</td>\n",
       "      <td>0.000</td>\n",
       "      <td>0.000</td>\n",
       "      <td>5.589</td>\n",
       "      <td>5.589</td>\n",
       "      <td>1728000.0</td>\n",
       "    </tr>\n",
       "    <tr>\n",
       "      <th>4</th>\n",
       "      <td>339</td>\n",
       "      <td>0</td>\n",
       "      <td>0</td>\n",
       "      <td>1.0</td>\n",
       "      <td>0</td>\n",
       "      <td>1</td>\n",
       "      <td>0</td>\n",
       "      <td>0</td>\n",
       "      <td>0</td>\n",
       "      <td>1</td>\n",
       "      <td>...</td>\n",
       "      <td>0</td>\n",
       "      <td>0</td>\n",
       "      <td>0</td>\n",
       "      <td>0</td>\n",
       "      <td>1</td>\n",
       "      <td>0.000</td>\n",
       "      <td>0.000</td>\n",
       "      <td>6.795</td>\n",
       "      <td>6.795</td>\n",
       "      <td>1728000.0</td>\n",
       "    </tr>\n",
       "  </tbody>\n",
       "</table>\n",
       "<p>5 rows × 45 columns</p>\n",
       "</div>"
      ],
      "text/plain": [
       "   application_id  attributed  implicit  wifi  ref_type_android  \\\n",
       "0              70           0         0  -1.0                 1   \n",
       "1              70           0         0  -1.0                 1   \n",
       "2              65           0         1   0.0                 1   \n",
       "3              27           0         0   1.0                 0   \n",
       "4             339           0         0   1.0                 0   \n",
       "\n",
       "   ref_type_iphone  weekday_0  weekday_1  weekday_2  weekday_3  ...  \\\n",
       "0                0          0          0          0          1  ...   \n",
       "1                0          0          0          0          1  ...   \n",
       "2                0          0          0          0          1  ...   \n",
       "3                1          0          0          0          1  ...   \n",
       "4                1          0          0          0          1  ...   \n",
       "\n",
       "   agent_wish  agent_trivago  agent_grability  agent_mercadopago  \\\n",
       "0           0              0                0                  0   \n",
       "1           0              0                0                  0   \n",
       "2           0              0                0                  0   \n",
       "3           0              1                0                  0   \n",
       "4           0              0                0                  0   \n",
       "\n",
       "   count_installs  diff_between_installs  prom_time_install  \\\n",
       "0               1                  0.000              0.000   \n",
       "1               1                  0.000              0.000   \n",
       "2               2                  4.006              4.006   \n",
       "3               1                  0.000              0.000   \n",
       "4               1                  0.000              0.000   \n",
       "\n",
       "   time_first_install_x  time_last_install  time_first_install_y  \n",
       "0                 1.560              1.560             1728000.0  \n",
       "1                 1.851              1.851             1728000.0  \n",
       "2                 5.152              9.158             1728000.0  \n",
       "3                 5.589              5.589             1728000.0  \n",
       "4                 6.795              6.795             1728000.0  \n",
       "\n",
       "[5 rows x 45 columns]"
      ]
     },
     "execution_count": 27,
     "metadata": {},
     "output_type": "execute_result"
    }
   ],
   "source": [
    "join1.head()"
   ]
  },
  {
   "cell_type": "markdown",
   "metadata": {},
   "source": [
    "### **XGBOOX**"
   ]
  },
  {
   "cell_type": "code",
   "execution_count": 26,
   "metadata": {},
   "outputs": [],
   "source": [
    "import xgboost as xgb\n",
    "from sklearn.metrics import mean_squared_error\n",
    "from sklearn.model_selection import train_test_split"
   ]
  },
  {
   "cell_type": "code",
   "execution_count": 27,
   "metadata": {},
   "outputs": [],
   "source": [
    "mod1 = xgb.XGBRegressor(gamma=1, learning_rate=0.01, max_depth=3, n_estimators=1000, subsample=0.8,\n",
    "                        random_state=34) "
   ]
  },
  {
   "cell_type": "code",
   "execution_count": 28,
   "metadata": {},
   "outputs": [],
   "source": [
    "mod2 = xgb.XGBRegressor(objective ='reg:linear', colsample_bytree = 0.3, learning_rate = 0.1,\n",
    "                max_depth = 5, alpha = 10, n_estimators = 10000)"
   ]
  },
  {
   "cell_type": "code",
   "execution_count": 29,
   "metadata": {},
   "outputs": [],
   "source": [
    "train1, test1 = train_test_split(join1, test_size=0.2)\n",
    "\n",
    "train1_Y = train1['time_first_install_y']\n",
    "train1_X = train1.drop(columns=['time_first_install_y'])\n",
    "test1_Y = test1['time_first_install_y']\n",
    "test1_X = test1.drop(columns=['time_first_install_y'])"
   ]
  },
  {
   "cell_type": "code",
   "execution_count": 30,
   "metadata": {},
   "outputs": [
    {
     "name": "stderr",
     "output_type": "stream",
     "text": [
      "/home/eliana/fiuba/datos7506/envdt/lib/python3.6/site-packages/xgboost/core.py:587: FutureWarning: Series.base is deprecated and will be removed in a future version\n",
      "  if getattr(data, 'base', None) is not None and \\\n",
      "/home/eliana/fiuba/datos7506/envdt/lib/python3.6/site-packages/xgboost/core.py:588: FutureWarning: Series.base is deprecated and will be removed in a future version\n",
      "  data.base is not None and isinstance(data, np.ndarray) \\\n"
     ]
    },
    {
     "name": "stdout",
     "output_type": "stream",
     "text": [
      "[23:12:07] WARNING: /workspace/src/objective/regression_obj.cu:152: reg:linear is now deprecated in favor of reg:squarederror.\n"
     ]
    }
   ],
   "source": [
    "mod1.fit(train1_X,train1_Y)\n",
    "\n",
    "preds1_join1 = mod1.predict(test1_X)"
   ]
  },
  {
   "cell_type": "code",
   "execution_count": 31,
   "metadata": {},
   "outputs": [
    {
     "name": "stdout",
     "output_type": "stream",
     "text": [
      "RMSE: 79606.431133\n"
     ]
    }
   ],
   "source": [
    "rmse1_join1 = np.sqrt(mean_squared_error(test1_Y, preds1_join1))\n",
    "print(\"RMSE: %f\" % (rmse1_join1))"
   ]
  },
  {
   "cell_type": "code",
   "execution_count": 32,
   "metadata": {},
   "outputs": [
    {
     "name": "stderr",
     "output_type": "stream",
     "text": [
      "/home/eliana/fiuba/datos7506/envdt/lib/python3.6/site-packages/xgboost/core.py:587: FutureWarning: Series.base is deprecated and will be removed in a future version\n",
      "  if getattr(data, 'base', None) is not None and \\\n",
      "/home/eliana/fiuba/datos7506/envdt/lib/python3.6/site-packages/xgboost/core.py:588: FutureWarning: Series.base is deprecated and will be removed in a future version\n",
      "  data.base is not None and isinstance(data, np.ndarray) \\\n"
     ]
    },
    {
     "name": "stdout",
     "output_type": "stream",
     "text": [
      "[23:14:49] WARNING: /workspace/src/objective/regression_obj.cu:152: reg:linear is now deprecated in favor of reg:squarederror.\n"
     ]
    }
   ],
   "source": [
    "mod2.fit(train1_X,train1_Y)\n",
    "\n",
    "preds2_join1 = mod2.predict(test1_X)"
   ]
  },
  {
   "cell_type": "code",
   "execution_count": 33,
   "metadata": {},
   "outputs": [
    {
     "name": "stdout",
     "output_type": "stream",
     "text": [
      "RMSE: 107321.237725\n"
     ]
    }
   ],
   "source": [
    "rmse2_join1 = np.sqrt(mean_squared_error(test1_Y, preds2_join1))\n",
    "print(\"RMSE: %f\" % (rmse2_join1))"
   ]
  },
  {
   "cell_type": "markdown",
   "metadata": {},
   "source": [
    "### **Random Forest**"
   ]
  },
  {
   "cell_type": "code",
   "execution_count": 34,
   "metadata": {},
   "outputs": [],
   "source": [
    "from sklearn.ensemble import RandomForestRegressor\n",
    "\n",
    "rf = RandomForestRegressor(n_estimators = 1000, random_state = 42)"
   ]
  },
  {
   "cell_type": "code",
   "execution_count": 35,
   "metadata": {},
   "outputs": [],
   "source": [
    "rf.fit(train1_X, train1_Y);"
   ]
  },
  {
   "cell_type": "code",
   "execution_count": 36,
   "metadata": {},
   "outputs": [],
   "source": [
    "preds3_join1 = rf.predict(test1_X)"
   ]
  },
  {
   "cell_type": "code",
   "execution_count": 37,
   "metadata": {},
   "outputs": [
    {
     "name": "stdout",
     "output_type": "stream",
     "text": [
      "RMSE: 88916.159368\n"
     ]
    }
   ],
   "source": [
    "rmse3_join1 = np.sqrt(mean_squared_error(test1_Y, preds3_join1))\n",
    "\n",
    "print(\"RMSE: %f\" % (rmse3_join1))"
   ]
  },
  {
   "cell_type": "markdown",
   "metadata": {},
   "source": [
    "# **Ventana 2 y 3**"
   ]
  },
  {
   "cell_type": "code",
   "execution_count": null,
   "metadata": {},
   "outputs": [],
   "source": [
    "# pd.concat([df1, preds3_join1], axis=1)"
   ]
  },
  {
   "cell_type": "code",
   "execution_count": null,
   "metadata": {},
   "outputs": [],
   "source": [
    "join2 = window_2.merge(window_3[['ref_hash','time_first_install']],indicator = False, how='left', on='ref_hash')"
   ]
  },
  {
   "cell_type": "code",
   "execution_count": null,
   "metadata": {},
   "outputs": [],
   "source": [
    "train2, test2 = train_test_split(join2, test_size=0.2)\n",
    "\n",
    "train2_Y = train2['time_first_install_y']\n",
    "train2_X = train2.drop(columns=['time_first_install_y'])\n",
    "test2_Y = test2['time_first_install_y']\n",
    "test2_X = test2.drop(columns=['time_first_install_y'])"
   ]
  },
  {
   "cell_type": "markdown",
   "metadata": {},
   "source": [
    "### Clicks"
   ]
  },
  {
   "cell_type": "code",
   "execution_count": null,
   "metadata": {},
   "outputs": [],
   "source": [
    "# clicks = pd.read_csv(\"data/clicks.csv.gzip\")\n",
    "\n",
    "# clicks = clicks.drop(columns=['agent_device', 'os_minor', 'os_major', 'country_code', 'action_id'\\\n",
    "#                 'brand', 'touchX', 'touchY', 'specs_brand', 'carrier_id', 'longitude', 'latitude'], axis=1)"
   ]
  },
  {
   "cell_type": "code",
   "execution_count": null,
   "metadata": {},
   "outputs": [],
   "source": [
    "# clicks.head()"
   ]
  },
  {
   "cell_type": "code",
   "execution_count": null,
   "metadata": {},
   "outputs": [],
   "source": [
    "# installs['wifi'] = installs['wifi'].map({True: 1, False: 0})\n",
    "# installs['wifi'] = installs['wifi'].fillna(-1)\n",
    "\n",
    "# installs['ref_type'] = installs['ref_type'].map({'1891515180541284343': 1, '1494519392962156891': 0})"
   ]
  },
  {
   "cell_type": "code",
   "execution_count": null,
   "metadata": {},
   "outputs": [],
   "source": [
    "# window_1_click = clicks[clicks['created'].between('2019-04-18', '2019-04-21')]"
   ]
  },
  {
   "cell_type": "code",
   "execution_count": null,
   "metadata": {},
   "outputs": [],
   "source": [
    "# clicks_first = pd.merge(window_1_click, window_1_click.groupby('ref_hash').agg('size').reset_index(), on='ref_hash', how='inner')"
   ]
  },
  {
   "cell_type": "code",
   "execution_count": null,
   "metadata": {},
   "outputs": [],
   "source": [
    "# clicks_first = clicks_first.drop_duplicates('ref_hash')"
   ]
  },
  {
   "cell_type": "code",
   "execution_count": null,
   "metadata": {},
   "outputs": [],
   "source": [
    "# installs_ref_hash_2 = pd.merge(installs, clicks, on='ref_hash', how='inner')"
   ]
  },
  {
   "cell_type": "code",
   "execution_count": null,
   "metadata": {},
   "outputs": [],
   "source": [
    "# installs_ref_hash_2.head()"
   ]
  }
 ],
 "metadata": {
  "kernelspec": {
   "display_name": "Python 3",
   "language": "python",
   "name": "python3"
  },
  "language_info": {
   "codemirror_mode": {
    "name": "ipython",
    "version": 3
   },
   "file_extension": ".py",
   "mimetype": "text/x-python",
   "name": "python",
   "nbconvert_exporter": "python",
   "pygments_lexer": "ipython3",
   "version": "3.6.7"
  }
 },
 "nbformat": 4,
 "nbformat_minor": 2
}
