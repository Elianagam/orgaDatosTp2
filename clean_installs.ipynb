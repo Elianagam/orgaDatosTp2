{
 "cells": [
  {
   "cell_type": "code",
   "execution_count": 1,
   "metadata": {},
   "outputs": [],
   "source": [
    "import pandas as pd\n",
    "import numpy as np"
   ]
  },
  {
   "cell_type": "code",
   "execution_count": 2,
   "metadata": {},
   "outputs": [],
   "source": [
    "dtypes_dict = {'created':'str',  'ref_type': 'category', 'device_brand': np.float32, \\\n",
    "                'device_countrycode': 'category', 'device_language': 'category', \\\n",
    "                'ref_hash': 'category', 'kind': 'str', 'user_agent': 'str'}\n",
    "\n",
    "installs = pd.read_csv('data/installs.csv.gzip', dtype=dtypes_dict, low_memory=False)\n",
    "\n",
    "installs = installs.drop('device_countrycode', axis=1)\n",
    "installs['created'] = pd.to_datetime(installs['created'], format='%Y-%m-%d %H:%M:%S')"
   ]
  },
  {
   "cell_type": "code",
   "execution_count": 3,
   "metadata": {},
   "outputs": [],
   "source": [
    "installs = installs.drop(columns=['device_language', 'ip_address', 'event_uuid', 'device_brand', \\\n",
    "                         'device_model', 'click_hash', 'session_user_agent'])"
   ]
  },
  {
   "cell_type": "code",
   "execution_count": 4,
   "metadata": {},
   "outputs": [],
   "source": [
    "# Normalizacion de valores a binario\n",
    "\n",
    "installs['wifi'] = installs['wifi'].map({True: 1, False: 0})\n",
    "installs['wifi'] = installs['wifi'].fillna(-1)\n",
    "\n",
    "installs['attributed'] = installs['attributed'].map({True: 1, False: 0})\n",
    "installs['implicit'] = installs['implicit'].map({True: 1, False: 0})"
   ]
  },
  {
   "cell_type": "code",
   "execution_count": 5,
   "metadata": {},
   "outputs": [],
   "source": [
    "installs['ref_type_android'] = (installs['ref_type'].astype(str).str.contains(\"1891515180541284343\") == True).astype(int)\n",
    "installs['ref_type_iphone'] = (installs['ref_type'].astype(str).str.contains(\"1494519392962156891\") == True).astype(int)\n",
    "\n",
    "installs = installs.drop('ref_type', axis=1)"
   ]
  },
  {
   "cell_type": "code",
   "execution_count": 6,
   "metadata": {},
   "outputs": [],
   "source": [
    "# features de dias\n",
    "\n",
    "installs['weekday'] = installs['created'].dt.weekday\n",
    "\n",
    "installs = pd.get_dummies(installs, columns=['weekday'])\n",
    "\n",
    "# installs = installs.rename(index=str, columns={\"weekday_0\": \"lunes\", \"weekday_1\": \"martes\", \"weekday_2\": \"miercoles\", \\\n",
    "#                              \"weekday_3\": \"jueves\", \"weekday_4\": \"viernes\", \"weekday_5\": \"sabado\", \\\n",
    "#                              \"weekday_6\": \"domingo\"})"
   ]
  },
  {
   "cell_type": "code",
   "execution_count": 7,
   "metadata": {},
   "outputs": [],
   "source": [
    "# feature horarios\n",
    "\n",
    "bins = [0, 6, 13, 17, 25]\n",
    "labels = ['morning','afternoon','evening','night']\n",
    "hours = installs['created'].dt.hour\n",
    "installs['time'] = pd.cut(hours-5+24 *(hours<5),bins=bins,labels=labels,right=False)\n",
    "\n",
    "installs = pd.get_dummies(installs, columns=['time'])"
   ]
  },
  {
   "cell_type": "code",
   "execution_count": 8,
   "metadata": {},
   "outputs": [],
   "source": [
    "# installs kinds to features, creo que no sirve\n",
    "\n",
    "installs['kind_open'] = (installs['kind'].astype(str).str.lower().str.contains(\"open|abertura\") == True).astype(int)\n",
    "installs['kind_home'] = (installs['kind'].astype(str).str.lower().str.contains(\"home\") == True).astype(int)\n",
    "installs['kind_start'] = (installs['kind'].astype(str).str.lower().str.contains(\"start\") == True).astype(int)\n",
    "installs['kind_view'] = (installs['kind'].astype(str).str.lower().str.contains(\"view\") == True).astype(int)\n",
    "installs['kind_sign'] = (installs['kind'].astype(str).str.lower().str.contains(\"sign|registration|account\") == True).astype(int)\n",
    "installs['kind_login'] = (installs['kind'].astype(str).str.lower().str.contains(\"login|begin\") == True).astype(int)\n",
    "installs['kind_launch'] = (installs['kind'].astype(str).str.lower().str.contains(\"launch\") == True).astype(int)\n",
    "installs['kind_install'] = (installs['kind'].astype(str).str.lower().str.contains(\"install\") == True).astype(int)\n",
    "installs['kind_purchase'] = (installs['kind'].astype(str).str.lower().str.contains(\"purchase|buy\") == True).astype(int)\n",
    "installs['kind_add'] = (installs['kind'].astype(str).str.lower().str.contains(\"add\") == True).astype(int)"
   ]
  },
  {
   "cell_type": "code",
   "execution_count": 9,
   "metadata": {},
   "outputs": [],
   "source": [
    "# user_agent features\n",
    "\n",
    "installs['agent_zaful'] = (installs['user_agent'].astype(str).str.lower().str.contains(\"zaful\") == True).astype(int)\n",
    "installs['agent_cornershop'] = (installs['user_agent'].astype(str).str.lower().str.contains(\"cornershop\") == True).astype(int)\n",
    "installs['agent_binomo'] = (installs['user_agent'].astype(str).str.lower().str.contains(\"binomo\") == True).astype(int)\n",
    "installs['agent_postmates'] = (installs['user_agent'].astype(str).str.lower().str.contains(\"postmates\") == True).astype(int)\n",
    "\n",
    "installs['agent_tiktok'] = (installs['user_agent'].astype(str).str.lower().str.contains(\"tiktok\") == True).astype(int)\n",
    "installs['agent_sindelantal'] = (installs['user_agent'].astype(str).str.lower().str.contains(\"sindelantal\") == True).astype(int)\n",
    "installs['agent_gardenscapes'] = (installs['user_agent'].astype(str).str.lower().str.contains(\"gardenscapes\") == True).astype(int)\n",
    "installs['agent_dalvik'] = (installs['user_agent'].astype(str).str.lower().str.contains(\"dalvik\") == True).astype(int)\n",
    "installs['agent_wish'] = (installs['user_agent'].astype(str).str.lower().str.contains(\"wish\") == True).astype(int)\n",
    "installs['agent_trivago'] = (installs['user_agent'].astype(str).str.lower().str.contains(\"trivago\") == True).astype(int)\n",
    "installs['agent_grability'] = (installs['user_agent'].astype(str).str.lower().str.contains(\"grability\") == True).astype(int)\n",
    "installs['agent_mercadopago'] = (installs['user_agent'].astype(str).str.lower().str.contains(\"mercadopago\") == True).astype(int)"
   ]
  },
  {
   "cell_type": "code",
   "execution_count": 10,
   "metadata": {},
   "outputs": [
    {
     "data": {
      "text/plain": [
       "Zaful/1.3 CFNetwork/978.0.7 Darwin/18.5.0                                                                                                                                   1748\n",
       "Cornershop/539 CFNetwork/978.0.7 Darwin/18.5.0                                                                                                                               927\n",
       "Binomo/0 CFNetwork/978.0.7 Darwin/18.5.0                                                                                                                                     915\n",
       "Postmates/2325 CFNetwork/978.0.7 Darwin/18.5.0                                                                                                                               714\n",
       "TuLotero/448 CFNetwork/978.0.7 Darwin/18.5.0                                                                                                                                 691\n",
       "AirBrush/4.6.7.0 CFNetwork/978.0.7 Darwin/18.5.0                                                                                                                             614\n",
       "Zaful/1.3 CFNetwork/976 Darwin/18.2.0                                                                                                                                        529\n",
       "Mozilla/5.0 (Linux; U; Android 6.0; es-mx; 5080A Build/MRA58K) AppleWebKit/537.36 (KHTML, like Gecko) Version/4.0 Mobile Safari/537.36                                       429\n",
       "Mozilla/5.0 (Linux; Android 6.0.1; SM-G532M Build/MMB29T; wv) AppleWebKit/537.36 (KHTML, like Gecko) Version/4.0 Chrome/73.0.3683.90 Mobile Safari/537.36                    349\n",
       "Postmates/2286 CFNetwork/978.0.7 Darwin/18.5.0                                                                                                                               320\n",
       "Mozilla/5.0 (Linux; Android 8.1.0; 5059A Build/O11019; wv) AppleWebKit/537.36 (KHTML, like Gecko) Version/4.0 Chrome/64.0.3282.137 Mobile Safari/537.36                      311\n",
       "CATS/188267 CFNetwork/978.0.7 Darwin/18.5.0                                                                                                                                  262\n",
       "Mozilla/5.0 (Linux; Android 8.0.0; SM-J400M Build/R16NW; wv) AppleWebKit/537.36 (KHTML, like Gecko) Version/4.0 Chrome/73.0.3683.90 Mobile Safari/537.36                     240\n",
       "Praia%20Bingo/26.3.2 CFNetwork/978.0.7 Darwin/18.5.0                                                                                                                         216\n",
       "TheWeather/424430 CFNetwork/978.0.7 Darwin/18.5.0                                                                                                                            214\n",
       "Workouts/2 CFNetwork/978.0.7 Darwin/18.5.0                                                                                                                                   213\n",
       "Mozilla/5.0 (Linux; Android 8.0.0; moto e5 Build/OPPS27.91-176-2; wv) AppleWebKit/537.36 (KHTML, like Gecko) Version/4.0 Chrome/73.0.3683.90 Mobile Safari/537.36            208\n",
       "yousician/57316 CFNetwork/978.0.7 Darwin/18.5.0                                                                                                                              207\n",
       "Mozilla/5.0 (Linux; Android 6.0.1; SM-G532M Build/MMB29T; wv) AppleWebKit/537.36 (KHTML, like Gecko) Version/4.0 Chrome/55.0.2883.91 Mobile Safari/537.36                    197\n",
       "Cornershop/539 CFNetwork/976 Darwin/18.2.0                                                                                                                                   196\n",
       "Mozilla/5.0 (Linux; Android 8.1.0; DRA-LX3 Build/HUAWEIDRA-LX3; wv) AppleWebKit/537.36 (KHTML, like Gecko) Version/4.0 Chrome/73.0.3683.90 Mobile Safari/537.36              189\n",
       "AirBrush/4.6.7.0 CFNetwork/976 Darwin/18.2.0                                                                                                                                 185\n",
       "Rosegal/20190415.1 CFNetwork/978.0.7 Darwin/18.5.0                                                                                                                           183\n",
       "Mozilla/5.0 (Linux; Android 8.1.0; 5033A Build/O11019; wv) AppleWebKit/537.36 (KHTML, like Gecko) Version/4.0 Chrome/64.0.3282.137 Mobile Safari/537.36                      181\n",
       "Mozilla/5.0 (Linux; Android 8.0.0; ATU-LX3 Build/HUAWEIATU-LX3; wv) AppleWebKit/537.36 (KHTML, like Gecko) Version/4.0 Chrome/73.0.3683.90 Mobile Safari/537.36              175\n",
       "Mozilla/5.0 (Linux; Android 8.1.0; moto e5 play Build/OPGS28.54-53-2; wv) AppleWebKit/537.36 (KHTML, like Gecko) Version/4.0 Chrome/73.0.3683.90 Mobile Safari/537.36        155\n",
       "Mozilla/5.0 (Linux; Android 7.1.1; Moto E (4) Build/NMA26.42-169; wv) AppleWebKit/537.36 (KHTML, like Gecko) Version/4.0 Chrome/73.0.3683.90 Mobile Safari/537.36            155\n",
       "Hulu/50000411 CFNetwork/978.0.7 Darwin/18.5.0                                                                                                                                155\n",
       "Postmates/2325 CFNetwork/976 Darwin/18.2.0                                                                                                                                   152\n",
       "Mozilla/5.0 (Linux; Android 5.1.1; SM-G531H Build/LMY48B; wv) AppleWebKit/537.36 (KHTML, like Gecko) Version/4.0 Chrome/73.0.3683.90 Mobile Safari/537.36                    139\n",
       "                                                                                                                                                                            ... \n",
       "Mozilla/5.0 (Linux; Android 7.0; Moto G (4) Build/NPJ25.93-14.5; wv) AppleWebKit/537.36 (KHTML, like Gecko) Version/4.0 Chrome/55.0.2883.91 Mobile Safari/537.36               1\n",
       "Mozilla/5.0 (Linux; Android 5.1.1; HUAWEI Y560-L03 Build/HUAWEIY560-L03; wv) AppleWebKit/537.36 (KHTML, like Gecko) Version/4.0 Chrome/73.0.3683.90 Mobile Safari/537.36       1\n",
       "Mozilla/5.0 (Linux; Android 9; ELE-L29 Build/HUAWEIELE-L29; wv) AppleWebKit/537.36 (KHTML, like Gecko) Version/4.0 Chrome/70.0.3538.110 Mobile Safari/537.36                   1\n",
       "Mozilla/5.0 (Linux; Android 8.0; Galaxy Nexus Build/LMY47I) AppleWebKit/537.36 (KHTML, like Gecko) Chrome/67.0.3396 Mobile Safari/537.36                                       1\n",
       "Binomo/0 CFNetwork/893.14.2 Darwin/17.3.0                                                                                                                                      1\n",
       "Mozilla/5.0 (Linux; Android 5.0; HTCD200LVWPP Build/LMY48B) AppleWebKit/537.36 (KHTML, like Gecko) Chrome/68.0.3440 Mobile Safari/537.36                                       1\n",
       "Mozilla/5.0 (Linux; Android 7.0; VTR-L09 Build/HUAWEIVTR-L09; wv) AppleWebKit/537.36 (KHTML, like Gecko) Version/4.0 Chrome/73.0.3683.90 Mobile Safari/537.36                  1\n",
       "Mozilla/5.0 (Linux; Android 8.0.0; SM-G935P Build/R16NW; wv) AppleWebKit/537.36 (KHTML, like Gecko) Version/4.0 Chrome/71.0.3578.83 Mobile Safari/537.36                       1\n",
       "Mozilla/5.0 (Linux; Android 8.0; SGH-T859 Build/IMM76D) AppleWebKit/537.36 (KHTML, like Gecko) Chrome/69.0.3497 Mobile Safari/537.36                                           1\n",
       "Mozilla/5.0 (Linux; Android 7.0; SM-G950U Build/NRD90M; wv) AppleWebKit/537.36 (KHTML, like Gecko) Version/4.0 Chrome/60.0.3112.116 Mobile Safari/537.36                       1\n",
       "TheWeather/424438 CFNetwork/893.14.2 Darwin/17.3.0                                                                                                                             1\n",
       "Mozilla/5.0 (Linux; Android 5.1.1; 5054S Build/LMY47V; wv) AppleWebKit/537.36 (KHTML, like Gecko) Version/4.0 Chrome/62.0.3202.84 Mobile Safari/537.36                         1\n",
       "Mozilla/5.0 (Linux; Android 7.1.1; Z839 Build/NMF26V; wv) AppleWebKit/537.36 (KHTML, like Gecko) Version/4.0 Chrome/73.0.3683.90 Mobile Safari/537.36                          1\n",
       "Netshoes/580 CFNetwork/893.14.2 Darwin/17.3.0                                                                                                                                  1\n",
       "Trip.com/5439568 CFNetwork/978.0.7 Darwin/18.5.0                                                                                                                               1\n",
       "Mozilla/5.0 (Linux; Android 6.0; AX920 Build/MRA58K; wv) AppleWebKit/537.36 (KHTML, like Gecko) Version/4.0 Chrome/72.0.3626.105 Mobile Safari/537.36                          1\n",
       "Mozilla/5.0 (Linux; Android 8.0; SM-J200GU Build/LMY47X) AppleWebKit/537.36 (KHTML, like Gecko) Chrome/66.0.3359 Mobile Safari/537.36                                          1\n",
       "Mozilla/5.0 (Linux; Android 6.0; HTC6535LVW Build/MRA58K; wv) AppleWebKit/537.36 (KHTML, like Gecko) Version/4.0 Chrome/72.0.3626.121 Mobile Safari/537.36                     1\n",
       "Mozilla/5.0 (Linux; Android 8.0.0; XII Build/KOT49H) AppleWebKit/537.36 (KHTML, like Gecko) Chrome/69.0.3497 Mobile Safari/537.36                                              1\n",
       "Mozilla/5.0 (Linux; Android 5.0; IM-A910K/1.31 Build/KVT49L) AppleWebKit/537.36 (KHTML, like Gecko) Chrome/65.0.3325 Mobile Safari/537.36                                      1\n",
       "Mozilla/5.0 (Linux; Android 8.0.0; moto g(6) play Build/OCPS27.91-150-4; wv) AppleWebKit/537.36 (KHTML, like Gecko) Version/4.0 Chrome/70.0.3538.80 Mobile Safari/537.36       1\n",
       "Mozilla/5.0 (Linux; Android 5.1; HUAWEI CUN-L03 Build/HUAWEICUN-L03; wv) AppleWebKit/537.36 (KHTML, like Gecko) Version/4.0 Chrome/73.0.3683.75 Mobile Safari/537.36           1\n",
       "Mozilla/5.0 (Linux; Android 8.1; GT-I9195L Build/KTU84L) AppleWebKit/537.36 (KHTML, like Gecko) Chrome/71.0.3578 Mobile Safari/537.36                                          1\n",
       "Mozilla/5.0 (Linux; Android 8.0.0; SCH-I747 Build/KTU84P) AppleWebKit/537.36 (KHTML, like Gecko) Chrome/69.0.3497 Mobile Safari/537.36                                         1\n",
       "Mozilla/5.0 (Linux; Android 4.4.2; HTC6600LVW Build/KOT49H) AppleWebKit/537.36 (KHTML, like Gecko) Version/4.0 Chrome/30.0.0.0 Mobile Safari/537.36                            1\n",
       "Mozilla/5.0 (Linux; Android 5.0.1; A0001 Build/LMY48B) AppleWebKit/537.36 (KHTML, like Gecko) Chrome/71.0.3578 Mobile Safari/537.36                                            1\n",
       "Mozilla/5.0 (Linux; Android 7.0; SM-A510M Build/NRD90M; wv) AppleWebKit/537.36 (KHTML, like Gecko) Version/4.0 Chrome/63.0.3239.111 Mobile Safari/537.36                       1\n",
       "Mozilla/5.0 (Linux; Android 8.0; SM-N915P Build/LRX22C) AppleWebKit/537.36 (KHTML, like Gecko) Chrome/70.0.3538 Mobile Safari/537.36                                           1\n",
       "Mozilla/5.0 (Linux; Android 5.0; SM-G900P Build/LMY47I) AppleWebKit/537.36 (KHTML, like Gecko) Chrome/64.0.3282 Mobile Safari/537.36                                           1\n",
       "Mozilla/5.0 (Linux; Android 8.1.0; SM-G920W8 Build/LRX22G) AppleWebKit/537.36 (KHTML, like Gecko) Chrome/67.0.3396 Mobile Safari/537.36                                        1\n",
       "Name: user_agent, Length: 6206, dtype: int64"
      ]
     },
     "execution_count": 10,
     "metadata": {},
     "output_type": "execute_result"
    }
   ],
   "source": [
    "installs['user_agent'].loc[~installs['user_agent'].astype(str).str.lower() \\\n",
    "             .str.contains(\"mercadopago|tiktok|sindelantal|gardenscapes|dalvik|wish|trivago|grability\") == True].value_counts()"
   ]
  },
  {
   "cell_type": "code",
   "execution_count": 11,
   "metadata": {},
   "outputs": [],
   "source": [
    "installs = installs.drop(columns=['kind', 'user_agent', 'trans_id'])"
   ]
  },
  {
   "cell_type": "markdown",
   "metadata": {},
   "source": [
    "# **Ventanas para train y test**"
   ]
  },
  {
   "cell_type": "code",
   "execution_count": 12,
   "metadata": {},
   "outputs": [],
   "source": [
    "time_start_1 = '2019-04-18'\n",
    "time_start_2 = '2019-04-19'\n",
    "time_start_3 = '2019-04-20'\n",
    "time_start_4 = '2019-04-21'\n",
    "time_start_5 = '2019-04-22'"
   ]
  },
  {
   "cell_type": "code",
   "execution_count": 13,
   "metadata": {},
   "outputs": [],
   "source": [
    "# Ventanas para train y testing\n",
    "\n",
    "window_1 = installs.loc[installs['created'].between('2019-04-18', '2019-04-21')]\n",
    "window_2 = installs.loc[installs['created'].between('2019-04-19', '2019-04-22')]\n",
    "window_3 = installs.loc[installs['created'].between('2019-04-20', '2019-04-23')]\n",
    "# window_4 = installs.loc[installs['created'].between('2019-04-21', '2019-04-24')]\n",
    "# window_5 = installs.loc[installs['created'].between('2019-04-22', '2019-04-25')]"
   ]
  },
  {
   "cell_type": "code",
   "execution_count": 14,
   "metadata": {},
   "outputs": [],
   "source": [
    "# Ordeno por fechas\n",
    "\n",
    "window_1 = window_1.sort_values('created')\n",
    "window_2 = window_2.sort_values('created')\n",
    "window_3 = window_3.sort_values('created')\n",
    "# window_4 = window_4.sort_values('created')\n",
    "# window_5 = window_5.sort_values('created')"
   ]
  },
  {
   "cell_type": "code",
   "execution_count": 15,
   "metadata": {},
   "outputs": [
    {
     "data": {
      "text/html": [
       "<div>\n",
       "<style scoped>\n",
       "    .dataframe tbody tr th:only-of-type {\n",
       "        vertical-align: middle;\n",
       "    }\n",
       "\n",
       "    .dataframe tbody tr th {\n",
       "        vertical-align: top;\n",
       "    }\n",
       "\n",
       "    .dataframe thead th {\n",
       "        text-align: right;\n",
       "    }\n",
       "</style>\n",
       "<table border=\"1\" class=\"dataframe\">\n",
       "  <thead>\n",
       "    <tr style=\"text-align: right;\">\n",
       "      <th></th>\n",
       "      <th>created</th>\n",
       "      <th>application_id</th>\n",
       "      <th>ref_hash</th>\n",
       "      <th>attributed</th>\n",
       "      <th>implicit</th>\n",
       "      <th>wifi</th>\n",
       "      <th>ref_type_android</th>\n",
       "      <th>ref_type_iphone</th>\n",
       "      <th>weekday_0</th>\n",
       "      <th>weekday_1</th>\n",
       "      <th>...</th>\n",
       "      <th>agent_binomo</th>\n",
       "      <th>agent_postmates</th>\n",
       "      <th>agent_tiktok</th>\n",
       "      <th>agent_sindelantal</th>\n",
       "      <th>agent_gardenscapes</th>\n",
       "      <th>agent_dalvik</th>\n",
       "      <th>agent_wish</th>\n",
       "      <th>agent_trivago</th>\n",
       "      <th>agent_grability</th>\n",
       "      <th>agent_mercadopago</th>\n",
       "    </tr>\n",
       "  </thead>\n",
       "  <tbody>\n",
       "    <tr>\n",
       "      <th>94738</th>\n",
       "      <td>2019-04-18 00:00:01.560</td>\n",
       "      <td>70</td>\n",
       "      <td>4432995619177048534</td>\n",
       "      <td>0</td>\n",
       "      <td>0</td>\n",
       "      <td>-1.0</td>\n",
       "      <td>1</td>\n",
       "      <td>0</td>\n",
       "      <td>0</td>\n",
       "      <td>0</td>\n",
       "      <td>...</td>\n",
       "      <td>0</td>\n",
       "      <td>0</td>\n",
       "      <td>0</td>\n",
       "      <td>0</td>\n",
       "      <td>0</td>\n",
       "      <td>0</td>\n",
       "      <td>0</td>\n",
       "      <td>0</td>\n",
       "      <td>0</td>\n",
       "      <td>0</td>\n",
       "    </tr>\n",
       "    <tr>\n",
       "      <th>94737</th>\n",
       "      <td>2019-04-18 00:00:01.851</td>\n",
       "      <td>70</td>\n",
       "      <td>5904733559638204455</td>\n",
       "      <td>0</td>\n",
       "      <td>0</td>\n",
       "      <td>-1.0</td>\n",
       "      <td>1</td>\n",
       "      <td>0</td>\n",
       "      <td>0</td>\n",
       "      <td>0</td>\n",
       "      <td>...</td>\n",
       "      <td>0</td>\n",
       "      <td>0</td>\n",
       "      <td>0</td>\n",
       "      <td>0</td>\n",
       "      <td>0</td>\n",
       "      <td>0</td>\n",
       "      <td>0</td>\n",
       "      <td>0</td>\n",
       "      <td>0</td>\n",
       "      <td>0</td>\n",
       "    </tr>\n",
       "    <tr>\n",
       "      <th>111877</th>\n",
       "      <td>2019-04-18 00:00:05.152</td>\n",
       "      <td>65</td>\n",
       "      <td>896373747754111825</td>\n",
       "      <td>0</td>\n",
       "      <td>1</td>\n",
       "      <td>0.0</td>\n",
       "      <td>1</td>\n",
       "      <td>0</td>\n",
       "      <td>0</td>\n",
       "      <td>0</td>\n",
       "      <td>...</td>\n",
       "      <td>0</td>\n",
       "      <td>0</td>\n",
       "      <td>0</td>\n",
       "      <td>0</td>\n",
       "      <td>0</td>\n",
       "      <td>1</td>\n",
       "      <td>0</td>\n",
       "      <td>0</td>\n",
       "      <td>0</td>\n",
       "      <td>0</td>\n",
       "    </tr>\n",
       "    <tr>\n",
       "      <th>76146</th>\n",
       "      <td>2019-04-18 00:00:05.589</td>\n",
       "      <td>27</td>\n",
       "      <td>3399210824535017892</td>\n",
       "      <td>0</td>\n",
       "      <td>0</td>\n",
       "      <td>1.0</td>\n",
       "      <td>0</td>\n",
       "      <td>1</td>\n",
       "      <td>0</td>\n",
       "      <td>0</td>\n",
       "      <td>...</td>\n",
       "      <td>0</td>\n",
       "      <td>0</td>\n",
       "      <td>0</td>\n",
       "      <td>0</td>\n",
       "      <td>0</td>\n",
       "      <td>0</td>\n",
       "      <td>0</td>\n",
       "      <td>1</td>\n",
       "      <td>0</td>\n",
       "      <td>0</td>\n",
       "    </tr>\n",
       "    <tr>\n",
       "      <th>435184</th>\n",
       "      <td>2019-04-18 00:00:06.795</td>\n",
       "      <td>339</td>\n",
       "      <td>1541425881979513687</td>\n",
       "      <td>0</td>\n",
       "      <td>0</td>\n",
       "      <td>1.0</td>\n",
       "      <td>0</td>\n",
       "      <td>1</td>\n",
       "      <td>0</td>\n",
       "      <td>0</td>\n",
       "      <td>...</td>\n",
       "      <td>0</td>\n",
       "      <td>0</td>\n",
       "      <td>1</td>\n",
       "      <td>0</td>\n",
       "      <td>0</td>\n",
       "      <td>0</td>\n",
       "      <td>0</td>\n",
       "      <td>0</td>\n",
       "      <td>0</td>\n",
       "      <td>0</td>\n",
       "    </tr>\n",
       "  </tbody>\n",
       "</table>\n",
       "<p>5 rows × 41 columns</p>\n",
       "</div>"
      ],
      "text/plain": [
       "                       created  application_id             ref_hash  \\\n",
       "94738  2019-04-18 00:00:01.560              70  4432995619177048534   \n",
       "94737  2019-04-18 00:00:01.851              70  5904733559638204455   \n",
       "111877 2019-04-18 00:00:05.152              65   896373747754111825   \n",
       "76146  2019-04-18 00:00:05.589              27  3399210824535017892   \n",
       "435184 2019-04-18 00:00:06.795             339  1541425881979513687   \n",
       "\n",
       "        attributed  implicit  wifi  ref_type_android  ref_type_iphone  \\\n",
       "94738            0         0  -1.0                 1                0   \n",
       "94737            0         0  -1.0                 1                0   \n",
       "111877           0         1   0.0                 1                0   \n",
       "76146            0         0   1.0                 0                1   \n",
       "435184           0         0   1.0                 0                1   \n",
       "\n",
       "        weekday_0  weekday_1  ...  agent_binomo  agent_postmates  \\\n",
       "94738           0          0  ...             0                0   \n",
       "94737           0          0  ...             0                0   \n",
       "111877          0          0  ...             0                0   \n",
       "76146           0          0  ...             0                0   \n",
       "435184          0          0  ...             0                0   \n",
       "\n",
       "        agent_tiktok  agent_sindelantal  agent_gardenscapes  agent_dalvik  \\\n",
       "94738              0                  0                   0             0   \n",
       "94737              0                  0                   0             0   \n",
       "111877             0                  0                   0             1   \n",
       "76146              0                  0                   0             0   \n",
       "435184             1                  0                   0             0   \n",
       "\n",
       "        agent_wish  agent_trivago  agent_grability  agent_mercadopago  \n",
       "94738            0              0                0                  0  \n",
       "94737            0              0                0                  0  \n",
       "111877           0              0                0                  0  \n",
       "76146            0              1                0                  0  \n",
       "435184           0              0                0                  0  \n",
       "\n",
       "[5 rows x 41 columns]"
      ]
     },
     "execution_count": 15,
     "metadata": {},
     "output_type": "execute_result"
    }
   ],
   "source": [
    "window_1.head()"
   ]
  },
  {
   "cell_type": "code",
   "execution_count": 16,
   "metadata": {},
   "outputs": [],
   "source": [
    "# Contar la cantidad de apariciones que tiene un usuario por ventada\n",
    "\n",
    "window_1['count_installs'] = window_1.groupby('ref_hash')['ref_hash'].transform('count')\n",
    "window_2['count_installs'] = window_2.groupby('ref_hash')['ref_hash'].transform('count')\n",
    "window_3['count_installs'] = window_3.groupby('ref_hash')['ref_hash'].transform('count')\n",
    "# window_4['count_installs'] = window_4.groupby('ref_hash')['ref_hash'].transform('count')\n",
    "# window_5['count_installs'] = window_5.groupby('ref_hash')['ref_hash'].transform('count')"
   ]
  },
  {
   "cell_type": "code",
   "execution_count": 17,
   "metadata": {},
   "outputs": [],
   "source": [
    "# primera y ultima instalacion por ref_hash\n",
    "\n",
    "window_1['last_install'] = window_1.groupby('ref_hash')['created'].transform('max')\n",
    "window_1['first_install'] = window_1.groupby('ref_hash')['created'].transform('min')\n",
    "\n",
    "window_2['last_install'] = window_2.groupby('ref_hash')['created'].transform('max')\n",
    "window_2['first_install'] = window_2.groupby('ref_hash')['created'].transform('min')\n",
    "\n",
    "window_3['last_install'] = window_3.groupby('ref_hash')['created'].transform('max')\n",
    "window_3['first_install'] = window_3.groupby('ref_hash')['created'].transform('min')\n",
    "\n",
    "# window_4['last_install'] = window_4.groupby('ref_hash')['created'].transform('max')\n",
    "# window_4['first_install'] = window_4.groupby('ref_hash')['created'].transform('min')\n",
    "\n",
    "# window_5['last_install'] = window_5.groupby('ref_hash')['created'].transform('max')\n",
    "# window_5['first_install'] = window_5.groupby('ref_hash')['created'].transform('min')"
   ]
  },
  {
   "cell_type": "code",
   "execution_count": 18,
   "metadata": {},
   "outputs": [],
   "source": [
    "# diferencia de tiempo entre la primera y la ultima instalacion\n",
    "\n",
    "window_1['diff_between_installs'] = (window_1['last_install'] - window_1['first_install']).dt.total_seconds()\n",
    "\n",
    "window_2['diff_between_installs'] = (window_2['last_install'] - window_2['first_install']).dt.total_seconds()\n",
    "\n",
    "window_3['diff_first_installs'] = (window_3['last_install'] - window_3['first_install']).dt.total_seconds()\n",
    "\n",
    "# window_4['diff_first_installs'] = (window_4['last_install'] - window_4['first_install']).dt.total_seconds()\n",
    "\n",
    "# window_5['diff_first_installs'] = (window_5['last_install'] - window_5['first_install']).dt.total_seconds()"
   ]
  },
  {
   "cell_type": "code",
   "execution_count": 19,
   "metadata": {},
   "outputs": [],
   "source": [
    "# Promedio de diferencias de tiempo entre todas las instalaciones\n",
    "window_1['prom_time_install'] = 0\n",
    "window_1.loc[window_1['count_installs'] > 1, 'prom_time_install'] = ((window_1['last_install'] - window_1['first_install'])/ \\\n",
    "                                 (window_1['count_installs'] -1)).dt.total_seconds()\n",
    "\n",
    "window_2['prom_time_install'] = 0\n",
    "window_2.loc[window_2['count_installs'] > 1,'prom_time_install'] = ((window_2['last_install'] - window_2['first_install'])/ \\\n",
    "                                 (window_2['count_installs'] - 1)).dt.total_seconds()\n",
    "\n",
    "# window_3['prom_time_install'] = 0\n",
    "window_3.loc[window_3['count_installs'] > 1,'prom_time_install'] = ((window_3['last_install'] - window_3['first_install'])/ \\\n",
    "                                 (window_3['count_installs'] - 1)).dt.total_seconds()\n",
    "\n",
    "# window_4['prom_time_install'] = 0\n",
    "# window_4.loc[window_4['count_installs'] > 1, 'prom_time_install'] = ((window_4['last_install'] - window_4['first_install'])/ \\\n",
    "#                                  (window_4['count_installs'] - 1)).dt.total_seconds()\n",
    "\n",
    "# window_5['prom_time_install'] = 0\n",
    "# window_5.loc[window_5['count_installs'] > 1, 'prom_time_install'] = ((window_5['last_install'] - window_5['first_install'])/ \\\n",
    "#                                  (window_5['count_installs'] -1 )).dt.total_seconds()"
   ]
  },
  {
   "cell_type": "code",
   "execution_count": 20,
   "metadata": {},
   "outputs": [],
   "source": [
    "# diferencia de tiempo entre el comienzo de la ventana y la primera y ultima instalacion\n",
    "\n",
    "window_1['time_first_install'] = (window_1['first_install'] - pd.Timestamp(time_start_1)).dt.total_seconds()\n",
    "window_1['time_last_install'] = (window_1['last_install'] - pd.Timestamp(time_start_1)).dt.total_seconds()\n",
    "\n",
    "window_2['time_first_install'] = (window_2['first_install'] - pd.Timestamp(time_start_2)).dt.total_seconds()\n",
    "window_2['time_last_install'] = (window_2['last_install'] - pd.Timestamp(time_start_2)).dt.total_seconds()\n",
    "\n",
    "window_3['time_first_install'] = (window_3['first_install'] - pd.Timestamp(time_start_3)).dt.total_seconds()\n",
    "window_3['time_last_install'] = (window_3['last_install'] - pd.Timestamp(time_start_3)).dt.total_seconds()\n",
    "\n",
    "# window_4['time_first_install'] = (window_4['first_install'] - pd.Timestamp(time_start_4)).dt.total_seconds()\n",
    "# window_4['time_last_install'] = (window_4['last_install'] - pd.Timestamp(time_start_4)).dt.total_seconds()\n",
    "\n",
    "# window_5['time_first_install'] = (window_5['first_install'] - pd.Timestamp(time_start_5)).dt.total_seconds()\n",
    "# window_5['time_last_install'] = (window_5['last_install'] - pd.Timestamp(time_start_5)).dt.total_seconds()"
   ]
  },
  {
   "cell_type": "code",
   "execution_count": 21,
   "metadata": {},
   "outputs": [],
   "source": [
    "window_1 = window_1.groupby('ref_hash').head(1)\n",
    "window_2 = window_2.groupby('ref_hash').head(1)\n",
    "window_3 = window_3.groupby('ref_hash').head(1)\n",
    "# window_4 = window_4.groupby('ref_hash').head(1)\n",
    "# window_5 = window_5.groupby('ref_hash').head(1)"
   ]
  },
  {
   "cell_type": "code",
   "execution_count": 22,
   "metadata": {},
   "outputs": [
    {
     "name": "stdout",
     "output_type": "stream",
     "text": [
      "132297\n",
      "129651\n"
     ]
    }
   ],
   "source": [
    "print(len(window_1))\n",
    "print(len(window_2))\n",
    "print(len(window_3))\n",
    "# print(len(window_4))\n",
    "# print(len(window_5))"
   ]
  },
  {
   "cell_type": "code",
   "execution_count": 23,
   "metadata": {},
   "outputs": [],
   "source": [
    "window_1 = window_1.drop(columns=['created', 'last_install', 'first_install'])\n",
    "window_2 = window_2.drop(columns=['created', 'last_install', 'first_install'])\n",
    "window_3 = window_3.drop(columns=['created', 'last_install', 'first_install'])\n",
    "# window_4 = window_4.drop(columns=['created', 'last_install', 'first_install'])\n",
    "# window_5 = window_5.drop(columns=['created', 'last_install', 'first_install'])"
   ]
  },
  {
   "cell_type": "markdown",
   "metadata": {},
   "source": [
    "# **Ventatas 1 y 2**"
   ]
  },
  {
   "cell_type": "code",
   "execution_count": 32,
   "metadata": {},
   "outputs": [],
   "source": [
    "# primer join \n",
    "join1 = window_1.merge(window_2[['ref_hash','time_first_install']],indicator = False, how='left', on='ref_hash')"
   ]
  },
  {
   "cell_type": "code",
   "execution_count": 25,
   "metadata": {},
   "outputs": [
    {
     "name": "stdout",
     "output_type": "stream",
     "text": [
      "132297 132297 129651\n"
     ]
    }
   ],
   "source": [
    "print(len(join1), len(window_1), len(window_2))"
   ]
  },
  {
   "cell_type": "code",
   "execution_count": 33,
   "metadata": {},
   "outputs": [],
   "source": [
    "join1 = join1.drop(columns=['ref_hash'])\n",
    "join1['time_first_install_y'].fillna(20*24*3600, inplace=True) # 20 dias, tiempo muy grande"
   ]
  },
  {
   "cell_type": "code",
   "execution_count": 34,
   "metadata": {},
   "outputs": [
    {
     "data": {
      "text/html": [
       "<div>\n",
       "<style scoped>\n",
       "    .dataframe tbody tr th:only-of-type {\n",
       "        vertical-align: middle;\n",
       "    }\n",
       "\n",
       "    .dataframe tbody tr th {\n",
       "        vertical-align: top;\n",
       "    }\n",
       "\n",
       "    .dataframe thead th {\n",
       "        text-align: right;\n",
       "    }\n",
       "</style>\n",
       "<table border=\"1\" class=\"dataframe\">\n",
       "  <thead>\n",
       "    <tr style=\"text-align: right;\">\n",
       "      <th></th>\n",
       "      <th>application_id</th>\n",
       "      <th>attributed</th>\n",
       "      <th>implicit</th>\n",
       "      <th>wifi</th>\n",
       "      <th>ref_type_android</th>\n",
       "      <th>ref_type_iphone</th>\n",
       "      <th>weekday_0</th>\n",
       "      <th>weekday_1</th>\n",
       "      <th>weekday_2</th>\n",
       "      <th>weekday_3</th>\n",
       "      <th>...</th>\n",
       "      <th>agent_wish</th>\n",
       "      <th>agent_trivago</th>\n",
       "      <th>agent_grability</th>\n",
       "      <th>agent_mercadopago</th>\n",
       "      <th>count_installs</th>\n",
       "      <th>diff_between_installs</th>\n",
       "      <th>prom_time_install</th>\n",
       "      <th>time_first_install_x</th>\n",
       "      <th>time_last_install</th>\n",
       "      <th>time_first_install_y</th>\n",
       "    </tr>\n",
       "  </thead>\n",
       "  <tbody>\n",
       "    <tr>\n",
       "      <th>0</th>\n",
       "      <td>70</td>\n",
       "      <td>0</td>\n",
       "      <td>0</td>\n",
       "      <td>-1.0</td>\n",
       "      <td>1</td>\n",
       "      <td>0</td>\n",
       "      <td>0</td>\n",
       "      <td>0</td>\n",
       "      <td>0</td>\n",
       "      <td>1</td>\n",
       "      <td>...</td>\n",
       "      <td>0</td>\n",
       "      <td>0</td>\n",
       "      <td>0</td>\n",
       "      <td>0</td>\n",
       "      <td>1</td>\n",
       "      <td>0.000</td>\n",
       "      <td>0.000</td>\n",
       "      <td>1.560</td>\n",
       "      <td>1.560</td>\n",
       "      <td>1728000.0</td>\n",
       "    </tr>\n",
       "    <tr>\n",
       "      <th>1</th>\n",
       "      <td>70</td>\n",
       "      <td>0</td>\n",
       "      <td>0</td>\n",
       "      <td>-1.0</td>\n",
       "      <td>1</td>\n",
       "      <td>0</td>\n",
       "      <td>0</td>\n",
       "      <td>0</td>\n",
       "      <td>0</td>\n",
       "      <td>1</td>\n",
       "      <td>...</td>\n",
       "      <td>0</td>\n",
       "      <td>0</td>\n",
       "      <td>0</td>\n",
       "      <td>0</td>\n",
       "      <td>1</td>\n",
       "      <td>0.000</td>\n",
       "      <td>0.000</td>\n",
       "      <td>1.851</td>\n",
       "      <td>1.851</td>\n",
       "      <td>1728000.0</td>\n",
       "    </tr>\n",
       "    <tr>\n",
       "      <th>2</th>\n",
       "      <td>65</td>\n",
       "      <td>0</td>\n",
       "      <td>1</td>\n",
       "      <td>0.0</td>\n",
       "      <td>1</td>\n",
       "      <td>0</td>\n",
       "      <td>0</td>\n",
       "      <td>0</td>\n",
       "      <td>0</td>\n",
       "      <td>1</td>\n",
       "      <td>...</td>\n",
       "      <td>0</td>\n",
       "      <td>0</td>\n",
       "      <td>0</td>\n",
       "      <td>0</td>\n",
       "      <td>2</td>\n",
       "      <td>4.006</td>\n",
       "      <td>4.006</td>\n",
       "      <td>5.152</td>\n",
       "      <td>9.158</td>\n",
       "      <td>1728000.0</td>\n",
       "    </tr>\n",
       "    <tr>\n",
       "      <th>3</th>\n",
       "      <td>27</td>\n",
       "      <td>0</td>\n",
       "      <td>0</td>\n",
       "      <td>1.0</td>\n",
       "      <td>0</td>\n",
       "      <td>1</td>\n",
       "      <td>0</td>\n",
       "      <td>0</td>\n",
       "      <td>0</td>\n",
       "      <td>1</td>\n",
       "      <td>...</td>\n",
       "      <td>0</td>\n",
       "      <td>1</td>\n",
       "      <td>0</td>\n",
       "      <td>0</td>\n",
       "      <td>1</td>\n",
       "      <td>0.000</td>\n",
       "      <td>0.000</td>\n",
       "      <td>5.589</td>\n",
       "      <td>5.589</td>\n",
       "      <td>1728000.0</td>\n",
       "    </tr>\n",
       "    <tr>\n",
       "      <th>4</th>\n",
       "      <td>339</td>\n",
       "      <td>0</td>\n",
       "      <td>0</td>\n",
       "      <td>1.0</td>\n",
       "      <td>0</td>\n",
       "      <td>1</td>\n",
       "      <td>0</td>\n",
       "      <td>0</td>\n",
       "      <td>0</td>\n",
       "      <td>1</td>\n",
       "      <td>...</td>\n",
       "      <td>0</td>\n",
       "      <td>0</td>\n",
       "      <td>0</td>\n",
       "      <td>0</td>\n",
       "      <td>1</td>\n",
       "      <td>0.000</td>\n",
       "      <td>0.000</td>\n",
       "      <td>6.795</td>\n",
       "      <td>6.795</td>\n",
       "      <td>1728000.0</td>\n",
       "    </tr>\n",
       "  </tbody>\n",
       "</table>\n",
       "<p>5 rows × 45 columns</p>\n",
       "</div>"
      ],
      "text/plain": [
       "   application_id  attributed  implicit  wifi  ref_type_android  \\\n",
       "0              70           0         0  -1.0                 1   \n",
       "1              70           0         0  -1.0                 1   \n",
       "2              65           0         1   0.0                 1   \n",
       "3              27           0         0   1.0                 0   \n",
       "4             339           0         0   1.0                 0   \n",
       "\n",
       "   ref_type_iphone  weekday_0  weekday_1  weekday_2  weekday_3  ...  \\\n",
       "0                0          0          0          0          1  ...   \n",
       "1                0          0          0          0          1  ...   \n",
       "2                0          0          0          0          1  ...   \n",
       "3                1          0          0          0          1  ...   \n",
       "4                1          0          0          0          1  ...   \n",
       "\n",
       "   agent_wish  agent_trivago  agent_grability  agent_mercadopago  \\\n",
       "0           0              0                0                  0   \n",
       "1           0              0                0                  0   \n",
       "2           0              0                0                  0   \n",
       "3           0              1                0                  0   \n",
       "4           0              0                0                  0   \n",
       "\n",
       "   count_installs  diff_between_installs  prom_time_install  \\\n",
       "0               1                  0.000              0.000   \n",
       "1               1                  0.000              0.000   \n",
       "2               2                  4.006              4.006   \n",
       "3               1                  0.000              0.000   \n",
       "4               1                  0.000              0.000   \n",
       "\n",
       "   time_first_install_x  time_last_install  time_first_install_y  \n",
       "0                 1.560              1.560             1728000.0  \n",
       "1                 1.851              1.851             1728000.0  \n",
       "2                 5.152              9.158             1728000.0  \n",
       "3                 5.589              5.589             1728000.0  \n",
       "4                 6.795              6.795             1728000.0  \n",
       "\n",
       "[5 rows x 45 columns]"
      ]
     },
     "execution_count": 34,
     "metadata": {},
     "output_type": "execute_result"
    }
   ],
   "source": [
    "join1.head()"
   ]
  },
  {
   "cell_type": "markdown",
   "metadata": {},
   "source": [
    "### **XGBOOX**"
   ]
  },
  {
   "cell_type": "code",
   "execution_count": 28,
   "metadata": {},
   "outputs": [],
   "source": [
    "import xgboost as xgb\n",
    "from sklearn.metrics import mean_squared_error\n",
    "from sklearn.model_selection import train_test_split"
   ]
  },
  {
   "cell_type": "code",
   "execution_count": null,
   "metadata": {},
   "outputs": [],
   "source": [
    "mod1 = xgb.XGBRegressor(gamma=1, learning_rate=0.01, max_depth=3, n_estimators=1000, subsample=0.8,\n",
    "                        random_state=34) "
   ]
  },
  {
   "cell_type": "code",
   "execution_count": null,
   "metadata": {},
   "outputs": [],
   "source": [
    "mod2 = xgb.XGBRegressor(objective ='reg:linear', colsample_bytree = 0.3, learning_rate = 0.1,\n",
    "                max_depth = 5, alpha = 10, n_estimators = 10000)"
   ]
  },
  {
   "cell_type": "code",
   "execution_count": 35,
   "metadata": {},
   "outputs": [],
   "source": [
    "train1, test1 = train_test_split(join1, test_size=0.2)\n",
    "\n",
    "train1_Y = train1['time_first_install_y']\n",
    "train1_X = train1.drop(columns=['time_first_install_y'])\n",
    "test1_Y = test1['time_first_install_y']\n",
    "test1_X = test1.drop(columns=['time_first_install_y'])"
   ]
  },
  {
   "cell_type": "code",
   "execution_count": 38,
   "metadata": {},
   "outputs": [
    {
     "name": "stderr",
     "output_type": "stream",
     "text": [
      "/home/eliana/fiuba/datos7506/envdt/lib/python3.6/site-packages/xgboost/core.py:587: FutureWarning: Series.base is deprecated and will be removed in a future version\n",
      "  if getattr(data, 'base', None) is not None and \\\n",
      "/home/eliana/fiuba/datos7506/envdt/lib/python3.6/site-packages/xgboost/core.py:588: FutureWarning: Series.base is deprecated and will be removed in a future version\n",
      "  data.base is not None and isinstance(data, np.ndarray) \\\n"
     ]
    },
    {
     "name": "stdout",
     "output_type": "stream",
     "text": [
      "[22:23:55] WARNING: /workspace/src/objective/regression_obj.cu:152: reg:linear is now deprecated in favor of reg:squarederror.\n"
     ]
    }
   ],
   "source": [
    "mod1.fit(train1_X,train1_Y)\n",
    "\n",
    "preds1_join1 = mod1.predict(test1_X)"
   ]
  },
  {
   "cell_type": "code",
   "execution_count": 39,
   "metadata": {},
   "outputs": [
    {
     "name": "stdout",
     "output_type": "stream",
     "text": [
      "RMSE: 96488.403476\n"
     ]
    }
   ],
   "source": [
    "rmse1_join1 = np.sqrt(mean_squared_error(test1_Y, preds1_join1))\n",
    "print(\"RMSE: %f\" % (rmse1_join1))"
   ]
  },
  {
   "cell_type": "code",
   "execution_count": null,
   "metadata": {},
   "outputs": [
    {
     "name": "stderr",
     "output_type": "stream",
     "text": [
      "/home/eliana/fiuba/datos7506/envdt/lib/python3.6/site-packages/xgboost/core.py:587: FutureWarning: Series.base is deprecated and will be removed in a future version\n",
      "  if getattr(data, 'base', None) is not None and \\\n",
      "/home/eliana/fiuba/datos7506/envdt/lib/python3.6/site-packages/xgboost/core.py:588: FutureWarning: Series.base is deprecated and will be removed in a future version\n",
      "  data.base is not None and isinstance(data, np.ndarray) \\\n"
     ]
    },
    {
     "name": "stdout",
     "output_type": "stream",
     "text": [
      "[22:27:57] WARNING: /workspace/src/objective/regression_obj.cu:152: reg:linear is now deprecated in favor of reg:squarederror.\n"
     ]
    }
   ],
   "source": [
    "mod2.fit(train1_X,train1_Y)\n",
    "\n",
    "preds2_join1 = mod2.predict(test1_X)"
   ]
  },
  {
   "cell_type": "code",
   "execution_count": null,
   "metadata": {},
   "outputs": [],
   "source": [
    "rmse2_join1 = np.sqrt(mean_squared_error(test1_Y, preds2_join1))\n",
    "print(\"RMSE: %f\" % (rmse2_join1))"
   ]
  },
  {
   "cell_type": "markdown",
   "metadata": {},
   "source": [
    "### **Random Forest**"
   ]
  },
  {
   "cell_type": "code",
   "execution_count": null,
   "metadata": {},
   "outputs": [],
   "source": [
    "from sklearn.ensemble import RandomForestRegressor\n",
    "\n",
    "rf = RandomForestRegressor(n_estimators = 1000, random_state = 42)"
   ]
  },
  {
   "cell_type": "code",
   "execution_count": null,
   "metadata": {},
   "outputs": [],
   "source": [
    "rf.fit(train1_X, train1_Y);"
   ]
  },
  {
   "cell_type": "code",
   "execution_count": null,
   "metadata": {},
   "outputs": [],
   "source": [
    "preds3_join1 = rf.predict(test1_X)"
   ]
  },
  {
   "cell_type": "code",
   "execution_count": null,
   "metadata": {},
   "outputs": [],
   "source": [
    "rmse3_join1 = np.sqrt(mean_squared_error(test1_Y, preds3_join1))\n",
    "\n",
    "print(\"RMSE: %f\" % (rmse3_join1))"
   ]
  },
  {
   "cell_type": "markdown",
   "metadata": {},
   "source": [
    "# **Ventana 2 y 3**"
   ]
  },
  {
   "cell_type": "code",
   "execution_count": null,
   "metadata": {},
   "outputs": [],
   "source": [
    "# pd.concat([df1, preds3_join1], axis=1)"
   ]
  },
  {
   "cell_type": "code",
   "execution_count": null,
   "metadata": {},
   "outputs": [],
   "source": [
    "join2 = window_2.merge(window_3[['ref_hash','time_first_install']],indicator = False, how='left', on='ref_hash')"
   ]
  },
  {
   "cell_type": "code",
   "execution_count": null,
   "metadata": {},
   "outputs": [],
   "source": [
    "train2, test2 = train_test_split(join2, test_size=0.2)\n",
    "\n",
    "train2_Y = train2['time_first_install_y']\n",
    "train2_X = train2.drop(columns=['time_first_install_y'])\n",
    "test2_Y = test2['time_first_install_y']\n",
    "test2_X = test2.drop(columns=['time_first_install_y'])"
   ]
  },
  {
   "cell_type": "markdown",
   "metadata": {},
   "source": [
    "### Clicks"
   ]
  },
  {
   "cell_type": "code",
   "execution_count": null,
   "metadata": {},
   "outputs": [],
   "source": [
    "# clicks = pd.read_csv(\"data/clicks.csv.gzip\")\n",
    "\n",
    "# clicks = clicks.drop(columns=['agent_device', 'os_minor', 'os_major', 'country_code', 'action_id'\\\n",
    "#                 'brand', 'touchX', 'touchY', 'specs_brand', 'carrier_id', 'longitude', 'latitude'], axis=1)"
   ]
  },
  {
   "cell_type": "code",
   "execution_count": null,
   "metadata": {},
   "outputs": [],
   "source": [
    "# clicks.head()"
   ]
  },
  {
   "cell_type": "code",
   "execution_count": null,
   "metadata": {},
   "outputs": [],
   "source": [
    "# installs['wifi'] = installs['wifi'].map({True: 1, False: 0})\n",
    "# installs['wifi'] = installs['wifi'].fillna(-1)\n",
    "\n",
    "# installs['ref_type'] = installs['ref_type'].map({'1891515180541284343': 1, '1494519392962156891': 0})"
   ]
  },
  {
   "cell_type": "code",
   "execution_count": null,
   "metadata": {},
   "outputs": [],
   "source": [
    "# window_1_click = clicks[clicks['created'].between('2019-04-18', '2019-04-21')]"
   ]
  },
  {
   "cell_type": "code",
   "execution_count": null,
   "metadata": {},
   "outputs": [],
   "source": [
    "# clicks_first = pd.merge(window_1_click, window_1_click.groupby('ref_hash').agg('size').reset_index(), on='ref_hash', how='inner')"
   ]
  },
  {
   "cell_type": "code",
   "execution_count": null,
   "metadata": {},
   "outputs": [],
   "source": [
    "# clicks_first = clicks_first.drop_duplicates('ref_hash')"
   ]
  },
  {
   "cell_type": "code",
   "execution_count": null,
   "metadata": {},
   "outputs": [],
   "source": [
    "# installs_ref_hash_2 = pd.merge(installs, clicks, on='ref_hash', how='inner')"
   ]
  },
  {
   "cell_type": "code",
   "execution_count": null,
   "metadata": {},
   "outputs": [],
   "source": [
    "# installs_ref_hash_2.head()"
   ]
  }
 ],
 "metadata": {
  "kernelspec": {
   "display_name": "Python 3",
   "language": "python",
   "name": "python3"
  },
  "language_info": {
   "codemirror_mode": {
    "name": "ipython",
    "version": 3
   },
   "file_extension": ".py",
   "mimetype": "text/x-python",
   "name": "python",
   "nbconvert_exporter": "python",
   "pygments_lexer": "ipython3",
   "version": "3.6.7"
  }
 },
 "nbformat": 4,
 "nbformat_minor": 2
}
