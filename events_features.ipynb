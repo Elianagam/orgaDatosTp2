{
 "cells": [
  {
   "cell_type": "code",
   "execution_count": 1,
   "metadata": {},
   "outputs": [],
   "source": [
    "import pandas as pd"
   ]
  },
  {
   "cell_type": "code",
   "execution_count": 3,
   "metadata": {},
   "outputs": [],
   "source": [
    "dtypes_dict = {'created':'str',  'device_os': 'category', 'event_id': 'category', \\\n",
    "               'application_id': 'category', 'device_os_version': 'category', 'device_brand': 'category', \\\n",
    "               'device_model': 'category', 'device_city': 'category', 'connection_type': 'category', \\\n",
    "               'device_language': 'category', 'carrier': 'category', 'kind': 'category'}\n",
    "\n",
    "events = pd.read_csv('data/events.csv', dtype=dtypes_dict, low_memory=False)"
   ]
  },
  {
   "cell_type": "code",
   "execution_count": 4,
   "metadata": {},
   "outputs": [],
   "source": [
    "events = events.drop(columns=['event_uuid', 'ip_address', 'trans_id', 'index'], axis=1)"
   ]
  },
  {
   "cell_type": "code",
   "execution_count": 5,
   "metadata": {},
   "outputs": [],
   "source": [
    "events['attributed'] = events['attributed'].map({True: 1, False: 0})\n",
    "events['wifi'] = events['wifi'].map({True: 1, False: 0})"
   ]
  },
  {
   "cell_type": "code",
   "execution_count": 8,
   "metadata": {},
   "outputs": [],
   "source": [
    "events['ref_type_189'] = (events['ref_type'] == 1891515180541284343).astype(int)\n",
    "events['ref_ty_149pe_149'] = (events['ref_type'] == 1494519392962156891).astype(int)\n",
    "events = events.drop('ref_type', axis=1)"
   ]
  },
  {
   "cell_type": "code",
   "execution_count": 9,
   "metadata": {},
   "outputs": [],
   "source": [
    "events = events.drop('device_countrycode', axis=1)\n",
    "events['date'] = pd.to_datetime(events['date'], format='%Y-%m-%d %H:%M:%S')"
   ]
  },
  {
   "cell_type": "code",
   "execution_count": 6,
   "metadata": {},
   "outputs": [
    {
     "data": {
      "text/html": [
       "<div>\n",
       "<style scoped>\n",
       "    .dataframe tbody tr th:only-of-type {\n",
       "        vertical-align: middle;\n",
       "    }\n",
       "\n",
       "    .dataframe tbody tr th {\n",
       "        vertical-align: top;\n",
       "    }\n",
       "\n",
       "    .dataframe thead th {\n",
       "        text-align: right;\n",
       "    }\n",
       "</style>\n",
       "<table border=\"1\" class=\"dataframe\">\n",
       "  <thead>\n",
       "    <tr style=\"text-align: right;\">\n",
       "      <th></th>\n",
       "      <th>index</th>\n",
       "      <th>date</th>\n",
       "      <th>event_id</th>\n",
       "      <th>ref_hash</th>\n",
       "      <th>application_id</th>\n",
       "      <th>attributed</th>\n",
       "      <th>device_os_version</th>\n",
       "      <th>device_brand</th>\n",
       "      <th>device_model</th>\n",
       "      <th>device_city</th>\n",
       "      <th>session_user_agent</th>\n",
       "      <th>user_agent</th>\n",
       "      <th>carrier</th>\n",
       "      <th>kind</th>\n",
       "      <th>device_os</th>\n",
       "      <th>wifi</th>\n",
       "      <th>connection_type</th>\n",
       "      <th>device_language</th>\n",
       "      <th>ref_type_189</th>\n",
       "      <th>ref_ty_149pe_149</th>\n",
       "    </tr>\n",
       "  </thead>\n",
       "  <tbody>\n",
       "    <tr>\n",
       "      <th>0</th>\n",
       "      <td>2130678</td>\n",
       "      <td>2019-04-20 01:42:49.120</td>\n",
       "      <td>0</td>\n",
       "      <td>5857744372586891366</td>\n",
       "      <td>210</td>\n",
       "      <td>False</td>\n",
       "      <td>NaN</td>\n",
       "      <td>NaN</td>\n",
       "      <td>4.318294e+18</td>\n",
       "      <td>NaN</td>\n",
       "      <td>3.819516e+18</td>\n",
       "      <td>5.046185e+18</td>\n",
       "      <td>NaN</td>\n",
       "      <td>5.882882e+18</td>\n",
       "      <td>NaN</td>\n",
       "      <td>False</td>\n",
       "      <td>NaN</td>\n",
       "      <td>3.301378e+18</td>\n",
       "      <td>1</td>\n",
       "      <td>0</td>\n",
       "    </tr>\n",
       "    <tr>\n",
       "      <th>1</th>\n",
       "      <td>2130680</td>\n",
       "      <td>2019-04-20 01:42:49.340</td>\n",
       "      <td>1</td>\n",
       "      <td>7642521036780133571</td>\n",
       "      <td>210</td>\n",
       "      <td>False</td>\n",
       "      <td>NaN</td>\n",
       "      <td>NaN</td>\n",
       "      <td>NaN</td>\n",
       "      <td>NaN</td>\n",
       "      <td>3.819516e+18</td>\n",
       "      <td>NaN</td>\n",
       "      <td>NaN</td>\n",
       "      <td>4.017674e+18</td>\n",
       "      <td>NaN</td>\n",
       "      <td>False</td>\n",
       "      <td>NaN</td>\n",
       "      <td>NaN</td>\n",
       "      <td>1</td>\n",
       "      <td>0</td>\n",
       "    </tr>\n",
       "    <tr>\n",
       "      <th>2</th>\n",
       "      <td>2130681</td>\n",
       "      <td>2019-04-20 01:42:49.365</td>\n",
       "      <td>1</td>\n",
       "      <td>2548841562898283198</td>\n",
       "      <td>210</td>\n",
       "      <td>False</td>\n",
       "      <td>NaN</td>\n",
       "      <td>NaN</td>\n",
       "      <td>NaN</td>\n",
       "      <td>NaN</td>\n",
       "      <td>3.819516e+18</td>\n",
       "      <td>NaN</td>\n",
       "      <td>NaN</td>\n",
       "      <td>4.017674e+18</td>\n",
       "      <td>NaN</td>\n",
       "      <td>False</td>\n",
       "      <td>NaN</td>\n",
       "      <td>NaN</td>\n",
       "      <td>1</td>\n",
       "      <td>0</td>\n",
       "    </tr>\n",
       "    <tr>\n",
       "      <th>3</th>\n",
       "      <td>2130684</td>\n",
       "      <td>2019-04-20 01:42:51.438</td>\n",
       "      <td>2</td>\n",
       "      <td>609402887625919085</td>\n",
       "      <td>210</td>\n",
       "      <td>False</td>\n",
       "      <td>NaN</td>\n",
       "      <td>NaN</td>\n",
       "      <td>NaN</td>\n",
       "      <td>NaN</td>\n",
       "      <td>3.819516e+18</td>\n",
       "      <td>NaN</td>\n",
       "      <td>NaN</td>\n",
       "      <td>6.168309e+18</td>\n",
       "      <td>NaN</td>\n",
       "      <td>False</td>\n",
       "      <td>NaN</td>\n",
       "      <td>NaN</td>\n",
       "      <td>1</td>\n",
       "      <td>0</td>\n",
       "    </tr>\n",
       "    <tr>\n",
       "      <th>4</th>\n",
       "      <td>2130688</td>\n",
       "      <td>2019-04-20 01:42:51.838</td>\n",
       "      <td>1</td>\n",
       "      <td>9114651763556439823</td>\n",
       "      <td>210</td>\n",
       "      <td>False</td>\n",
       "      <td>NaN</td>\n",
       "      <td>NaN</td>\n",
       "      <td>NaN</td>\n",
       "      <td>NaN</td>\n",
       "      <td>3.819516e+18</td>\n",
       "      <td>NaN</td>\n",
       "      <td>NaN</td>\n",
       "      <td>4.017674e+18</td>\n",
       "      <td>NaN</td>\n",
       "      <td>False</td>\n",
       "      <td>NaN</td>\n",
       "      <td>NaN</td>\n",
       "      <td>1</td>\n",
       "      <td>0</td>\n",
       "    </tr>\n",
       "  </tbody>\n",
       "</table>\n",
       "</div>"
      ],
      "text/plain": [
       "     index                    date  event_id             ref_hash  \\\n",
       "0  2130678 2019-04-20 01:42:49.120         0  5857744372586891366   \n",
       "1  2130680 2019-04-20 01:42:49.340         1  7642521036780133571   \n",
       "2  2130681 2019-04-20 01:42:49.365         1  2548841562898283198   \n",
       "3  2130684 2019-04-20 01:42:51.438         2   609402887625919085   \n",
       "4  2130688 2019-04-20 01:42:51.838         1  9114651763556439823   \n",
       "\n",
       "   application_id  attributed  device_os_version  device_brand  device_model  \\\n",
       "0             210       False                NaN           NaN  4.318294e+18   \n",
       "1             210       False                NaN           NaN           NaN   \n",
       "2             210       False                NaN           NaN           NaN   \n",
       "3             210       False                NaN           NaN           NaN   \n",
       "4             210       False                NaN           NaN           NaN   \n",
       "\n",
       "   device_city  session_user_agent    user_agent  carrier          kind  \\\n",
       "0          NaN        3.819516e+18  5.046185e+18      NaN  5.882882e+18   \n",
       "1          NaN        3.819516e+18           NaN      NaN  4.017674e+18   \n",
       "2          NaN        3.819516e+18           NaN      NaN  4.017674e+18   \n",
       "3          NaN        3.819516e+18           NaN      NaN  6.168309e+18   \n",
       "4          NaN        3.819516e+18           NaN      NaN  4.017674e+18   \n",
       "\n",
       "   device_os   wifi connection_type  device_language  ref_type_189  \\\n",
       "0        NaN  False             NaN     3.301378e+18             1   \n",
       "1        NaN  False             NaN              NaN             1   \n",
       "2        NaN  False             NaN              NaN             1   \n",
       "3        NaN  False             NaN              NaN             1   \n",
       "4        NaN  False             NaN              NaN             1   \n",
       "\n",
       "   ref_ty_149pe_149  \n",
       "0                 0  \n",
       "1                 0  \n",
       "2                 0  \n",
       "3                 0  \n",
       "4                 0  "
      ]
     },
     "execution_count": 6,
     "metadata": {},
     "output_type": "execute_result"
    }
   ],
   "source": [
    "events.head()"
   ]
  },
  {
   "cell_type": "code",
   "execution_count": null,
   "metadata": {},
   "outputs": [],
   "source": [
    "## Popular label encoding:"
   ]
  },
  {
   "cell_type": "code",
   "execution_count": 21,
   "metadata": {},
   "outputs": [],
   "source": [
    "app_popular_list = events['application_id'].value_counts().head(10).index"
   ]
  },
  {
   "cell_type": "code",
   "execution_count": 22,
   "metadata": {},
   "outputs": [
    {
     "name": "stdout",
     "output_type": "stream",
     "text": [
      "Int64Index([210, 122, 121, 65, 26, 269, 155, 21, 133, 226], dtype='int64')\n"
     ]
    }
   ],
   "source": [
    "print(app_popular_list)"
   ]
  },
  {
   "cell_type": "code",
   "execution_count": 27,
   "metadata": {},
   "outputs": [],
   "source": [
    "# values_dict = {'210': 10, '122': 9, '121': 8, '65': 7, '26':6, '269': 5, '155':4, '21':3, '133':2, '226': 1}\n",
    "\n",
    "values_dict = {210: 10, 122: 9, 121: 8, 65: 7, 26:6, 269: 5, 155:4, 21:3, 133:2, 226: 1}\n",
    "\n",
    "events['popular_apps_events'] = events['application_id'].map(values_dict)\n",
    "events['popular_apps_events'].fillna(0, inplace=True)"
   ]
  },
  {
   "cell_type": "code",
   "execution_count": 30,
   "metadata": {},
   "outputs": [
    {
     "data": {
      "text/plain": [
       "Float64Index([8.758762753139908e+18, 1.515556229986242e+18,\n",
       "               8.70789287631851e+18, 7.676355687472416e+18,\n",
       "              6.647944040896282e+18, 7.868246725820926e+18,\n",
       "                3.2302435360873e+18, 6.567020182320459e+18,\n",
       "              4.416562419587944e+18,  6.96563493371318e+18],\n",
       "             dtype='float64')"
      ]
     },
     "execution_count": 30,
     "metadata": {},
     "output_type": "execute_result"
    }
   ],
   "source": [
    "carrier_popular_list = events['carrier'].value_counts().head(10).index\n",
    "carrier_popular_list"
   ]
  },
  {
   "cell_type": "code",
   "execution_count": null,
   "metadata": {},
   "outputs": [],
   "source": [
    "events['popular_carrier_events'] = 0\n",
    "events.loc[events['carrier'].astype(str).str.contains(\"8.758762753139908e\"), 'popular_carrier_events'] = 10\n",
    "events.loc[events['carrier'].astype(str).str.contains(\"1.515556229986242e\"), 'popular_carrier_events'] = 9\n",
    "events.loc[events['carrier'].astype(str).str.contains(\"8.70789287631851e\"), 'popular_carrier_events'] = 8\n",
    "events.loc[events['carrier'].astype(str).str.contains(\"7.676355687472416e\"), 'popular_carrier_events'] = 7\n",
    "events.loc[events['carrier'].astype(str).str.contains(\"6.647944040896282e\"), 'popular_carrier_events'] = 6\n",
    "events.loc[events['carrier'].astype(str).str.contains(\"7.868246725820926e\"), 'popular_carrier_events'] = 5\n",
    "events.loc[events['carrier'].astype(str).str.contains(\"3.2302435360873e\"), 'popular_carrier_events'] = 4\n",
    "events.loc[events['carrier'].astype(str).str.contains(\"6.567020182320459e\"), 'popular_carrier_events'] = 3\n",
    "events.loc[events['carrier'].astype(str).str.contains(\"4.416562419587944e\"), 'popular_carrier_events'] = 2\n",
    "events.loc[events['carrier'].astype(str).str.contains(\"6.96563493371318e\"), 'popular_carrier_events'] = 1"
   ]
  },
  {
   "cell_type": "code",
   "execution_count": null,
   "metadata": {},
   "outputs": [],
   "source": [
    "eventsevents"
   ]
  },
  {
   "cell_type": "code",
   "execution_count": 35,
   "metadata": {},
   "outputs": [
    {
     "data": {
      "text/plain": [
       "0     7017843\n",
       "10     726738\n",
       "Name: popular_carrier_events, dtype: int64"
      ]
     },
     "execution_count": 35,
     "metadata": {},
     "output_type": "execute_result"
    }
   ],
   "source": [
    "events['popular_carrier_events'].value_counts()"
   ]
  },
  {
   "cell_type": "code",
   "execution_count": null,
   "metadata": {},
   "outputs": [],
   "source": [
    "values_dict = {210: 10, 122: 9, 121: 8, 65: 7, 26:6, 269: 5, 155:4, 21:3, 133:2, 226: 1}\n",
    "\n",
    "events['popular_carrier_events'] = events['carrier'].map(values_dict)\n",
    "events['popular_carrier_events'].fillna(0, inplace=True)"
   ]
  },
  {
   "cell_type": "code",
   "execution_count": null,
   "metadata": {},
   "outputs": [],
   "source": []
  },
  {
   "cell_type": "code",
   "execution_count": null,
   "metadata": {},
   "outputs": [],
   "source": []
  },
  {
   "cell_type": "code",
   "execution_count": 13,
   "metadata": {},
   "outputs": [
    {
     "data": {
      "text/plain": [
       "[726738, 250463, 241785, 176733, 146336]"
      ]
     },
     "execution_count": 13,
     "metadata": {},
     "output_type": "execute_result"
    }
   ],
   "source": [
    "events['carrier'].value_counts().head(5).to_list()"
   ]
  },
  {
   "cell_type": "code",
   "execution_count": 20,
   "metadata": {},
   "outputs": [
    {
     "data": {
      "text/plain": [
       "4.007929e+18    621018\n",
       "1.598111e+18    141813\n",
       "1.858652e+18    103264\n",
       "4.577311e+18     94574\n",
       "5.320469e+18     51345\n",
       "Name: device_city, dtype: int64"
      ]
     },
     "execution_count": 20,
     "metadata": {},
     "output_type": "execute_result"
    }
   ],
   "source": [
    "events['device_city'].value_counts().head(5)"
   ]
  },
  {
   "cell_type": "code",
   "execution_count": 14,
   "metadata": {},
   "outputs": [],
   "source": [
    "events['device_os_7'] = (events['device_os'].astype(str).str.contains(\"7.531669\")).astype(int)\n",
    "events['device_os_6'] = (events['device_os'].astype(str).str.contains(\"6.941825\")).astype(int)\n",
    "events = events.drop('device_os', axis=1)"
   ]
  },
  {
   "cell_type": "code",
   "execution_count": 16,
   "metadata": {},
   "outputs": [
    {
     "data": {
      "text/plain": [
       "0    7744581\n",
       "Name: device_os_7, dtype: int64"
      ]
     },
     "execution_count": 16,
     "metadata": {},
     "output_type": "execute_result"
    }
   ],
   "source": [
    "events['device_os_7'].value_counts()"
   ]
  },
  {
   "cell_type": "code",
   "execution_count": 32,
   "metadata": {},
   "outputs": [
    {
     "data": {
      "text/plain": [
       "0    7744581\n",
       "Name: device_os_7, dtype: int64"
      ]
     },
     "execution_count": 32,
     "metadata": {},
     "output_type": "execute_result"
    }
   ],
   "source": [
    "events['device_os_7'].value_counts()"
   ]
  },
  {
   "cell_type": "code",
   "execution_count": 24,
   "metadata": {},
   "outputs": [
    {
     "data": {
      "text/plain": [
       "7.391844e+18    522543\n",
       "8.218260e+18    387846\n",
       "8.824599e+18    347524\n",
       "2.635068e+18    187064\n",
       "4.821386e+18    177085\n",
       "Name: device_os_version, dtype: int64"
      ]
     },
     "execution_count": 24,
     "metadata": {},
     "output_type": "execute_result"
    }
   ],
   "source": [
    "events['device_os_version'].value_counts().head()"
   ]
  },
  {
   "cell_type": "code",
   "execution_count": 22,
   "metadata": {},
   "outputs": [],
   "source": [
    "events = pd.get_dummies(events, columns=['connection_type'])"
   ]
  },
  {
   "cell_type": "code",
   "execution_count": 5,
   "metadata": {},
   "outputs": [],
   "source": []
  }
 ],
 "metadata": {
  "kernelspec": {
   "display_name": "Python 3",
   "language": "python",
   "name": "python3"
  },
  "language_info": {
   "codemirror_mode": {
    "name": "ipython",
    "version": 3
   },
   "file_extension": ".py",
   "mimetype": "text/x-python",
   "name": "python",
   "nbconvert_exporter": "python",
   "pygments_lexer": "ipython3",
   "version": "3.6.7"
  }
 },
 "nbformat": 4,
 "nbformat_minor": 2
}
