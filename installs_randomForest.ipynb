{
 "cells": [
  {
   "cell_type": "code",
   "execution_count": 2,
   "metadata": {},
   "outputs": [],
   "source": [
    "from sklearn.model_selection import train_test_split\n",
    "from sklearn.ensemble import RandomForestRegressor\n",
    "import pandas as pd\n",
    "import numpy as np\n",
    "from sklearn.metrics import mean_squared_error"
   ]
  },
  {
   "cell_type": "code",
   "execution_count": 3,
   "metadata": {},
   "outputs": [],
   "source": [
    "join1 = pd.read_csv('windows_installs/join1_2.csv', low_memory=False)\n",
    "ref_hash_j1 = join1['ref_hash']\n",
    "join1 = join1.drop(columns=['ref_hash'])\n",
    "\n",
    "join2 = pd.read_csv('windows_installs/join2_3.csv', low_memory=False)\n",
    "ref_hash_j2 = join2['ref_hash']\n",
    "join2 = join2.drop(columns=['ref_hash'])\n",
    "\n",
    "join3 = pd.read_csv('windows_installs/join3_4.csv', low_memory=False)\n",
    "ref_hash_j3 = join3['ref_hash']\n",
    "join3 = join3.drop(columns=['ref_hash'])\n",
    "\n",
    "join4 = pd.read_csv('windows_installs/join4_5.csv', low_memory=False)\n",
    "ref_hash_j4 = join4['ref_hash']\n",
    "join4 = join4.drop(columns=['ref_hash'])"
   ]
  },
  {
   "cell_type": "code",
   "execution_count": 4,
   "metadata": {},
   "outputs": [],
   "source": [
    "join1 = join1.fillna(0)\n",
    "join2 = join2.fillna(0)\n",
    "join3 = join3.fillna(0)\n",
    "join4 = join4.fillna(0)"
   ]
  },
  {
   "cell_type": "markdown",
   "metadata": {},
   "source": [
    "## Splits"
   ]
  },
  {
   "cell_type": "code",
   "execution_count": 5,
   "metadata": {},
   "outputs": [],
   "source": [
    "train1, test1 = train_test_split(join1, test_size=0.2)\n",
    "\n",
    "train1_Y = train1['time_first_install_y']\n",
    "train1_X = train1.drop(columns=['time_first_install_y'])\n",
    "test1_Y = test1['time_first_install_y']\n",
    "test1_X = test1.drop(columns=['time_first_install_y'])\n",
    "\n",
    "train2, test2 = train_test_split(join2, test_size=0.2)\n",
    "\n",
    "train2_Y = train2['time_first_install_y']\n",
    "train2_X = train2.drop(columns=['time_first_install_y'])\n",
    "test2_Y = test2['time_first_install_y']\n",
    "test2_X = test2.drop(columns=['time_first_install_y'])\n",
    "\n",
    "train3, test3 = train_test_split(join3, test_size=0.2)\n",
    "\n",
    "train3_Y = train3['time_first_install_y']\n",
    "train3_X = train3.drop(columns=['time_first_install_y'])\n",
    "test3_Y = test3['time_first_install_y']\n",
    "test3_X = test3.drop(columns=['time_first_install_y'])\n",
    "\n",
    "train4, test4 = train_test_split(join4, test_size=0.2)\n",
    "\n",
    "train4_Y = train4['time_first_install_y']\n",
    "train4_X = train4.drop(columns=['time_first_install_y'])\n",
    "test4_Y = test4['time_first_install_y']\n",
    "test4_X = test4.drop(columns=['time_first_install_y'])"
   ]
  },
  {
   "cell_type": "markdown",
   "metadata": {},
   "source": [
    "# **Train Modelo 1**"
   ]
  },
  {
   "cell_type": "code",
   "execution_count": 4,
   "metadata": {},
   "outputs": [],
   "source": [
    "rf1 = RandomForestRegressor()"
   ]
  },
  {
   "cell_type": "code",
   "execution_count": 7,
   "metadata": {},
   "outputs": [
    {
     "name": "stdout",
     "output_type": "stream",
     "text": [
      "Fitting 3 folds for each of 4 candidates, totalling 12 fits\n",
      "[CV] max_depth=10, n_estimators=200 ..................................\n"
     ]
    },
    {
     "name": "stderr",
     "output_type": "stream",
     "text": [
      "[Parallel(n_jobs=1)]: Using backend SequentialBackend with 1 concurrent workers.\n"
     ]
    },
    {
     "name": "stdout",
     "output_type": "stream",
     "text": [
      "[CV]  max_depth=10, n_estimators=200, score=-7940390160.104, total=  47.9s\n",
      "[CV] max_depth=10, n_estimators=200 ..................................\n"
     ]
    },
    {
     "name": "stderr",
     "output_type": "stream",
     "text": [
      "[Parallel(n_jobs=1)]: Done   1 out of   1 | elapsed:   47.9s remaining:    0.0s\n"
     ]
    },
    {
     "name": "stdout",
     "output_type": "stream",
     "text": [
      "[CV]  max_depth=10, n_estimators=200, score=-6560166532.246, total=  47.1s\n",
      "[CV] max_depth=10, n_estimators=200 ..................................\n"
     ]
    },
    {
     "name": "stderr",
     "output_type": "stream",
     "text": [
      "[Parallel(n_jobs=1)]: Done   2 out of   2 | elapsed:  1.6min remaining:    0.0s\n"
     ]
    },
    {
     "name": "stdout",
     "output_type": "stream",
     "text": [
      "[CV]  max_depth=10, n_estimators=200, score=-7864460126.736, total=  47.1s\n",
      "[CV] max_depth=10, n_estimators=500 ..................................\n"
     ]
    },
    {
     "name": "stderr",
     "output_type": "stream",
     "text": [
      "[Parallel(n_jobs=1)]: Done   3 out of   3 | elapsed:  2.4min remaining:    0.0s\n"
     ]
    },
    {
     "name": "stdout",
     "output_type": "stream",
     "text": [
      "[CV]  max_depth=10, n_estimators=500, score=-7928026525.952, total= 2.0min\n",
      "[CV] max_depth=10, n_estimators=500 ..................................\n"
     ]
    },
    {
     "name": "stderr",
     "output_type": "stream",
     "text": [
      "[Parallel(n_jobs=1)]: Done   4 out of   4 | elapsed:  4.4min remaining:    0.0s\n"
     ]
    },
    {
     "name": "stdout",
     "output_type": "stream",
     "text": [
      "[CV]  max_depth=10, n_estimators=500, score=-6545460602.243, total= 2.0min\n",
      "[CV] max_depth=10, n_estimators=500 ..................................\n"
     ]
    },
    {
     "name": "stderr",
     "output_type": "stream",
     "text": [
      "[Parallel(n_jobs=1)]: Done   5 out of   5 | elapsed:  6.4min remaining:    0.0s\n"
     ]
    },
    {
     "name": "stdout",
     "output_type": "stream",
     "text": [
      "[CV]  max_depth=10, n_estimators=500, score=-7850691658.707, total= 2.1min\n",
      "[CV] max_depth=5, n_estimators=200 ...................................\n"
     ]
    },
    {
     "name": "stderr",
     "output_type": "stream",
     "text": [
      "[Parallel(n_jobs=1)]: Done   6 out of   6 | elapsed:  8.5min remaining:    0.0s\n"
     ]
    },
    {
     "name": "stdout",
     "output_type": "stream",
     "text": [
      "[CV]  max_depth=5, n_estimators=200, score=-7711057482.783, total=  26.1s\n",
      "[CV] max_depth=5, n_estimators=200 ...................................\n"
     ]
    },
    {
     "name": "stderr",
     "output_type": "stream",
     "text": [
      "[Parallel(n_jobs=1)]: Done   7 out of   7 | elapsed:  8.9min remaining:    0.0s\n"
     ]
    },
    {
     "name": "stdout",
     "output_type": "stream",
     "text": [
      "[CV]  max_depth=5, n_estimators=200, score=-6451682412.554, total=  26.1s\n",
      "[CV] max_depth=5, n_estimators=200 ...................................\n"
     ]
    },
    {
     "name": "stderr",
     "output_type": "stream",
     "text": [
      "[Parallel(n_jobs=1)]: Done   8 out of   8 | elapsed:  9.3min remaining:    0.0s\n"
     ]
    },
    {
     "name": "stdout",
     "output_type": "stream",
     "text": [
      "[CV]  max_depth=5, n_estimators=200, score=-7743102167.916, total=  25.0s\n",
      "[CV] max_depth=5, n_estimators=500 ...................................\n"
     ]
    },
    {
     "name": "stderr",
     "output_type": "stream",
     "text": [
      "[Parallel(n_jobs=1)]: Done   9 out of   9 | elapsed:  9.8min remaining:    0.0s\n"
     ]
    },
    {
     "name": "stdout",
     "output_type": "stream",
     "text": [
      "[CV]  max_depth=5, n_estimators=500, score=-7731834955.237, total= 1.4min\n",
      "[CV] max_depth=5, n_estimators=500 ...................................\n",
      "[CV]  max_depth=5, n_estimators=500, score=-6456855446.377, total= 2.3min\n",
      "[CV] max_depth=5, n_estimators=500 ...................................\n",
      "[CV]  max_depth=5, n_estimators=500, score=-7747340374.448, total= 1.3min\n"
     ]
    },
    {
     "name": "stderr",
     "output_type": "stream",
     "text": [
      "[Parallel(n_jobs=1)]: Done  12 out of  12 | elapsed: 14.8min finished\n"
     ]
    },
    {
     "data": {
      "text/plain": [
       "GridSearchCV(cv='warn', error_score='raise-deprecating',\n",
       "             estimator=RandomForestRegressor(bootstrap=True, criterion='mse',\n",
       "                                             max_depth=None,\n",
       "                                             max_features='auto',\n",
       "                                             max_leaf_nodes=None,\n",
       "                                             min_impurity_decrease=0.0,\n",
       "                                             min_impurity_split=None,\n",
       "                                             min_samples_leaf=1,\n",
       "                                             min_samples_split=2,\n",
       "                                             min_weight_fraction_leaf=0.0,\n",
       "                                             n_estimators='warn', n_jobs=None,\n",
       "                                             oob_score=False, random_state=None,\n",
       "                                             verbose=0, warm_start=False),\n",
       "             iid='warn', n_jobs=None,\n",
       "             param_grid={'max_depth': [10, 5], 'n_estimators': [200, 500]},\n",
       "             pre_dispatch='2*n_jobs', refit=True, return_train_score=False,\n",
       "             scoring='neg_mean_squared_error', verbose=10)"
      ]
     },
     "execution_count": 7,
     "metadata": {},
     "output_type": "execute_result"
    }
   ],
   "source": [
    "from sklearn.model_selection import GridSearchCV\n",
    "parameters = {'max_depth':[10,5], 'n_estimators':[200, 500]}\n",
    "\n",
    "            \n",
    "clf = GridSearchCV(rf1, parameters, scoring='neg_mean_squared_error', verbose=10)\n",
    "clf.fit(train1_X, train1_Y)"
   ]
  },
  {
   "cell_type": "code",
   "execution_count": 8,
   "metadata": {},
   "outputs": [
    {
     "data": {
      "text/plain": [
       "{'max_depth': 5, 'n_estimators': 200}"
      ]
     },
     "execution_count": 8,
     "metadata": {},
     "output_type": "execute_result"
    }
   ],
   "source": [
    "clf.best_params_"
   ]
  },
  {
   "cell_type": "code",
   "execution_count": 6,
   "metadata": {},
   "outputs": [],
   "source": [
    "rf1 = RandomForestRegressor(max_depth= 5, n_estimators= 100, criterion='mae')"
   ]
  },
  {
   "cell_type": "code",
   "execution_count": null,
   "metadata": {},
   "outputs": [],
   "source": [
    "%%time\n",
    "rf1.fit(train1_X, train1_Y)\n",
    "\n",
    "preds_rf1_join1 = rf1.predict(test1_X)"
   ]
  },
  {
   "cell_type": "code",
   "execution_count": null,
   "metadata": {},
   "outputs": [],
   "source": [
    "%%time\n",
    "rf1.fit(train2_X, train2_Y)\n",
    "\n",
    "preds_rf1_join2 = rf1.predict(test2_X)"
   ]
  },
  {
   "cell_type": "code",
   "execution_count": null,
   "metadata": {},
   "outputs": [],
   "source": [
    "%%time\n",
    "rf1.fit(train3_X, train3_Y)\n",
    "\n",
    "preds_rf1_join3 = rf1.predict(test3_X)"
   ]
  },
  {
   "cell_type": "code",
   "execution_count": null,
   "metadata": {},
   "outputs": [],
   "source": [
    "%%time\n",
    "rf1.fit(train4_X, train4_Y)\n",
    "\n",
    "preds_rf1_join4 = rf1.predict(test4_X)"
   ]
  },
  {
   "cell_type": "code",
   "execution_count": null,
   "metadata": {},
   "outputs": [],
   "source": [
    "rmse_join1 = np.sqrt(mean_squared_error(test1_Y, preds_rf1_join1))\n",
    "print(\"RMSE: %f\" % (rmse_join1))\n",
    "\n",
    "rmse_join2 = np.sqrt(mean_squared_error(test2_Y, preds_rf1_join2))\n",
    "print(\"RMSE: %f\" % (rmse_join2))\n",
    "\n",
    "rmse_join3 = np.sqrt(mean_squared_error(test3_Y, preds_rf1_join3))\n",
    "print(\"RMSE: %f\" % (rmse_join3))\n",
    "\n",
    "rmse_join4 = np.sqrt(mean_squared_error(test4_Y, preds_rf1_join4))\n",
    "print(\"RMSE: %f\" % (rmse_join4))"
   ]
  },
  {
   "cell_type": "markdown",
   "metadata": {},
   "source": [
    "# Train 2"
   ]
  },
  {
   "cell_type": "code",
   "execution_count": null,
   "metadata": {},
   "outputs": [],
   "source": [
    "rf2 = RandomForestRegressor(n_estimators = 1000, random_state = 42, criterion='mae', max_depth=3,\\\n",
    "                            min_samples_split=2)"
   ]
  },
  {
   "cell_type": "code",
   "execution_count": null,
   "metadata": {},
   "outputs": [],
   "source": [
    "%%time\n",
    "rf2.fit(train1_X, train1_Y)\n",
    "\n",
    "preds_rf2_join1 = rf2.predict(test1_X)"
   ]
  },
  {
   "cell_type": "code",
   "execution_count": null,
   "metadata": {},
   "outputs": [],
   "source": [
    "%%time\n",
    "rf2.fit(train2_X, train2_Y)\n",
    "\n",
    "preds_rf2_join2 = rf2.predict(test2_X)"
   ]
  },
  {
   "cell_type": "code",
   "execution_count": null,
   "metadata": {},
   "outputs": [],
   "source": [
    "%%time\n",
    "rf2.fit(train3_X, train3_Y)\n",
    "\n",
    "preds_rf2_join3 = rf2.predict(test3_X)"
   ]
  },
  {
   "cell_type": "code",
   "execution_count": null,
   "metadata": {},
   "outputs": [],
   "source": [
    "%%time\n",
    "rf2.fit(train4_X, train4_Y)\n",
    "\n",
    "preds_rf2_join4 = rf2.predict(test4_X)"
   ]
  },
  {
   "cell_type": "code",
   "execution_count": null,
   "metadata": {},
   "outputs": [],
   "source": [
    "rmse2_join1 = np.sqrt(mean_squared_error(test1_Y, preds_rf2_join1))\n",
    "\n",
    "print(\"RMSE: %f\" % (rmse2_join1))\n",
    "\n",
    "rmse2_join2 = np.sqrt(mean_squared_error(test2_Y, preds_rf2_join2))\n",
    "\n",
    "print(\"RMSE: %f\" % (rmse2_join2))\n",
    "\n",
    "rmse2_join3 = np.sqrt(mean_squared_error(test3_Y, preds_rf2_join3))\n",
    "\n",
    "print(\"RMSE: %f\" % (rmse2_join3))\n",
    "\n",
    "rmse2_join4 = np.sqrt(mean_squared_error(test4_Y, preds_rf2_join4))\n",
    "\n",
    "print(\"RMSE: %f\" % (rmse2_join4))"
   ]
  }
 ],
 "metadata": {
  "kernelspec": {
   "display_name": "Python 3",
   "language": "python",
   "name": "python3"
  },
  "language_info": {
   "codemirror_mode": {
    "name": "ipython",
    "version": 3
   },
   "file_extension": ".py",
   "mimetype": "text/x-python",
   "name": "python",
   "nbconvert_exporter": "python",
   "pygments_lexer": "ipython3",
   "version": "3.6.7"
  }
 },
 "nbformat": 4,
 "nbformat_minor": 2
}
