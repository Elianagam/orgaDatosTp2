{
 "cells": [
  {
   "cell_type": "code",
   "execution_count": 1,
   "metadata": {},
   "outputs": [],
   "source": [
    "from sklearn.model_selection import train_test_split\n",
    "from sklearn.ensemble import RandomForestRegressor\n",
    "import pandas as pd\n",
    "import numpy as np\n",
    "from sklearn.metrics import mean_squared_error"
   ]
  },
  {
   "cell_type": "code",
   "execution_count": 8,
   "metadata": {},
   "outputs": [],
   "source": []
  },
  {
   "cell_type": "code",
   "execution_count": 10,
   "metadata": {},
   "outputs": [],
   "source": []
  },
  {
   "cell_type": "code",
   "execution_count": 2,
   "metadata": {},
   "outputs": [],
   "source": [
    "join1 = pd.read_csv('windows_installs/join1_2.csv', low_memory=False)\n",
    "ref_hash_j1 = join1['ref_hash']\n",
    "join1 = join1.drop(columns=['ref_hash'])"
   ]
  },
  {
   "cell_type": "code",
   "execution_count": null,
   "metadata": {},
   "outputs": [],
   "source": [
    "join2 = pd.read_csv('windows_installs/join2_3.csv', low_memory=False)\n",
    "ref_hash_j2 = join2['ref_hash']\n",
    "join2 = join2.drop(columns=['ref_hash'])"
   ]
  },
  {
   "cell_type": "code",
   "execution_count": 14,
   "metadata": {},
   "outputs": [],
   "source": [
    "join3 = pd.read_csv('windows_installs/join3_4.csv', low_memory=False)\n",
    "ref_hash_j3 = join3['ref_hash']\n",
    "join3 = join3.drop(columns=['ref_hash'])"
   ]
  },
  {
   "cell_type": "code",
   "execution_count": 17,
   "metadata": {},
   "outputs": [],
   "source": [
    "join4 = pd.read_csv('windows_installs/join4_5.csv', low_memory=False)\n",
    "ref_hash_j4 = join4['ref_hash']\n",
    "join4 = join4.drop(columns=['ref_hash'])"
   ]
  },
  {
   "cell_type": "markdown",
   "metadata": {},
   "source": [
    "## Splits"
   ]
  },
  {
   "cell_type": "code",
   "execution_count": 3,
   "metadata": {},
   "outputs": [],
   "source": [
    "train1, test1 = train_test_split(join1, test_size=0.3)\n",
    "\n",
    "train1_Y = train1['time_first_install_y']\n",
    "train1_X = train1.drop(columns=['time_first_install_y'])\n",
    "test1_Y = test1['time_first_install_y']\n",
    "test1_X = test1.drop(columns=['time_first_install_y'])"
   ]
  },
  {
   "cell_type": "code",
   "execution_count": 11,
   "metadata": {},
   "outputs": [],
   "source": [
    "train2, test2 = train_test_split(join2, test_size=0.3)\n",
    "\n",
    "train2_Y = train2['time_first_install_y']\n",
    "train2_X = train2.drop(columns=['time_first_install_y'])\n",
    "test2_Y = test2['time_first_install_y']\n",
    "test2_X = test2.drop(columns=['time_first_install_y'])"
   ]
  },
  {
   "cell_type": "code",
   "execution_count": 15,
   "metadata": {},
   "outputs": [],
   "source": [
    "train3, test3 = train_test_split(join3, test_size=0.3)\n",
    "\n",
    "train3_Y = train3['time_first_install_y']\n",
    "train3_X = train3.drop(columns=['time_first_install_y'])\n",
    "test3_Y = test3['time_first_install_y']\n",
    "test3_X = test3.drop(columns=['time_first_install_y'])"
   ]
  },
  {
   "cell_type": "code",
   "execution_count": 18,
   "metadata": {},
   "outputs": [],
   "source": [
    "train4, test4 = train_test_split(join4, test_size=0.3)\n",
    "\n",
    "train4_Y = train4['time_first_install_y']\n",
    "train4_X = train4.drop(columns=['time_first_install_y'])\n",
    "test4_Y = test4['time_first_install_y']\n",
    "test4_X = test4.drop(columns=['time_first_install_y'])"
   ]
  },
  {
   "cell_type": "markdown",
   "metadata": {},
   "source": [
    "# **Train Modelo 1**"
   ]
  },
  {
   "cell_type": "code",
   "execution_count": 4,
   "metadata": {},
   "outputs": [],
   "source": [
    "rf1 = RandomForestRegressor(n_estimators = 100, random_state = 42, )"
   ]
  },
  {
   "cell_type": "code",
   "execution_count": 5,
   "metadata": {},
   "outputs": [
    {
     "name": "stdout",
     "output_type": "stream",
     "text": [
      "CPU times: user 59.5 s, sys: 256 ms, total: 59.7 s\n",
      "Wall time: 59.7 s\n"
     ]
    }
   ],
   "source": [
    "%%time\n",
    "rf1.fit(train1_X, train1_Y)\n",
    "\n",
    "preds_rf1_join1 = rf1.predict(test1_X)"
   ]
  },
  {
   "cell_type": "code",
   "execution_count": null,
   "metadata": {},
   "outputs": [],
   "source": [
    "preds_rf1_josqsqwqin1 = rf1.predict(train1_X)\n",
    "rmse_join1 = np.sqrt(mean_squared_error(train1_Y, preds_rf1_josqsqwqin1))\n",
    "# par overfiing"
   ]
  },
  {
   "cell_type": "code",
   "execution_count": 6,
   "metadata": {},
   "outputs": [
    {
     "name": "stdout",
     "output_type": "stream",
     "text": [
      "RMSE: 92138.321598\n"
     ]
    }
   ],
   "source": [
    "rmse_join1 = np.sqrt(mean_squared_error(test1_Y, preds_rf1_join1))\n",
    "\n",
    "print(\"RMSE: %f\" % (rmse_join1))"
   ]
  },
  {
   "cell_type": "code",
   "execution_count": 12,
   "metadata": {},
   "outputs": [
    {
     "name": "stdout",
     "output_type": "stream",
     "text": [
      "CPU times: user 59.1 s, sys: 248 ms, total: 59.4 s\n",
      "Wall time: 59.4 s\n"
     ]
    }
   ],
   "source": [
    "%%time\n",
    "rf1.fit(train2_X, train2_Y)\n",
    "\n",
    "preds_rf1_join2 = rf1.predict(test2_X)"
   ]
  },
  {
   "cell_type": "code",
   "execution_count": 13,
   "metadata": {},
   "outputs": [
    {
     "name": "stdout",
     "output_type": "stream",
     "text": [
      "RMSE: 88390.522478\n"
     ]
    }
   ],
   "source": [
    "rmse_join2 = np.sqrt(mean_squared_error(test2_Y, preds_rf1_join2))\n",
    "\n",
    "print(\"RMSE: %f\" % (rmse_join2))"
   ]
  },
  {
   "cell_type": "code",
   "execution_count": 16,
   "metadata": {},
   "outputs": [
    {
     "name": "stdout",
     "output_type": "stream",
     "text": [
      "CPU times: user 1min 1s, sys: 52 ms, total: 1min 1s\n",
      "Wall time: 1min 1s\n"
     ]
    }
   ],
   "source": [
    "%%time\n",
    "rf1.fit(train3_X, train3_Y)\n",
    "\n",
    "preds_rf1_join3 = rf1.predict(test3_X)"
   ]
  },
  {
   "cell_type": "code",
   "execution_count": 19,
   "metadata": {},
   "outputs": [
    {
     "name": "stdout",
     "output_type": "stream",
     "text": [
      "RMSE: 88476.710512\n"
     ]
    }
   ],
   "source": [
    "rmse_join3 = np.sqrt(mean_squared_error(test3_Y, preds_rf1_join3))\n",
    "\n",
    "print(\"RMSE: %f\" % (rmse_join3))"
   ]
  },
  {
   "cell_type": "code",
   "execution_count": 20,
   "metadata": {},
   "outputs": [
    {
     "name": "stdout",
     "output_type": "stream",
     "text": [
      "CPU times: user 60 s, sys: 44 ms, total: 60 s\n",
      "Wall time: 1min\n"
     ]
    }
   ],
   "source": [
    "%%time\n",
    "rf1.fit(train4_X, train4_Y)\n",
    "\n",
    "preds_rf1_join4 = rf1.predict(test4_X)"
   ]
  },
  {
   "cell_type": "code",
   "execution_count": 21,
   "metadata": {},
   "outputs": [
    {
     "name": "stdout",
     "output_type": "stream",
     "text": [
      "RMSE: 83278.177073\n"
     ]
    }
   ],
   "source": [
    "rmse_join4 = np.sqrt(mean_squared_error(test4_Y, preds_rf1_join4))\n",
    "\n",
    "print(\"RMSE: %f\" % (rmse_join4))"
   ]
  },
  {
   "cell_type": "code",
   "execution_count": null,
   "metadata": {},
   "outputs": [],
   "source": [
    "fin1 = rf1.predict(test1_X)"
   ]
  },
  {
   "cell_type": "markdown",
   "metadata": {},
   "source": [
    "# Train 2"
   ]
  },
  {
   "cell_type": "code",
   "execution_count": 4,
   "metadata": {},
   "outputs": [],
   "source": [
    "rf2 = RandomForestRegressor(n_estimators = 100, random_state = 23, criterion='mae', max_depth=3,\\\n",
    "                            min_samples_split=2)"
   ]
  },
  {
   "cell_type": "code",
   "execution_count": null,
   "metadata": {},
   "outputs": [],
   "source": [
    "%%time\n",
    "rf2.fit(train1_X, train1_Y)\n",
    "\n",
    "preds_rf2_join1 = rf2.predict(test1_X)"
   ]
  }
 ],
 "metadata": {
  "kernelspec": {
   "display_name": "Python 3",
   "language": "python",
   "name": "python3"
  },
  "language_info": {
   "codemirror_mode": {
    "name": "ipython",
    "version": 3
   },
   "file_extension": ".py",
   "mimetype": "text/x-python",
   "name": "python",
   "nbconvert_exporter": "python",
   "pygments_lexer": "ipython3",
   "version": "3.6.7"
  }
 },
 "nbformat": 4,
 "nbformat_minor": 2
}
