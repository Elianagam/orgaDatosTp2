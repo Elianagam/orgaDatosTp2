{
 "cells": [
  {
   "cell_type": "code",
   "execution_count": 71,
   "metadata": {},
   "outputs": [],
   "source": [
    "import pandas as pd\n",
    "import numpy as np\n",
    "import matplotlib.pyplot as plt\n",
    "import seaborn as sns"
   ]
  },
  {
   "cell_type": "markdown",
   "metadata": {},
   "source": [
    "**Armado de features**"
   ]
  },
  {
   "cell_type": "code",
   "execution_count": 72,
   "metadata": {},
   "outputs": [],
   "source": [
    "window = 5"
   ]
  },
  {
   "cell_type": "code",
   "execution_count": 73,
   "metadata": {},
   "outputs": [],
   "source": [
    "if window <= 4:\n",
    "    auctions_label = pd.read_pickle('data/auctions_w'+str(window)+'_label.pkl')\n",
    "    installs_label = pd.read_pickle('data/installs_w'+str(window)+'_label.pkl')"
   ]
  },
  {
   "cell_type": "code",
   "execution_count": 74,
   "metadata": {},
   "outputs": [],
   "source": [
    "target = pd.read_csv('data/target_competencia_ids.csv')\n",
    "target['ref_hash'] = target['ref_hash'].apply(lambda x: int(str(x)[:-3]))\n",
    "target.drop_duplicates('ref_hash', inplace=True)"
   ]
  },
  {
   "cell_type": "code",
   "execution_count": 75,
   "metadata": {},
   "outputs": [],
   "source": [
    "time_windows = [('2019-04-18 00:00:00.000000', '2019-04-21 00:00:00.000000'), ('2019-04-19 00:00:00.000000', '2019-04-22 00:00:00.000000'), \n",
    "                ('2019-04-20 00:00:00.000000', '2019-04-23 00:00:00.000000'), ('2019-04-21 00:00:00.000000', '2019-04-24 00:00:00.000000'), \n",
    "                ('2019-04-24 00:00:00.000000', '2019-04-27 00:00:00.000000')]\n",
    "time_labels = [('2019-04-21 00:00:00.000000', '2019-04-24 00:00:00.000000'), ('2019-04-22 00:00:00.000000', '2019-04-25 00:00:00.000000'), \n",
    "               ('2019-04-23 00:00:00.000000', '2019-04-26 00:00:00.000000'), ('2019-04-24 00:00:00.000000', '2019-04-27 00:00:00.000000')]\n",
    "days = [18, 19, 20, 21, 24]"
   ]
  },
  {
   "cell_type": "code",
   "execution_count": 76,
   "metadata": {},
   "outputs": [],
   "source": [
    "auctions = pd.read_pickle('data/auctions_w'+str(window)+'.pkl')\n",
    "gb = auctions.groupby('ref_hash')\n",
    "auctions['n_auctions'] = gb['date'].transform('count')\n",
    "auctions['last_auction'] = gb['date'].transform('max')\n",
    "auctions['first_auction'] = gb['date'].transform('min')\n",
    "auctions['diff_auctions'] = (auctions['last_auction'] - auctions['first_auction']).dt.total_seconds()\n",
    "auctions['mean_time_auction'] = 0\n",
    "auctions.loc[auctions['n_auctions'] > 1, 'mean_time_auction'] = ((auctions['last_auction'] - auctions['first_auction'])/ \\\n",
    "                                 (auctions['n_auctions'] -1)).dt.total_seconds()\n",
    "auctions['first_auction_sec'] = (auctions['first_auction'] - pd.Timestamp(time_windows[window-1][0])).dt.total_seconds()\n",
    "auctions['last_auction_sec'] = (auctions['last_auction'] - pd.Timestamp(time_windows[window-1][0])).dt.total_seconds()\n",
    "auctions['last_auction_sec_to_end'] = (pd.Timestamp(time_windows[window-1][1]) - auctions['last_auction']).dt.total_seconds()\n",
    "auctions['ref_type_id_1'] = auctions['ref_type_id'].apply(lambda x: 1 if x==1 else 0)\n",
    "auctions['ref_type_id_7'] = auctions['ref_type_id'].apply(lambda x: 1 if x==7 else 0)\n",
    "auctions['day'] = (auctions['date'].dt.day) - days[window-1]\n",
    "gb = auctions.groupby('ref_hash')\n",
    "auctions = auctions.join(gb['source_id'].value_counts().unstack().add_prefix('source_'), on='ref_hash')\n",
    "auctions = pd.get_dummies(auctions, columns=['day'])\n",
    "gb = auctions.groupby('ref_hash')\n",
    "auctions['day_0'] = gb['day_0'].transform('sum')\n",
    "auctions['day_1'] = gb['day_1'].transform('sum')\n",
    "auctions['day_2'] = gb['day_2'].transform('sum')"
   ]
  },
  {
   "cell_type": "code",
   "execution_count": 77,
   "metadata": {},
   "outputs": [],
   "source": [
    "auctions.drop_duplicates(subset='ref_hash', inplace=True)\n",
    "auctions.drop(columns=['date', 'ref_type_id', 'last_auction', 'first_auction', 'source_id'], inplace=True)\n",
    "auctions = auctions.fillna(0)"
   ]
  },
  {
   "cell_type": "code",
   "execution_count": 78,
   "metadata": {},
   "outputs": [],
   "source": [
    "clicks = pd.read_pickle('data/clicks_w'+str(window)+'.pkl')\n",
    "clicks.drop(columns=['action_id', 'agent_device'])\n",
    "gb = clicks.groupby('ref_hash')\n",
    "clicks['n_clicks'] = gb['created'].transform('count')\n",
    "clicks['last_click'] = gb['created'].transform('max')\n",
    "clicks['first_click'] = gb['created'].transform('min')\n",
    "clicks['diff_clicks'] = (clicks['last_click'] - clicks['first_click']).dt.total_seconds()\n",
    "clicks['mean_time_click'] = 0\n",
    "clicks.loc[clicks['n_clicks'] > 1, 'mean_time_click'] = ((clicks['last_click'] - clicks['first_click'])/ \\\n",
    "                                 (clicks['n_clicks'] -1)).dt.total_seconds()\n",
    "clicks['first_click_sec'] = (clicks['first_click'] - pd.Timestamp(time_windows[window-1][0])).dt.total_seconds()\n",
    "clicks['last_click_sec'] = (clicks['last_click'] - pd.Timestamp(time_windows[window-1][0])).dt.total_seconds()\n",
    "clicks['wifi_connection'] = clicks['wifi_connection'].map({True: 1, False: 0})\n",
    "clicks['timeToClick_mean'] = clicks.groupby('ref_hash')['timeToClick'].transform('mean')\n",
    "clicks.loc[clicks.touchX == 'Infinity', 'touchX'] = 1\n",
    "clicks.loc[clicks.touchY == 'Infinity', 'touchY'] = 10\n",
    "clicks[\"touchX\"] = pd.to_numeric(clicks[\"touchX\"])\n",
    "clicks[\"touchY\"] = pd.to_numeric(clicks[\"touchY\"])\n",
    "clicks['touch_bottom'] = clicks['touchY'].apply(lambda x: 1 if x<=1 else 0)\n",
    "clicks['touch_bottom2'] = clicks['touchY'].apply(lambda x: 1 if x>1 and x<=2 else 0)\n",
    "\n",
    "top_10_carrier_id = clicks['carrier_id'].value_counts().head(10)\n",
    "clicks.loc[(~clicks['carrier_id'].isin(top_10_carrier_id.index))&(clicks['carrier_id'].notnull()), 'carrier_id'] = 'Other'\n",
    "\n",
    "gb = clicks.groupby('ref_hash')\n",
    "clicks = clicks.join(gb['advertiser_id'].value_counts().unstack().add_prefix('advertiser_id_'), on='ref_hash')\n",
    "clicks = clicks.join(gb['source_id'].value_counts().unstack().add_prefix('source_id_'), on='ref_hash')\n",
    "clicks['touchX_mean'] = gb['touchX'].transform('mean')\n",
    "clicks['touchY_mean'] = gb['touchY'].transform('mean')\n",
    "clicks['touchs_in_bottom'] = gb['touch_bottom'].transform('sum')\n",
    "clicks['touchs_in_bottom2'] = gb['touch_bottom2'].transform('sum')\n",
    "clicks['latitude_mean'] = gb['latitude'].transform('mean')\n",
    "clicks['longitude_mean'] = gb['longitude'].transform('mean')\n",
    "clicks['timeToClick_mean'] = clicks['timeToClick_mean'].fillna(clicks['timeToClick_mean'].mean())\n",
    "clicks['touchX_mean'] = clicks['touchX_mean'].fillna(clicks['touchX_mean'].mean())\n",
    "clicks['touchY_mean'] = clicks['touchY_mean'].fillna(clicks['touchY_mean'].mean())"
   ]
  },
  {
   "cell_type": "code",
   "execution_count": 79,
   "metadata": {},
   "outputs": [],
   "source": [
    "clicks.drop_duplicates(subset='ref_hash', inplace=True)\n",
    "clicks = clicks.drop(columns=['advertiser_id', 'source_id', 'created', 'country_code', 'latitude', 'longitude', 'wifi_connection', 'carrier_id', 'trans_id', 'agent_device',\n",
    "       'os_minor', 'os_major', 'specs_brand', 'brand', 'timeToClick', 'touchX', 'touchY', 'ref_type', 'last_click', 'first_click', 'touch_bottom', 'touch_bottom2', 'action_id'])"
   ]
  },
  {
   "cell_type": "code",
   "execution_count": 80,
   "metadata": {},
   "outputs": [],
   "source": [
    "events = pd.read_pickle('data/events_w'+str(window)+'.pkl')\n",
    "events.drop(columns=['event_uuid', 'ip_address', 'index', 'device_countrycode', 'trans_id'], inplace=True)\n",
    "\n",
    "events['attributed'] = events['attributed'].map({True: 1, False: 0})\n",
    "events['wifi'] = events['wifi'].map({True: 1, False: 0})\n",
    "top_15_events_id = events['event_id'].value_counts().head(15)\n",
    "events.loc[(~events['event_id'].isin(top_15_events_id.index))&(events['event_id'].notnull()), 'event_id'] = 'Other'\n",
    "top_20_application_id = events['application_id'].value_counts().head(20)\n",
    "events.loc[(~events['application_id'].isin(top_20_application_id.index))&(events['application_id'].notnull()), 'application_id'] = 'Other'\n",
    "#top_15_device_os_version = events['device_os_version'].value_counts().head(15)\n",
    "#events.loc[(~events['device_os_version'].isin(top_15_device_os_version.index))&(events['device_os_version'].notnull()), 'device_os_version'] = 'Other'\n",
    "#top_15_device_brand = events['device_brand'].value_counts().head(15)\n",
    "#events.loc[(~events['device_brand'].isin(top_15_device_brand.index))&(events['device_brand'].notnull()), 'device_brand'] = 'Other'\n",
    "#top_15_device_model = events['device_model'].value_counts().head(15)\n",
    "#events.loc[(~events['device_model'].isin(top_15_device_model.index))&(events['device_model'].notnull()), 'device_model'] = 'Other'\n",
    "top_10_session_user_agent = events['session_user_agent'].value_counts().head(10)\n",
    "events.loc[(~events['session_user_agent'].isin(top_10_session_user_agent.index))&(events['session_user_agent'].notnull()), 'session_user_agent'] = 'Other'\n",
    "#top_10_carrier = events['carrier'].value_counts().head(10)\n",
    "#events.loc[(~events['carrier'].isin(top_10_carrier.index))&(events['carrier'].notnull()), 'carrier'] = 'Other'\n",
    "top_15_kind = events['kind'].value_counts().head(15)\n",
    "events.loc[(~events['kind'].isin(top_15_kind.index))&(events['kind'].notnull()), 'kind'] = 'Other'\n",
    "#top_15_device_language = events['device_language'].value_counts().head(15)\n",
    "#events.loc[(~events['device_language'].isin(top_15_device_language.index))&(events['device_language'].notnull()), 'device_language'] = 'Other'\n",
    "\n",
    "gb = events.groupby('ref_hash')\n",
    "events = events.join(gb['event_id'].value_counts().unstack().add_prefix('event_id_'), on='ref_hash')\n",
    "events = events.join(gb['application_id'].value_counts().unstack().add_prefix('application_id_'), on='ref_hash')\n",
    "#events = events.join(gb['device_os_version'].value_counts().unstack().add_prefix('device_os_version_'), on='ref_hash')\n",
    "#events = events.join(gb['device_brand'].value_counts().unstack().add_prefix('device_brand_'), on='ref_hash')\n",
    "#events = events.join(gb['device_model'].value_counts().unstack().add_prefix('device_model_'), on='ref_hash')\n",
    "#events = events.join(gb['carrier'].value_counts().unstack().add_prefix('carrier_'), on='ref_hash')\n",
    "events = events.join(gb['session_user_agent'].value_counts().unstack().add_prefix('session_user_agent_'), on='ref_hash')\n",
    "events = events.join(gb['kind'].value_counts().unstack().add_prefix('kind_'), on='ref_hash')\n",
    "#events = events.join(gb['device_language'].value_counts().unstack().add_prefix('device_language_'), on='ref_hash')\n",
    "\n",
    "events['n_events'] = gb['date'].transform('count')\n",
    "events['attributed_events_mean'] = gb['attributed'].transform('mean')\n",
    "events['wifi_events_mean'] = gb['wifi'].transform('mean')\n",
    "events['first_event'] = gb['date'].transform('min')\n",
    "events['last_event'] = gb['date'].transform('max')\n",
    "events['diff_events'] = (events['last_event'] - events['first_event']).dt.total_seconds()\n",
    "events['mean_time_events'] = 0\n",
    "events.loc[events['n_events'] > 1, 'mean_time_events'] = ((events['last_event'] - events['first_event'])/ \\\n",
    "                                 (events['n_events'] -1)).dt.total_seconds()\n",
    "events['first_event_sec'] = (events['first_event'] - pd.Timestamp(time_windows[window-1][0])).dt.total_seconds()\n",
    "events['last_event_sec'] = (events['last_event'] - pd.Timestamp(time_windows[window-1][0])).dt.total_seconds()"
   ]
  },
  {
   "cell_type": "code",
   "execution_count": 81,
   "metadata": {},
   "outputs": [],
   "source": [
    "events.drop_duplicates(subset='ref_hash', inplace=True)\n",
    "events = events.drop(columns=['date', 'event_id', 'ref_type', 'application_id', 'attributed', 'device_os_version', 'device_brand', 'device_model', \n",
    "       'device_city', 'session_user_agent', 'user_agent', 'carrier', 'kind', 'device_os', 'wifi', 'connection_type', 'device_language', 'first_event', 'last_event'])"
   ]
  },
  {
   "cell_type": "code",
   "execution_count": 82,
   "metadata": {},
   "outputs": [],
   "source": [
    "installs = pd.read_pickle('data/installs_w'+str(window)+'.pkl')\n",
    "installs = installs.drop(columns=['device_countrycode', 'ip_address', 'event_uuid', 'click_hash', 'device_brand', 'device_model'])\n",
    "#installs = installs.drop(columns=['device_language', 'device_countrycode', 'ip_address', 'event_uuid', 'device_brand', 'device_model', 'click_hash', 'session_user_agent'])\n",
    "installs.loc[installs['kind'] == 'OPEN', 'kind'] = 'Open'\n",
    "installs.loc[installs['kind'] == 'app open', 'kind'] = 'app_open'\n",
    "installs.loc[installs['kind'] == 'af app open', 'kind'] = 'af_app_opened'\n",
    "installs.loc[installs['kind'] == 'af_app_opend', 'kind'] = 'af_app_opened'\n",
    "installs.loc[installs['kind'] == 'Session Begin', 'kind'] = 'sessionbegin'\n",
    "installs.loc[installs['kind'] == 'signed in', 'kind'] = 'Sign In'\n",
    "top_20_installs_kind = installs['kind'].value_counts().head(20)\n",
    "installs.loc[(~installs['kind'].isin(top_20_installs_kind.index))&(installs['kind'].notnull()), 'kind'] = 'Other'\n",
    "top_15_installs_app = installs['application_id'].value_counts().head(15)\n",
    "installs.loc[(~installs['application_id'].isin(top_15_installs_app.index))&(installs['application_id'].notnull()), 'application_id'] = 'Other'\n",
    "installs['created'] = pd.to_datetime(installs['created'], format='%Y-%m-%d %H:%M:%S')\n",
    "installs['wifi_installs'] = installs['wifi'].map({True: 1, False: 0})\n",
    "installs['attributed'] = installs['attributed'].map({True: 1, False: 0})\n",
    "installs['implicit'] = installs['implicit'].map({True: 1, False: 0})\n",
    "gb = installs.groupby('ref_hash')\n",
    "installs = installs.join(gb['kind'].value_counts().unstack().add_prefix('kind_'), on='ref_hash')\n",
    "installs = installs.join(gb['application_id'].value_counts().unstack().add_prefix('application_id_'), on='ref_hash')\n",
    "installs['wifi_installs_mean'] = gb['wifi_installs'].transform('mean')\n",
    "installs['attributed_installs_mean'] = gb['attributed'].transform('mean')\n",
    "installs['n_installs'] = gb['created'].transform('count')\n",
    "installs['last_install'] = gb['created'].transform('max')\n",
    "installs['first_install'] = gb['created'].transform('min')\n",
    "installs['diff_installs'] = (installs['last_install'] - installs['first_install']).dt.total_seconds()\n",
    "installs['mean_time_install'] = 0\n",
    "installs.loc[installs['n_installs'] > 1, 'mean_time_install'] = ((installs['last_install'] - installs['first_install'])/ \\\n",
    "                                 (installs['n_installs'] -1)).dt.total_seconds()\n",
    "installs['first_install_sec'] = (installs['first_install'] - pd.Timestamp(time_windows[window-1][0])).dt.total_seconds()\n",
    "installs['last_install_sec'] = (installs['last_install'] - pd.Timestamp(time_windows[window-1][0])).dt.total_seconds()"
   ]
  },
  {
   "cell_type": "code",
   "execution_count": 83,
   "metadata": {},
   "outputs": [],
   "source": [
    "installs.drop(columns=['created', 'application_id', 'ref_type', 'attributed',\n",
    "       'implicit', 'user_agent', 'kind', 'wifi', 'trans_id', 'device_language',\n",
    "       'wifi_installs', 'last_install', 'first_install', 'session_user_agent'], inplace=True)\n",
    "installs.drop_duplicates(subset='ref_hash', inplace=True)"
   ]
  },
  {
   "cell_type": "code",
   "execution_count": 84,
   "metadata": {},
   "outputs": [],
   "source": [
    "model = auctions"
   ]
  },
  {
   "cell_type": "code",
   "execution_count": 85,
   "metadata": {},
   "outputs": [],
   "source": [
    "model = pd.merge(model, installs, how='left', on='ref_hash')\n",
    "model = pd.merge(model, events, how='left', on='ref_hash')\n",
    "model = pd.merge(model, clicks, how='left', on='ref_hash')"
   ]
  },
  {
   "cell_type": "code",
   "execution_count": 86,
   "metadata": {},
   "outputs": [],
   "source": [
    "if window <= 4:\n",
    "    model = pd.merge(model, auctions_label, on='ref_hash', how='left')\n",
    "    model = pd.merge(model, installs_label, on='ref_hash', how='left')\n",
    "    model['time_appearence'] = model['time_appearence'].fillna(259200)\n",
    "    model['time_appearence_install'] = model['time_appearence_install'].fillna(259200)\n",
    "model.drop_duplicates('ref_hash', inplace=True)\n",
    "uses = 'all'\n",
    "model.to_pickle('data/model/model_' +uses+'_w'+str(window)+'.pkl')"
   ]
  }
 ],
 "metadata": {
  "kernelspec": {
   "display_name": "Python 3",
   "language": "python",
   "name": "python3"
  },
  "language_info": {
   "codemirror_mode": {
    "name": "ipython",
    "version": 3
   },
   "file_extension": ".py",
   "mimetype": "text/x-python",
   "name": "python",
   "nbconvert_exporter": "python",
   "pygments_lexer": "ipython3",
   "version": "3.7.3"
  }
 },
 "nbformat": 4,
 "nbformat_minor": 2
}
