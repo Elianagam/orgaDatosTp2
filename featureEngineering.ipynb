{
 "cells": [
  {
   "cell_type": "code",
   "execution_count": 1,
   "metadata": {},
   "outputs": [],
   "source": [
    "import pandas as pd\n",
    "import numpy as np\n",
    "import matplotlib.pyplot as plt\n",
    "import seaborn as sns"
   ]
  },
  {
   "cell_type": "markdown",
   "metadata": {},
   "source": [
    "**Armado de features**"
   ]
  },
  {
   "cell_type": "code",
   "execution_count": 67,
   "metadata": {},
   "outputs": [],
   "source": [
    "auctions_w1 = pd.read_pickle('data/auctions_w1.pkl')\n",
    "clicks_w1 = pd.read_pickle('data/clicks_w1.pkl')\n",
    "#installs_w1 = pd.read_pickle('data/installs_w1.pkl')\n",
    "events_w1 = pd.read_pickle('data/events_w1.pkl')"
   ]
  },
  {
   "cell_type": "code",
   "execution_count": 91,
   "metadata": {},
   "outputs": [],
   "source": [
    "auctions_w1_label = pd.read_pickle(\"data/auctions_label_w1.pkl\")"
   ]
  },
  {
   "cell_type": "code",
   "execution_count": 68,
   "metadata": {},
   "outputs": [],
   "source": [
    "gb = auctions_w1.groupby('ref_hash')\n",
    "auctions_w1['n_auctions'] = gb['date'].transform('count')\n",
    "auctions_w1['last_auction'] = gb['date'].transform('max')\n",
    "auctions_w1['first_auction'] = gb['date'].transform('min')\n",
    "auctions_w1['diff_auctions'] = (auctions_w1['last_auction'] - auctions_w1['first_auction']).dt.total_seconds()\n",
    "auctions_w1['prom_time_auction'] = 0\n",
    "auctions_w1.loc[auctions_w1['n_auctions'] > 1, 'prom_time_auction'] = ((auctions_w1['last_auction'] - auctions_w1['first_auction'])/ \\\n",
    "                                 (auctions_w1['n_auctions'] -1)).dt.total_seconds()\n",
    "auctions_w1['first_auction_sec'] = (auctions_w1['first_auction'] - pd.Timestamp('2019-04-18 00:00:00.000000')).dt.total_seconds()\n",
    "auctions_w1['last_auction_sec'] = (auctions_w1['last_auction'] - pd.Timestamp('2019-04-18 00:00:00.000000')).dt.total_seconds()\n",
    "auctions_w1['ref_type_id_1'] = auctions_w1['ref_type_id'].apply(lambda x: 1 if x==1 else 0)\n",
    "auctions_w1['ref_type_id_7'] = auctions_w1['ref_type_id'].apply(lambda x: 1 if x==7 else 0)"
   ]
  },
  {
   "cell_type": "code",
   "execution_count": 70,
   "metadata": {},
   "outputs": [],
   "source": [
    "auctions_w1.drop_duplicates(subset='ref_hash', inplace=True)\n",
    "auctions_w1 = auctions_w1[['ref_hash', 'n_auctions', 'ref_type_id_1', 'ref_type_id_7', 'diff_auctions', 'prom_time_auction', 'first_auction_sec', 'last_auction_sec']]"
   ]
  },
  {
   "cell_type": "code",
   "execution_count": 72,
   "metadata": {},
   "outputs": [],
   "source": [
    "gb = clicks_w1.groupby('ref_hash')\n",
    "clicks_w1['n_clicks'] = gb['created'].transform('count')\n",
    "clicks_w1['last_click'] = gb['created'].transform('max')\n",
    "clicks_w1['first_click'] = gb['created'].transform('min')\n",
    "clicks_w1['diff_clicks'] = (clicks_w1['last_click'] - clicks_w1['first_click']).dt.total_seconds()\n",
    "clicks_w1['prom_time_click'] = 0\n",
    "clicks_w1.loc[clicks_w1['n_clicks'] > 1, 'prom_time_auction'] = ((clicks_w1['last_click'] - clicks_w1['first_click'])/ \\\n",
    "                                 (clicks_w1['n_clicks'] -1)).dt.total_seconds()"
   ]
  },
  {
   "cell_type": "code",
   "execution_count": 73,
   "metadata": {},
   "outputs": [],
   "source": [
    "clicks_w1['first_click_sec'] = (clicks_w1['first_click'] - pd.Timestamp('2019-04-18 00:00:00.000000')).dt.total_seconds()\n",
    "clicks_w1['last_click_sec'] = (clicks_w1['last_click'] - pd.Timestamp('2019-04-18 00:00:00.000000')).dt.total_seconds()\n",
    "clicks_w1['wifi_connection'] = clicks_w1['wifi_connection'].map({True: 1, False: 0})\n",
    "clicks_w1['timeToClick_mean'] = clicks_w1.groupby('ref_hash')['timeToClick'].transform('mean')\n",
    "clicks_w1.loc[clicks_w1.touchX == 'Infinity', 'touchX'] = 1\n",
    "clicks_w1.loc[clicks_w1.touchY == 'Infinity', 'touchY'] = 1\n",
    "clicks_w1[\"touchX\"] = pd.to_numeric(clicks_w1[\"touchX\"])\n",
    "clicks_w1[\"touchY\"] = pd.to_numeric(clicks_w1[\"touchY\"])\n",
    "clicks_w1['touchX_mean'] = clicks_w1.groupby('ref_hash')['touchX'].transform('mean')\n",
    "clicks_w1['touchY_mean'] = clicks_w1.groupby('ref_hash')['touchY'].transform('mean')\n",
    "clicks_w1['latitude_mean'] = clicks_w1.groupby('ref_hash')['latitude'].transform('mean')\n",
    "clicks_w1['longitude_mean'] = clicks_w1.groupby('ref_hash')['longitude'].transform('mean')\n",
    "clicks_w1['timeToClick_mean'] = clicks_w1['timeToClick_mean'].fillna(clicks_w1['timeToClick_mean'].mean())\n",
    "clicks_w1['touchX_mean'] = clicks_w1['touchX_mean'].fillna(clicks_w1['touchX_mean'].mean())\n",
    "clicks_w1['touchY_mean'] = clicks_w1['touchY_mean'].fillna(clicks_w1['touchY_mean'].mean())"
   ]
  },
  {
   "cell_type": "code",
   "execution_count": 74,
   "metadata": {},
   "outputs": [],
   "source": [
    "clicks_w1.drop_duplicates(subset='ref_hash', inplace=True)\n",
    "clicks_w1 = clicks_w1[['ref_hash', 'touchX_mean', 'touchY_mean', 'timeToClick_mean', 'latitude_mean', 'longitude_mean', 'n_clicks', 'wifi_connection', 'first_click_sec', 'last_click_sec', 'diff_clicks', 'prom_time_click']]"
   ]
  },
  {
   "cell_type": "code",
   "execution_count": 78,
   "metadata": {},
   "outputs": [],
   "source": [
    "events_w1.drop(columns=['event_uuid', 'ip_address', 'index', 'device_countrycode'], inplace=True)\n",
    "events_w1['n_events'] = events_w1.groupby('ref_hash')['date'].transform('count')\n",
    "events_w1['attributed'] = events_w1['attributed'].map({True: 1, False: 0})\n",
    "events_w1['wifi'] = events_w1['wifi'].map({True: 1, False: 0})\n",
    "events_w1['attributed_mean'] = events_w1.groupby('ref_hash')['attributed'].transform('mean')\n",
    "events_w1['wifi_mean'] = events_w1.groupby('ref_hash')['wifi'].transform('mean')\n",
    "events_w1['first_event'] = events_w1.groupby('ref_hash')['date'].transform('min')\n",
    "events_w1['last_event'] = events_w1.groupby('ref_hash')['date'].transform('max')\n",
    "events_w1['diff_events'] = (events_w1['last_event'] - events_w1['first_event']).dt.total_seconds()\n",
    "events_w1['mean_time_events'] = 0\n",
    "events_w1.loc[events_w1['n_events'] > 1, 'mean_time_events'] = ((events_w1['last_event'] - events_w1['first_event'])/ \\\n",
    "                                 (events_w1['n_events'] -1)).dt.total_seconds()\n",
    "events_w1['first_event_sec'] = (events_w1['first_event'] - pd.Timestamp('2019-04-18 00:00:00.000000')).dt.total_seconds()\n",
    "events_w1['last_event_sec'] = (events_w1['last_event'] - pd.Timestamp('2019-04-18 00:00:00.000000')).dt.total_seconds()"
   ]
  },
  {
   "cell_type": "code",
   "execution_count": 80,
   "metadata": {},
   "outputs": [],
   "source": [
    "events_w1.drop_duplicates(subset='ref_hash', inplace=True)\n",
    "events_w1 = events_w1[['ref_hash', 'first_event_sec', 'last_event_sec', 'n_events', 'attributed_mean', 'wifi_mean', 'diff_events', 'mean_time_events']]"
   ]
  },
  {
   "cell_type": "code",
   "execution_count": 83,
   "metadata": {},
   "outputs": [],
   "source": [
    "model_w1 = pd.merge(auctions_w1, clicks_w1, on='ref_hash', how='inner')"
   ]
  },
  {
   "cell_type": "code",
   "execution_count": 85,
   "metadata": {},
   "outputs": [],
   "source": [
    "model_w1 = pd.merge(model_w1, events_w1, on='ref_hash', how='inner')"
   ]
  },
  {
   "cell_type": "code",
   "execution_count": 92,
   "metadata": {},
   "outputs": [],
   "source": [
    "model_w1 = pd.merge(model_w1, auctions_w1_label, on='ref_hash', how='left')\n",
    "model_w1['time_appearence'] = model_w1['time_appearence'].fillna(259200)"
   ]
  },
  {
   "cell_type": "code",
   "execution_count": 93,
   "metadata": {},
   "outputs": [],
   "source": [
    "model_w1.to_pickle('data/model/model3_w1.pkl')"
   ]
  },
  {
   "cell_type": "code",
   "execution_count": null,
   "metadata": {},
   "outputs": [],
   "source": []
  }
 ],
 "metadata": {
  "kernelspec": {
   "display_name": "Python 3",
   "language": "python",
   "name": "python3"
  },
  "language_info": {
   "codemirror_mode": {
    "name": "ipython",
    "version": 3
   },
   "file_extension": ".py",
   "mimetype": "text/x-python",
   "name": "python",
   "nbconvert_exporter": "python",
   "pygments_lexer": "ipython3",
   "version": "3.6.4"
  }
 },
 "nbformat": 4,
 "nbformat_minor": 2
}
