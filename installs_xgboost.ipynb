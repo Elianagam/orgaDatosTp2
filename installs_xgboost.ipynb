{
 "cells": [
  {
   "cell_type": "code",
   "execution_count": 34,
   "metadata": {},
   "outputs": [],
   "source": [
    "import pandas as pd\n",
    "import numpy as np\n",
    "import xgboost as xgb\n",
    "# from xgboost import XGBClassifier\n",
    "from sklearn.metrics import mean_squared_error\n",
    "from sklearn.model_selection import train_test_split, RandomizedSearchCV, StratifiedKFold\n",
    "from sklearn.model_selection import GridSearchCV"
   ]
  },
  {
   "cell_type": "code",
   "execution_count": 35,
   "metadata": {},
   "outputs": [],
   "source": [
    "join1 = pd.read_csv('windows_installs/join1_2.csv', low_memory=False)\n",
    "join1 = join1.drop(columns=['ref_hash'])\n",
    "\n",
    "join2 = pd.read_csv('windows_installs/join2_3.csv', low_memory=False)\n",
    "join2 = join2.drop(columns=['ref_hash'])\n",
    "\n",
    "join3 = pd.read_csv('windows_installs/join3_4.csv', low_memory=False)\n",
    "join3 = join3.drop(columns=['ref_hash'])\n",
    "\n",
    "join4 = pd.read_csv('windows_installs/join4_5.csv', low_memory=False)\n",
    "join4 = join4.drop(columns=['ref_hash'])"
   ]
  },
  {
   "cell_type": "code",
   "execution_count": 36,
   "metadata": {},
   "outputs": [],
   "source": [
    "join4 =join4.fillna(0)\n",
    "join3 =join3.fillna(0)\n",
    "join2 =join2.fillna(0)\n",
    "join1 =join1.fillna(0)"
   ]
  },
  {
   "cell_type": "code",
   "execution_count": 56,
   "metadata": {},
   "outputs": [],
   "source": [
    "window_5 = pd.read_csv('model/install_w5.csv')\n",
    "window_5 = window_5.fillna(0)\n",
    "window_5['time_first_install_x'] = window_5['time_first_install']\n",
    "ref_hash = window_5['ref_hash']\n",
    "window_5 = window_5.drop(columns=['time_first_install', 'ref_hash'], axis=1)\n",
    "# features_w5 = np.array(train1_X.columns)\n",
    "w5 = window_5[np.array(train1_X.columns)]"
   ]
  },
  {
   "cell_type": "code",
   "execution_count": 42,
   "metadata": {},
   "outputs": [
    {
     "data": {
      "text/plain": [
       "Index(['time_first_install_y'], dtype='object')"
      ]
     },
     "execution_count": 42,
     "metadata": {},
     "output_type": "execute_result"
    }
   ],
   "source": [
    "join1.columns.difference(window_5.columns)"
   ]
  },
  {
   "cell_type": "markdown",
   "metadata": {},
   "source": [
    "## Split"
   ]
  },
  {
   "cell_type": "code",
   "execution_count": 43,
   "metadata": {},
   "outputs": [],
   "source": [
    "train1, test1 = train_test_split(join1, test_size=0.2)\n",
    "\n",
    "train1_Y = train1['time_first_install_y']\n",
    "train1_X = train1.drop(columns=['time_first_install_y'])\n",
    "test1_Y = test1['time_first_install_y']\n",
    "test1_X = test1.drop(columns=['time_first_install_y'])\n",
    "\n",
    "# ---\n",
    "train2, test2 = train_test_split(join2, test_size=0.2)\n",
    "\n",
    "train2_Y = train2['time_first_install_y']\n",
    "train2_X = train2.drop(columns=['time_first_install_y'])\n",
    "test2_Y = test2['time_first_install_y']\n",
    "test2_X = test2.drop(columns=['time_first_install_y'])\n",
    "\n",
    "# ---\n",
    "train3, test3 = train_test_split(join3, test_size=0.2)\n",
    "\n",
    "train3_Y = train3['time_first_install_y']\n",
    "train3_X = train3.drop(columns=['time_first_install_y'])\n",
    "test3_Y = test3['time_first_install_y']\n",
    "test3_X = test3.drop(columns=['time_first_install_y'])\n",
    "\n",
    "# ---\n",
    "train4, test4 = train_test_split(join4, test_size=0.2)\n",
    "\n",
    "train4_Y = train4['time_first_install_y']\n",
    "train4_X = train4.drop(columns=['time_first_install_y'])\n",
    "test4_Y = test4['time_first_install_y']\n",
    "test4_X = test4.drop(columns=['time_first_install_y'])"
   ]
  },
  {
   "cell_type": "markdown",
   "metadata": {},
   "source": [
    "# **Train model 1**"
   ]
  },
  {
   "cell_type": "code",
   "execution_count": 60,
   "metadata": {},
   "outputs": [],
   "source": [
    "mod1 = xgb.XGBRegressor(gamma=1, learning_rate=0.2, max_depth=15, n_estimators=1000, subsample=0.8,\n",
    "                        random_state=34) "
   ]
  },
  {
   "cell_type": "code",
   "execution_count": 61,
   "metadata": {
    "scrolled": true
   },
   "outputs": [
    {
     "name": "stderr",
     "output_type": "stream",
     "text": [
      "/home/eliana/fiuba/datos7506/envdt/lib/python3.6/site-packages/xgboost/core.py:587: FutureWarning: Series.base is deprecated and will be removed in a future version\n",
      "  if getattr(data, 'base', None) is not None and \\\n",
      "/home/eliana/fiuba/datos7506/envdt/lib/python3.6/site-packages/xgboost/core.py:588: FutureWarning: Series.base is deprecated and will be removed in a future version\n",
      "  data.base is not None and isinstance(data, np.ndarray) \\\n"
     ]
    },
    {
     "name": "stdout",
     "output_type": "stream",
     "text": [
      "[21:41:16] WARNING: /workspace/src/objective/regression_obj.cu:152: reg:linear is now deprecated in favor of reg:squarederror.\n",
      "CPU times: user 25min 3s, sys: 1.51 s, total: 25min 5s\n",
      "Wall time: 25min 6s\n"
     ]
    }
   ],
   "source": [
    "%%time\n",
    "mod1.fit(train1_X,train1_Y)\n",
    "preds1_join1 = mod1.predict(test1_X)"
   ]
  },
  {
   "cell_type": "markdown",
   "metadata": {},
   "source": []
  },
  {
   "cell_type": "code",
   "execution_count": 62,
   "metadata": {},
   "outputs": [
    {
     "name": "stdout",
     "output_type": "stream",
     "text": [
      "[22:06:24] WARNING: /workspace/src/objective/regression_obj.cu:152: reg:linear is now deprecated in favor of reg:squarederror.\n",
      "CPU times: user 17min 18s, sys: 1.24 s, total: 17min 19s\n",
      "Wall time: 17min 23s\n"
     ]
    }
   ],
   "source": [
    "%%time\n",
    "mod1.fit(train2_X,train2_Y)\n",
    "\n",
    "preds1_join2 = mod1.predict(test2_X)"
   ]
  },
  {
   "cell_type": "code",
   "execution_count": 63,
   "metadata": {},
   "outputs": [
    {
     "name": "stdout",
     "output_type": "stream",
     "text": [
      "[22:23:47] WARNING: /workspace/src/objective/regression_obj.cu:152: reg:linear is now deprecated in favor of reg:squarederror.\n",
      "CPU times: user 17min 52s, sys: 1.64 s, total: 17min 54s\n",
      "Wall time: 17min 59s\n"
     ]
    }
   ],
   "source": [
    "%%time\n",
    "mod1.fit(train3_X,train3_Y)\n",
    "\n",
    "preds1_join3 = mod1.predict(test3_X)"
   ]
  },
  {
   "cell_type": "code",
   "execution_count": 64,
   "metadata": {},
   "outputs": [
    {
     "name": "stdout",
     "output_type": "stream",
     "text": [
      "[22:41:48] WARNING: /workspace/src/objective/regression_obj.cu:152: reg:linear is now deprecated in favor of reg:squarederror.\n",
      "CPU times: user 15min 56s, sys: 1.25 s, total: 15min 57s\n",
      "Wall time: 16min\n"
     ]
    }
   ],
   "source": [
    "%%time\n",
    "mod1.fit(train4_X,train4_Y)\n",
    "\n",
    "preds1_join4 = mod1.predict(test4_X)"
   ]
  },
  {
   "cell_type": "code",
   "execution_count": 65,
   "metadata": {},
   "outputs": [
    {
     "name": "stdout",
     "output_type": "stream",
     "text": [
      "Error: 40814.790279\n",
      "Error: 40625.805608\n",
      "Error: 41643.343940\n",
      "Error: 37147.059677\n"
     ]
    }
   ],
   "source": [
    "rmse1_join1 = np.sqrt(mean_squared_error(test1_Y, preds1_join1))\n",
    "print(\"Error: %f\" % (rmse1_join1))\n",
    "rmse1_join2 = np.sqrt(mean_squared_error(test2_Y, preds1_join2))\n",
    "print(\"Error: %f\" % (rmse1_join2))\n",
    "rmse1_join3 = np.sqrt(mean_squared_error(test3_Y, preds1_join3))\n",
    "print(\"Error: %f\" % (rmse1_join3))\n",
    "rmse1_join4 = np.sqrt(mean_squared_error(test4_Y, preds1_join4))\n",
    "print(\"Error: %f\" % (rmse1_join4))"
   ]
  },
  {
   "cell_type": "code",
   "execution_count": 68,
   "metadata": {},
   "outputs": [],
   "source": [
    "mod1_preds_w5 = mod1.predict(w5)"
   ]
  },
  {
   "cell_type": "markdown",
   "metadata": {},
   "source": [
    "## **Train model 2**"
   ]
  },
  {
   "cell_type": "code",
   "execution_count": 44,
   "metadata": {},
   "outputs": [],
   "source": [
    "mod2 = xgb.XGBRegressor( colsample_bytree = 0.3, learning_rate = 0.5,  subsample=0.8,\n",
    "                max_depth = 2, alpha = 10, n_estimators = 1000, gamma=10, random_state=45)"
   ]
  },
  {
   "cell_type": "code",
   "execution_count": 45,
   "metadata": {},
   "outputs": [
    {
     "name": "stderr",
     "output_type": "stream",
     "text": [
      "/home/eliana/fiuba/datos7506/envdt/lib/python3.6/site-packages/xgboost/core.py:587: FutureWarning: Series.base is deprecated and will be removed in a future version\n",
      "  if getattr(data, 'base', None) is not None and \\\n",
      "/home/eliana/fiuba/datos7506/envdt/lib/python3.6/site-packages/xgboost/core.py:588: FutureWarning: Series.base is deprecated and will be removed in a future version\n",
      "  data.base is not None and isinstance(data, np.ndarray) \\\n"
     ]
    },
    {
     "name": "stdout",
     "output_type": "stream",
     "text": [
      "[21:23:23] WARNING: /workspace/src/objective/regression_obj.cu:152: reg:linear is now deprecated in favor of reg:squarederror.\n",
      "CPU times: user 1min 57s, sys: 276 ms, total: 1min 57s\n",
      "Wall time: 1min 57s\n"
     ]
    }
   ],
   "source": [
    "%%time\n",
    "mod2.fit(train1_X,train1_Y)\n",
    "\n",
    "preds2_join1 = mod2.predict(test1_X)"
   ]
  },
  {
   "cell_type": "code",
   "execution_count": 46,
   "metadata": {},
   "outputs": [
    {
     "name": "stdout",
     "output_type": "stream",
     "text": [
      "[21:25:20] WARNING: /workspace/src/objective/regression_obj.cu:152: reg:linear is now deprecated in favor of reg:squarederror.\n"
     ]
    }
   ],
   "source": [
    "mod2.fit(train2_X,train2_Y)\n",
    "\n",
    "preds2_join2 = mod2.predict(test2_X)"
   ]
  },
  {
   "cell_type": "code",
   "execution_count": 47,
   "metadata": {},
   "outputs": [
    {
     "name": "stdout",
     "output_type": "stream",
     "text": [
      "[21:26:49] WARNING: /workspace/src/objective/regression_obj.cu:152: reg:linear is now deprecated in favor of reg:squarederror.\n"
     ]
    }
   ],
   "source": [
    "mod2.fit(train3_X,train3_Y)\n",
    "\n",
    "preds2_join3 = mod2.predict(test3_X)"
   ]
  },
  {
   "cell_type": "code",
   "execution_count": 48,
   "metadata": {},
   "outputs": [
    {
     "name": "stdout",
     "output_type": "stream",
     "text": [
      "[21:28:20] WARNING: /workspace/src/objective/regression_obj.cu:152: reg:linear is now deprecated in favor of reg:squarederror.\n",
      "CPU times: user 1min 32s, sys: 260 ms, total: 1min 32s\n",
      "Wall time: 1min 32s\n"
     ]
    }
   ],
   "source": [
    "%%time\n",
    "mod2.fit(train4_X,train4_Y)\n",
    "\n",
    "preds2_join4 = mod2.predict(test4_X)"
   ]
  },
  {
   "cell_type": "code",
   "execution_count": 57,
   "metadata": {},
   "outputs": [
    {
     "name": "stdout",
     "output_type": "stream",
     "text": [
      "Error: 36936.893547\n",
      "Error: 36571.417886\n",
      "Error: 40015.923015\n",
      "Error: 32181.747364\n"
     ]
    }
   ],
   "source": [
    "rmse2_join1 = np.sqrt(mean_squared_error(test1_Y, preds2_join1))\n",
    "print(\"Error: %f\" % (rmse2_join1))\n",
    "rmse2_join2 = np.sqrt(mean_squared_error(test2_Y, preds2_join2))\n",
    "print(\"Error: %f\" % (rmse2_join2))\n",
    "rmse2_join3 = np.sqrt(mean_squared_error(test3_Y, preds2_join3))\n",
    "print(\"Error: %f\" % (rmse2_join3))\n",
    "rmse2_join4 = np.sqrt(mean_squared_error(test4_Y, preds2_join4))\n",
    "print(\"Error: %f\" % (rmse2_join4))"
   ]
  },
  {
   "cell_type": "code",
   "execution_count": 58,
   "metadata": {},
   "outputs": [],
   "source": [
    "mod2_preds_w5 = mod2.predict(w5)"
   ]
  },
  {
   "cell_type": "markdown",
   "metadata": {},
   "source": [
    "## **Train model 3**"
   ]
  },
  {
   "cell_type": "code",
   "execution_count": null,
   "metadata": {},
   "outputs": [],
   "source": [
    "params = {\n",
    "        'min_child_weight': [1, 5],\n",
    "        'gamma': [0.5, 1, 1.5],\n",
    "        'subsample': [0.6, 0.8],\n",
    "        'colsample_bytree': [0.6, 0.8],\n",
    "        'max_depth': [3, 4]\n",
    "        }\n",
    "\n",
    "xg_reg_cv = xgb.XGBRegressor(objective ='reg:linear', colsample_bytree = 1)\n",
    "\n",
    "clf = GridSearchCV(xg_reg_cv, params, scoring='neg_mean_squared_error', verbose=10)\n",
    "clf.fit(train1_X, train1_Y)"
   ]
  },
  {
   "cell_type": "code",
   "execution_count": null,
   "metadata": {},
   "outputs": [],
   "source": [
    "clf.best_params_"
   ]
  },
  {
   "cell_type": "code",
   "execution_count": null,
   "metadata": {},
   "outputs": [],
   "source": [
    "%%time\n",
    "parameters = {'learning_rate':[0.18, 0.2, 0.22], 'max_depth':[3, 10,5], 'gamma':[0.5], 'n_estimators':[200],\n",
    "              'subsample': [0.6], 'min_child_weight': [5,10]}\n",
    "xg_reg_cv = xgb.XGBRegressor(colsample_bytree = 0.8)\n",
    "clfa = GridSearchCV(xg_reg_cv, parameters, scoring='neg_mean_squared_error', verbose=10)\n",
    "clfa.fit(train1_X, train1_Y)"
   ]
  },
  {
   "cell_type": "code",
   "execution_count": null,
   "metadata": {},
   "outputs": [],
   "source": [
    "clfa.best_params_"
   ]
  },
  {
   "cell_type": "code",
   "execution_count": 54,
   "metadata": {},
   "outputs": [],
   "source": [
    "mod3 = xgb.XGBRegressor( colsample_bytree = 1, learning_rate = 0.18,  subsample=0.6, min_child_weight=10,\n",
    "                max_depth = 3, alpha = 1, n_estimators = 1000, gamma=0.5, random_state=45)"
   ]
  },
  {
   "cell_type": "code",
   "execution_count": 55,
   "metadata": {},
   "outputs": [
    {
     "name": "stderr",
     "output_type": "stream",
     "text": [
      "/home/eliana/fiuba/datos7506/envdt/lib/python3.6/site-packages/xgboost/core.py:587: FutureWarning: Series.base is deprecated and will be removed in a future version\n",
      "  if getattr(data, 'base', None) is not None and \\\n",
      "/home/eliana/fiuba/datos7506/envdt/lib/python3.6/site-packages/xgboost/core.py:588: FutureWarning: Series.base is deprecated and will be removed in a future version\n",
      "  data.base is not None and isinstance(data, np.ndarray) \\\n"
     ]
    },
    {
     "name": "stdout",
     "output_type": "stream",
     "text": [
      "[21:33:00] WARNING: /workspace/src/objective/regression_obj.cu:152: reg:linear is now deprecated in favor of reg:squarederror.\n",
      "CPU times: user 5min 47s, sys: 447 ms, total: 5min 47s\n",
      "Wall time: 5min 47s\n"
     ]
    }
   ],
   "source": [
    "%%time\n",
    "mod3.fit(train1_X,train1_Y)\n",
    "\n",
    "preds3_join1 = mod3.predict(test1_X)"
   ]
  },
  {
   "cell_type": "code",
   "execution_count": 29,
   "metadata": {},
   "outputs": [
    {
     "name": "stdout",
     "output_type": "stream",
     "text": [
      "[23:55:29] WARNING: /workspace/src/objective/regression_obj.cu:152: reg:linear is now deprecated in favor of reg:squarederror.\n",
      "CPU times: user 3min 26s, sys: 284 ms, total: 3min 26s\n",
      "Wall time: 3min 27s\n"
     ]
    }
   ],
   "source": [
    "%%time\n",
    "mod3.fit(train2_X,train2_Y)\n",
    "\n",
    "preds3_join2 = mod3.predict(test2_X)"
   ]
  },
  {
   "cell_type": "code",
   "execution_count": 30,
   "metadata": {},
   "outputs": [
    {
     "name": "stdout",
     "output_type": "stream",
     "text": [
      "[23:58:56] WARNING: /workspace/src/objective/regression_obj.cu:152: reg:linear is now deprecated in favor of reg:squarederror.\n",
      "CPU times: user 3min 25s, sys: 200 ms, total: 3min 26s\n",
      "Wall time: 3min 26s\n"
     ]
    }
   ],
   "source": [
    "%%time\n",
    "mod3.fit(train3_X,train3_Y)\n",
    "\n",
    "preds3_join3 = mod3.predict(test3_X)"
   ]
  },
  {
   "cell_type": "code",
   "execution_count": 31,
   "metadata": {},
   "outputs": [
    {
     "name": "stdout",
     "output_type": "stream",
     "text": [
      "[00:02:22] WARNING: /workspace/src/objective/regression_obj.cu:152: reg:linear is now deprecated in favor of reg:squarederror.\n",
      "CPU times: user 3min 26s, sys: 172 ms, total: 3min 26s\n",
      "Wall time: 3min 26s\n"
     ]
    }
   ],
   "source": [
    "%%time\n",
    "mod3.fit(train4_X,train4_Y)\n",
    "\n",
    "preds3_join4 = mod3.predict(test4_X)"
   ]
  },
  {
   "cell_type": "code",
   "execution_count": 32,
   "metadata": {},
   "outputs": [
    {
     "name": "stdout",
     "output_type": "stream",
     "text": [
      "Error: 73405.967330\n",
      "Error: 35185.968430\n",
      "Error: 34707.326796\n",
      "Error: 33051.945688\n",
      "CPU times: user 0 ns, sys: 3.69 ms, total: 3.69 ms\n",
      "Wall time: 2.9 ms\n"
     ]
    }
   ],
   "source": [
    "%%time\n",
    "rmse3_join1 = np.sqrt(mean_squared_error(test1_Y, preds3_join1))\n",
    "print(\"Error: %f\" % (rmse3_join1))\n",
    "rmse3_join2 = np.sqrt(mean_squared_error(test2_Y, preds3_join2))\n",
    "print(\"Error: %f\" % (rmse3_join2))\n",
    "rmse3_join3 = np.sqrt(mean_squared_error(test3_Y, preds3_join3))\n",
    "print(\"Error: %f\" % (rmse3_join3))\n",
    "rmse3_join4 = np.sqrt(mean_squared_error(test4_Y, preds3_join4))\n",
    "print(\"Error: %f\" % (rmse3_join4))"
   ]
  },
  {
   "cell_type": "code",
   "execution_count": 59,
   "metadata": {},
   "outputs": [],
   "source": [
    "mod3_preds_w5 = mod3.predict(w5)"
   ]
  },
  {
   "cell_type": "markdown",
   "metadata": {},
   "source": [
    "# save_models"
   ]
  },
  {
   "cell_type": "code",
   "execution_count": 71,
   "metadata": {},
   "outputs": [],
   "source": [
    "import pickle\n",
    "pickle.dump(mod1, open(\"model/pima.pickle.dat\", \"wb\"))\n",
    "pickle.dump(mod2, open(\"model/pima2.pickle.dat\", \"wb\"))\n",
    "pickle.dump(mod3, open(\"model/pima3.pickle.dat\", \"wb\"))"
   ]
  },
  {
   "cell_type": "code",
   "execution_count": 69,
   "metadata": {},
   "outputs": [],
   "source": [
    "mod1.save_model('model/0001.model')\n",
    "mod2.save_model('model/0002.model')\n",
    "mod3.save_model('model/0003.model')"
   ]
  },
  {
   "cell_type": "code",
   "execution_count": 70,
   "metadata": {},
   "outputs": [
    {
     "name": "stderr",
     "output_type": "stream",
     "text": [
      "/home/eliana/fiuba/datos7506/envdt/lib/python3.6/site-packages/sklearn/externals/joblib/__init__.py:15: DeprecationWarning: sklearn.externals.joblib is deprecated in 0.21 and will be removed in 0.23. Please import this functionality directly from joblib, which can be installed with: pip install joblib. If this warning is raised when loading pickled models, you may need to re-serialize those models with scikit-learn 0.21+.\n",
      "  warnings.warn(msg, category=DeprecationWarning)\n"
     ]
    },
    {
     "data": {
      "text/plain": [
       "['model/pima2.joblib.dat']"
      ]
     },
     "execution_count": 70,
     "metadata": {},
     "output_type": "execute_result"
    }
   ],
   "source": [
    "from sklearn.externals import joblib\n",
    "# save model to file\n",
    "joblib.dump(mod1, \"model/pima1.joblib.dat\")\n",
    "joblib.dump(mod2, \"model/pima2.joblib.dat\")\n",
    "joblib.dump(mod3, \"model/pima2.joblib.dat\")"
   ]
  },
  {
   "cell_type": "markdown",
   "metadata": {},
   "source": [
    "# **MERGE PREDICCIONES**"
   ]
  },
  {
   "cell_type": "code",
   "execution_count": 72,
   "metadata": {},
   "outputs": [],
   "source": [
    "installs_pred = pd.DataFrame(ref_hash)\n",
    "\n",
    "installs_pred['ref_hash'] = installs_pred['ref_hash'].astype(str) + '_sc'\n",
    "installs_pred['preds1'] = mod1_preds_w5\n",
    "\n",
    "installs_pred['preds2'] = mod2_preds_w5\n",
    "\n",
    "installs_pred['preds3'] = mod3_preds_w5\n",
    "\n",
    "installs_pred['obj'] = installs_pred[['preds1', 'preds2', 'preds3']].mean(axis=1)\n",
    "\n",
    "# installs_pred = installs_pred.drop(columns=['preds1', 'preds2', 'preds3'])"
   ]
  },
  {
   "cell_type": "code",
   "execution_count": 76,
   "metadata": {},
   "outputs": [],
   "source": [
    "installs_pred.to_csv(path_or_buf='predicciones/installs_preds.csv',index=False)"
   ]
  },
  {
   "cell_type": "code",
   "execution_count": 75,
   "metadata": {},
   "outputs": [],
   "source": [
    "# installs_pred['ref_hash'].value_counts()"
   ]
  }
 ],
 "metadata": {
  "kernelspec": {
   "display_name": "Python 3",
   "language": "python",
   "name": "python3"
  },
  "language_info": {
   "codemirror_mode": {
    "name": "ipython",
    "version": 3
   },
   "file_extension": ".py",
   "mimetype": "text/x-python",
   "name": "python",
   "nbconvert_exporter": "python",
   "pygments_lexer": "ipython3",
   "version": "3.6.7"
  }
 },
 "nbformat": 4,
 "nbformat_minor": 2
}
