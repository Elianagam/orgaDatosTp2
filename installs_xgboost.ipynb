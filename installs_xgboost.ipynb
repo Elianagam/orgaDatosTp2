{
 "cells": [
  {
   "cell_type": "code",
   "execution_count": 1,
   "metadata": {},
   "outputs": [],
   "source": [
    "import pandas as pd\n",
    "import numpy as np\n",
    "import xgboost as xgb\n",
    "# from xgboost import XGBClassifier\n",
    "from sklearn.metrics import mean_squared_error\n",
    "from sklearn.model_selection import train_test_split, RandomizedSearchCV, StratifiedKFold\n",
    "from sklearn.model_selection import GridSearchCV"
   ]
  },
  {
   "cell_type": "code",
   "execution_count": 2,
   "metadata": {},
   "outputs": [],
   "source": [
    "join1 = pd.read_csv('windows_installs/join1_2.csv', low_memory=False)\n",
    "ref_hash_j1 = join1['ref_hash']\n",
    "join1 = join1.drop(columns=['ref_hash'])\n",
    "\n",
    "join2 = pd.read_csv('windows_installs/join2_3.csv', low_memory=False)\n",
    "ref_hash_j2 = join2['ref_hash']\n",
    "join2 = join2.drop(columns=['ref_hash'])\n",
    "\n",
    "join3 = pd.read_csv('windows_installs/join3_4.csv', low_memory=False)\n",
    "ref_hash_j3 = join3['ref_hash']\n",
    "join3 = join3.drop(columns=['ref_hash'])\n",
    "\n",
    "join4 = pd.read_csv('windows_installs/join4_5.csv', low_memory=False)\n",
    "ref_hash_j4 = join4['ref_hash']\n",
    "join4 = join4.drop(columns=['ref_hash'])"
   ]
  },
  {
   "cell_type": "markdown",
   "metadata": {},
   "source": [
    "## Split"
   ]
  },
  {
   "cell_type": "code",
   "execution_count": 3,
   "metadata": {},
   "outputs": [],
   "source": [
    "train1, test1 = train_test_split(join1, test_size=0.2)\n",
    "\n",
    "train1_Y = train1['time_first_install_y']\n",
    "train1_X = train1.drop(columns=['time_first_install_y'])\n",
    "test1_Y = test1['time_first_install_y']\n",
    "test1_X = test1.drop(columns=['time_first_install_y'])\n",
    "\n",
    "# ---\n",
    "train2, test2 = train_test_split(join2, test_size=0.2)\n",
    "\n",
    "train2_Y = train2['time_first_install_y']\n",
    "train2_X = train2.drop(columns=['time_first_install_y'])\n",
    "test2_Y = test2['time_first_install_y']\n",
    "test2_X = test2.drop(columns=['time_first_install_y'])\n",
    "\n",
    "# ---\n",
    "train3, test3 = train_test_split(join3, test_size=0.2)\n",
    "\n",
    "train3_Y = train3['time_first_install_y']\n",
    "train3_X = train3.drop(columns=['time_first_install_y'])\n",
    "test3_Y = test3['time_first_install_y']\n",
    "test3_X = test3.drop(columns=['time_first_install_y'])\n",
    "\n",
    "# ---\n",
    "train4, test4 = train_test_split(join4, test_size=0.2)\n",
    "\n",
    "train4_Y = train4['time_first_install_y']\n",
    "train4_X = train4.drop(columns=['time_first_install_y'])\n",
    "test4_Y = test4['time_first_install_y']\n",
    "test4_X = test4.drop(columns=['time_first_install_y'])"
   ]
  },
  {
   "cell_type": "markdown",
   "metadata": {},
   "source": [
    "# **Train model 1**"
   ]
  },
  {
   "cell_type": "code",
   "execution_count": 4,
   "metadata": {},
   "outputs": [],
   "source": [
    "mod1 = xgb.XGBRegressor(gamma=1, learning_rate=0.2, max_depth=3, n_estimators=1000, subsample=0.8,\n",
    "                        random_state=34) "
   ]
  },
  {
   "cell_type": "code",
   "execution_count": 5,
   "metadata": {},
   "outputs": [
    {
     "name": "stderr",
     "output_type": "stream",
     "text": [
      "/home/eliana/fiuba/datos7506/envdt/lib/python3.6/site-packages/xgboost/core.py:587: FutureWarning: Series.base is deprecated and will be removed in a future version\n",
      "  if getattr(data, 'base', None) is not None and \\\n",
      "/home/eliana/fiuba/datos7506/envdt/lib/python3.6/site-packages/xgboost/core.py:588: FutureWarning: Series.base is deprecated and will be removed in a future version\n",
      "  data.base is not None and isinstance(data, np.ndarray) \\\n"
     ]
    },
    {
     "name": "stdout",
     "output_type": "stream",
     "text": [
      "[17:03:19] WARNING: /workspace/src/objective/regression_obj.cu:152: reg:linear is now deprecated in favor of reg:squarederror.\n",
      "CPU times: user 2min 10s, sys: 163 ms, total: 2min 10s\n",
      "Wall time: 2min 10s\n"
     ]
    }
   ],
   "source": [
    "%%time\n",
    "mod1.fit(train1_X,train1_Y)\n",
    "preds1_join1 = mod1.predict(test1_X)"
   ]
  },
  {
   "cell_type": "markdown",
   "metadata": {},
   "source": []
  },
  {
   "cell_type": "code",
   "execution_count": 6,
   "metadata": {},
   "outputs": [
    {
     "name": "stdout",
     "output_type": "stream",
     "text": [
      "[17:05:29] WARNING: /workspace/src/objective/regression_obj.cu:152: reg:linear is now deprecated in favor of reg:squarederror.\n",
      "CPU times: user 2min 1s, sys: 100 ms, total: 2min 1s\n",
      "Wall time: 2min 1s\n"
     ]
    }
   ],
   "source": [
    "%%time\n",
    "mod1.fit(train2_X,train2_Y)\n",
    "\n",
    "preds1_join2 = mod1.predict(test2_X)"
   ]
  },
  {
   "cell_type": "code",
   "execution_count": 7,
   "metadata": {},
   "outputs": [
    {
     "name": "stdout",
     "output_type": "stream",
     "text": [
      "[17:07:31] WARNING: /workspace/src/objective/regression_obj.cu:152: reg:linear is now deprecated in favor of reg:squarederror.\n",
      "CPU times: user 2min 3s, sys: 88 ms, total: 2min 3s\n",
      "Wall time: 2min 3s\n"
     ]
    }
   ],
   "source": [
    "%%time\n",
    "mod1.fit(train3_X,train3_Y)\n",
    "\n",
    "preds1_join3 = mod1.predict(test3_X)"
   ]
  },
  {
   "cell_type": "code",
   "execution_count": 8,
   "metadata": {},
   "outputs": [
    {
     "name": "stdout",
     "output_type": "stream",
     "text": [
      "[17:09:35] WARNING: /workspace/src/objective/regression_obj.cu:152: reg:linear is now deprecated in favor of reg:squarederror.\n",
      "CPU times: user 2min 3s, sys: 104 ms, total: 2min 4s\n",
      "Wall time: 2min 4s\n"
     ]
    }
   ],
   "source": [
    "%%time\n",
    "mod1.fit(train4_X,train4_Y)\n",
    "\n",
    "preds1_join4 = mod1.predict(test4_X)"
   ]
  },
  {
   "cell_type": "code",
   "execution_count": 9,
   "metadata": {},
   "outputs": [
    {
     "name": "stdout",
     "output_type": "stream",
     "text": [
      "Error: 98668.232761\n",
      "Error: 86328.383643\n",
      "Error: 87120.175401\n",
      "Error: 83470.416816\n"
     ]
    }
   ],
   "source": [
    "rmse1_join1 = np.sqrt(mean_squared_error(test1_Y, preds1_join1))\n",
    "print(\"Error: %f\" % (rmse1_join1))\n",
    "rmse1_join2 = np.sqrt(mean_squared_error(test2_Y, preds1_join2))\n",
    "print(\"Error: %f\" % (rmse1_join2))\n",
    "rmse1_join3 = np.sqrt(mean_squared_error(test3_Y, preds1_join3))\n",
    "print(\"Error: %f\" % (rmse1_join3))\n",
    "rmse1_join4 = np.sqrt(mean_squared_error(test4_Y, preds1_join4))\n",
    "print(\"Error: %f\" % (rmse1_join4))"
   ]
  },
  {
   "cell_type": "markdown",
   "metadata": {},
   "source": [
    "## **Train model 2**"
   ]
  },
  {
   "cell_type": "code",
   "execution_count": 10,
   "metadata": {},
   "outputs": [],
   "source": [
    "mod2 = xgb.XGBRegressor( colsample_bytree = 0.3, learning_rate = 0.5,  subsample=0.8,\n",
    "                max_depth = 2, alpha = 10, n_estimators = 1000, gamma=10, random_state=45)"
   ]
  },
  {
   "cell_type": "code",
   "execution_count": 11,
   "metadata": {},
   "outputs": [
    {
     "name": "stderr",
     "output_type": "stream",
     "text": [
      "/home/eliana/fiuba/datos7506/envdt/lib/python3.6/site-packages/xgboost/core.py:587: FutureWarning: Series.base is deprecated and will be removed in a future version\n",
      "  if getattr(data, 'base', None) is not None and \\\n",
      "/home/eliana/fiuba/datos7506/envdt/lib/python3.6/site-packages/xgboost/core.py:588: FutureWarning: Series.base is deprecated and will be removed in a future version\n",
      "  data.base is not None and isinstance(data, np.ndarray) \\\n"
     ]
    },
    {
     "name": "stdout",
     "output_type": "stream",
     "text": [
      "[17:11:39] WARNING: /workspace/src/objective/regression_obj.cu:152: reg:linear is now deprecated in favor of reg:squarederror.\n"
     ]
    }
   ],
   "source": [
    "mod2.fit(train1_X,train1_Y)\n",
    "\n",
    "preds2_join1 = mod2.predict(test1_X)"
   ]
  },
  {
   "cell_type": "code",
   "execution_count": 12,
   "metadata": {},
   "outputs": [
    {
     "name": "stdout",
     "output_type": "stream",
     "text": [
      "[17:12:30] WARNING: /workspace/src/objective/regression_obj.cu:152: reg:linear is now deprecated in favor of reg:squarederror.\n"
     ]
    }
   ],
   "source": [
    "mod2.fit(train2_X,train2_Y)\n",
    "\n",
    "preds2_join2 = mod2.predict(test2_X)"
   ]
  },
  {
   "cell_type": "code",
   "execution_count": 13,
   "metadata": {},
   "outputs": [
    {
     "name": "stdout",
     "output_type": "stream",
     "text": [
      "[17:13:19] WARNING: /workspace/src/objective/regression_obj.cu:152: reg:linear is now deprecated in favor of reg:squarederror.\n"
     ]
    }
   ],
   "source": [
    "mod2.fit(train3_X,train3_Y)\n",
    "\n",
    "preds2_join3 = mod2.predict(test3_X)"
   ]
  },
  {
   "cell_type": "code",
   "execution_count": 14,
   "metadata": {},
   "outputs": [
    {
     "name": "stdout",
     "output_type": "stream",
     "text": [
      "[17:14:09] WARNING: /workspace/src/objective/regression_obj.cu:152: reg:linear is now deprecated in favor of reg:squarederror.\n"
     ]
    }
   ],
   "source": [
    "mod2.fit(train4_X,train4_Y)\n",
    "\n",
    "preds2_join4 = mod2.predict(test4_X)"
   ]
  },
  {
   "cell_type": "code",
   "execution_count": 15,
   "metadata": {},
   "outputs": [
    {
     "name": "stdout",
     "output_type": "stream",
     "text": [
      "Error: 97594.164566\n",
      "Error: 86012.893727\n",
      "Error: 88603.406174\n",
      "Error: 83054.289959\n"
     ]
    }
   ],
   "source": [
    "rmse2_join1 = np.sqrt(mean_squared_error(test1_Y, preds2_join1))\n",
    "print(\"Error: %f\" % (rmse2_join1))\n",
    "rmse2_join2 = np.sqrt(mean_squared_error(test2_Y, preds2_join2))\n",
    "print(\"Error: %f\" % (rmse2_join2))\n",
    "rmse2_join3 = np.sqrt(mean_squared_error(test3_Y, preds2_join3))\n",
    "print(\"Error: %f\" % (rmse2_join3))\n",
    "rmse2_join4 = np.sqrt(mean_squared_error(test4_Y, preds2_join4))\n",
    "print(\"Error: %f\" % (rmse2_join4))"
   ]
  },
  {
   "cell_type": "markdown",
   "metadata": {},
   "source": [
    "## **Train model 3**"
   ]
  },
  {
   "cell_type": "code",
   "execution_count": null,
   "metadata": {},
   "outputs": [],
   "source": [
    "params = {\n",
    "        'min_child_weight': [1, 5],\n",
    "        'gamma': [0.5, 1, 1.5],\n",
    "        'subsample': [0.6, 0.8],\n",
    "        'colsample_bytree': [0.6, 0.8],\n",
    "        'max_depth': [3, 4]\n",
    "        }\n",
    "\n",
    "xg_reg_cv = xgb.XGBRegressor(objective ='reg:linear', colsample_bytree = 1)\n",
    "\n",
    "clf = GridSearchCV(xg_reg_cv, params, scoring='neg_mean_squared_error', verbose=10)\n",
    "clf.fit(train1_X, train1_Y)"
   ]
  },
  {
   "cell_type": "code",
   "execution_count": null,
   "metadata": {},
   "outputs": [],
   "source": [
    "clf.best_params_"
   ]
  },
  {
   "cell_type": "code",
   "execution_count": null,
   "metadata": {},
   "outputs": [],
   "source": [
    "%%time\n",
    "parameters = {'learning_rate':[0.18, 0.2, 0.22], 'max_depth':[3, 10,5], 'gamma':[0.5], 'n_estimators':[200],\n",
    "              'subsample': [0.6], 'min_child_weight': [5,10]}\n",
    "xg_reg_cv = xgb.XGBRegressor(colsample_bytree = 0.8)\n",
    "clfa = GridSearchCV(xg_reg_cv, parameters, scoring='neg_mean_squared_error', verbose=10)\n",
    "clfa.fit(train1_X, train1_Y)"
   ]
  },
  {
   "cell_type": "code",
   "execution_count": null,
   "metadata": {},
   "outputs": [],
   "source": [
    "clfa.best_params_"
   ]
  },
  {
   "cell_type": "code",
   "execution_count": 16,
   "metadata": {},
   "outputs": [],
   "source": [
    "mod3 = xgb.XGBRegressor( colsample_bytree = 1, learning_rate = 0.18,  subsample=0.6, min_child_weight=10,\n",
    "                max_depth = 3, alpha = 1, n_estimators = 1000, gamma=0.5, random_state=45)"
   ]
  },
  {
   "cell_type": "code",
   "execution_count": 17,
   "metadata": {},
   "outputs": [
    {
     "name": "stderr",
     "output_type": "stream",
     "text": [
      "/home/eliana/fiuba/datos7506/envdt/lib/python3.6/site-packages/xgboost/core.py:587: FutureWarning: Series.base is deprecated and will be removed in a future version\n",
      "  if getattr(data, 'base', None) is not None and \\\n",
      "/home/eliana/fiuba/datos7506/envdt/lib/python3.6/site-packages/xgboost/core.py:588: FutureWarning: Series.base is deprecated and will be removed in a future version\n",
      "  data.base is not None and isinstance(data, np.ndarray) \\\n"
     ]
    },
    {
     "name": "stdout",
     "output_type": "stream",
     "text": [
      "[17:15:00] WARNING: /workspace/src/objective/regression_obj.cu:152: reg:linear is now deprecated in favor of reg:squarederror.\n"
     ]
    }
   ],
   "source": [
    "mod3.fit(train1_X,train1_Y)\n",
    "\n",
    "preds3_join1 = mod3.predict(test1_X)"
   ]
  },
  {
   "cell_type": "code",
   "execution_count": 18,
   "metadata": {},
   "outputs": [
    {
     "name": "stdout",
     "output_type": "stream",
     "text": [
      "[17:17:19] WARNING: /workspace/src/objective/regression_obj.cu:152: reg:linear is now deprecated in favor of reg:squarederror.\n"
     ]
    }
   ],
   "source": [
    "mod3.fit(train2_X,train2_Y)\n",
    "\n",
    "preds3_join2 = mod3.predict(test2_X)"
   ]
  },
  {
   "cell_type": "code",
   "execution_count": 19,
   "metadata": {},
   "outputs": [
    {
     "name": "stdout",
     "output_type": "stream",
     "text": [
      "[17:19:35] WARNING: /workspace/src/objective/regression_obj.cu:152: reg:linear is now deprecated in favor of reg:squarederror.\n"
     ]
    }
   ],
   "source": [
    "mod3.fit(train3_X,train3_Y)\n",
    "\n",
    "preds3_join3 = mod3.predict(test3_X)"
   ]
  },
  {
   "cell_type": "code",
   "execution_count": 20,
   "metadata": {},
   "outputs": [
    {
     "name": "stdout",
     "output_type": "stream",
     "text": [
      "[17:21:51] WARNING: /workspace/src/objective/regression_obj.cu:152: reg:linear is now deprecated in favor of reg:squarederror.\n"
     ]
    }
   ],
   "source": [
    "mod3.fit(train4_X,train4_Y)\n",
    "\n",
    "preds3_join4 = mod3.predict(test4_X)"
   ]
  },
  {
   "cell_type": "code",
   "execution_count": 21,
   "metadata": {},
   "outputs": [
    {
     "name": "stdout",
     "output_type": "stream",
     "text": [
      "Error: 94990.264531\n",
      "Error: 82915.150777\n",
      "Error: 82544.971117\n",
      "Error: 77992.347455\n"
     ]
    }
   ],
   "source": [
    "rmse3_join1 = np.sqrt(mean_squared_error(test1_Y, preds3_join1))\n",
    "print(\"Error: %f\" % (rmse3_join1))\n",
    "rmse3_join2 = np.sqrt(mean_squared_error(test2_Y, preds3_join2))\n",
    "print(\"Error: %f\" % (rmse3_join2))\n",
    "rmse3_join3 = np.sqrt(mean_squared_error(test3_Y, preds3_join3))\n",
    "print(\"Error: %f\" % (rmse3_join3))\n",
    "rmse3_join4 = np.sqrt(mean_squared_error(test4_Y, preds3_join4))\n",
    "print(\"Error: %f\" % (rmse3_join4))"
   ]
  },
  {
   "cell_type": "markdown",
   "metadata": {},
   "source": [
    "# **MERGE PREDICCIONES**"
   ]
  },
  {
   "cell_type": "code",
   "execution_count": null,
   "metadata": {},
   "outputs": [],
   "source": [
    "# preds1_j1 = array(preds1_join1)"
   ]
  },
  {
   "cell_type": "code",
   "execution_count": 25,
   "metadata": {},
   "outputs": [],
   "source": [
    "mod1_pred1 = pd.DataFrame(ref_hash_j1)\n",
    "mod1_pred1 = mod1_pred1.iloc[mod1_pred1.index.isin(test1_Y.index)]\n",
    "mod1_pred1['preds1_j1'] = preds1_join1\n",
    "# ----\n",
    "mod1_pred2 = pd.DataFrame(ref_hash_j2)\n",
    "mod1_pred2 = mod1_pred2.iloc[mod1_pred2.index.isin(test2_Y.index)]\n",
    "mod1_pred2['preds1_j2'] = preds1_join2\n",
    "# ----\n",
    "mod1_pred3 = pd.DataFrame(ref_hash_j3)\n",
    "mod1_pred3 = mod1_pred3.iloc[mod1_pred3.index.isin(test3_Y.index)]\n",
    "mod1_pred3['preds1_j3'] = preds1_join3\n",
    "# ----\n",
    "mod1_pred4 = pd.DataFrame(ref_hash_j4)\n",
    "mod1_pred4 = mod1_pred4.iloc[mod1_pred4.index.isin(test4_Y.index)]\n",
    "mod1_pred4['preds1_j4'] = preds1_join4"
   ]
  },
  {
   "cell_type": "code",
   "execution_count": 26,
   "metadata": {},
   "outputs": [],
   "source": [
    "mod1_pred1['preds2_j1'] = preds2_join1\n",
    "\n",
    "mod1_pred2['preds2_j2'] = preds2_join2\n",
    "\n",
    "mod1_pred3['preds2_j3'] = preds2_join3\n",
    "\n",
    "mod1_pred4['preds2_j4'] = preds2_join4"
   ]
  },
  {
   "cell_type": "code",
   "execution_count": 27,
   "metadata": {},
   "outputs": [],
   "source": [
    "mod1_pred1['preds3_j1'] = preds3_join1\n",
    "\n",
    "mod1_pred2['preds3_j2'] = preds3_join2\n",
    "\n",
    "mod1_pred3['preds3_j3'] = preds3_join3\n",
    "\n",
    "mod1_pred4['preds3_j4'] = preds3_join4"
   ]
  },
  {
   "cell_type": "code",
   "execution_count": 50,
   "metadata": {},
   "outputs": [],
   "source": [
    "merge1 = mod1_pred1.merge(mod1_pred2, on='ref_hash', how=\"outer\")\n",
    "merge2 = merge1.merge(mod1_pred3, on='ref_hash', how=\"outer\")\n",
    "merge_final = merge2.merge(mod1_pred4, on='ref_hash', how=\"outer\").set_index('ref_hash').reset_index()"
   ]
  },
  {
   "cell_type": "code",
   "execution_count": 51,
   "metadata": {},
   "outputs": [],
   "source": [
    "merge_final['preds'] = merge_final[['preds1_j1', 'preds1_j2', 'preds1_j3', 'preds1_j4',\n",
    "                         'preds2_j1', 'preds2_j2', 'preds2_j3', 'preds2_j4',\n",
    "                         'preds3_j1', 'preds3_j2', 'preds3_j3', 'preds3_j4']].mean(axis=1)"
   ]
  },
  {
   "cell_type": "code",
   "execution_count": 52,
   "metadata": {},
   "outputs": [
    {
     "data": {
      "text/html": [
       "<div>\n",
       "<style scoped>\n",
       "    .dataframe tbody tr th:only-of-type {\n",
       "        vertical-align: middle;\n",
       "    }\n",
       "\n",
       "    .dataframe tbody tr th {\n",
       "        vertical-align: top;\n",
       "    }\n",
       "\n",
       "    .dataframe thead th {\n",
       "        text-align: right;\n",
       "    }\n",
       "</style>\n",
       "<table border=\"1\" class=\"dataframe\">\n",
       "  <thead>\n",
       "    <tr style=\"text-align: right;\">\n",
       "      <th></th>\n",
       "      <th>ref_hash</th>\n",
       "      <th>preds1_j1</th>\n",
       "      <th>preds2_j1</th>\n",
       "      <th>preds3_j1</th>\n",
       "      <th>preds1_j2</th>\n",
       "      <th>preds2_j2</th>\n",
       "      <th>preds3_j2</th>\n",
       "      <th>preds1_j3</th>\n",
       "      <th>preds2_j3</th>\n",
       "      <th>preds3_j3</th>\n",
       "      <th>preds1_j4</th>\n",
       "      <th>preds2_j4</th>\n",
       "      <th>preds3_j4</th>\n",
       "      <th>preds</th>\n",
       "    </tr>\n",
       "  </thead>\n",
       "  <tbody>\n",
       "    <tr>\n",
       "      <th>0</th>\n",
       "      <td>5904733559638204455</td>\n",
       "      <td>1.714308e+06</td>\n",
       "      <td>1.710590e+06</td>\n",
       "      <td>1.713812e+06</td>\n",
       "      <td>NaN</td>\n",
       "      <td>NaN</td>\n",
       "      <td>NaN</td>\n",
       "      <td>NaN</td>\n",
       "      <td>NaN</td>\n",
       "      <td>NaN</td>\n",
       "      <td>NaN</td>\n",
       "      <td>NaN</td>\n",
       "      <td>NaN</td>\n",
       "      <td>1.712903e+06</td>\n",
       "    </tr>\n",
       "    <tr>\n",
       "      <th>1</th>\n",
       "      <td>3399210824535017892</td>\n",
       "      <td>1.003893e+05</td>\n",
       "      <td>9.449848e+04</td>\n",
       "      <td>1.018317e+05</td>\n",
       "      <td>NaN</td>\n",
       "      <td>NaN</td>\n",
       "      <td>NaN</td>\n",
       "      <td>NaN</td>\n",
       "      <td>NaN</td>\n",
       "      <td>NaN</td>\n",
       "      <td>NaN</td>\n",
       "      <td>NaN</td>\n",
       "      <td>NaN</td>\n",
       "      <td>9.890648e+04</td>\n",
       "    </tr>\n",
       "    <tr>\n",
       "      <th>2</th>\n",
       "      <td>8718010088692024883</td>\n",
       "      <td>1.736625e+06</td>\n",
       "      <td>1.731733e+06</td>\n",
       "      <td>1.722779e+06</td>\n",
       "      <td>NaN</td>\n",
       "      <td>NaN</td>\n",
       "      <td>NaN</td>\n",
       "      <td>NaN</td>\n",
       "      <td>NaN</td>\n",
       "      <td>NaN</td>\n",
       "      <td>NaN</td>\n",
       "      <td>NaN</td>\n",
       "      <td>NaN</td>\n",
       "      <td>1.730379e+06</td>\n",
       "    </tr>\n",
       "    <tr>\n",
       "      <th>3</th>\n",
       "      <td>4676578089958170485</td>\n",
       "      <td>1.435560e+05</td>\n",
       "      <td>1.422924e+05</td>\n",
       "      <td>1.414865e+05</td>\n",
       "      <td>NaN</td>\n",
       "      <td>NaN</td>\n",
       "      <td>NaN</td>\n",
       "      <td>NaN</td>\n",
       "      <td>NaN</td>\n",
       "      <td>NaN</td>\n",
       "      <td>NaN</td>\n",
       "      <td>NaN</td>\n",
       "      <td>NaN</td>\n",
       "      <td>1.424450e+05</td>\n",
       "    </tr>\n",
       "    <tr>\n",
       "      <th>4</th>\n",
       "      <td>473869482255284569</td>\n",
       "      <td>1.733495e+06</td>\n",
       "      <td>1.729752e+06</td>\n",
       "      <td>1.734672e+06</td>\n",
       "      <td>NaN</td>\n",
       "      <td>NaN</td>\n",
       "      <td>NaN</td>\n",
       "      <td>NaN</td>\n",
       "      <td>NaN</td>\n",
       "      <td>NaN</td>\n",
       "      <td>NaN</td>\n",
       "      <td>NaN</td>\n",
       "      <td>NaN</td>\n",
       "      <td>1.732640e+06</td>\n",
       "    </tr>\n",
       "  </tbody>\n",
       "</table>\n",
       "</div>"
      ],
      "text/plain": [
       "              ref_hash     preds1_j1     preds2_j1     preds3_j1  preds1_j2  \\\n",
       "0  5904733559638204455  1.714308e+06  1.710590e+06  1.713812e+06        NaN   \n",
       "1  3399210824535017892  1.003893e+05  9.449848e+04  1.018317e+05        NaN   \n",
       "2  8718010088692024883  1.736625e+06  1.731733e+06  1.722779e+06        NaN   \n",
       "3  4676578089958170485  1.435560e+05  1.422924e+05  1.414865e+05        NaN   \n",
       "4   473869482255284569  1.733495e+06  1.729752e+06  1.734672e+06        NaN   \n",
       "\n",
       "   preds2_j2  preds3_j2  preds1_j3  preds2_j3  preds3_j3  preds1_j4  \\\n",
       "0        NaN        NaN        NaN        NaN        NaN        NaN   \n",
       "1        NaN        NaN        NaN        NaN        NaN        NaN   \n",
       "2        NaN        NaN        NaN        NaN        NaN        NaN   \n",
       "3        NaN        NaN        NaN        NaN        NaN        NaN   \n",
       "4        NaN        NaN        NaN        NaN        NaN        NaN   \n",
       "\n",
       "   preds2_j4  preds3_j4         preds  \n",
       "0        NaN        NaN  1.712903e+06  \n",
       "1        NaN        NaN  9.890648e+04  \n",
       "2        NaN        NaN  1.730379e+06  \n",
       "3        NaN        NaN  1.424450e+05  \n",
       "4        NaN        NaN  1.732640e+06  "
      ]
     },
     "execution_count": 52,
     "metadata": {},
     "output_type": "execute_result"
    }
   ],
   "source": [
    "merge_final.head()"
   ]
  },
  {
   "cell_type": "code",
   "execution_count": 53,
   "metadata": {},
   "outputs": [],
   "source": [
    "merge_final.to_csv(path_or_buf='installs_preds.csv',index=False)"
   ]
  },
  {
   "cell_type": "code",
   "execution_count": 54,
   "metadata": {},
   "outputs": [],
   "source": [
    "installs = merge_final\n",
    "installs['ref_hash'] = installs['ref_hash'].astype(str) + '_sc'\n",
    "installs = installs.drop(columns=['preds1_j1', 'preds1_j2', 'preds1_j3', 'preds1_j4',\n",
    "                         'preds2_j1', 'preds2_j2', 'preds2_j3', 'preds2_j4',\n",
    "                         'preds3_j1', 'preds3_j2', 'preds3_j3', 'preds3_j4'])"
   ]
  },
  {
   "cell_type": "code",
   "execution_count": 55,
   "metadata": {},
   "outputs": [
    {
     "data": {
      "text/html": [
       "<div>\n",
       "<style scoped>\n",
       "    .dataframe tbody tr th:only-of-type {\n",
       "        vertical-align: middle;\n",
       "    }\n",
       "\n",
       "    .dataframe tbody tr th {\n",
       "        vertical-align: top;\n",
       "    }\n",
       "\n",
       "    .dataframe thead th {\n",
       "        text-align: right;\n",
       "    }\n",
       "</style>\n",
       "<table border=\"1\" class=\"dataframe\">\n",
       "  <thead>\n",
       "    <tr style=\"text-align: right;\">\n",
       "      <th></th>\n",
       "      <th>ref_hash</th>\n",
       "      <th>preds</th>\n",
       "    </tr>\n",
       "  </thead>\n",
       "  <tbody>\n",
       "    <tr>\n",
       "      <th>0</th>\n",
       "      <td>5904733559638204455_sc</td>\n",
       "      <td>1.712903e+06</td>\n",
       "    </tr>\n",
       "    <tr>\n",
       "      <th>1</th>\n",
       "      <td>3399210824535017892_sc</td>\n",
       "      <td>9.890648e+04</td>\n",
       "    </tr>\n",
       "    <tr>\n",
       "      <th>2</th>\n",
       "      <td>8718010088692024883_sc</td>\n",
       "      <td>1.730379e+06</td>\n",
       "    </tr>\n",
       "    <tr>\n",
       "      <th>3</th>\n",
       "      <td>4676578089958170485_sc</td>\n",
       "      <td>1.424450e+05</td>\n",
       "    </tr>\n",
       "    <tr>\n",
       "      <th>4</th>\n",
       "      <td>473869482255284569_sc</td>\n",
       "      <td>1.732640e+06</td>\n",
       "    </tr>\n",
       "  </tbody>\n",
       "</table>\n",
       "</div>"
      ],
      "text/plain": [
       "                 ref_hash         preds\n",
       "0  5904733559638204455_sc  1.712903e+06\n",
       "1  3399210824535017892_sc  9.890648e+04\n",
       "2  8718010088692024883_sc  1.730379e+06\n",
       "3  4676578089958170485_sc  1.424450e+05\n",
       "4   473869482255284569_sc  1.732640e+06"
      ]
     },
     "execution_count": 55,
     "metadata": {},
     "output_type": "execute_result"
    }
   ],
   "source": [
    "installs.head()"
   ]
  },
  {
   "cell_type": "code",
   "execution_count": 57,
   "metadata": {},
   "outputs": [],
   "source": [
    "installs.to_csv(path_or_buf='installs_xgboost_modelo1.csv',index=False)"
   ]
  },
  {
   "cell_type": "code",
   "execution_count": 38,
   "metadata": {},
   "outputs": [],
   "source": []
  }
 ],
 "metadata": {
  "kernelspec": {
   "display_name": "Python 3",
   "language": "python",
   "name": "python3"
  },
  "language_info": {
   "codemirror_mode": {
    "name": "ipython",
    "version": 3
   },
   "file_extension": ".py",
   "mimetype": "text/x-python",
   "name": "python",
   "nbconvert_exporter": "python",
   "pygments_lexer": "ipython3",
   "version": "3.6.7"
  }
 },
 "nbformat": 4,
 "nbformat_minor": 2
}
