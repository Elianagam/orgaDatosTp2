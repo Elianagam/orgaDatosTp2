{
 "cells": [
  {
   "cell_type": "code",
   "execution_count": 1,
   "metadata": {},
   "outputs": [],
   "source": [
    "import pandas as pd\n",
    "import numpy as np\n",
    "import xgboost as xgb\n",
    "from sklearn.metrics import mean_squared_error\n",
    "from sklearn.model_selection import train_test_split\n",
    "from sklearn.ensemble import RandomForestRegressor"
   ]
  },
  {
   "cell_type": "code",
   "execution_count": 58,
   "metadata": {},
   "outputs": [],
   "source": [
    "join1 = pd.read_csv('windows_installs/join1_2.csv', low_memory=False)"
   ]
  },
  {
   "cell_type": "code",
   "execution_count": 3,
   "metadata": {},
   "outputs": [],
   "source": [
    "join2 = pd.read_csv('windows_installs/join2_3.csv', low_memory=False)"
   ]
  },
  {
   "cell_type": "code",
   "execution_count": 4,
   "metadata": {},
   "outputs": [],
   "source": [
    "join3 = pd.read_csv('windows_installs/join3_4.csv', low_memory=False)"
   ]
  },
  {
   "cell_type": "code",
   "execution_count": 5,
   "metadata": {},
   "outputs": [],
   "source": [
    "join4 = pd.read_csv('windows_installs/join4_5.csv', low_memory=False)"
   ]
  },
  {
   "cell_type": "markdown",
   "metadata": {},
   "source": [
    "## Split"
   ]
  },
  {
   "cell_type": "code",
   "execution_count": 56,
   "metadata": {},
   "outputs": [],
   "source": [
    "train1, test1 = train_test_split(join1, test_size=0.2)\n",
    "\n",
    "train1_Y = train1['time_first_install_y']\n",
    "train1_X = train1.drop(columns=['time_first_install_y'])\n",
    "test1_Y = test1['time_first_install_y']\n",
    "test1_X = test1.drop(columns=['time_first_install_y'])"
   ]
  },
  {
   "cell_type": "code",
   "execution_count": 59,
   "metadata": {},
   "outputs": [],
   "source": [
    "ref_hash_j1 = join1['ref_hash']\n",
    "join1 = join1.drop(columns=['ref_hash'])"
   ]
  },
  {
   "cell_type": "code",
   "execution_count": 8,
   "metadata": {},
   "outputs": [],
   "source": [
    "train2, test2 = train_test_split(join2, test_size=0.2)\n",
    "\n",
    "train2_Y = train2['time_first_install_y']\n",
    "train2_X = train2.drop(columns=['time_first_install_y'])\n",
    "test2_Y = test2['time_first_install_y']\n",
    "test2_X = test2.drop(columns=['time_first_install_y'])"
   ]
  },
  {
   "cell_type": "code",
   "execution_count": 9,
   "metadata": {},
   "outputs": [],
   "source": [
    "ref_hash_j2 = join2['ref_hash']\n",
    "join2 = join2.drop(columns=['ref_hash'])"
   ]
  },
  {
   "cell_type": "code",
   "execution_count": 10,
   "metadata": {},
   "outputs": [],
   "source": [
    "train3, test3 = train_test_split(join3, test_size=0.2)\n",
    "\n",
    "train3_Y = train3['time_first_install_y']\n",
    "train3_X = train3.drop(columns=['time_first_install_y'])\n",
    "test3_Y = test3['time_first_install_y']\n",
    "test3_X = test3.drop(columns=['time_first_install_y'])"
   ]
  },
  {
   "cell_type": "code",
   "execution_count": 11,
   "metadata": {},
   "outputs": [],
   "source": [
    "ref_hash_j3 = join3['ref_hash']\n",
    "join3 = join3.drop(columns=['ref_hash'])"
   ]
  },
  {
   "cell_type": "code",
   "execution_count": 12,
   "metadata": {},
   "outputs": [],
   "source": [
    "train4, test4 = train_test_split(join4, test_size=0.2)\n",
    "\n",
    "train4_Y = train4['time_first_install_y']\n",
    "train4_X = train4.drop(columns=['time_first_install_y'])\n",
    "test4_Y = test4['time_first_install_y']\n",
    "test4_X = test4.drop(columns=['time_first_install_y'])"
   ]
  },
  {
   "cell_type": "code",
   "execution_count": 13,
   "metadata": {},
   "outputs": [],
   "source": [
    "ref_hash_j4 = join4['ref_hash']\n",
    "join4 = join4.drop(columns=['ref_hash'])"
   ]
  },
  {
   "cell_type": "markdown",
   "metadata": {},
   "source": [
    "# **Train model 1**"
   ]
  },
  {
   "cell_type": "code",
   "execution_count": 14,
   "metadata": {},
   "outputs": [],
   "source": [
    "mod1 = xgb.XGBRegressor(gamma=1, learning_rate=0.2, max_depth=3, n_estimators=1000, subsample=0.8,\n",
    "                        random_state=34) "
   ]
  },
  {
   "cell_type": "code",
   "execution_count": 15,
   "metadata": {},
   "outputs": [
    {
     "name": "stderr",
     "output_type": "stream",
     "text": [
      "/home/eliana/fiuba/datos7506/envdt/lib/python3.6/site-packages/xgboost/core.py:587: FutureWarning: Series.base is deprecated and will be removed in a future version\n",
      "  if getattr(data, 'base', None) is not None and \\\n",
      "/home/eliana/fiuba/datos7506/envdt/lib/python3.6/site-packages/xgboost/core.py:588: FutureWarning: Series.base is deprecated and will be removed in a future version\n",
      "  data.base is not None and isinstance(data, np.ndarray) \\\n"
     ]
    },
    {
     "name": "stdout",
     "output_type": "stream",
     "text": [
      "[17:39:06] WARNING: /workspace/src/objective/regression_obj.cu:152: reg:linear is now deprecated in favor of reg:squarederror.\n"
     ]
    },
    {
     "data": {
      "text/plain": [
       "XGBRegressor(base_score=0.5, booster='gbtree', colsample_bylevel=1,\n",
       "             colsample_bynode=1, colsample_bytree=1, gamma=1,\n",
       "             importance_type='gain', learning_rate=0.2, max_delta_step=0,\n",
       "             max_depth=3, min_child_weight=1, missing=None, n_estimators=1000,\n",
       "             n_jobs=1, nthread=None, objective='reg:linear', random_state=34,\n",
       "             reg_alpha=0, reg_lambda=1, scale_pos_weight=1, seed=None,\n",
       "             silent=None, subsample=0.8, verbosity=1)"
      ]
     },
     "execution_count": 15,
     "metadata": {},
     "output_type": "execute_result"
    }
   ],
   "source": [
    "mod1.fit(train1_X,train1_Y)"
   ]
  },
  {
   "cell_type": "code",
   "execution_count": 16,
   "metadata": {},
   "outputs": [],
   "source": [
    "preds1_join1 = mod1.predict(test1_X)"
   ]
  },
  {
   "cell_type": "markdown",
   "metadata": {},
   "source": []
  },
  {
   "cell_type": "code",
   "execution_count": 18,
   "metadata": {},
   "outputs": [
    {
     "name": "stderr",
     "output_type": "stream",
     "text": [
      "/home/eliana/fiuba/datos7506/envdt/lib/python3.6/site-packages/xgboost/core.py:587: FutureWarning: Series.base is deprecated and will be removed in a future version\n",
      "  if getattr(data, 'base', None) is not None and \\\n",
      "/home/eliana/fiuba/datos7506/envdt/lib/python3.6/site-packages/xgboost/core.py:588: FutureWarning: Series.base is deprecated and will be removed in a future version\n",
      "  data.base is not None and isinstance(data, np.ndarray) \\\n"
     ]
    },
    {
     "name": "stdout",
     "output_type": "stream",
     "text": [
      "[17:41:31] WARNING: /workspace/src/objective/regression_obj.cu:152: reg:linear is now deprecated in favor of reg:squarederror.\n"
     ]
    }
   ],
   "source": [
    "mod1.fit(train2_X,train2_Y)\n",
    "\n",
    "preds1_join2 = mod1.predict(test2_X)"
   ]
  },
  {
   "cell_type": "code",
   "execution_count": 20,
   "metadata": {},
   "outputs": [
    {
     "name": "stderr",
     "output_type": "stream",
     "text": [
      "/home/eliana/fiuba/datos7506/envdt/lib/python3.6/site-packages/xgboost/core.py:587: FutureWarning: Series.base is deprecated and will be removed in a future version\n",
      "  if getattr(data, 'base', None) is not None and \\\n",
      "/home/eliana/fiuba/datos7506/envdt/lib/python3.6/site-packages/xgboost/core.py:588: FutureWarning: Series.base is deprecated and will be removed in a future version\n",
      "  data.base is not None and isinstance(data, np.ndarray) \\\n"
     ]
    },
    {
     "name": "stdout",
     "output_type": "stream",
     "text": [
      "[17:44:04] WARNING: /workspace/src/objective/regression_obj.cu:152: reg:linear is now deprecated in favor of reg:squarederror.\n"
     ]
    }
   ],
   "source": [
    "mod1.fit(train3_X,train3_Y)\n",
    "\n",
    "preds1_join3 = mod1.predict(test3_X)"
   ]
  },
  {
   "cell_type": "code",
   "execution_count": 22,
   "metadata": {},
   "outputs": [
    {
     "name": "stderr",
     "output_type": "stream",
     "text": [
      "/home/eliana/fiuba/datos7506/envdt/lib/python3.6/site-packages/xgboost/core.py:587: FutureWarning: Series.base is deprecated and will be removed in a future version\n",
      "  if getattr(data, 'base', None) is not None and \\\n",
      "/home/eliana/fiuba/datos7506/envdt/lib/python3.6/site-packages/xgboost/core.py:588: FutureWarning: Series.base is deprecated and will be removed in a future version\n",
      "  data.base is not None and isinstance(data, np.ndarray) \\\n"
     ]
    },
    {
     "name": "stdout",
     "output_type": "stream",
     "text": [
      "[17:46:45] WARNING: /workspace/src/objective/regression_obj.cu:152: reg:linear is now deprecated in favor of reg:squarederror.\n"
     ]
    }
   ],
   "source": [
    "mod1.fit(train4_X,train4_Y)\n",
    "\n",
    "preds1_join4 = mod1.predict(test4_X)"
   ]
  },
  {
   "cell_type": "code",
   "execution_count": 42,
   "metadata": {},
   "outputs": [
    {
     "name": "stdout",
     "output_type": "stream",
     "text": [
      "RMSE: 89654.089666\n",
      "RMSE: 87728.521649\n",
      "RMSE: 81160.085558\n",
      "RMSE: 73750.440416\n"
     ]
    }
   ],
   "source": [
    "rmse1_join1 = np.sqrt(mean_squared_error(test1_Y, preds1_join1))\n",
    "print(\"Error: %f\" % (rmse1_join1))\n",
    "rmse1_join2 = np.sqrt(mean_squared_error(test2_Y, preds1_join2))\n",
    "print(\"Error: %f\" % (rmse1_join2))\n",
    "rmse1_join3 = np.sqrt(mean_squared_error(test3_Y, preds1_join3))\n",
    "print(\"Error: %f\" % (rmse1_join3))\n",
    "rmse1_join4 = np.sqrt(mean_squared_error(test4_Y, preds1_join4))\n",
    "print(\"Error: %f\" % (rmse1_join4))"
   ]
  },
  {
   "cell_type": "code",
   "execution_count": null,
   "metadata": {},
   "outputs": [],
   "source": [
    "preds1_j1 = np.array(preds1_join1)\n",
    "preds1_j2 = np.array(preds1_join2)\n",
    "preds1_j3 = np.array(preds1_join3)\n",
    "preds1_j4 = np.array(preds1_join4)"
   ]
  },
  {
   "cell_type": "code",
   "execution_count": 88,
   "metadata": {},
   "outputs": [],
   "source": [
    "mod1_pred1 = pd.DataFrame(ref_hash_j1)\n",
    "mod1_pred1 = mod1_pred1.iloc[mod1_pred1.index.isin(test1_Y.index)]\n",
    "mod1_pred1['preds'] = preds1_j1\n",
    "# ----\n",
    "mod1_pred2 = pd.DataFrame(ref_hash_j2)\n",
    "mod1_pred2 = mod1_pred2.iloc[mod1_pred2.index.isin(test2_Y.index)]\n",
    "mod1_pred2['preds'] = preds1_j2\n",
    "# ----\n",
    "mod1_pred3 = pd.DataFrame(ref_hash_j3)\n",
    "mod1_pred3 = mod1_pred3.iloc[mod1_pred3.index.isin(test3_Y.index)]\n",
    "mod1_pred3['preds'] = preds1_j3\n",
    "# ----\n",
    "mod1_pred4 = pd.DataFrame(ref_hash_j4)\n",
    "mod1_pred4 = mod1_pred4.iloc[mod1_pred4.index.isin(test4_Y.index)]\n",
    "mod1_pred4['preds'] = preds1_j4"
   ]
  },
  {
   "cell_type": "code",
   "execution_count": null,
   "metadata": {},
   "outputs": [],
   "source": [
    "merge1 = mod1_pred1.merge(mod1_pred2, on='ref_hash')\n",
    "merge2 = merge1.merge(mod1_pred3, on='ref_hash')\n",
    "merge3 = merge2.merge(mod1_pred4, on='ref_hash')\n",
    "merge3.set_index('ref_hash')"
   ]
  },
  {
   "cell_type": "markdown",
   "metadata": {},
   "source": [
    "## **Train model 2**"
   ]
  },
  {
   "cell_type": "code",
   "execution_count": 24,
   "metadata": {},
   "outputs": [],
   "source": [
    "mod2 = xgb.XGBRegressor( colsample_bytree = 0.3, learning_rate = 0.5,  subsample=0.8,\n",
    "                max_depth = 2, alpha = 10, n_estimators = 1000, gamma=100, random_state=45)"
   ]
  },
  {
   "cell_type": "code",
   "execution_count": 25,
   "metadata": {},
   "outputs": [
    {
     "name": "stderr",
     "output_type": "stream",
     "text": [
      "/home/eliana/fiuba/datos7506/envdt/lib/python3.6/site-packages/xgboost/core.py:587: FutureWarning: Series.base is deprecated and will be removed in a future version\n",
      "  if getattr(data, 'base', None) is not None and \\\n",
      "/home/eliana/fiuba/datos7506/envdt/lib/python3.6/site-packages/xgboost/core.py:588: FutureWarning: Series.base is deprecated and will be removed in a future version\n",
      "  data.base is not None and isinstance(data, np.ndarray) \\\n"
     ]
    },
    {
     "name": "stdout",
     "output_type": "stream",
     "text": [
      "[17:49:18] WARNING: /workspace/src/objective/regression_obj.cu:152: reg:linear is now deprecated in favor of reg:squarederror.\n"
     ]
    }
   ],
   "source": [
    "mod2.fit(train1_X,train1_Y)\n",
    "\n",
    "preds2_join1 = mod2.predict(test1_X)"
   ]
  },
  {
   "cell_type": "code",
   "execution_count": 27,
   "metadata": {},
   "outputs": [
    {
     "name": "stderr",
     "output_type": "stream",
     "text": [
      "/home/eliana/fiuba/datos7506/envdt/lib/python3.6/site-packages/xgboost/core.py:587: FutureWarning: Series.base is deprecated and will be removed in a future version\n",
      "  if getattr(data, 'base', None) is not None and \\\n",
      "/home/eliana/fiuba/datos7506/envdt/lib/python3.6/site-packages/xgboost/core.py:588: FutureWarning: Series.base is deprecated and will be removed in a future version\n",
      "  data.base is not None and isinstance(data, np.ndarray) \\\n"
     ]
    },
    {
     "name": "stdout",
     "output_type": "stream",
     "text": [
      "[17:50:20] WARNING: /workspace/src/objective/regression_obj.cu:152: reg:linear is now deprecated in favor of reg:squarederror.\n"
     ]
    }
   ],
   "source": [
    "mod2.fit(train2_X,train2_Y)\n",
    "\n",
    "preds2_join2 = mod2.predict(test2_X)"
   ]
  },
  {
   "cell_type": "code",
   "execution_count": 29,
   "metadata": {},
   "outputs": [
    {
     "name": "stderr",
     "output_type": "stream",
     "text": [
      "/home/eliana/fiuba/datos7506/envdt/lib/python3.6/site-packages/xgboost/core.py:587: FutureWarning: Series.base is deprecated and will be removed in a future version\n",
      "  if getattr(data, 'base', None) is not None and \\\n",
      "/home/eliana/fiuba/datos7506/envdt/lib/python3.6/site-packages/xgboost/core.py:588: FutureWarning: Series.base is deprecated and will be removed in a future version\n",
      "  data.base is not None and isinstance(data, np.ndarray) \\\n"
     ]
    },
    {
     "name": "stdout",
     "output_type": "stream",
     "text": [
      "[17:51:23] WARNING: /workspace/src/objective/regression_obj.cu:152: reg:linear is now deprecated in favor of reg:squarederror.\n"
     ]
    }
   ],
   "source": [
    "mod2.fit(train3_X,train3_Y)\n",
    "\n",
    "preds2_join3 = mod2.predict(test3_X)"
   ]
  },
  {
   "cell_type": "code",
   "execution_count": 31,
   "metadata": {},
   "outputs": [
    {
     "name": "stderr",
     "output_type": "stream",
     "text": [
      "/home/eliana/fiuba/datos7506/envdt/lib/python3.6/site-packages/xgboost/core.py:587: FutureWarning: Series.base is deprecated and will be removed in a future version\n",
      "  if getattr(data, 'base', None) is not None and \\\n",
      "/home/eliana/fiuba/datos7506/envdt/lib/python3.6/site-packages/xgboost/core.py:588: FutureWarning: Series.base is deprecated and will be removed in a future version\n",
      "  data.base is not None and isinstance(data, np.ndarray) \\\n"
     ]
    },
    {
     "name": "stdout",
     "output_type": "stream",
     "text": [
      "[17:52:31] WARNING: /workspace/src/objective/regression_obj.cu:152: reg:linear is now deprecated in favor of reg:squarederror.\n"
     ]
    }
   ],
   "source": [
    "mod2.fit(train4_X,train4_Y)\n",
    "\n",
    "preds2_join4 = mod2.predict(test4_X)"
   ]
  },
  {
   "cell_type": "code",
   "execution_count": 40,
   "metadata": {},
   "outputs": [
    {
     "name": "stdout",
     "output_type": "stream",
     "text": [
      "RMSE: 90870.290200\n",
      "RMSE: 89083.610313\n",
      "RMSE: 81030.837500\n",
      "RMSE: 75758.599725\n"
     ]
    }
   ],
   "source": [
    "rmse2_join1 = np.sqrt(mean_squared_error(test1_Y, preds2_join1))\n",
    "print(\"Error: %f\" % (rmse2_join1))\n",
    "rmse2_join2 = np.sqrt(mean_squared_error(test2_Y, preds2_join2))\n",
    "print(\"Error: %f\" % (rmse2_join2))\n",
    "rmse2_join3 = np.sqrt(mean_squared_error(test3_Y, preds2_join3))\n",
    "print(\"Error: %f\" % (rmse2_join3))\n",
    "rmse2_join4 = np.sqrt(mean_squared_error(test4_Y, preds2_join4))\n",
    "print(\"Error: %f\" % (rmse2_join4))"
   ]
  },
  {
   "cell_type": "markdown",
   "metadata": {},
   "source": [
    "## **Train model 3**"
   ]
  },
  {
   "cell_type": "code",
   "execution_count": 33,
   "metadata": {},
   "outputs": [],
   "source": [
    "mod3 = xgb.XGBRegressor( colsample_bytree = 0.3, learning_rate = 0.5,  subsample=0.8,\n",
    "                max_depth = 7, alpha = 1, n_estimators = 100, gamma=1, random_state=45)"
   ]
  },
  {
   "cell_type": "code",
   "execution_count": 34,
   "metadata": {},
   "outputs": [
    {
     "name": "stderr",
     "output_type": "stream",
     "text": [
      "/home/eliana/fiuba/datos7506/envdt/lib/python3.6/site-packages/xgboost/core.py:587: FutureWarning: Series.base is deprecated and will be removed in a future version\n",
      "  if getattr(data, 'base', None) is not None and \\\n",
      "/home/eliana/fiuba/datos7506/envdt/lib/python3.6/site-packages/xgboost/core.py:588: FutureWarning: Series.base is deprecated and will be removed in a future version\n",
      "  data.base is not None and isinstance(data, np.ndarray) \\\n"
     ]
    },
    {
     "name": "stdout",
     "output_type": "stream",
     "text": [
      "[17:53:36] WARNING: /workspace/src/objective/regression_obj.cu:152: reg:linear is now deprecated in favor of reg:squarederror.\n"
     ]
    }
   ],
   "source": [
    "mod3.fit(train1_X,train1_Y)\n",
    "\n",
    "preds3_join1 = mod3.predict(test1_X)"
   ]
  },
  {
   "cell_type": "code",
   "execution_count": 35,
   "metadata": {},
   "outputs": [
    {
     "name": "stdout",
     "output_type": "stream",
     "text": [
      "[17:53:52] WARNING: /workspace/src/objective/regression_obj.cu:152: reg:linear is now deprecated in favor of reg:squarederror.\n"
     ]
    }
   ],
   "source": [
    "mod3.fit(train2_X,train2_Y)\n",
    "\n",
    "preds3_join2 = mod3.predict(test2_X)"
   ]
  },
  {
   "cell_type": "code",
   "execution_count": 36,
   "metadata": {},
   "outputs": [
    {
     "name": "stdout",
     "output_type": "stream",
     "text": [
      "[17:58:18] WARNING: /workspace/src/objective/regression_obj.cu:152: reg:linear is now deprecated in favor of reg:squarederror.\n"
     ]
    }
   ],
   "source": [
    "mod3.fit(train3_X,train3_Y)\n",
    "\n",
    "preds3_join3 = mod3.predict(test3_X)"
   ]
  },
  {
   "cell_type": "code",
   "execution_count": 37,
   "metadata": {},
   "outputs": [
    {
     "name": "stdout",
     "output_type": "stream",
     "text": [
      "[17:59:36] WARNING: /workspace/src/objective/regression_obj.cu:152: reg:linear is now deprecated in favor of reg:squarederror.\n"
     ]
    }
   ],
   "source": [
    "mod3.fit(train4_X,train4_Y)\n",
    "\n",
    "preds3_join4 = mod3.predict(test4_X)"
   ]
  },
  {
   "cell_type": "code",
   "execution_count": 39,
   "metadata": {},
   "outputs": [
    {
     "name": "stdout",
     "output_type": "stream",
     "text": [
      "RMSE: 93305.657742\n",
      "RMSE: 93369.092222\n",
      "RMSE: 85409.732269\n",
      "RMSE: 77018.638766\n"
     ]
    }
   ],
   "source": [
    "rmse3_join1 = np.sqrt(mean_squared_error(test1_Y, preds3_join1))\n",
    "print(\"Error: %f\" % (rmse3_join1))\n",
    "rmse3_join2 = np.sqrt(mean_squared_error(test2_Y, preds3_join2))\n",
    "print(\"Error: %f\" % (rmse3_join2))\n",
    "rmse3_join3 = np.sqrt(mean_squared_error(test3_Y, preds3_join3))\n",
    "print(\"Error: %f\" % (rmse3_join3))\n",
    "rmse3_join4 = np.sqrt(mean_squared_error(test4_Y, preds3_join4))\n",
    "print(\"Error: %f\" % (rmse3_join4))"
   ]
  }
 ],
 "metadata": {
  "kernelspec": {
   "display_name": "Python 3",
   "language": "python",
   "name": "python3"
  },
  "language_info": {
   "codemirror_mode": {
    "name": "ipython",
    "version": 3
   },
   "file_extension": ".py",
   "mimetype": "text/x-python",
   "name": "python",
   "nbconvert_exporter": "python",
   "pygments_lexer": "ipython3",
   "version": "3.6.7"
  }
 },
 "nbformat": 4,
 "nbformat_minor": 2
}
