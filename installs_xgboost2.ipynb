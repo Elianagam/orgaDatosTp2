{
 "cells": [
  {
   "cell_type": "code",
   "execution_count": 1,
   "metadata": {},
   "outputs": [],
   "source": [
    "import pandas as pd\n",
    "import numpy as np\n",
    "import xgboost as xgb\n",
    "# from xgboost import XGBClassifier\n",
    "from sklearn.metrics import mean_squared_error\n",
    "from sklearn.model_selection import train_test_split, RandomizedSearchCV, StratifiedKFold\n",
    "from sklearn.model_selection import GridSearchCV"
   ]
  },
  {
   "cell_type": "code",
   "execution_count": 2,
   "metadata": {},
   "outputs": [],
   "source": [
    "join1 = pd.read_csv('windows_installs/join1_2.csv', low_memory=False)\n",
    "ref_hash_j1 = join1['ref_hash']\n",
    "join1 = join1.drop(columns=['ref_hash'])\n",
    "\n",
    "join2 = pd.read_csv('windows_installs/join2_3.csv', low_memory=False)\n",
    "ref_hash_j2 = join2['ref_hash']\n",
    "join2 = join2.drop(columns=['ref_hash'])\n",
    "\n",
    "join3 = pd.read_csv('windows_installs/join3_4.csv', low_memory=False)\n",
    "ref_hash_j3 = join3['ref_hash']\n",
    "join3 = join3.drop(columns=['ref_hash'])\n",
    "\n",
    "join4 = pd.read_csv('windows_installs/join4_5.csv', low_memory=False)\n",
    "ref_hash_j4 = join4['ref_hash']\n",
    "join4 = join4.drop(columns=['ref_hash'])"
   ]
  },
  {
   "cell_type": "code",
   "execution_count": 3,
   "metadata": {},
   "outputs": [],
   "source": [
    "join4 =join4.fillna(0)\n",
    "join3 =join3.fillna(0)\n",
    "join2 =join2.fillna(0)\n",
    "join1 =join1.fillna(0)"
   ]
  },
  {
   "cell_type": "markdown",
   "metadata": {},
   "source": [
    "## Split"
   ]
  },
  {
   "cell_type": "code",
   "execution_count": 4,
   "metadata": {},
   "outputs": [],
   "source": [
    "train1, test1 = train_test_split(join1, test_size=0.2)\n",
    "\n",
    "train1_Y = train1['time_first_install_y']\n",
    "train1_X = train1.drop(columns=['time_first_install_y'])\n",
    "test1_Y = test1['time_first_install_y']\n",
    "test1_X = test1.drop(columns=['time_first_install_y'])\n",
    "\n",
    "# ---\n",
    "train2, test2 = train_test_split(join2, test_size=0.2)\n",
    "\n",
    "train2_Y = train2['time_first_install_y']\n",
    "train2_X = train2.drop(columns=['time_first_install_y'])\n",
    "test2_Y = test2['time_first_install_y']\n",
    "test2_X = test2.drop(columns=['time_first_install_y'])\n",
    "\n",
    "# ---\n",
    "train3, test3 = train_test_split(join3, test_size=0.2)\n",
    "\n",
    "train3_Y = train3['time_first_install_y']\n",
    "train3_X = train3.drop(columns=['time_first_install_y'])\n",
    "test3_Y = test3['time_first_install_y']\n",
    "test3_X = test3.drop(columns=['time_first_install_y'])\n",
    "\n",
    "# ---\n",
    "train4, test4 = train_test_split(join4, test_size=0.2)\n",
    "\n",
    "train4_Y = train4['time_first_install_y']\n",
    "train4_X = train4.drop(columns=['time_first_install_y'])\n",
    "test4_Y = test4['time_first_install_y']\n",
    "test4_X = test4.drop(columns=['time_first_install_y'])"
   ]
  },
  {
   "cell_type": "markdown",
   "metadata": {},
   "source": [
    "# **Train model 1**"
   ]
  },
  {
   "cell_type": "code",
   "execution_count": 17,
   "metadata": {},
   "outputs": [],
   "source": [
    "mod1 = xgb.XGBRegressor(gamma=1, learning_rate=0.2, max_depth=15, n_estimators=1000, subsample=0.8,\n",
    "                        random_state=34) "
   ]
  },
  {
   "cell_type": "code",
   "execution_count": 18,
   "metadata": {
    "scrolled": true
   },
   "outputs": [
    {
     "name": "stderr",
     "output_type": "stream",
     "text": [
      "/home/eliana/fiuba/datos7506/envdt/lib/python3.6/site-packages/xgboost/core.py:587: FutureWarning: Series.base is deprecated and will be removed in a future version\n",
      "  if getattr(data, 'base', None) is not None and \\\n",
      "/home/eliana/fiuba/datos7506/envdt/lib/python3.6/site-packages/xgboost/core.py:588: FutureWarning: Series.base is deprecated and will be removed in a future version\n",
      "  data.base is not None and isinstance(data, np.ndarray) \\\n"
     ]
    },
    {
     "name": "stdout",
     "output_type": "stream",
     "text": [
      "[13:00:01] WARNING: /workspace/src/objective/regression_obj.cu:152: reg:linear is now deprecated in favor of reg:squarederror.\n",
      "CPU times: user 25min 20s, sys: 593 ms, total: 25min 21s\n",
      "Wall time: 25min 21s\n"
     ]
    }
   ],
   "source": [
    "%%time\n",
    "mod1.fit(train1_X,train1_Y)\n",
    "preds1_join1 = mod1.predict(test1_X)"
   ]
  },
  {
   "cell_type": "markdown",
   "metadata": {},
   "source": []
  },
  {
   "cell_type": "code",
   "execution_count": 19,
   "metadata": {},
   "outputs": [
    {
     "name": "stdout",
     "output_type": "stream",
     "text": [
      "[13:25:22] WARNING: /workspace/src/objective/regression_obj.cu:152: reg:linear is now deprecated in favor of reg:squarederror.\n",
      "CPU times: user 18min 1s, sys: 944 ms, total: 18min 2s\n",
      "Wall time: 22min 52s\n"
     ]
    }
   ],
   "source": [
    "%%time\n",
    "mod1.fit(train2_X,train2_Y)\n",
    "\n",
    "preds1_join2 = mod1.predict(test2_X)"
   ]
  },
  {
   "cell_type": "code",
   "execution_count": 20,
   "metadata": {},
   "outputs": [
    {
     "name": "stdout",
     "output_type": "stream",
     "text": [
      "[13:48:15] WARNING: /workspace/src/objective/regression_obj.cu:152: reg:linear is now deprecated in favor of reg:squarederror.\n",
      "CPU times: user 18min 23s, sys: 1.02 s, total: 18min 24s\n",
      "Wall time: 18min 26s\n"
     ]
    }
   ],
   "source": [
    "%%time\n",
    "mod1.fit(train3_X,train3_Y)\n",
    "\n",
    "preds1_join3 = mod1.predict(test3_X)"
   ]
  },
  {
   "cell_type": "code",
   "execution_count": 21,
   "metadata": {},
   "outputs": [
    {
     "name": "stdout",
     "output_type": "stream",
     "text": [
      "[14:06:41] WARNING: /workspace/src/objective/regression_obj.cu:152: reg:linear is now deprecated in favor of reg:squarederror.\n",
      "CPU times: user 19min 4s, sys: 1.2 s, total: 19min 5s\n",
      "Wall time: 19min 8s\n"
     ]
    }
   ],
   "source": [
    "%%time\n",
    "mod1.fit(train4_X,train4_Y)\n",
    "\n",
    "preds1_join4 = mod1.predict(test4_X)"
   ]
  },
  {
   "cell_type": "code",
   "execution_count": 22,
   "metadata": {},
   "outputs": [
    {
     "name": "stdout",
     "output_type": "stream",
     "text": [
      "Error: 90565.234268\n",
      "Error: 40920.705294\n",
      "Error: 40706.935790\n",
      "Error: 35499.820101\n"
     ]
    }
   ],
   "source": [
    "rmse1_join1 = np.sqrt(mean_squared_error(test1_Y, preds1_join1))\n",
    "print(\"Error: %f\" % (rmse1_join1))\n",
    "rmse1_join2 = np.sqrt(mean_squared_error(test2_Y, preds1_join2))\n",
    "print(\"Error: %f\" % (rmse1_join2))\n",
    "rmse1_join3 = np.sqrt(mean_squared_error(test3_Y, preds1_join3))\n",
    "print(\"Error: %f\" % (rmse1_join3))\n",
    "rmse1_join4 = np.sqrt(mean_squared_error(test4_Y, preds1_join4))\n",
    "print(\"Error: %f\" % (rmse1_join4))"
   ]
  },
  {
   "cell_type": "code",
   "execution_count": null,
   "metadata": {},
   "outputs": [],
   "source": [
    "mod1.save_model('model/0001.model')"
   ]
  },
  {
   "cell_type": "markdown",
   "metadata": {},
   "source": [
    "## **Train model 2**"
   ]
  },
  {
   "cell_type": "code",
   "execution_count": 5,
   "metadata": {},
   "outputs": [],
   "source": [
    "mod2 = xgb.XGBRegressor( colsample_bytree = 0.3, learning_rate = 0.5,  subsample=0.8,\n",
    "                max_depth = 2, alpha = 10, n_estimators = 1000, gamma=10, random_state=45)"
   ]
  },
  {
   "cell_type": "code",
   "execution_count": 6,
   "metadata": {},
   "outputs": [
    {
     "name": "stderr",
     "output_type": "stream",
     "text": [
      "/home/eliana/fiuba/datos7506/envdt/lib/python3.6/site-packages/xgboost/core.py:587: FutureWarning: Series.base is deprecated and will be removed in a future version\n",
      "  if getattr(data, 'base', None) is not None and \\\n",
      "/home/eliana/fiuba/datos7506/envdt/lib/python3.6/site-packages/xgboost/core.py:588: FutureWarning: Series.base is deprecated and will be removed in a future version\n",
      "  data.base is not None and isinstance(data, np.ndarray) \\\n"
     ]
    },
    {
     "name": "stdout",
     "output_type": "stream",
     "text": [
      "[12:32:42] WARNING: /workspace/src/objective/regression_obj.cu:152: reg:linear is now deprecated in favor of reg:squarederror.\n",
      "CPU times: user 1min 57s, sys: 277 ms, total: 1min 58s\n",
      "Wall time: 1min 58s\n"
     ]
    }
   ],
   "source": [
    "%%time\n",
    "mod2.fit(train1_X,train1_Y)\n",
    "\n",
    "preds2_join1 = mod2.predict(test1_X)"
   ]
  },
  {
   "cell_type": "code",
   "execution_count": 7,
   "metadata": {},
   "outputs": [
    {
     "name": "stdout",
     "output_type": "stream",
     "text": [
      "[12:34:40] WARNING: /workspace/src/objective/regression_obj.cu:152: reg:linear is now deprecated in favor of reg:squarederror.\n"
     ]
    }
   ],
   "source": [
    "%%time\n",
    "mod2.fit(train2_X,train2_Y)\n",
    "\n",
    "preds2_join2 = mod2.predict(test2_X)"
   ]
  },
  {
   "cell_type": "code",
   "execution_count": 8,
   "metadata": {},
   "outputs": [
    {
     "name": "stdout",
     "output_type": "stream",
     "text": [
      "[12:36:20] WARNING: /workspace/src/objective/regression_obj.cu:152: reg:linear is now deprecated in favor of reg:squarederror.\n"
     ]
    }
   ],
   "source": [
    "mod2.fit(train3_X,train3_Y)\n",
    "\n",
    "preds2_join3 = mod2.predict(test3_X)"
   ]
  },
  {
   "cell_type": "code",
   "execution_count": 9,
   "metadata": {},
   "outputs": [
    {
     "name": "stdout",
     "output_type": "stream",
     "text": [
      "[12:37:53] WARNING: /workspace/src/objective/regression_obj.cu:152: reg:linear is now deprecated in favor of reg:squarederror.\n",
      "CPU times: user 1min 28s, sys: 188 ms, total: 1min 28s\n",
      "Wall time: 1min 28s\n"
     ]
    }
   ],
   "source": [
    "%%time\n",
    "mod2.fit(train4_X,train4_Y)\n",
    "\n",
    "preds2_join4 = mod2.predict(test4_X)"
   ]
  },
  {
   "cell_type": "code",
   "execution_count": 10,
   "metadata": {},
   "outputs": [
    {
     "name": "stdout",
     "output_type": "stream",
     "text": [
      "Error: 80331.503419\n",
      "Error: 37805.511875\n",
      "Error: 36655.527243\n",
      "Error: 32370.703567\n"
     ]
    }
   ],
   "source": [
    "rmse2_join1 = np.sqrt(mean_squared_error(test1_Y, preds2_join1))\n",
    "print(\"Error: %f\" % (rmse2_join1))\n",
    "rmse2_join2 = np.sqrt(mean_squared_error(test2_Y, preds2_join2))\n",
    "print(\"Error: %f\" % (rmse2_join2))\n",
    "rmse2_join3 = np.sqrt(mean_squared_error(test3_Y, preds2_join3))\n",
    "print(\"Error: %f\" % (rmse2_join3))\n",
    "rmse2_join4 = np.sqrt(mean_squared_error(test4_Y, preds2_join4))\n",
    "print(\"Error: %f\" % (rmse2_join4))"
   ]
  },
  {
   "cell_type": "code",
   "execution_count": null,
   "metadata": {},
   "outputs": [],
   "source": [
    "# xgb.save(mod2, \"model/xgboost_mod2\")\n",
    "mod2.save_model('model/0002.model')\n",
    "# bst = xgb.Booster({'nthread': 4})  # init model\n",
    "# bst.load_model('model.bin')  # load data\n",
    "# newModel = xgb.XGBClassifier()\n",
    "# newModel.load_model('model.model')\n",
    "# print(newModel.score(x_test,y_test))"
   ]
  },
  {
   "cell_type": "markdown",
   "metadata": {},
   "source": [
    "## **Train model 3**"
   ]
  },
  {
   "cell_type": "code",
   "execution_count": null,
   "metadata": {},
   "outputs": [],
   "source": [
    "params = {\n",
    "        'min_child_weight': [1, 5],\n",
    "        'gamma': [0.5, 1, 1.5],\n",
    "        'subsample': [0.6, 0.8],\n",
    "        'colsample_bytree': [0.6, 0.8],\n",
    "        'max_depth': [3, 4]\n",
    "        }\n",
    "\n",
    "xg_reg_cv = xgb.XGBRegressor(objective ='reg:linear', colsample_bytree = 1)\n",
    "\n",
    "clf = GridSearchCV(xg_reg_cv, params, scoring='neg_mean_squared_error', verbose=10)\n",
    "clf.fit(train1_X, train1_Y)"
   ]
  },
  {
   "cell_type": "code",
   "execution_count": null,
   "metadata": {},
   "outputs": [],
   "source": [
    "clf.best_params_"
   ]
  },
  {
   "cell_type": "code",
   "execution_count": null,
   "metadata": {},
   "outputs": [],
   "source": [
    "%%time\n",
    "parameters = {'learning_rate':[0.18, 0.2, 0.22], 'max_depth':[3, 10,5], 'gamma':[0.5], 'n_estimators':[200],\n",
    "              'subsample': [0.6], 'min_child_weight': [5,10]}\n",
    "xg_reg_cv = xgb.XGBRegressor(colsample_bytree = 0.8)\n",
    "clfa = GridSearchCV(xg_reg_cv, parameters, scoring='neg_mean_squared_error', verbose=10)\n",
    "clfa.fit(train1_X, train1_Y)"
   ]
  },
  {
   "cell_type": "code",
   "execution_count": null,
   "metadata": {},
   "outputs": [],
   "source": [
    "clfa.best_params_"
   ]
  },
  {
   "cell_type": "code",
   "execution_count": 11,
   "metadata": {},
   "outputs": [],
   "source": [
    "mod3 = xgb.XGBRegressor( colsample_bytree = 1, learning_rate = 0.18,  subsample=0.6, min_child_weight=10,\n",
    "                max_depth = 3, alpha = 1, n_estimators = 1000, gamma=0.5, random_state=45)"
   ]
  },
  {
   "cell_type": "code",
   "execution_count": 12,
   "metadata": {},
   "outputs": [
    {
     "name": "stderr",
     "output_type": "stream",
     "text": [
      "/home/eliana/fiuba/datos7506/envdt/lib/python3.6/site-packages/xgboost/core.py:587: FutureWarning: Series.base is deprecated and will be removed in a future version\n",
      "  if getattr(data, 'base', None) is not None and \\\n",
      "/home/eliana/fiuba/datos7506/envdt/lib/python3.6/site-packages/xgboost/core.py:588: FutureWarning: Series.base is deprecated and will be removed in a future version\n",
      "  data.base is not None and isinstance(data, np.ndarray) \\\n"
     ]
    },
    {
     "name": "stdout",
     "output_type": "stream",
     "text": [
      "[12:39:39] WARNING: /workspace/src/objective/regression_obj.cu:152: reg:linear is now deprecated in favor of reg:squarederror.\n",
      "CPU times: user 5min 49s, sys: 240 ms, total: 5min 49s\n",
      "Wall time: 5min 49s\n"
     ]
    }
   ],
   "source": [
    "%%time\n",
    "mod3.fit(train1_X,train1_Y)\n",
    "\n",
    "preds3_join1 = mod3.predict(test1_X)"
   ]
  },
  {
   "cell_type": "code",
   "execution_count": 13,
   "metadata": {},
   "outputs": [
    {
     "name": "stdout",
     "output_type": "stream",
     "text": [
      "[12:45:28] WARNING: /workspace/src/objective/regression_obj.cu:152: reg:linear is now deprecated in favor of reg:squarederror.\n",
      "CPU times: user 4min 25s, sys: 244 ms, total: 4min 25s\n",
      "Wall time: 4min 25s\n"
     ]
    }
   ],
   "source": [
    "%%time\n",
    "mod3.fit(train2_X,train2_Y)\n",
    "\n",
    "preds3_join2 = mod3.predict(test2_X)"
   ]
  },
  {
   "cell_type": "code",
   "execution_count": 14,
   "metadata": {},
   "outputs": [
    {
     "name": "stdout",
     "output_type": "stream",
     "text": [
      "[12:49:54] WARNING: /workspace/src/objective/regression_obj.cu:152: reg:linear is now deprecated in favor of reg:squarederror.\n",
      "CPU times: user 4min 14s, sys: 188 ms, total: 4min 15s\n",
      "Wall time: 4min 15s\n"
     ]
    }
   ],
   "source": [
    "%%time\n",
    "mod3.fit(train3_X,train3_Y)\n",
    "\n",
    "preds3_join3 = mod3.predict(test3_X)"
   ]
  },
  {
   "cell_type": "code",
   "execution_count": 15,
   "metadata": {},
   "outputs": [
    {
     "name": "stdout",
     "output_type": "stream",
     "text": [
      "[12:54:09] WARNING: /workspace/src/objective/regression_obj.cu:152: reg:linear is now deprecated in favor of reg:squarederror.\n",
      "CPU times: user 4min 25s, sys: 1.27 s, total: 4min 26s\n",
      "Wall time: 4min 27s\n"
     ]
    }
   ],
   "source": [
    "%%time\n",
    "mod3.fit(train4_X,train4_Y)\n",
    "\n",
    "preds3_join4 = mod3.predict(test4_X)"
   ]
  },
  {
   "cell_type": "code",
   "execution_count": 16,
   "metadata": {},
   "outputs": [
    {
     "name": "stdout",
     "output_type": "stream",
     "text": [
      "Error: 78381.596025\n",
      "Error: 35784.903231\n",
      "Error: 34494.579418\n",
      "Error: 30654.686411\n",
      "CPU times: user 5.93 ms, sys: 5 µs, total: 5.93 ms\n",
      "Wall time: 7.53 ms\n"
     ]
    }
   ],
   "source": [
    "%%time\n",
    "rmse3_join1 = np.sqrt(mean_squared_error(test1_Y, preds3_join1))\n",
    "print(\"Error: %f\" % (rmse3_join1))\n",
    "rmse3_join2 = np.sqrt(mean_squared_error(test2_Y, preds3_join2))\n",
    "print(\"Error: %f\" % (rmse3_join2))\n",
    "rmse3_join3 = np.sqrt(mean_squared_error(test3_Y, preds3_join3))\n",
    "print(\"Error: %f\" % (rmse3_join3))\n",
    "rmse3_join4 = np.sqrt(mean_squared_error(test4_Y, preds3_join4))\n",
    "print(\"Error: %f\" % (rmse3_join4))"
   ]
  },
  {
   "cell_type": "code",
   "execution_count": 26,
   "metadata": {},
   "outputs": [],
   "source": [
    "import pickle\n",
    "pickle.dump(mod1, open(\"model/pima.pickle.dat\", \"wb\"))\n",
    "pickle.dump(mod2, open(\"pima2.pickle.dat\", \"wb\"))\n",
    "pickle.dump(mod3, open(\"pima3.pickle.dat\", \"wb\"))"
   ]
  },
  {
   "cell_type": "markdown",
   "metadata": {},
   "source": [
    "# **MERGE PREDICCIONES**"
   ]
  },
  {
   "cell_type": "code",
   "execution_count": null,
   "metadata": {},
   "outputs": [],
   "source": [
    "# preds1_j1 = array(preds1_join1)"
   ]
  },
  {
   "cell_type": "code",
   "execution_count": 27,
   "metadata": {},
   "outputs": [],
   "source": [
    "mod1_pred1 = pd.DataFrame(ref_hash_j1)\n",
    "mod1_pred1 = mod1_pred1.iloc[mod1_pred1.index.isin(test1_Y.index)]\n",
    "mod1_pred1['preds1_j1'] = preds1_join1\n",
    "# ----\n",
    "mod1_pred2 = pd.DataFrame(ref_hash_j2)\n",
    "mod1_pred2 = mod1_pred2.iloc[mod1_pred2.index.isin(test2_Y.index)]\n",
    "mod1_pred2['preds1_j2'] = preds1_join2\n",
    "# ----\n",
    "mod1_pred3 = pd.DataFrame(ref_hash_j3)\n",
    "mod1_pred3 = mod1_pred3.iloc[mod1_pred3.index.isin(test3_Y.index)]\n",
    "mod1_pred3['preds1_j3'] = preds1_join3\n",
    "# ----\n",
    "mod1_pred4 = pd.DataFrame(ref_hash_j4)\n",
    "mod1_pred4 = mod1_pred4.iloc[mod1_pred4.index.isin(test4_Y.index)]\n",
    "mod1_pred4['preds1_j4'] = preds1_join4"
   ]
  },
  {
   "cell_type": "code",
   "execution_count": 28,
   "metadata": {},
   "outputs": [],
   "source": [
    "mod1_pred1['preds2_j1'] = preds2_join1\n",
    "\n",
    "mod1_pred2['preds2_j2'] = preds2_join2\n",
    "\n",
    "mod1_pred3['preds2_j3'] = preds2_join3\n",
    "\n",
    "mod1_pred4['preds2_j4'] = preds2_join4"
   ]
  },
  {
   "cell_type": "code",
   "execution_count": 29,
   "metadata": {},
   "outputs": [],
   "source": [
    "mod1_pred1['preds3_j1'] = preds3_join1\n",
    "\n",
    "mod1_pred2['preds3_j2'] = preds3_join2\n",
    "\n",
    "mod1_pred3['preds3_j3'] = preds3_join3\n",
    "\n",
    "mod1_pred4['preds3_j4'] = preds3_join4"
   ]
  },
  {
   "cell_type": "code",
   "execution_count": 30,
   "metadata": {},
   "outputs": [],
   "source": [
    "merge1 = mod1_pred1.merge(mod1_pred2, on='ref_hash', how=\"outer\")\n",
    "merge2 = merge1.merge(mod1_pred3, on='ref_hash', how=\"outer\")\n",
    "merge_final = merge2.merge(mod1_pred4, on='ref_hash', how=\"outer\").set_index('ref_hash').reset_index()"
   ]
  },
  {
   "cell_type": "code",
   "execution_count": 31,
   "metadata": {},
   "outputs": [],
   "source": [
    "merge_final['obj'] = merge_final[['preds1_j1', 'preds1_j2', 'preds1_j3', 'preds1_j4', \n",
    "                         'preds2_j1', 'preds2_j2', 'preds2_j3', 'preds2_j4',\n",
    "                        'preds3_j1', 'preds3_j2', 'preds3_j3', 'preds3_j4']].mean(axis=1)"
   ]
  },
  {
   "cell_type": "code",
   "execution_count": 32,
   "metadata": {},
   "outputs": [],
   "source": [
    "merge_final['ref_hash'] = merge_final['ref_hash'].astype(str) + '_sc'\n",
    "merge_final.to_csv(path_or_buf='predicciones/installs_preds3.csv',index=False)"
   ]
  },
  {
   "cell_type": "code",
   "execution_count": 33,
   "metadata": {},
   "outputs": [],
   "source": [
    "installs = merge_final\n",
    "installs['ref_hash'] = installs['ref_hash'].astype(str) + '_sc'\n",
    "installs = installs.drop(columns=['preds1_j1', 'preds1_j2', 'preds1_j3', 'preds1_j4',\n",
    "                         'preds2_j1', 'preds2_j2', 'preds2_j3', 'preds2_j4',\n",
    "                         'preds3_j1', 'preds3_j2', 'preds3_j3', 'preds3_j4'])"
   ]
  },
  {
   "cell_type": "code",
   "execution_count": 34,
   "metadata": {},
   "outputs": [],
   "source": [
    "installs.to_csv(path_or_buf='predicciones/installs_preds4.csv',index=False)"
   ]
  },
  {
   "cell_type": "code",
   "execution_count": 58,
   "metadata": {},
   "outputs": [
    {
     "data": {
      "text/plain": [
       "3154487196142192888_sc    1\n",
       "3657487141070023106_sc    1\n",
       "8781353160175610966_sc    1\n",
       "7748455410531031948_sc    1\n",
       "2563351147593541041_sc    1\n",
       "Name: ref_hash, dtype: int64"
      ]
     },
     "execution_count": 58,
     "metadata": {},
     "output_type": "execute_result"
    }
   ],
   "source": [
    "installs['ref_hash'].value_counts().head()"
   ]
  }
 ],
 "metadata": {
  "kernelspec": {
   "display_name": "Python 3",
   "language": "python",
   "name": "python3"
  },
  "language_info": {
   "codemirror_mode": {
    "name": "ipython",
    "version": 3
   },
   "file_extension": ".py",
   "mimetype": "text/x-python",
   "name": "python",
   "nbconvert_exporter": "python",
   "pygments_lexer": "ipython3",
   "version": "3.6.7"
  }
 },
 "nbformat": 4,
 "nbformat_minor": 2
}
